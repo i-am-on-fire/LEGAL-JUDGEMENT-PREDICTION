{
 "cells": [
  {
   "cell_type": "code",
   "execution_count": 1,
   "metadata": {
    "colab": {},
    "colab_type": "code",
    "id": "Cs1Sb5vDyoLZ"
   },
   "outputs": [
    {
     "name": "stderr",
     "output_type": "stream",
     "text": [
      "C:\\Users\\ayush\\anaconda3\\envs\\tf-gpc\\lib\\site-packages\\tqdm\\auto.py:22: TqdmWarning: IProgress not found. Please update jupyter and ipywidgets. See https://ipywidgets.readthedocs.io/en/stable/user_install.html\n",
      "  from .autonotebook import tqdm as notebook_tqdm\n"
     ]
    }
   ],
   "source": [
    "import os\n",
    "import random\n",
    "import pandas as pd\n",
    "import numpy as np\n",
    "import csv\n",
    "#import tensorflow as tf\n",
    "import torch\n",
    "from sklearn.model_selection import train_test_split\n",
    "#from google.colab import drive\n",
    "import textwrap\n",
    "import progressbar\n",
    "import keras\n",
    "#from keras.preprocessing.sequence import pad_sequences\n",
    "from torch.utils.data import TensorDataset, DataLoader, RandomSampler, SequentialSampler\n",
    "from transformers import BertForSequenceClassification, AdamW, BertConfig\n",
    "from transformers import get_linear_schedule_with_warmup\n",
    "import time\n",
    "import datetime\n",
    "import json\n",
    "import re\n",
    "import torch.nn as nn\n"
   ]
  },
  {
   "cell_type": "code",
   "execution_count": 2,
   "metadata": {
    "scrolled": true
   },
   "outputs": [],
   "source": [
    "# !pip install progressbar"
   ]
  },
  {
   "cell_type": "code",
   "execution_count": 3,
   "metadata": {},
   "outputs": [],
   "source": [
    "# f= open(\"train_final-Copy.json\", \"r\", encoding=\"utf-8\")\n",
    "# dataset = pd.read_json(f)"
   ]
  },
  {
   "cell_type": "code",
   "execution_count": 4,
   "metadata": {
    "scrolled": true
   },
   "outputs": [
    {
     "name": "stdout",
     "output_type": "stream",
     "text": [
      "{'meta': {'accusation': ['contract fraud'], 'term_of_imprisonment': {'imprisonment': False, 'death_penalty': False, 'life_imprisonment': 114}, 'relevant_articles': ['314'], 'criminals': ['Liu 2'], 'punish_of_money': 0}, 'fact': ' 剑阁县人民检察院指控：被告单位广元市润华房地产开发有限责任公司（以下简称润华公司）于2007年在剑阁县普安镇三江路处购得面积为3800平方米的宗地一块，2008年向剑阁县建设局申报开发修建“碧水名居”小区；2009年4月与广运集团有限责任公司签订引资开发拆迁还建协议，协议约定建成后的综合楼底层门面全部还建；之后，润华公司正式开发建设“碧水名居”项目。被告人刘2某担任润华公司的法定代表人，在销售过程中，将“碧水名居”小区中的13套住房、5间门面房重复销售，具体犯罪事实如下：\\n1.A-1-4-2号商品房，2010年9月8日，以200000元人民币价格卖给唐某某；2011年3月28日，再次将该套住房以169311.68元人民币的价格卖给胡某。\\n2.A-2-3-1号商品房，2O11年1月28日以157239.15元人民币价格卖给陈某某；2011年6月3日，再次以216823.00元人民币的价格卖给王某。\\n3.A-2-4-1号商品房，2011年1月6日以170340元人民币价格卖给尤某某；2011年3月28日，再次以1693I1.68元人民币价格卖给胡某。\\n4.A-3-6-1号商品房，2011年3月28日以169311.68元人民币卖给胡某；2011年9月30日，再次以220000元人民币价格卖给尹某。\\n5.B2某号商品房，2009年6月23日以179195.50元人民币价格卖给王某；2011年3月28日再次以169311.68元人民币价格卖给胡某。\\n6.B1某号商品房，2009年6月23日以179291.50元人民币价格卖给余某；2011年3月28日再次以1693I1.68元人民币价格卖给胡某。\\n7.B1-1-3-1号商品房，2010年8月4日以2100O0元人民币价格卖给张某某；2011年3月28日再次以169311.68元人民币价格卖给胡某。\\n8.B1-2-1-1号商品房，2011年1月28日以158606.32元人民币价格卖给陈某某；2011年6月3日再次以208094元人民币价格卖给母某某。\\n9.B1-2-4-1号商品房，2010年12月27日以160000元人民币价格卖给李某某；2011年3月28日，再次以169311.68元人民币价格卖给胡某。\\n10.B2-1-1-3号商品房，2011年1月28日以189436.53元人民币价格卖给陈某某；2011年6月3日，再次以246485元人民币价格卖给母某某。\\n11.B2-1-1-2号商品房，2011年1月28日以149983.53元人民币价格卖给陈某某；2011年6月3日，再次以197358.50元人民币价格卖给孙某某。\\n12.B2-2-2-2号商品房，2011年1月27日以85610元人民币价格卖给蹇某某；2011年6月3日，再次以212647元人民币价格卖给苟某某。\\n13.B2-2-4-1号商品房，2011年1月27日以85610元人民币价格卖给蹇某某；2011年4月28日，再次以50000元人民币价格卖给郑某某。\\n14.A（-1-11）门面房，2011年1月6日，卖给蒲某某，当时蒲某某还购买了A-2-4-1号商品房，两套商品房合计价值604770元人民币；2011年1月，将该门面房再次以154100元人民币价格卖给蹇某某。\\n15.2011年1月，将B（-1-12）门面房，B（-1-13）门面房，B（-1-14）门面房卖给任某某，价值人民币106.1830万元。\\n16.同年1月28日将B（-1-15）门面房卖给陈某某，价值人民币38.5805万元。\\n17.2011年4月—7月，将B（-1-12）、B（-1-13）、B（-1-14）、B（-1-15）四间门面房再次卖给徐某某，价值人民币83.7万元。\\n另：\\n由于被告单位润华公司拖欠“碧水名居”承建方剑阁县第三建筑公司工程款490余万元，2012年2月15日剑阁县第三建筑公司项目经理母某某向剑阁县人民法院提起民事诉讼并申请财产保全，2012年2月16日剑阁县人民法院将“碧水名居”B（-1-12）、B（-1-13）、B（-1-14）、B（-1-15）等门面房依法查封。\\n2012年9月6日，被告人刘2某在明知自已所开发的剑阁县普安镇“碧水名居”负一楼B（-1-12）、B（-1-13）、B（-1-14）、B（-1-15）四间门面房已先后两次出售给陈某某、任某某和徐某某的情况下，又将该四间门面房（在法院查封情况下）以向母某某出具出售“碧水名居”负一楼B1栋临街门面房和住房的特别授权委托书的方式，再次出售给何某某、印某某、郝某某和李某某等四人。被告人刘2某分别于2012年9月17日和2012年9月27日与购房人签订了商品房买卖合同，收取印某某现金15万元（另抵扣母某某材料款10万元，印某某出具5万元欠条一张）、何某某26.3万元、郝某某29万元、李某某20.998万元，共计91.298万元。\\n被告单位广元市润华房地产开发有限责任公司、被告人刘2某采取虚构事实、隐匿真相的手段，多次重复销售“碧水名居”小区商品房，累计重复销售商品房18套共计40次，经广元雄关司法鉴定所司法会计鉴定诈骗金额为4807025.00元。\\n公诉机关提供了案件来源、书证、证人证言及被告人的供述与辩解等证据，公诉机关认为，被告单位广元市润华房地产开发有限责任公司及被告人刘2某采取隐匿事实真相，骗取他人购房款且数额巨大，其行为已触犯了《中华人民共和国刑法》××之规定，犯罪事实清楚。证据确实充分，应当以××追究其刑事责任。被告人刘2某在明知法院已查封“碧水名居”门面房的情况下，仍私下变卖，其行为触犯了《中华人民共和国刑法》××之规定，犯罪事实清楚。证据确实充分，应当以××追究其刑事责任。根据《中华人民共和国刑法》××之规定，数罪并罚。被告人刘2某在到案后，如实供述自己的犯罪事实，根据《中华人民共和国刑法》××××之规定，是坦白认罪。提请依法判处。\\n被告单位辩称：单位没有实施合同诈骗的行为，售房备案是民间借贷行为，没有非法占有目的，资金全部用于工程项目建设，合同备案登记，不是预售登记，不能改变物权的性质，只是一个合同的违约行为，不能是犯罪，不构成××。\\n\\r\\n'}\n",
      "{'meta': {'accusation': ['theft'], 'term_of_imprisonment': {'imprisonment': False, 'death_penalty': False, 'life_imprisonment': 48}, 'relevant_articles': ['314'], 'criminals': [') sea'], 'punish_of_money': 10000}, 'fact': ' \\n经二审审理查明：\\n一、2014年6月26日至7月3日，上诉人海某在翁2某乌丹镇盗窃电缆线三次，盗窃物品价值人民币26653.69元。具体事实如下：\\n（一）2014年6月26日夜间，上诉人海某驾驶车牌号为×××号白色东风风神轿车到翁2某乌丹镇中昊物流园区6号、7号、8号商住楼工地内盗窃赤峰天强建筑有限公司塔吊电缆线230米。经鉴定，被盗物品价值人民币11386.55元。\\n上述事实，有经庭审举证、质证，并经本院确认的下列证据予以证明：\\n1、受案登记表、电话接警记录、立案决定书证实，2014年6月27日5时36分、8时5分，刘某、王2某分别向翁2某公安局报案称乌丹镇中昊物流园区的塔吊电缆被盗。同日，翁2某公安局决定立案侦查。\\n2、证人赤峰天强建筑有限公司员工刘某的证言证实，他是乌丹镇中昊物流园区东区8号商住楼工地的负责人。2014年6月27日早上5时许，他在工地巡查，发现一端连接塔吊上方操作台另一端连接在塔吊下方二级柜的电缆线不见了，一端和塔吊下方流动配电箱相连接，在配电箱下方盘着的电缆线也被盗。其中主电缆线长45米，规格是3×16＋2×4平方毫米，外面包着黑色橡胶皮，里面是五根铜线，另外一根长50米，规格是3×10＋2×4平方毫米，外面也是包着黑色橡胶皮，里面是五芯铜线。\\n3、证人赤峰天强建筑有限公司员工王2某的证言证实，他在乌丹镇滨水路南中昊物流园区工地6号和7号商住楼工地内打更。2014年6月27日7时许，他发现其所在工地内的三个塔吊电缆线被盗，这三根电缆线都是防水电缆线，外皮是黑胶皮，规格是3×25＋2×6平方毫米的，里面是五芯全铜线，三根粗的，两根细的。三根被盗的电缆线每根长45米，共计135米。\\n4、证人于某某的证言证实，他是翁2某天成废旧资源综合再利用有限公司跃兴分公司的法人，主要经营废旧物资购销。2014年6月27日8时许，有一辆车牌号为×××的白色东风风神轿车在其收购点门前停着，他开大门时从车上下来一名男子（海某）问他要不要废铜并询问价格，并把轿车开到了收购点的院里，从后备箱卸下一些包着黑色外皮的电缆线，这些线都是十多米一段。他问那名男子电缆线是哪来的，那名男子说：“我在工地干活，顶工钱回来的”，他便在笔记本上进行了登记，那名男子拿出来的身份证名字为敖某，其车牌号为×××。他把电缆线抬到秤上称重，带着皮子是605斤，算完帐后是4750.00元，他母亲付的钱。这次收购的电缆线都是黑色外皮，每段大约有10几米长，断头的地方像是夹钢筋的钳子剪的，其中有一小盘是细一点的，型号像是3×10平方毫米的，五芯铜芯电缆线，三根粗两根细，大约有20多米，其余的粗细程度差不多，型号基本上都是3×16＋2平方毫米的，也都是五芯铜芯电缆线。电缆线都原封不动卖给河北人了。\\n5、证人杨某甲的证言证实，她是于某某的母亲，平时帮于某某在翁2某天成废旧资源综合再生利用有限责任公司跃兴分公司收购废品。2014年6月27日早晨6时许，她自己在收购点，听见有人敲大门，她把门打开后看见一名小个男子在门口，旁边还停着一辆白色轿车。那名男子问她是否收购电缆线，她说不收，那名男子就走了，后来她有事就离开了收购点。当日9时许，她回到收购点，看见其儿子于某某在和早晨来的那名小个男子（海某）说话，于某某说其收购了那名男子一些废旧的电缆线，算完帐是4750元钱，她掏出4750元钱后支付给了那名男子。\\n6、翁1某［刑］勘（2014）×××号现场勘验检查笔录、现场方位图及照片证实，2014年6月27日5时45分至6时40分，翁2某公安局对翁2某乌丹镇中昊物流园东区八号商住楼工地进行了现场勘查。现场位于乌丹镇中昊物流园东区八号商住楼工地，该工地有一直立的塔吊，在塔吊操作室内有电缆线（原物提取），电缆线一端有疑似钳剪工具痕迹，电缆线皮上有“衡阳恒飞电缆有限公司”字样。在塔吊的东侧有一配电箱，电箱的门呈开启状，在电箱内的漏电断路器上有四个线头接口，上面无电缆线。在塔吊的西北侧有一可移动的配电箱，在配电箱电源输出处有一电缆线头（原物提取），线头端有疑似钳剪工具痕迹，电缆线皮上有“广宁电缆有限公司”字样，在可移动配电箱的南侧地面上有一疑似堆放电缆线痕迹。在工地北侧围墙顶部砖有疑似翻动。\\n7、翁1某［刑］勘（2014）×××号现场勘验检查笔录、现场方位图及照片证实，2014年6月27日8时15分至8时50分，翁2某公安局对翁2某乌丹镇中昊物流园区工地进行了现场勘查。现场位于乌丹镇新车站东门中昊物流园区施工工地，该工地为一未开工的工地，在工地由东向西依次立着三个塔吊，在塔吊操作室内有电缆线（原物提取），电缆线一端有疑似钳剪工具痕迹，电缆线皮上有“上海双兴线缆有限公司”字样。在工地北侧围墙顶部砖有疑似翻动。\\n8、营业执照副本复印件证实，翁2某天成废旧资源综合再生利用有限公司跃兴分公司，负责人：于某某；注册号为150426000010125；经营范围：废旧物资购销、电子汽车衡检斤；公司成立日期为2010年7月1日。\\n9、收购废旧物品登记表复印件一份证实，翁2某天成废旧资源综合再生利用有限公司跃兴分公司于2014年6月27日收购敖某（实际是海某）废铜线605斤；敖某的身份证号为×××，车牌号为×××。\\n10、翁价鉴字（2014）47号价格鉴定意见证实，经鉴定，被盗3×25＋2×6规格电缆线135米，价值人民币7615.28元；被盗3×16＋2×4规格电缆线45米，价值人民币1845元；被盗3×10＋2×4规格电缆线50米，价值人民币1926.27元。\\n11、城市监控录像光盘证实，2014年6月27日，上诉人海某驾驶×××号白色东风风神轿车在翁2某乌丹镇内的行走轨迹。\\n12、翁2某天成废旧资源综合再生利用有限公司跃兴分公司监控录像光盘一张证实，2014年6月27日，上诉人海某驾驶×××号白色东风风神轿车去翁2某天成废旧资源综合再生利用有限公司跃兴分公司，并从其白色东风风神轿车上卸下四捆电缆线出售。\\n13、上诉人海某的供述和辩解，2014年6月26日下午3、4点钟，他驾驶其×××号白色东风风神轿车来到了翁2某乌丹镇，是来会网友的，住在车站附近路东的一个旅店。6月27日去了一个废品收购点卖电缆线，是用敖某的身份证进行的登记。\\n（二）2014年7月1日夜间，上诉人海某驾驶车牌号为×××号白色东风风神轿车到翁2某乌丹镇新华园小区G4号楼工地内盗窃泰和房地产有限公司提升机电缆线120米。经鉴定，被盗物品价值人民币6290.06元。\\n上述事实，有经庭审举证、质证，并经本院确认的下列证据予以证明：\\n1、受案登记表、电话接警记录、立案决定书证实，2014年7月2日5时05分，国向伟报案称，位于乌丹镇新花园G4号楼工地的电缆线被盗。同日，翁2某公安局决定立案侦查。\\n2、证人泰和房地产有限公司员工国向伟的证言证实，他是泰和房地产有限公司的电工，现在乌丹镇新华园G4号楼建筑工地施工。2014年7月2日早上5时许，他们工地的工人去上班，工人准备用提升机运料时发现提升机没电了，就去找他检查，他经检查发现存在线框里的防水线被盗，电缆线的一端从吊笼往下两米多处的地方被剪断，另一端是从存线框底部被剪断。共有两根电缆线被盗，每根长度60米，规格是3×25﹢2×10平方毫米，电缆线外皮是黑色的，里面是五根铜芯电线，三根粗两根细，电缆线的外皮上没有数字等标记，是国际电缆线。\\n3、证人于某某的证言证实，2014年7月2日上午9时许，他从外面回到废旧收购点，他母亲对他说：“前几天到咱们这卖电缆线的那个男的又来卖电缆线了，电缆线是388斤，刨完皮子是154斤，给了他2900元钱”，他看到收购点院里有一堆十多米一根的黑色皮子电缆线。当天下午，经常来收废铜、废电机的河北人开车来了，他把收购的电缆线都卖给了那个河北人。这次收购了388斤，有10几段，每段长6、7米左右，型号像是3×25＋2平方毫米的，五芯铜芯，铜芯三粗两细。\\n4、证人杨某甲的证言证实，2014年7月2日上午8时许，那名小个男子又开着那辆白色轿车来卖电缆线，并对她说：“我在工地干活，顶工资来的，就这点了，你快收下吧”。那名男子从车的后备箱里卸下一些黑色外胶皮的电缆线，称重是388斤，刨皮后重量是154斤，按照每斤19元收的，她付给那名男子2900元。当日下午，收废旧铜线和电机的河北人来了，她们将收购的电缆线卖给了河北人。\\n5、翁1某［刑］勘（2014）×××号现场勘验检查笔录、现场方位图及照片证实，2014年7月2日5时15分至7时0分，翁2某公安局对被盗现场进行了勘验检查。现场位于翁2某乌丹镇新华园G4工地，G4号楼为一坐北朝南的楼，在楼房的西侧可见一升降机，升降机的南侧和北侧各有一铁皮圆桶，铁皮圆桶为升降机电缆线笼子，桶内未见电缆线，在升降机的北侧和南侧与铁皮圆桶相对处可见电缆线头（照相提取），电缆线朝向地面侧有断痕。在G4工地西侧工地的门口，门为一铁皮，在门口西侧的地面上有一疑似鞋印（照相提取），脚印长25cm，底纹格块状。\\n6、收购废旧物品登记表复印件一份证实，翁2某天成废旧资源综合再生利用有限公司跃兴分公司于2014年7月2日收购敖某（实际是海某）废铜线388斤；敖某的身份证号为×××，车牌号为×××。\\n7、翁价鉴字（2014）47号价格鉴定意见证实，经鉴定，被盗3×25＋2×10规格电缆线120米，价值人民币6290.06元。\\n8、城市监控录像光盘证实，2014年7月2日，上诉人海某驾驶×××号白色东风风神轿车在翁2某乌丹镇内的行走轨迹。\\n9、上诉人海某的供述和辩解，他是2014年7月1日下午来乌丹的，7月2日，他也驾驶其×××号白色东风风神轿车去过废品收购点，是去跟那个废品收购点的老板谈办贷款的事。\\n（三）2014年7月3日夜间，上诉人海某驾驶车牌号为×××号白色东风风神轿车到翁2某乌丹镇体育场南门对面滨河小区AB座楼房的工地内盗窃天辰房地产有限公司升降机电缆线131.9米。经鉴定，被盗物品价值人民币8977.08元。\\n另查明，公安机关扣押并已随案移送的人民币7300元，发还给各被害单位；依法追缴上诉人海某余下的盗窃物品折价款人民币19353.69元，发还给各被害单位。\\n上述事实，有经庭审举证、质证，并经本院确认的下列证据予以证明：\\n受案登记表、电话接警记录、立案决定书证实，2014年7月4日5时30分，孟某报案称位于乌丹镇新华街滨河小区AB座施工工地电缆线被盗。同日，翁2某公安局决定立案侦查。\\n证人天辰房地产有限公司员工孟某的证言证实，他是天辰房地产有限公司的主管，其公司现在在乌丹镇新华街体育场对过开发的滨河小区AB座楼房工地施工。2014年7月4日早晨4时30分许，他在工地巡视时发现在建楼房南侧靠西边的升降机的两侧电缆线都被人盗走了，共两根。电缆线是购买的升降机自带的，外皮是黑色的，皮子上没有数字等标记，电缆线的规格是3×35﹢2×16平方毫米。因升降机自带的电缆线不够长，购买升降机时每根都接了10米左右的电缆线，后接上的电缆线规格为3×25﹢2×10平方毫米，外皮也是黑色的，在被盗后剩下的线头处写着“上海泰通线缆有限公司，450／750V，3×25﹢2，0940m（检1）”等字样，被盗的电缆线里面都有五根铜线，包括三根粗线和两根细线，线是由铜丝组成。共被盗电缆线130米左右，其中3×35﹢2×16平方毫米规格的电缆线110米左右，3×25﹢2×10平方毫米规格的电缆线20米左右，都是国标电缆线。\\n证人于某某的证言证实，7月4日早晨他不在收购点，当日上午8时许，他到新华街百合东区南门的农业银行支取了4万元现金，当时银行付给他的均是未开捆的20元面额的新钱，他还账花了28200.00元，当日上午9时许他回到收购点，将剩下的11800.00元都给了他母亲。7月5日上午，警察给他打电话询问收电缆之事，他就问了其母亲，其母亲说：“昨天早晨原来到咱们这卖电缆线的又来了，电缆线是490多斤，我付给他两扎20元面额的新钱，一共是4000元钱，他找回来200元”。他主动将这次收购的电缆线交到了公安局。卖电缆线的男子身高1.6米左右，短头发，说话带蒙族音，开一辆白色东风风神轿车，车牌号是×××。\\n证人杨某甲的证言证实，2014年7月4日早晨6时许，她自己在收购点，前几次卖电缆线的那名小个男子又来卖电缆线，称重是496斤，她算完帐是3770元，并让那名男子下午来取钱。当日早晨9时许，于某某回到收购点，并对她说：“我取了4万元钱，还完帐后还剩下11800.00元，都给你拿着吧”，这些钱均是20元面额的钱，有5扎是没打捆的。下午3时许，那名男子过来取钱，她掏出2扎20元面额的新钱，那名男子找给她230元。2014年7月5日上午，于某某向她询问是否又收了电缆线，她将此事告诉了于某某。于某某把她7月4日早晨收购的电缆线拉到了公安局。卖电缆线的那名男子身高1.60米左右，短头发，说话蒙古族口音，开着一辆白色轿车。其监控录像并不是每天都开。\\n证人杨某乙的证言证实，他是乌丹镇恩某旅馆的老板。2014年7月3日17时许，有一名男子（海某）将一辆车牌号为×××的东风白色车停在他旅店的门前要住宿，当时那名男子使用的身份证上的名字是敖某，蒙古族，大板人，其他信息他没注意，那名男子住在了202房间。19时许，那名男子从旅店出去，约22时许回来。约二十分钟左右，那名男子又出去了，至于什么时间回来的他不清楚。2014年7月4日8时许，那名男子退的房。\\n翁1某［刑］勘（2014）×××号现场勘验检查笔录、现场方位图及照片证实，2014年7月4日5时45分至6时50分，翁2某公安局对被盗现场进行了勘验检查。现场位于翁2某乌丹镇滨河小区AB座工地。滨河小区AB座为一坐北朝南的楼，在楼房的南侧靠楼体西侧部位可见一升降机，升降机的东侧和西侧各有一个铁网圆桶，铁网圆桶为升降机电缆线笼子，桶内未发现电缆线。在升降机上与圆桶相对处可见电缆线头（照相提取）与电缆线朝向地面侧有断痕（照相提取），线缆上有“3×25﹢2”等字样。与电缆线笼子相对各有一个配电箱，配电箱上电缆线头有断痕。在滨河小区AB座工地西侧为工地西侧围墙，在围墙东侧地面上有一疑似鞋印，鞋印长25cm，底纹格块状。\\n检查笔录证实，2014年7月29日9时至10时，在李2某的见证下，翁2某公安局侦查人员对扣押于某某的496斤电缆线进行检查，发现电缆线共有六根，其中没有任何字样的黑色外皮电缆线有四根，有接头的电缆线共二根，接头处用蓝色防水胶布包裹，其中一根无字的长10.5米，标有“上海泰通线缆有限公司，450／750V，3×25﹢2，0940m（检1）”等字样的电缆线长13.7米；另一根无字的长12米，标有“上海泰通线缆有限公司，450／750V，3×25﹢2，0940m（检1）”等字样的电缆线长8.4米。\\n侦查实验笔录及照片证实，2014年9月29日15时10分至15时50分，在李2某的见证下，翁2某公安局侦查人员将扣押于某某的六捆电缆线找出十二个断端，将孟某提供的两段电缆线进行拼接实验，其中孟某提供的一段外皮上写有“AO65268，上海泰通线缆有限公司”等字样的电缆线断端同于某某提供的其中一捆外皮上写有“AO65268，上海泰通线缆有限公司”等字样的电缆线一个断端通过拼接，符合整体分离特征；孟某提供的另外一段电缆线外皮无字样的一端同于某某提供的其中一捆外皮无字样的电缆线一端进行拼接，通过比对，此两端符合整体分离特征，侦查人员在侦查实验的过程中进行了拍照。\\n翁价鉴字（2014）47号价格鉴定意见证实，经鉴定，被盗3×35＋2×10规格电缆线109.8米，价值人民币7779.39元，被盗3×25＋2×10规格电缆线22.1米，价值人民币1197.69元。\\n城市监控录像光盘证实，2014年7月4日，上诉人海某驾驶×××号白色东风风神轿车在翁2某乌丹镇内的行走轨迹。\\n翁2某天成废旧资源综合再生利用有限公司跃兴分公司监控录像光盘一张证实，2014年7月4日，上诉人海某驾驶×××号白色东风风神轿车去翁2某天成废旧资源综合再生利用有限公司跃兴分公司。\\n手机电子数据光盘一张证实，上诉人海某在公安机关供述中所称其来乌丹镇见网友的时间和内容与其手机QQ聊天记录等信息中所记载的内容不相符。\\n中国农业银行股份有限公司翁2某支行监控录像光盘一张证实，2014年7月4日8时40分，翁2某天成废旧资源综合再生利用有限公司跃兴分公司法定代表人于某某在农行翁2某支行支取人民币40000.00元及所支取的钱款均为20元面额的事实。\\n辨认笔录及照片证实，在翁2某公安局，辨认人于某某在10张不同男性照片中辨认出9号照片上的男子（海某）就是2014年6月27日到其废品收购站卖电缆线的人。辨认人杨某乙在10张不同男性照片中辨认出3号照片中的男子（海某）就是2014年7月3日17时许持有敖某身份证入住恩某旅馆的男子。辨认人杨某甲在10张不同男性照片中辨认出3号照片上的男子（海某）就是2014年6月27日、7月2日、7月4日到其废品收购站卖电缆线的人。\\n搜查证、搜查笔录、扣押清单及物证照片证实，翁2某公安局侦查人员分别于2014年7月4日22时10分至22时17分、22时20分至22时35分对上诉人海某的人身及海某驾驶的×××号东风风神牌轿车进行搜查，并将相关物品予以扣押，所扣押的物品中有不同名字的机动车驾驶证和行驶证各三本及身份证三张，其中包括了姓名为敖某的身份证，身份证号为×××。\\n翁1某［刑］扣字（2014）81号扣押决定书、扣押笔录、扣押清单、物证照片及发还清单证实，2014年7月5日14时55分至15时0分，在李2某的见证下，翁2某公安局侦查人员在翁2某公安局执法办案中心对于某某交来的496斤电缆线予以扣押。\\n随案移送清单证实，2014年10月8日，翁2某公安局预审大队民警将所扣押的物品及所调取的光盘等证据移送至翁2某人民检察院的事实。\\n住宿登记薄一份证实，2014年7月3日，敖某（实际是海某）在翁2某乌丹镇恩某旅馆202房间住宿的事实，其登记的身份证号为×××。\\n中国农业银行金穗借记卡明细对账单证实，于某某于2014年7月4日在农行翁2某紫城支行支取人民币40000元的事实。\\n物证-×××号白色东风风神轿车一辆证实，上诉人海某实施盗窃所使用的作案工具。\\n物证-断线钳子一把、菜刀一把、手套二副、胶鞋一双、休闲鞋一双证实，上诉人海某实施盗窃所使用的作案工具。\\n翁2某公安局扣押的人民币7300.00元及照片证实，在翁2某公安局扣押海某的人民币7300.00元中，有两扎面额为20元的新人民币。\\n上诉人海某的供述和辩解，7月4日上午6时43分至6时55分之间，他又去了那个废品收购点，和之前收购电缆线的那个老板谈办贷款的事，当时老板不在家，只有其第一次卖电缆线时看货的那名50多岁的女子在收购点。从他车上扣押的断线钳子、菜刀等物品，是他锡盟工地用的。\\n二、非法处置扣押的财产的事实\\n2014年3月11日，因民间借贷纠纷，巴林右旗人民法院裁定将上诉人海某所有的×××号白色东风风神轿车予以扣押。2014年3月11日，海某的朋友巴某某和在巴林右旗大板镇开着海某的×××牌号轿车时被巴林右旗人民法院的工作人员将轿车扣押，轿车停放于巴林右旗人民法院后院。上诉人海某知道轿车被法院扣押后，于2014年3月18日到巴林右旗人民法院后院私自将×××牌号东风风神轿车开走。\\n上述事实，有经庭审举证、质证，并经本院确认的下列证据予以证明：\\n受案登记表、报案材料、立案决定书、巴林右旗公安局移送案件通知书证实，2014年3月20日16时，巴林右旗公安局接到巴林右旗法院报案称其扣押的车牌号×××东风风神轿车被盗。2014年11月20日，巴林右旗公安局决定立案侦查。2014年12月24日，巴林右旗公安局决定将该案送到翁2某公安局管辖。\\n证人陆某某的证言证实，他是巴林右旗法院值班室门卫。2014年3月11日，法院的工作人员查某通知他扣押了一辆车牌号为×××的轿车停放在了法院办公楼的后面，他当时也见过这辆车。2014年3月18日下午5时50分许，他发现这辆×××号白色轿车从法院办公楼后面快速的开了出来，当时该车上就有一个驾驶员，直接从法院的大门开出去不知去向。他就向法院的工作人员王3某报告了该情况。\\n证人吴某某的证言证实，他是巴林右旗人民法院的工作人员。2014年3月11日上午10时许，其单位领导王3某通知他有一个案件当事人韩某发现欠钱的海某名下的一辆东风风神轿车在大板镇内活动，该车现在在大板镇人民银行附近，该车的驾驶员不是海某。随后查某和他来到了人民银行附近，从附近过来两名男子称该车是海某的，他和查某向这两人说明了身份，并告知了这辆车要被法院扣押，随后由韩某的一个亲戚将该车开到了巴林右旗人民法院的后院，并通知法院门卫进行看管，之后就给韩某和杰某做了执行笔录。3月20日下午5时30分左右，法院门卫的工作人员陆某某来问他们，询问×××号轿车是否是他们放走的，并告知了有人将该车开出去了。\\n证人巴某某和的证言证实，2014年3月份，海某开车拉着他去赤峰办理小额贷款，但是没有办成，当时因为天晚，他就借海某的东风风神轿车回到大板。第二天，他和朋友那顺某到大板镇人民银行办事，他从人民银行出来后，那顺某对他说车钥匙被人拿走了，这时来了几个法院的人，开始对海某的车辆照相，并跟他们说这辆车被法院扣押了，后来法院的人就把海某的东风风神车开走，当时他就给海某打电话说他的车被法院扣了。\\n证人那某某的证言证实，2014年3月份的一天上午，他陪巴某某和去大板镇人民银行办事，当时巴某某和开着一辆白色东风风神轿车拉着他停在了人民银行门外，后一个叫杰某的男子上车将车钥匙拔下来拿走了。巴某某和从人民银行出来后，他将此事告诉了巴某某和。这时来了几个法院的人，说要扣押这辆东风风神轿车，法院的人给车照完像后就将车辆扣走了，当时他和巴某某和都在场。\\n车辆登记信息、机动车行驶证证实，上诉人海某是×××号东风风神轿车的车辆所有人。\\n（2012）右民初字第1581号民事调解书、申请执行书、（2012）右法执字第712号执行案件受理通知书、（2012）右法执字第712号执行裁定书及执行笔录证实，韩某于2012年9月28日向巴林右旗人民法院申请执行（2012）右民初字第1581号民事调解书，巴林右旗人民法院于当日受理该案。巴林右旗人民法院于2014年3月11日作出执行裁定书，裁定对被执行人海某所有的×××小型轿车予以扣押。同日，对海某所有的×××号东风风神轿车实际扣押。\\n右价认鉴字（2014）45号价格鉴定意见证实，经鉴定，涉案东风风神汽车一辆（车辆型号DFM7160B3C）价值人民币55000.00元。\\n（2010）右刑初字第100号刑事判决书、巴林右旗看守所释放证明书证实，上诉人海某因犯寻衅滋事罪于2010年12月14日被巴林右旗人民法院判处××，2011年2月4日刑满释放。\\n10、常住人口信息证实，上诉人海某的自然身份情况。\\n11、上诉人海某的供述与辩解，2012年他和乌2某给于某担保，从韩某处借款人民币1万元。因于某没有还款，韩某将他和乌2某起诉至法院。后来他和乌2某每人分摊6000多元钱，乌2某已把钱还给了韩某，他分摊的钱还没有还。2014年3月份前后，他把自己的东风风神轿车借给了巴某某和，后来巴某某和给其打电话说车被开到巴林右旗人民法院院里了。经了解，他知道了是因为欠韩某钱，法院扣押了他的车。两、三天之后的一天中午，他自己到巴林右旗人民法院的后院，用备用钥匙将其车牌号为×××号白色东风风神轿车从巴林右旗人民法院院内开了出去，是他进院直接将车开走的。后来他就开着这辆车往返赤峰、大板等地，翁2某民警找到他时，他正驾驶这辆汽车，这辆汽车被翁2某民警扣押了。\\r\\n'}\n"
     ]
    },
    {
     "ename": "NameError",
     "evalue": "name 'unique_array' is not defined",
     "output_type": "error",
     "traceback": [
      "\u001b[1;31m---------------------------------------------------------------------------\u001b[0m",
      "\u001b[1;31mNameError\u001b[0m                                 Traceback (most recent call last)",
      "Input \u001b[1;32mIn [4]\u001b[0m, in \u001b[0;36m<cell line: 21>\u001b[1;34m()\u001b[0m\n\u001b[0;32m     18\u001b[0m             unique_arr2\u001b[38;5;241m.\u001b[39mappend(\u001b[38;5;28mint\u001b[39m(label))\n\u001b[0;32m     20\u001b[0m \u001b[38;5;66;03m#print(np.sum(unique_arr))\u001b[39;00m\n\u001b[1;32m---> 21\u001b[0m \u001b[38;5;28mprint\u001b[39m(np\u001b[38;5;241m.\u001b[39msum(unique_arr2)\u001b[38;5;241m-\u001b[39mnp\u001b[38;5;241m.\u001b[39msum(\u001b[43munique_array\u001b[49m))\n\u001b[0;32m     22\u001b[0m \u001b[38;5;28mprint\u001b[39m(unique_arr2)\n\u001b[0;32m     23\u001b[0m \u001b[38;5;28mprint\u001b[39m(unique_array)\n",
      "\u001b[1;31mNameError\u001b[0m: name 'unique_array' is not defined"
     ]
    }
   ],
   "source": [
    "# unique_arr  = []\n",
    "# unique_arr2 = []\n",
    "\n",
    "# headings = ['text', 'label']\n",
    "# with open('relevant_art2.csv', 'w', encoding='utf-8', newline='') as output_file:\n",
    "#     writer = csv.writer(output_file)\n",
    "#     writer.writerow(headings)\n",
    "\n",
    "#     for i in dataset['objects']:\n",
    "#         label= i['meta']['relevant_articles'][0]\n",
    "#         ##text = i['fact']\n",
    "#         ##row = [text,label]\n",
    "#     ##    writer.writerow(row)\n",
    "#         if label == '314':\n",
    "#         # add the number to the unique_array\n",
    "#             print(i)\n",
    "#             unique_arr.append(label)\n",
    "#             unique_arr2.append(int(label))\n",
    "        \n",
    "# #print(np.sum(unique_arr))\n",
    "# print(np.sum(unique_arr2)-np.sum(unique_array))\n",
    "# #print(unique_arr2)\n",
    "# #print(unique_array)"
   ]
  },
  {
   "cell_type": "code",
   "execution_count": 2,
   "metadata": {},
   "outputs": [],
   "source": [
    "# print(unique_array)"
   ]
  },
  {
   "cell_type": "code",
   "execution_count": 8,
   "metadata": {},
   "outputs": [],
   "source": [
    "# pattern = re.compile(\"[\\u4e00-\\u9fff]+\")\n",
    "\n",
    "# # Open the input file for reading and the output file for writing\n",
    "# with open('relevant_arteng.csv', 'r', encoding='utf-8') as input_file, \\\n",
    "#      open('relevant_arteng_enco.csv', 'w', encoding='utf-8', newline='') as output_file:\n",
    "    \n",
    "#     # Initialize the CSV reader and writer objects\n",
    "#     reader = csv.reader(input_file)\n",
    "#     writer = csv.writer(output_file)\n",
    "#     first = True\n",
    "#     # Loop over each row in the input file\n",
    "#     for row in reader:\n",
    "#         if(first):\n",
    "#             first = False\n",
    "#             continue\n",
    "#         labels = []\n",
    "#         for i in unique_array:\n",
    "#             if int(row[1])==i:\n",
    "#                 print(row[1])\n",
    "#                 labels.append(1)\n",
    "#             else:\n",
    "#                 labels.append(0)\n",
    "#         print(labels)\n",
    "#         text = row[0]        \n",
    "#         row2=[text,labels]\n",
    "#         # Check if any cell in the row contains Chinese characters\n",
    "#         ##has_chinese = False\n",
    "#         ##for cell in row:\n",
    "#         ##    if re.search(pattern, cell):\n",
    "#         ##        has_chinese = True\n",
    "#         ##        break\n",
    "#         # If the row does not contain Chinese characters, write it to the output file\n",
    "#         ##if not has_chinese:\n",
    "#             ##writer.writerow(row)\n",
    "#         writer.writerow(row2)"
   ]
  },
  {
   "cell_type": "code",
   "execution_count": 3,
   "metadata": {},
   "outputs": [],
   "source": [
    "# data = pd.read_csv('relevant_arteng.csv')\n",
    "# # split the data into training and testing sets\n",
    "# train_set, test_set = train_test_split(data, test_size=0.2, random_state=42)"
   ]
  },
  {
   "cell_type": "code",
   "execution_count": 4,
   "metadata": {},
   "outputs": [
    {
     "data": {
      "text/plain": [
       "33339"
      ]
     },
     "execution_count": 4,
     "metadata": {},
     "output_type": "execute_result"
    }
   ],
   "source": [
    "# len(test_set)"
   ]
  },
  {
   "cell_type": "code",
   "execution_count": 5,
   "metadata": {},
   "outputs": [
    {
     "name": "stdout",
     "output_type": "stream",
     "text": [
      "[264, 234, 266, 205, 307, 345, 236, 267, 224, 263, 196, 279, 269, 367, 133, 194, 293, 226, 114, 364, 277, 233, 312, 275, 246, 134, 232, 155, 280, 253, 292, 354, 390, 274, 385, 382, 176, 389, 128, 225, 303, 347, 372, 340, 172, 343, 272, 271, 200, 119, 310, 192, 351, 276, 245, 237, 175, 238, 144, 118, 235, 344, 164, 356, 313, 302, 177, 243, 260, 295, 357, 141, 171, 231, 288, 240, 348, 342, 363, 214, 127, 353, 198, 338, 152, 386, 239, 170, 375, 132, 360, 209, 286, 201, 150, 273, 393, 359, 392, 124, 358] 101\n",
      "33339\n"
     ]
    }
   ],
   "source": [
    "# labels = np.zeros(101)\n",
    "# unique_array = []\n",
    "\n",
    "# for i in train_set['label']:\n",
    "#     if i not in unique_array:\n",
    "#         # add the number to the unique_array\n",
    "#         unique_array.append(i)\n",
    "\n",
    "# drop = []\n",
    "# for i in range(33339):\n",
    "#     label = test_set.iloc[i]['label']\n",
    "#     if label not in unique_array:\n",
    "#         drop.append(i)\n",
    "\n",
    "# for i in drop:\n",
    "#     test_set = test_set.iloc[[j for j in range(len(test_set.index)) if j != i], :]\n",
    "# print(unique_array, len(unique_array))\n",
    "# print(len(test_set))"
   ]
  },
  {
   "cell_type": "code",
   "execution_count": 4,
   "metadata": {
    "colab": {},
    "colab_type": "code",
    "id": "Yqpk39qSy9bi"
   },
   "outputs": [],
   "source": [
    "df = pd.read_csv(\"C:\\\\Users\\\\ayush\\\\Documents\\\\ML\\\\Machine Learning\\\\CJPE-main\\\\CJPE-main\\\\Data\\\\Data\\\\ILDC_single\\\\ILDC_single\\\\ILDC_single.csv\\\\ILDC_single.csv\")\n",
    "train_set = df.query(\" split=='train' \")\n",
    "test_set = df.query(\" split=='test' \")\n",
    "validation_set = df.query(\" split=='dev' \")"
   ]
  },
  {
   "cell_type": "code",
   "execution_count": 5,
   "metadata": {},
   "outputs": [
    {
     "data": {
      "text/html": [
       "<div>\n",
       "<style scoped>\n",
       "    .dataframe tbody tr th:only-of-type {\n",
       "        vertical-align: middle;\n",
       "    }\n",
       "\n",
       "    .dataframe tbody tr th {\n",
       "        vertical-align: top;\n",
       "    }\n",
       "\n",
       "    .dataframe thead th {\n",
       "        text-align: right;\n",
       "    }\n",
       "</style>\n",
       "<table border=\"1\" class=\"dataframe\">\n",
       "  <thead>\n",
       "    <tr style=\"text-align: right;\">\n",
       "      <th></th>\n",
       "      <th>text</th>\n",
       "      <th>label</th>\n",
       "      <th>split</th>\n",
       "      <th>name</th>\n",
       "    </tr>\n",
       "  </thead>\n",
       "  <tbody>\n",
       "    <tr>\n",
       "      <th>5082</th>\n",
       "      <td>civil appellate jurisdiction civil appeal numb...</td>\n",
       "      <td>1</td>\n",
       "      <td>test</td>\n",
       "      <td>1986_397.txt</td>\n",
       "    </tr>\n",
       "    <tr>\n",
       "      <th>5083</th>\n",
       "      <td>criminal appellate jurisdiction special leave ...</td>\n",
       "      <td>0</td>\n",
       "      <td>test</td>\n",
       "      <td>1977_183.txt</td>\n",
       "    </tr>\n",
       "    <tr>\n",
       "      <th>5084</th>\n",
       "      <td>criminal appellate jurisdiction criminal appea...</td>\n",
       "      <td>0</td>\n",
       "      <td>test</td>\n",
       "      <td>1993_98.txt</td>\n",
       "    </tr>\n",
       "    <tr>\n",
       "      <th>5085</th>\n",
       "      <td>civil appellate jurisdiction civil appeal numb...</td>\n",
       "      <td>0</td>\n",
       "      <td>test</td>\n",
       "      <td>1991_137.txt</td>\n",
       "    </tr>\n",
       "    <tr>\n",
       "      <th>5086</th>\n",
       "      <td>civil appellate jurisdiction civil appeal numb...</td>\n",
       "      <td>1</td>\n",
       "      <td>test</td>\n",
       "      <td>1957_125.txt</td>\n",
       "    </tr>\n",
       "    <tr>\n",
       "      <th>...</th>\n",
       "      <td>...</td>\n",
       "      <td>...</td>\n",
       "      <td>...</td>\n",
       "      <td>...</td>\n",
       "    </tr>\n",
       "    <tr>\n",
       "      <th>6594</th>\n",
       "      <td>Dr. B. S. CHAUHAN, J. This appeal has been pr...</td>\n",
       "      <td>1</td>\n",
       "      <td>test</td>\n",
       "      <td>2013_101.txt</td>\n",
       "    </tr>\n",
       "    <tr>\n",
       "      <th>6595</th>\n",
       "      <td>Rajendra Babu, J. The respondents, who are co...</td>\n",
       "      <td>0</td>\n",
       "      <td>test</td>\n",
       "      <td>2000_1559.txt</td>\n",
       "    </tr>\n",
       "    <tr>\n",
       "      <th>6596</th>\n",
       "      <td>Leave granted. Respondent 1 Insurance Company...</td>\n",
       "      <td>1</td>\n",
       "      <td>test</td>\n",
       "      <td>1998_83.txt</td>\n",
       "    </tr>\n",
       "    <tr>\n",
       "      <th>6597</th>\n",
       "      <td>Leave granted. The respondent is an Executive...</td>\n",
       "      <td>1</td>\n",
       "      <td>test</td>\n",
       "      <td>1995_2.txt</td>\n",
       "    </tr>\n",
       "    <tr>\n",
       "      <th>6598</th>\n",
       "      <td>A. BOBDE, J. This appeal is directed against ...</td>\n",
       "      <td>1</td>\n",
       "      <td>test</td>\n",
       "      <td>2017_61.txt</td>\n",
       "    </tr>\n",
       "  </tbody>\n",
       "</table>\n",
       "<p>1517 rows × 4 columns</p>\n",
       "</div>"
      ],
      "text/plain": [
       "                                                   text  label split  \\\n",
       "5082  civil appellate jurisdiction civil appeal numb...      1  test   \n",
       "5083  criminal appellate jurisdiction special leave ...      0  test   \n",
       "5084  criminal appellate jurisdiction criminal appea...      0  test   \n",
       "5085  civil appellate jurisdiction civil appeal numb...      0  test   \n",
       "5086  civil appellate jurisdiction civil appeal numb...      1  test   \n",
       "...                                                 ...    ...   ...   \n",
       "6594   Dr. B. S. CHAUHAN, J. This appeal has been pr...      1  test   \n",
       "6595   Rajendra Babu, J. The respondents, who are co...      0  test   \n",
       "6596   Leave granted. Respondent 1 Insurance Company...      1  test   \n",
       "6597   Leave granted. The respondent is an Executive...      1  test   \n",
       "6598   A. BOBDE, J. This appeal is directed against ...      1  test   \n",
       "\n",
       "               name  \n",
       "5082   1986_397.txt  \n",
       "5083   1977_183.txt  \n",
       "5084    1993_98.txt  \n",
       "5085   1991_137.txt  \n",
       "5086   1957_125.txt  \n",
       "...             ...  \n",
       "6594   2013_101.txt  \n",
       "6595  2000_1559.txt  \n",
       "6596    1998_83.txt  \n",
       "6597     1995_2.txt  \n",
       "6598    2017_61.txt  \n",
       "\n",
       "[1517 rows x 4 columns]"
      ]
     },
     "execution_count": 5,
     "metadata": {},
     "output_type": "execute_result"
    }
   ],
   "source": [
    "test_set"
   ]
  },
  {
   "cell_type": "code",
   "execution_count": 6,
   "metadata": {},
   "outputs": [],
   "source": [
    "# def normalize_label(label):\n",
    "#     \"\"\"\n",
    "#     Normalizes a label by scaling it between 0 and 1.\n",
    "#     \"\"\"\n",
    "#     return np.float32((label - train_set['label'].min()) / (train_set['label'].max() - train_set['label'].min()))\n",
    "\n",
    "# train_set['label'] = train_set['label'].apply(normalize_label)"
   ]
  },
  {
   "cell_type": "code",
   "execution_count": 7,
   "metadata": {},
   "outputs": [],
   "source": [
    "# def normalize_label(label):\n",
    "#     \"\"\"\n",
    "#     Normalizes a label by scaling it between 0 and 1.\n",
    "#     \"\"\"\n",
    "#     return np.float32((label - test_set['label'].min()) / (test_set['label'].max() - test_set['label'].min()))\n",
    "\n",
    "# test_set['label'] = test_set['label'].apply(normalize_label)"
   ]
  },
  {
   "cell_type": "code",
   "execution_count": 2,
   "metadata": {
    "colab": {},
    "colab_type": "code",
    "id": "84c1xdZMB176"
   },
   "outputs": [],
   "source": [
    "from transformers import PreTrainedModel, PreTrainedTokenizer, PretrainedConfig\n",
    "from transformers import BertForSequenceClassification, BertTokenizer, BertConfig\n",
    "from transformers import RobertaForSequenceClassification, RobertaTokenizer, RobertaConfig\n",
    "from transformers import XLNetForSequenceClassification, XLNetTokenizer, XLNetConfig\n",
    "from transformers import XLMForSequenceClassification, XLMTokenizer, XLMConfig\n",
    "from transformers import DistilBertForSequenceClassification, DistilBertTokenizer, DistilBertConfig\n",
    "\n",
    "MODEL_CLASSES = {\n",
    "    'bert': (BertForSequenceClassification, BertTokenizer, BertConfig),\n",
    "    'xlnet': (XLNetForSequenceClassification, XLNetTokenizer, XLNetConfig),\n",
    "    'xlm': (XLMForSequenceClassification, XLMTokenizer, XLMConfig),\n",
    "    'roberta': (RobertaForSequenceClassification, RobertaTokenizer, RobertaConfig),\n",
    "    'distilbert': (DistilBertForSequenceClassification, DistilBertTokenizer, DistilBertConfig)}\n",
    "\n",
    "model_type = 'distilbert' ###--> CHANGE WHAT MODEL YOU WANT HERE!!! <--###\n",
    "model_class, tokenizer_class, config_class = MODEL_CLASSES[model_type]\n",
    "model_name = 'xlnet-base-cased'"
   ]
  },
  {
   "cell_type": "code",
   "execution_count": 7,
   "metadata": {
    "colab": {},
    "colab_type": "code",
    "id": "9sC5XSh1zJnt"
   },
   "outputs": [],
   "source": [
    "def att_masking(input_ids):\n",
    "    attention_masks = []\n",
    "    for sent in input_ids:\n",
    "        att_mask = [int(token_id > 0) for token_id in sent]\n",
    "        attention_masks.append(att_mask)\n",
    "    return attention_masks"
   ]
  },
  {
   "cell_type": "code",
   "execution_count": 8,
   "metadata": {
    "colab": {},
    "colab_type": "code",
    "id": "5nfgi49TzLIq"
   },
   "outputs": [],
   "source": [
    "def grouped_input_ids(all_toks):\n",
    "    splitted_toks = []\n",
    "    l=0\n",
    "    r=510\n",
    "    while(l<len(all_toks)):\n",
    "        splitted_toks.append(all_toks[l:min(r,len(all_toks))])\n",
    "        l+=410\n",
    "        r+=410\n",
    "\n",
    "    CLS = tokenizer.cls_token\n",
    "    SEP = tokenizer.sep_token\n",
    "    e_sents = []\n",
    "    for l_t in splitted_toks:\n",
    "        l_t = l_t + [SEP] + [CLS]\n",
    "        encoded_sent = tokenizer.convert_tokens_to_ids(l_t)\n",
    "        e_sents.append(encoded_sent)\n",
    "\n",
    "    e_sents = pad_sequences(e_sents, maxlen=512, value=0, dtype=\"long\", padding=\"pre\")\n",
    "    att_masks = att_masking(e_sents)\n",
    "    return e_sents, att_masks"
   ]
  },
  {
   "cell_type": "code",
   "execution_count": 9,
   "metadata": {
    "colab": {},
    "colab_type": "code",
    "id": "JQbPyjPazNMC"
   },
   "outputs": [],
   "source": [
    "def generate_np_files_for_training(dataf, tokenizer):\n",
    "    all_input_ids, all_att_masks, all_labels = [], [], []\n",
    "    for i in progressbar.progressbar(range(len(dataf['text']))):\n",
    "        text = dataf['text'].iloc[i]\n",
    "        toks = tokenizer.tokenize(text)\n",
    "        if(len(toks) > 10000):\n",
    "            toks = toks[len(toks)-10000:]\n",
    "\n",
    "        splitted_input_ids, splitted_att_masks = grouped_input_ids(toks)\n",
    "        doc_label=np.zeros([1])\n",
    "        doc_label[0] = dataf['label'].iloc[i]\n",
    "        #labels = []\n",
    "        #for i in unique_array:\n",
    "        #    if int(doc_label)==i:\n",
    "        #        print(doc_label)\n",
    "        #        labels.append(1)\n",
    "        #    else:\n",
    "        #        labels.append(0)\n",
    "        print(len(splitted_input_ids))\n",
    "        for j in range(len(splitted_input_ids)):\n",
    "            all_input_ids.append(splitted_input_ids[j])\n",
    "            all_att_masks.append(splitted_att_masks[j])\n",
    "            all_labels.append(doc_label)\n",
    "\n",
    "    return all_input_ids, all_att_masks, all_labels"
   ]
  },
  {
   "cell_type": "code",
   "execution_count": 10,
   "metadata": {},
   "outputs": [],
   "source": [
    "from keras.preprocessing.sequence import pad_sequences"
   ]
  },
  {
   "cell_type": "code",
   "execution_count": 35,
   "metadata": {},
   "outputs": [
    {
     "name": "stdout",
     "output_type": "stream",
     "text": [
      "Collecting pad_sequences\n",
      "  Downloading pad-sequences-0.6.1.tar.gz (9.5 kB)\n",
      "  Preparing metadata (setup.py): started\n",
      "  Preparing metadata (setup.py): finished with status 'done'\n",
      "Building wheels for collected packages: pad_sequences\n",
      "  Building wheel for pad_sequences (setup.py): started\n",
      "  Building wheel for pad_sequences (setup.py): finished with status 'done'\n",
      "  Created wheel for pad_sequences: filename=pad_sequences-0.6.1-py3-none-any.whl size=10215 sha256=79ea2ac03f9769ef8883a850445bdc321a42e4acf93cc7c8fdd7214ac4e195a3\n",
      "  Stored in directory: c:\\users\\ayush\\appdata\\local\\pip\\cache\\wheels\\c4\\d9\\67\\a54f34d9d990867c70393d7904a47df2f20f3712c1d246d5f5\n",
      "Successfully built pad_sequences\n",
      "Installing collected packages: pad_sequences\n",
      "Successfully installed pad_sequences-0.6.1\n"
     ]
    }
   ],
   "source": [
    "!pip install pad_sequences"
   ]
  },
  {
   "cell_type": "code",
   "execution_count": 11,
   "metadata": {
    "colab": {
     "base_uri": "https://localhost:8080/",
     "height": 83,
     "referenced_widgets": [
      "7145e4f4dece4c929b62807e9c46d7aa",
      "a84fc0fab6034384b029fec594c8e16b",
      "68fe1cf27d7b494f9c1cf78e5ad127ea",
      "b135242c8bee428695fe1096109fc4be",
      "709bbb69a7f943bda072abc10860a962",
      "90a56453bb264e03a793db8a1c21aaaa",
      "e0c8d6f7e2044496bc9c028433968465",
      "4d4176229eab45a0bebaa41b34f5fad6"
     ]
    },
    "colab_type": "code",
    "id": "yzkX4ggrzO8t",
    "outputId": "b755f093-c706-45b2-93bc-80c9f213eeea"
   },
   "outputs": [
    {
     "name": "stderr",
     "output_type": "stream",
     "text": [
      "C:\\Users\\ayush\\anaconda3\\envs\\tf-gpc\\lib\\site-packages\\transformers\\generation_utils.py:24: FutureWarning: Importing `GenerationMixin` from `src/transformers/generation_utils.py` is deprecated and will be removed in Transformers v5. Import as `from transformers import GenerationMixin` instead.\n",
      "  warnings.warn(\n",
      "C:\\Users\\ayush\\anaconda3\\envs\\tf-gpc\\lib\\site-packages\\transformers\\generation_tf_utils.py:24: FutureWarning: Importing `TFGenerationMixin` from `src/transformers/generation_tf_utils.py` is deprecated and will be removed in Transformers v5. Import as `from transformers import TFGenerationMixin` instead.\n",
      "  warnings.warn(\n",
      "C:\\Users\\ayush\\anaconda3\\envs\\tf-gpc\\lib\\site-packages\\torchaudio\\backend\\utils.py:74: UserWarning: No audio backend is available.\n",
      "  warnings.warn(\"No audio backend is available.\")\n",
      "loading file vocab.txt\n",
      "loading file added_tokens.json\n",
      "loading file special_tokens_map.json\n",
      "loading file tokenizer_config.json\n",
      "  0% (2 of 5082) |                       | Elapsed Time: 0:00:00 ETA:   0:05:58"
     ]
    },
    {
     "name": "stdout",
     "output_type": "stream",
     "text": [
      "15\n",
      "16\n",
      "10\n",
      "12\n"
     ]
    },
    {
     "name": "stderr",
     "output_type": "stream",
     "text": [
      "  0% (8 of 5082) |                       | Elapsed Time: 0:00:00 ETA:   0:04:30"
     ]
    },
    {
     "name": "stdout",
     "output_type": "stream",
     "text": [
      "15\n",
      "3\n",
      "15\n",
      "11\n"
     ]
    },
    {
     "name": "stderr",
     "output_type": "stream",
     "text": [
      "  0% (12 of 5082) |                      | Elapsed Time: 0:00:00 ETA:   0:04:53"
     ]
    },
    {
     "name": "stdout",
     "output_type": "stream",
     "text": [
      "24\n",
      "7\n",
      "6\n",
      "18\n",
      "3\n"
     ]
    },
    {
     "name": "stderr",
     "output_type": "stream",
     "text": [
      "  0% (19 of 5082) |                      | Elapsed Time: 0:00:01 ETA:   0:04:31"
     ]
    },
    {
     "name": "stdout",
     "output_type": "stream",
     "text": [
      "25\n",
      "2\n",
      "2\n",
      "7\n",
      "1\n",
      "16\n",
      "16\n"
     ]
    },
    {
     "name": "stderr",
     "output_type": "stream",
     "text": [
      "  0% (24 of 5082) |                      | Elapsed Time: 0:00:01 ETA:   0:04:40"
     ]
    },
    {
     "name": "stdout",
     "output_type": "stream",
     "text": [
      "4\n",
      "21\n",
      "9\n",
      "8\n",
      "3\n",
      "16\n"
     ]
    },
    {
     "name": "stderr",
     "output_type": "stream",
     "text": [
      "  0% (28 of 5082) |                      | Elapsed Time: 0:00:01 ETA:   0:05:58"
     ]
    },
    {
     "name": "stdout",
     "output_type": "stream",
     "text": [
      "25\n",
      "25\n"
     ]
    },
    {
     "name": "stderr",
     "output_type": "stream",
     "text": [
      "  0% (32 of 5082) |                      | Elapsed Time: 0:00:02 ETA:   0:05:49"
     ]
    },
    {
     "name": "stdout",
     "output_type": "stream",
     "text": [
      "13\n",
      "9\n",
      "10\n",
      "16\n",
      "7\n",
      "4\n"
     ]
    },
    {
     "name": "stderr",
     "output_type": "stream",
     "text": [
      "  0% (36 of 5082) |                      | Elapsed Time: 0:00:02 ETA:   0:06:09"
     ]
    },
    {
     "name": "stdout",
     "output_type": "stream",
     "text": [
      "13\n",
      "25\n",
      "9\n"
     ]
    },
    {
     "name": "stderr",
     "output_type": "stream",
     "text": [
      "  0% (41 of 5082) |                      | Elapsed Time: 0:00:02 ETA:   0:05:58"
     ]
    },
    {
     "name": "stdout",
     "output_type": "stream",
     "text": [
      "13\n",
      "10\n",
      "7\n",
      "20\n"
     ]
    },
    {
     "name": "stderr",
     "output_type": "stream",
     "text": [
      "\r",
      "  0% (42 of 5082) |                      | Elapsed Time: 0:00:02 ETA:   0:06:04"
     ]
    },
    {
     "name": "stdout",
     "output_type": "stream",
     "text": [
      "25\n",
      "12\n"
     ]
    },
    {
     "name": "stderr",
     "output_type": "stream",
     "text": [
      "  0% (46 of 5082) |                      | Elapsed Time: 0:00:03 ETA:   0:08:14"
     ]
    },
    {
     "name": "stdout",
     "output_type": "stream",
     "text": [
      "25\n",
      "21\n",
      "12\n"
     ]
    },
    {
     "name": "stderr",
     "output_type": "stream",
     "text": [
      "\r",
      "  0% (50 of 5082) |                      | Elapsed Time: 0:00:03 ETA:   0:07:27"
     ]
    },
    {
     "name": "stdout",
     "output_type": "stream",
     "text": [
      "10\n",
      "9\n",
      "3\n",
      "12\n",
      "12\n",
      "14\n"
     ]
    },
    {
     "name": "stderr",
     "output_type": "stream",
     "text": [
      "  1% (58 of 5082) |                      | Elapsed Time: 0:00:04 ETA:   0:05:37"
     ]
    },
    {
     "name": "stdout",
     "output_type": "stream",
     "text": [
      "12\n",
      "12\n",
      "8\n",
      "6\n",
      "6\n",
      "12\n",
      "7\n"
     ]
    },
    {
     "name": "stderr",
     "output_type": "stream",
     "text": [
      "  1% (62 of 5082) |                      | Elapsed Time: 0:00:04 ETA:   0:06:28"
     ]
    },
    {
     "name": "stdout",
     "output_type": "stream",
     "text": [
      "25\n",
      "11\n",
      "13\n"
     ]
    },
    {
     "name": "stderr",
     "output_type": "stream",
     "text": [
      "  1% (65 of 5082) |                      | Elapsed Time: 0:00:04 ETA:   0:07:56"
     ]
    },
    {
     "name": "stdout",
     "output_type": "stream",
     "text": [
      "25\n",
      "10\n",
      "7\n",
      "12\n",
      "8\n"
     ]
    },
    {
     "name": "stderr",
     "output_type": "stream",
     "text": [
      "  1% (70 of 5082) |                      | Elapsed Time: 0:00:05 ETA:   0:07:02"
     ]
    },
    {
     "name": "stdout",
     "output_type": "stream",
     "text": [
      "25\n",
      "9\n",
      "21\n"
     ]
    },
    {
     "name": "stderr",
     "output_type": "stream",
     "text": [
      "\r",
      "  1% (71 of 5082) |                      | Elapsed Time: 0:00:05 ETA:   0:06:28"
     ]
    },
    {
     "name": "stdout",
     "output_type": "stream",
     "text": [
      "25\n",
      "15\n",
      "8\n"
     ]
    },
    {
     "name": "stderr",
     "output_type": "stream",
     "text": [
      "  1% (76 of 5082) |                      | Elapsed Time: 0:00:05 ETA:   0:07:13"
     ]
    },
    {
     "name": "stdout",
     "output_type": "stream",
     "text": [
      "25\n",
      "9\n",
      "25\n"
     ]
    },
    {
     "name": "stderr",
     "output_type": "stream",
     "text": [
      "  1% (79 of 5082) |                      | Elapsed Time: 0:00:06 ETA:   0:08:05"
     ]
    },
    {
     "name": "stdout",
     "output_type": "stream",
     "text": [
      "9\n",
      "13\n",
      "17\n"
     ]
    },
    {
     "name": "stderr",
     "output_type": "stream",
     "text": [
      "  1% (82 of 5082) |                      | Elapsed Time: 0:00:06 ETA:   0:07:54"
     ]
    },
    {
     "name": "stdout",
     "output_type": "stream",
     "text": [
      "23\n",
      "17\n",
      "7\n",
      "15\n"
     ]
    },
    {
     "name": "stderr",
     "output_type": "stream",
     "text": [
      "  1% (86 of 5082) |                      | Elapsed Time: 0:00:06 ETA:   0:07:11"
     ]
    },
    {
     "name": "stdout",
     "output_type": "stream",
     "text": [
      "17\n",
      "9\n",
      "23\n"
     ]
    },
    {
     "name": "stderr",
     "output_type": "stream",
     "text": [
      "  1% (89 of 5082) |                      | Elapsed Time: 0:00:06 ETA:   0:07:06"
     ]
    },
    {
     "name": "stdout",
     "output_type": "stream",
     "text": [
      "23\n",
      "16\n",
      "12\n"
     ]
    },
    {
     "name": "stderr",
     "output_type": "stream",
     "text": [
      "  1% (91 of 5082) |                      | Elapsed Time: 0:00:07 ETA:   0:06:48"
     ]
    },
    {
     "name": "stdout",
     "output_type": "stream",
     "text": [
      "25\n",
      "25\n"
     ]
    },
    {
     "name": "stderr",
     "output_type": "stream",
     "text": [
      "  1% (94 of 5082) |                      | Elapsed Time: 0:00:07 ETA:   0:07:18"
     ]
    },
    {
     "name": "stdout",
     "output_type": "stream",
     "text": [
      "25\n",
      "13\n",
      "17\n",
      "15\n",
      "10\n"
     ]
    },
    {
     "name": "stderr",
     "output_type": "stream",
     "text": [
      "  1% (99 of 5082) |                      | Elapsed Time: 0:00:07 ETA:   0:07:07"
     ]
    },
    {
     "name": "stdout",
     "output_type": "stream",
     "text": [
      "19\n",
      "8\n",
      "24\n"
     ]
    },
    {
     "name": "stderr",
     "output_type": "stream",
     "text": [
      "\r",
      "  1% (100 of 5082) |                     | Elapsed Time: 0:00:07 ETA:   0:07:43"
     ]
    },
    {
     "name": "stdout",
     "output_type": "stream",
     "text": [
      "25\n"
     ]
    },
    {
     "name": "stderr",
     "output_type": "stream",
     "text": [
      "  2% (103 of 5082) |                     | Elapsed Time: 0:00:08 ETA:   0:09:13"
     ]
    },
    {
     "name": "stdout",
     "output_type": "stream",
     "text": [
      "25\n",
      "11\n",
      "12\n",
      "22\n"
     ]
    },
    {
     "name": "stderr",
     "output_type": "stream",
     "text": [
      "  2% (106 of 5082) |                     | Elapsed Time: 0:00:08 ETA:   0:09:13"
     ]
    },
    {
     "name": "stdout",
     "output_type": "stream",
     "text": [
      "10\n",
      "17\n",
      "2\n",
      "10\n"
     ]
    },
    {
     "name": "stderr",
     "output_type": "stream",
     "text": [
      "  2% (111 of 5082) |                     | Elapsed Time: 0:00:09 ETA:   0:08:25"
     ]
    },
    {
     "name": "stdout",
     "output_type": "stream",
     "text": [
      "25\n",
      "10\n",
      "10\n",
      "6\n"
     ]
    },
    {
     "name": "stderr",
     "output_type": "stream",
     "text": [
      "  2% (114 of 5082) |                     | Elapsed Time: 0:00:09 ETA:   0:08:27"
     ]
    },
    {
     "name": "stdout",
     "output_type": "stream",
     "text": [
      "18\n",
      "25\n"
     ]
    },
    {
     "name": "stderr",
     "output_type": "stream",
     "text": [
      "\r",
      "  2% (116 of 5082) |                     | Elapsed Time: 0:00:09 ETA:   0:08:31"
     ]
    },
    {
     "name": "stdout",
     "output_type": "stream",
     "text": [
      "12\n",
      "13\n",
      "13\n",
      "2\n",
      "12\n"
     ]
    },
    {
     "name": "stderr",
     "output_type": "stream",
     "text": [
      "  2% (124 of 5082) |                     | Elapsed Time: 0:00:09 ETA:   0:07:08"
     ]
    },
    {
     "name": "stdout",
     "output_type": "stream",
     "text": [
      "4\n",
      "19\n",
      "12\n",
      "6\n",
      "5\n"
     ]
    },
    {
     "name": "stderr",
     "output_type": "stream",
     "text": [
      "  2% (128 of 5082) |                     | Elapsed Time: 0:00:10 ETA:   0:06:40"
     ]
    },
    {
     "name": "stdout",
     "output_type": "stream",
     "text": [
      "25\n",
      "9\n",
      "6\n",
      "11\n"
     ]
    },
    {
     "name": "stderr",
     "output_type": "stream",
     "text": [
      "  2% (131 of 5082) |                     | Elapsed Time: 0:00:10 ETA:   0:05:36"
     ]
    },
    {
     "name": "stdout",
     "output_type": "stream",
     "text": [
      "15\n",
      "15\n",
      "9\n",
      "11\n"
     ]
    },
    {
     "name": "stderr",
     "output_type": "stream",
     "text": [
      "  2% (135 of 5082) |                     | Elapsed Time: 0:00:10 ETA:   0:05:26"
     ]
    },
    {
     "name": "stdout",
     "output_type": "stream",
     "text": [
      "18\n",
      "12\n",
      "18\n",
      "10\n"
     ]
    },
    {
     "name": "stderr",
     "output_type": "stream",
     "text": [
      "  2% (142 of 5082) |                     | Elapsed Time: 0:00:11 ETA:   0:05:04"
     ]
    },
    {
     "name": "stdout",
     "output_type": "stream",
     "text": [
      "10\n",
      "14\n",
      "11\n",
      "5\n",
      "7\n",
      "13\n"
     ]
    },
    {
     "name": "stderr",
     "output_type": "stream",
     "text": [
      "  2% (147 of 5082) |                     | Elapsed Time: 0:00:11 ETA:   0:04:46"
     ]
    },
    {
     "name": "stdout",
     "output_type": "stream",
     "text": [
      "13\n",
      "12\n",
      "11\n",
      "6\n",
      "15\n",
      "1\n",
      "6\n"
     ]
    },
    {
     "name": "stderr",
     "output_type": "stream",
     "text": [
      "  3% (154 of 5082) |                     | Elapsed Time: 0:00:11 ETA:   0:04:07"
     ]
    },
    {
     "name": "stdout",
     "output_type": "stream",
     "text": [
      "10\n",
      "7\n",
      "10\n",
      "10\n",
      "11\n"
     ]
    },
    {
     "name": "stderr",
     "output_type": "stream",
     "text": [
      "  3% (160 of 5082) |                     | Elapsed Time: 0:00:11 ETA:   0:03:55"
     ]
    },
    {
     "name": "stdout",
     "output_type": "stream",
     "text": [
      "16\n",
      "10\n",
      "6\n",
      "6\n",
      "8\n",
      "9\n",
      "5\n"
     ]
    },
    {
     "name": "stderr",
     "output_type": "stream",
     "text": [
      "  3% (165 of 5082) |                     | Elapsed Time: 0:00:12 ETA:   0:04:11"
     ]
    },
    {
     "name": "stdout",
     "output_type": "stream",
     "text": [
      "7\n",
      "2\n",
      "25\n",
      "25\n"
     ]
    },
    {
     "name": "stderr",
     "output_type": "stream",
     "text": [
      "\r",
      "  3% (167 of 5082) |                     | Elapsed Time: 0:00:12 ETA:   0:04:04"
     ]
    },
    {
     "name": "stdout",
     "output_type": "stream",
     "text": [
      "4\n",
      "25\n"
     ]
    },
    {
     "name": "stderr",
     "output_type": "stream",
     "text": [
      "\r",
      "  3% (168 of 5082) |                     | Elapsed Time: 0:00:12 ETA:   0:04:16"
     ]
    },
    {
     "name": "stdout",
     "output_type": "stream",
     "text": [
      "25\n",
      "25\n"
     ]
    },
    {
     "name": "stderr",
     "output_type": "stream",
     "text": [
      "  3% (172 of 5082) |                     | Elapsed Time: 0:00:12 ETA:   0:04:25"
     ]
    },
    {
     "name": "stdout",
     "output_type": "stream",
     "text": [
      "9\n",
      "8\n",
      "8\n",
      "8\n",
      "10\n"
     ]
    },
    {
     "name": "stderr",
     "output_type": "stream",
     "text": [
      "  3% (178 of 5082) |                     | Elapsed Time: 0:00:12 ETA:   0:04:21"
     ]
    },
    {
     "name": "stdout",
     "output_type": "stream",
     "text": [
      "25\n",
      "8\n",
      "9\n",
      "11\n",
      "8\n"
     ]
    },
    {
     "name": "stderr",
     "output_type": "stream",
     "text": [
      "  3% (182 of 5082) |                     | Elapsed Time: 0:00:13 ETA:   0:04:43"
     ]
    },
    {
     "name": "stdout",
     "output_type": "stream",
     "text": [
      "22\n",
      "15\n",
      "22\n",
      "6\n",
      "5\n",
      "6\n"
     ]
    },
    {
     "name": "stderr",
     "output_type": "stream",
     "text": [
      "  3% (189 of 5082) |                     | Elapsed Time: 0:00:13 ETA:   0:04:51"
     ]
    },
    {
     "name": "stdout",
     "output_type": "stream",
     "text": [
      "24\n",
      "6\n",
      "12\n",
      "9\n"
     ]
    },
    {
     "name": "stderr",
     "output_type": "stream",
     "text": [
      "\r",
      "  3% (190 of 5082) |                     | Elapsed Time: 0:00:13 ETA:   0:05:00"
     ]
    },
    {
     "name": "stdout",
     "output_type": "stream",
     "text": [
      "25\n"
     ]
    },
    {
     "name": "stderr",
     "output_type": "stream",
     "text": [
      "\r",
      "  3% (191 of 5082) |                     | Elapsed Time: 0:00:14 ETA:   0:06:14"
     ]
    },
    {
     "name": "stdout",
     "output_type": "stream",
     "text": [
      "25\n",
      "11\n"
     ]
    },
    {
     "name": "stderr",
     "output_type": "stream",
     "text": [
      "  3% (195 of 5082) |                     | Elapsed Time: 0:00:14 ETA:   0:06:15"
     ]
    },
    {
     "name": "stdout",
     "output_type": "stream",
     "text": [
      "25\n",
      "14\n",
      "11\n",
      "9\n"
     ]
    },
    {
     "name": "stderr",
     "output_type": "stream",
     "text": [
      "  3% (200 of 5082) |                     | Elapsed Time: 0:00:14 ETA:   0:05:31"
     ]
    },
    {
     "name": "stdout",
     "output_type": "stream",
     "text": [
      "17\n",
      "6\n",
      "10\n",
      "8\n",
      "10\n"
     ]
    },
    {
     "name": "stderr",
     "output_type": "stream",
     "text": [
      "  4% (204 of 5082) |                     | Elapsed Time: 0:00:14 ETA:   0:05:42"
     ]
    },
    {
     "name": "stdout",
     "output_type": "stream",
     "text": [
      "19\n",
      "19\n",
      "9\n",
      "10\n"
     ]
    },
    {
     "name": "stderr",
     "output_type": "stream",
     "text": [
      "  4% (208 of 5082) |                     | Elapsed Time: 0:00:15 ETA:   0:05:48"
     ]
    },
    {
     "name": "stdout",
     "output_type": "stream",
     "text": [
      "16\n",
      "14\n",
      "17\n",
      "12\n",
      "5\n"
     ]
    },
    {
     "name": "stderr",
     "output_type": "stream",
     "text": [
      "  4% (212 of 5082) |                     | Elapsed Time: 0:00:15 ETA:   0:05:47"
     ]
    },
    {
     "name": "stdout",
     "output_type": "stream",
     "text": [
      "8\n",
      "25\n",
      "7\n"
     ]
    },
    {
     "name": "stderr",
     "output_type": "stream",
     "text": [
      "  4% (216 of 5082) |                     | Elapsed Time: 0:00:16 ETA:   0:07:09"
     ]
    },
    {
     "name": "stdout",
     "output_type": "stream",
     "text": [
      "25\n",
      "21\n",
      "18\n"
     ]
    },
    {
     "name": "stderr",
     "output_type": "stream",
     "text": [
      "\r",
      "  4% (218 of 5082) |                     | Elapsed Time: 0:00:16 ETA:   0:07:23"
     ]
    },
    {
     "name": "stdout",
     "output_type": "stream",
     "text": [
      "13\n",
      "19\n",
      "10\n",
      "6\n"
     ]
    },
    {
     "name": "stderr",
     "output_type": "stream",
     "text": [
      "  4% (223 of 5082) |                     | Elapsed Time: 0:00:16 ETA:   0:08:13"
     ]
    },
    {
     "name": "stdout",
     "output_type": "stream",
     "text": [
      "25\n",
      "12\n",
      "13\n",
      "7\n",
      "7\n"
     ]
    },
    {
     "name": "stderr",
     "output_type": "stream",
     "text": [
      "  4% (228 of 5082) |                     | Elapsed Time: 0:00:17 ETA:   0:07:49"
     ]
    },
    {
     "name": "stdout",
     "output_type": "stream",
     "text": [
      "14\n",
      "15\n",
      "12\n"
     ]
    },
    {
     "name": "stderr",
     "output_type": "stream",
     "text": [
      "  4% (232 of 5082) |                     | Elapsed Time: 0:00:17 ETA:   0:08:12"
     ]
    },
    {
     "name": "stdout",
     "output_type": "stream",
     "text": [
      "25\n",
      "13\n",
      "8\n",
      "15\n"
     ]
    },
    {
     "name": "stderr",
     "output_type": "stream",
     "text": [
      "\r",
      "  4% (233 of 5082) |                     | Elapsed Time: 0:00:17 ETA:   0:08:15"
     ]
    },
    {
     "name": "stdout",
     "output_type": "stream",
     "text": [
      "25\n",
      "7\n",
      "12\n"
     ]
    },
    {
     "name": "stderr",
     "output_type": "stream",
     "text": [
      "\r",
      "  4% (236 of 5082) |                     | Elapsed Time: 0:00:18 ETA:   0:08:44"
     ]
    },
    {
     "name": "stdout",
     "output_type": "stream",
     "text": [
      "25\n",
      "15\n",
      "7\n"
     ]
    },
    {
     "name": "stderr",
     "output_type": "stream",
     "text": [
      "\r",
      "  4% (239 of 5082) |                     | Elapsed Time: 0:00:18 ETA:   0:08:36"
     ]
    },
    {
     "name": "stdout",
     "output_type": "stream",
     "text": [
      "25\n"
     ]
    },
    {
     "name": "stderr",
     "output_type": "stream",
     "text": [
      "  4% (242 of 5082) |#                    | Elapsed Time: 0:00:19 ETA:   0:11:42"
     ]
    },
    {
     "name": "stdout",
     "output_type": "stream",
     "text": [
      "25\n",
      "16\n",
      "15\n",
      "5\n",
      "7\n"
     ]
    },
    {
     "name": "stderr",
     "output_type": "stream",
     "text": [
      "  4% (248 of 5082) |#                    | Elapsed Time: 0:00:19 ETA:   0:10:21"
     ]
    },
    {
     "name": "stdout",
     "output_type": "stream",
     "text": [
      "14\n",
      "7\n",
      "16\n",
      "25\n"
     ]
    },
    {
     "name": "stderr",
     "output_type": "stream",
     "text": [
      "\r",
      "  4% (250 of 5082) |#                    | Elapsed Time: 0:00:19 ETA:   0:09:44"
     ]
    },
    {
     "name": "stdout",
     "output_type": "stream",
     "text": [
      "16\n",
      "11\n"
     ]
    },
    {
     "name": "stderr",
     "output_type": "stream",
     "text": [
      "  4% (253 of 5082) |#                    | Elapsed Time: 0:00:19 ETA:   0:09:28"
     ]
    },
    {
     "name": "stdout",
     "output_type": "stream",
     "text": [
      "25\n",
      "13\n",
      "9\n",
      "11\n"
     ]
    },
    {
     "name": "stderr",
     "output_type": "stream",
     "text": [
      "  5% (259 of 5082) |#                    | Elapsed Time: 0:00:20 ETA:   0:08:14"
     ]
    },
    {
     "name": "stdout",
     "output_type": "stream",
     "text": [
      "15\n",
      "4\n",
      "8\n",
      "10\n",
      "22\n"
     ]
    },
    {
     "name": "stderr",
     "output_type": "stream",
     "text": [
      "  5% (262 of 5082) |#                    | Elapsed Time: 0:00:20 ETA:   0:08:05"
     ]
    },
    {
     "name": "stdout",
     "output_type": "stream",
     "text": [
      "25\n",
      "11\n",
      "8\n",
      "21\n"
     ]
    },
    {
     "name": "stderr",
     "output_type": "stream",
     "text": [
      "  5% (266 of 5082) |#                    | Elapsed Time: 0:00:20 ETA:   0:05:58"
     ]
    },
    {
     "name": "stdout",
     "output_type": "stream",
     "text": [
      "13\n",
      "5\n",
      "15\n"
     ]
    },
    {
     "name": "stderr",
     "output_type": "stream",
     "text": [
      "  5% (270 of 5082) |#                    | Elapsed Time: 0:00:21 ETA:   0:05:21"
     ]
    },
    {
     "name": "stdout",
     "output_type": "stream",
     "text": [
      "16\n",
      "12\n",
      "18\n",
      "16\n"
     ]
    },
    {
     "name": "stderr",
     "output_type": "stream",
     "text": [
      "  5% (273 of 5082) |#                    | Elapsed Time: 0:00:21 ETA:   0:07:20"
     ]
    },
    {
     "name": "stdout",
     "output_type": "stream",
     "text": [
      "25\n",
      "16\n",
      "14\n",
      "18\n"
     ]
    },
    {
     "name": "stderr",
     "output_type": "stream",
     "text": [
      "\r",
      "  5% (275 of 5082) |#                    | Elapsed Time: 0:00:21 ETA:   0:07:01"
     ]
    },
    {
     "name": "stdout",
     "output_type": "stream",
     "text": [
      "18\n",
      "16\n"
     ]
    },
    {
     "name": "stderr",
     "output_type": "stream",
     "text": [
      "  5% (280 of 5082) |#                    | Elapsed Time: 0:00:22 ETA:   0:08:03"
     ]
    },
    {
     "name": "stdout",
     "output_type": "stream",
     "text": [
      "25\n",
      "12\n",
      "9\n",
      "14\n",
      "9\n"
     ]
    },
    {
     "name": "stderr",
     "output_type": "stream",
     "text": [
      "\r",
      "  5% (282 of 5082) |#                    | Elapsed Time: 0:00:22 ETA:   0:07:32"
     ]
    },
    {
     "name": "stdout",
     "output_type": "stream",
     "text": [
      "13\n",
      "6\n",
      "25\n"
     ]
    },
    {
     "name": "stderr",
     "output_type": "stream",
     "text": [
      "  5% (286 of 5082) |#                    | Elapsed Time: 0:00:22 ETA:   0:08:05"
     ]
    },
    {
     "name": "stdout",
     "output_type": "stream",
     "text": [
      "9\n",
      "14\n",
      "9\n",
      "10\n",
      "6\n"
     ]
    },
    {
     "name": "stderr",
     "output_type": "stream",
     "text": [
      "  5% (292 of 5082) |#                    | Elapsed Time: 0:00:23 ETA:   0:07:42"
     ]
    },
    {
     "name": "stdout",
     "output_type": "stream",
     "text": [
      "25\n",
      "7\n",
      "19\n"
     ]
    },
    {
     "name": "stderr",
     "output_type": "stream",
     "text": [
      "  5% (294 of 5082) |#                    | Elapsed Time: 0:00:23 ETA:   0:08:19"
     ]
    },
    {
     "name": "stdout",
     "output_type": "stream",
     "text": [
      "25\n",
      "25\n",
      "14\n"
     ]
    },
    {
     "name": "stderr",
     "output_type": "stream",
     "text": [
      "  5% (298 of 5082) |#                    | Elapsed Time: 0:00:23 ETA:   0:06:42"
     ]
    },
    {
     "name": "stdout",
     "output_type": "stream",
     "text": [
      "21\n",
      "20\n",
      "7\n",
      "6\n"
     ]
    },
    {
     "name": "stderr",
     "output_type": "stream",
     "text": [
      "  5% (302 of 5082) |#                    | Elapsed Time: 0:00:24 ETA:   0:06:17"
     ]
    },
    {
     "name": "stdout",
     "output_type": "stream",
     "text": [
      "16\n",
      "12\n",
      "17\n",
      "19\n"
     ]
    },
    {
     "name": "stderr",
     "output_type": "stream",
     "text": [
      "  6% (306 of 5082) |#                    | Elapsed Time: 0:00:24 ETA:   0:05:50"
     ]
    },
    {
     "name": "stdout",
     "output_type": "stream",
     "text": [
      "5\n",
      "8\n",
      "25\n"
     ]
    },
    {
     "name": "stderr",
     "output_type": "stream",
     "text": [
      "  6% (310 of 5082) |#                    | Elapsed Time: 0:00:24 ETA:   0:06:07"
     ]
    },
    {
     "name": "stdout",
     "output_type": "stream",
     "text": [
      "22\n",
      "15\n",
      "5\n",
      "19\n"
     ]
    },
    {
     "name": "stderr",
     "output_type": "stream",
     "text": [
      "\r",
      "  6% (312 of 5082) |#                    | Elapsed Time: 0:00:24 ETA:   0:05:48"
     ]
    },
    {
     "name": "stdout",
     "output_type": "stream",
     "text": [
      "11\n",
      "13\n",
      "8\n",
      "8\n",
      "25\n"
     ]
    },
    {
     "name": "stderr",
     "output_type": "stream",
     "text": [
      "  6% (319 of 5082) |#                    | Elapsed Time: 0:00:25 ETA:   0:05:56"
     ]
    },
    {
     "name": "stdout",
     "output_type": "stream",
     "text": [
      "16\n",
      "15\n",
      "19\n",
      "13\n"
     ]
    },
    {
     "name": "stderr",
     "output_type": "stream",
     "text": [
      "\r",
      "  6% (321 of 5082) |#                    | Elapsed Time: 0:00:25 ETA:   0:05:40"
     ]
    },
    {
     "name": "stdout",
     "output_type": "stream",
     "text": [
      "16\n",
      "25\n",
      "7\n",
      "7\n"
     ]
    },
    {
     "name": "stderr",
     "output_type": "stream",
     "text": [
      "  6% (326 of 5082) |#                    | Elapsed Time: 0:00:25 ETA:   0:05:22"
     ]
    },
    {
     "name": "stdout",
     "output_type": "stream",
     "text": [
      "16\n",
      "15\n",
      "17\n",
      "5\n"
     ]
    },
    {
     "name": "stderr",
     "output_type": "stream",
     "text": [
      "\r",
      "  6% (329 of 5082) |#                    | Elapsed Time: 0:00:25 ETA:   0:05:18"
     ]
    },
    {
     "name": "stdout",
     "output_type": "stream",
     "text": [
      "6\n",
      "25\n",
      "4\n",
      "7\n"
     ]
    },
    {
     "name": "stderr",
     "output_type": "stream",
     "text": [
      "  6% (335 of 5082) |#                    | Elapsed Time: 0:00:26 ETA:   0:05:32"
     ]
    },
    {
     "name": "stdout",
     "output_type": "stream",
     "text": [
      "25\n",
      "10\n",
      "6\n",
      "11\n",
      "10\n"
     ]
    },
    {
     "name": "stderr",
     "output_type": "stream",
     "text": [
      "  6% (339 of 5082) |#                    | Elapsed Time: 0:00:26 ETA:   0:05:14"
     ]
    },
    {
     "name": "stdout",
     "output_type": "stream",
     "text": [
      "16\n",
      "10\n",
      "17\n",
      "8\n"
     ]
    },
    {
     "name": "stderr",
     "output_type": "stream",
     "text": [
      "  6% (345 of 5082) |#                    | Elapsed Time: 0:00:26 ETA:   0:05:25"
     ]
    },
    {
     "name": "stdout",
     "output_type": "stream",
     "text": [
      "25\n",
      "3\n",
      "6\n",
      "7\n",
      "16\n",
      "8\n",
      "11\n"
     ]
    },
    {
     "name": "stderr",
     "output_type": "stream",
     "text": [
      "  6% (350 of 5082) |#                    | Elapsed Time: 0:00:27 ETA:   0:05:07"
     ]
    },
    {
     "name": "stdout",
     "output_type": "stream",
     "text": [
      "5\n",
      "14\n",
      "14\n"
     ]
    },
    {
     "name": "stderr",
     "output_type": "stream",
     "text": [
      "  6% (354 of 5082) |#                    | Elapsed Time: 0:00:27 ETA:   0:04:48"
     ]
    },
    {
     "name": "stdout",
     "output_type": "stream",
     "text": [
      "24\n",
      "11\n",
      "5\n",
      "7\n",
      "20\n"
     ]
    },
    {
     "name": "stderr",
     "output_type": "stream",
     "text": [
      "  7% (360 of 5082) |#                    | Elapsed Time: 0:00:27 ETA:   0:04:42"
     ]
    },
    {
     "name": "stdout",
     "output_type": "stream",
     "text": [
      "14\n",
      "5\n",
      "9\n",
      "6\n",
      "23\n"
     ]
    },
    {
     "name": "stderr",
     "output_type": "stream",
     "text": [
      "\r",
      "  7% (363 of 5082) |#                    | Elapsed Time: 0:00:27 ETA:   0:04:33"
     ]
    },
    {
     "name": "stdout",
     "output_type": "stream",
     "text": [
      "7\n",
      "13\n",
      "4\n",
      "13\n",
      "8\n"
     ]
    },
    {
     "name": "stderr",
     "output_type": "stream",
     "text": [
      "  7% (369 of 5082) |#                    | Elapsed Time: 0:00:28 ETA:   0:04:27"
     ]
    },
    {
     "name": "stdout",
     "output_type": "stream",
     "text": [
      "7\n",
      "15\n",
      "6\n",
      "17\n",
      "13\n"
     ]
    },
    {
     "name": "stderr",
     "output_type": "stream",
     "text": [
      "  7% (374 of 5082) |#                    | Elapsed Time: 0:00:28 ETA:   0:04:09"
     ]
    },
    {
     "name": "stdout",
     "output_type": "stream",
     "text": [
      "11\n",
      "5\n",
      "11\n",
      "11\n",
      "10\n"
     ]
    },
    {
     "name": "stderr",
     "output_type": "stream",
     "text": [
      "  7% (379 of 5082) |#                    | Elapsed Time: 0:00:28 ETA:   0:04:03"
     ]
    },
    {
     "name": "stdout",
     "output_type": "stream",
     "text": [
      "15\n",
      "7\n",
      "9\n",
      "11\n",
      "6\n",
      "7\n",
      "9\n"
     ]
    },
    {
     "name": "stderr",
     "output_type": "stream",
     "text": [
      "  7% (386 of 5082) |#                    | Elapsed Time: 0:00:28 ETA:   0:03:33"
     ]
    },
    {
     "name": "stdout",
     "output_type": "stream",
     "text": [
      "5\n",
      "11\n",
      "11\n",
      "10\n",
      "9\n"
     ]
    },
    {
     "name": "stderr",
     "output_type": "stream",
     "text": [
      "\r",
      "  7% (389 of 5082) |#                    | Elapsed Time: 0:00:29 ETA:   0:03:49"
     ]
    },
    {
     "name": "stdout",
     "output_type": "stream",
     "text": [
      "10\n",
      "25\n",
      "5\n",
      "8\n",
      "8\n"
     ]
    },
    {
     "name": "stderr",
     "output_type": "stream",
     "text": [
      "  7% (395 of 5082) |#                    | Elapsed Time: 0:00:29 ETA:   0:03:43"
     ]
    },
    {
     "name": "stdout",
     "output_type": "stream",
     "text": [
      "11\n",
      "18\n",
      "18\n",
      "7\n"
     ]
    },
    {
     "name": "stderr",
     "output_type": "stream",
     "text": [
      "  7% (402 of 5082) |#                    | Elapsed Time: 0:00:29 ETA:   0:03:30"
     ]
    },
    {
     "name": "stdout",
     "output_type": "stream",
     "text": [
      "15\n",
      "5\n",
      "4\n",
      "7\n",
      "11\n",
      "6\n",
      "7\n"
     ]
    },
    {
     "name": "stderr",
     "output_type": "stream",
     "text": [
      "  8% (407 of 5082) |#                    | Elapsed Time: 0:00:29 ETA:   0:03:32"
     ]
    },
    {
     "name": "stdout",
     "output_type": "stream",
     "text": [
      "21\n",
      "4\n",
      "15\n",
      "3\n",
      "8\n",
      "8\n"
     ]
    },
    {
     "name": "stderr",
     "output_type": "stream",
     "text": [
      "  8% (414 of 5082) |#                    | Elapsed Time: 0:00:30 ETA:   0:03:27"
     ]
    },
    {
     "name": "stdout",
     "output_type": "stream",
     "text": [
      "14\n",
      "7\n",
      "8\n",
      "1\n",
      "14\n",
      "17\n"
     ]
    },
    {
     "name": "stderr",
     "output_type": "stream",
     "text": [
      "  8% (420 of 5082) |#                    | Elapsed Time: 0:00:30 ETA:   0:03:17"
     ]
    },
    {
     "name": "stdout",
     "output_type": "stream",
     "text": [
      "7\n",
      "4\n",
      "8\n",
      "6\n",
      "7\n",
      "8\n",
      "9\n"
     ]
    },
    {
     "name": "stderr",
     "output_type": "stream",
     "text": [
      "  8% (426 of 5082) |#                    | Elapsed Time: 0:00:30 ETA:   0:03:16"
     ]
    },
    {
     "name": "stdout",
     "output_type": "stream",
     "text": [
      "17\n",
      "9\n",
      "13\n",
      "7\n",
      "7\n",
      "8\n"
     ]
    },
    {
     "name": "stderr",
     "output_type": "stream",
     "text": [
      "  8% (431 of 5082) |#                    | Elapsed Time: 0:00:30 ETA:   0:03:16"
     ]
    },
    {
     "name": "stdout",
     "output_type": "stream",
     "text": [
      "9\n",
      "14\n",
      "9\n",
      "10\n",
      "9\n"
     ]
    },
    {
     "name": "stderr",
     "output_type": "stream",
     "text": [
      "  8% (436 of 5082) |#                    | Elapsed Time: 0:00:31 ETA:   0:03:22"
     ]
    },
    {
     "name": "stdout",
     "output_type": "stream",
     "text": [
      "10\n",
      "17\n",
      "7\n",
      "15\n"
     ]
    },
    {
     "name": "stderr",
     "output_type": "stream",
     "text": [
      "  8% (441 of 5082) |#                    | Elapsed Time: 0:00:31 ETA:   0:03:16"
     ]
    },
    {
     "name": "stdout",
     "output_type": "stream",
     "text": [
      "6\n",
      "3\n",
      "17\n",
      "9\n",
      "8\n",
      "9\n"
     ]
    },
    {
     "name": "stderr",
     "output_type": "stream",
     "text": [
      "  8% (446 of 5082) |#                    | Elapsed Time: 0:00:31 ETA:   0:03:15"
     ]
    },
    {
     "name": "stdout",
     "output_type": "stream",
     "text": [
      "10\n",
      "14\n",
      "19\n"
     ]
    },
    {
     "name": "stderr",
     "output_type": "stream",
     "text": [
      "  8% (451 of 5082) |#                    | Elapsed Time: 0:00:31 ETA:   0:03:20"
     ]
    },
    {
     "name": "stdout",
     "output_type": "stream",
     "text": [
      "12\n",
      "12\n",
      "8\n",
      "9\n",
      "9\n",
      "10\n",
      "10\n"
     ]
    },
    {
     "name": "stderr",
     "output_type": "stream",
     "text": [
      "  8% (457 of 5082) |#                    | Elapsed Time: 0:00:32 ETA:   0:03:19"
     ]
    },
    {
     "name": "stdout",
     "output_type": "stream",
     "text": [
      "8\n",
      "14\n",
      "5\n",
      "9\n",
      "8\n",
      "11\n"
     ]
    },
    {
     "name": "stderr",
     "output_type": "stream",
     "text": [
      "  9% (463 of 5082) |#                    | Elapsed Time: 0:00:32 ETA:   0:03:18"
     ]
    },
    {
     "name": "stdout",
     "output_type": "stream",
     "text": [
      "6\n",
      "4\n",
      "10\n",
      "9\n",
      "9\n",
      "4\n",
      "4\n",
      "3\n"
     ]
    },
    {
     "name": "stderr",
     "output_type": "stream",
     "text": [
      "  9% (472 of 5082) |#                    | Elapsed Time: 0:00:32 ETA:   0:03:11"
     ]
    },
    {
     "name": "stdout",
     "output_type": "stream",
     "text": [
      "8\n",
      "8\n",
      "8\n",
      "6\n",
      "15\n"
     ]
    },
    {
     "name": "stderr",
     "output_type": "stream",
     "text": [
      "\r",
      "  9% (475 of 5082) |#                    | Elapsed Time: 0:00:32 ETA:   0:03:10"
     ]
    },
    {
     "name": "stdout",
     "output_type": "stream",
     "text": [
      "7\n",
      "4\n",
      "13\n",
      "5\n"
     ]
    },
    {
     "name": "stderr",
     "output_type": "stream",
     "text": [
      "  9% (479 of 5082) |#                    | Elapsed Time: 0:00:33 ETA:   0:03:35"
     ]
    },
    {
     "name": "stdout",
     "output_type": "stream",
     "text": [
      "25\n",
      "12\n",
      "7\n",
      "6\n",
      "12\n",
      "6\n"
     ]
    },
    {
     "name": "stderr",
     "output_type": "stream",
     "text": [
      "  9% (486 of 5082) |##                   | Elapsed Time: 0:00:33 ETA:   0:03:33"
     ]
    },
    {
     "name": "stdout",
     "output_type": "stream",
     "text": [
      "15\n",
      "7\n",
      "9\n",
      "15\n",
      "5\n",
      "8\n",
      "6\n"
     ]
    },
    {
     "name": "stderr",
     "output_type": "stream",
     "text": [
      "  9% (494 of 5082) |##                   | Elapsed Time: 0:00:33 ETA:   0:03:24"
     ]
    },
    {
     "name": "stdout",
     "output_type": "stream",
     "text": [
      "19\n",
      "9\n",
      "7\n",
      "2\n",
      "14\n",
      "11\n",
      "8\n"
     ]
    },
    {
     "name": "stderr",
     "output_type": "stream",
     "text": [
      "  9% (499 of 5082) |##                   | Elapsed Time: 0:00:33 ETA:   0:03:30"
     ]
    },
    {
     "name": "stdout",
     "output_type": "stream",
     "text": [
      "13\n",
      "18\n",
      "3\n",
      "10\n"
     ]
    },
    {
     "name": "stderr",
     "output_type": "stream",
     "text": [
      "  9% (503 of 5082) |##                   | Elapsed Time: 0:00:34 ETA:   0:03:39"
     ]
    },
    {
     "name": "stdout",
     "output_type": "stream",
     "text": [
      "16\n",
      "6\n",
      "16\n",
      "4\n",
      "13\n"
     ]
    },
    {
     "name": "stderr",
     "output_type": "stream",
     "text": [
      " 10% (512 of 5082) |##                   | Elapsed Time: 0:00:34 ETA:   0:04:01"
     ]
    },
    {
     "name": "stdout",
     "output_type": "stream",
     "text": [
      "22\n",
      "9\n",
      "19\n",
      "10\n",
      "4\n",
      "6\n",
      "9\n"
     ]
    },
    {
     "name": "stderr",
     "output_type": "stream",
     "text": [
      " 10% (516 of 5082) |##                   | Elapsed Time: 0:00:34 ETA:   0:04:09"
     ]
    },
    {
     "name": "stdout",
     "output_type": "stream",
     "text": [
      "7\n",
      "9\n",
      "13\n",
      "24\n",
      "16\n",
      "9\n"
     ]
    },
    {
     "name": "stderr",
     "output_type": "stream",
     "text": [
      " 10% (524 of 5082) |##                   | Elapsed Time: 0:00:35 ETA:   0:03:44"
     ]
    },
    {
     "name": "stdout",
     "output_type": "stream",
     "text": [
      "9\n",
      "10\n",
      "5\n",
      "6\n",
      "12\n",
      "14\n"
     ]
    },
    {
     "name": "stderr",
     "output_type": "stream",
     "text": [
      " 10% (529 of 5082) |##                   | Elapsed Time: 0:00:35 ETA:   0:03:42"
     ]
    },
    {
     "name": "stdout",
     "output_type": "stream",
     "text": [
      "16\n",
      "4\n",
      "4\n",
      "21\n",
      "4\n",
      "12\n",
      "10\n"
     ]
    },
    {
     "name": "stderr",
     "output_type": "stream",
     "text": [
      " 10% (535 of 5082) |##                   | Elapsed Time: 0:00:35 ETA:   0:03:51"
     ]
    },
    {
     "name": "stdout",
     "output_type": "stream",
     "text": [
      "23\n",
      "5\n",
      "16\n",
      "7\n"
     ]
    },
    {
     "name": "stderr",
     "output_type": "stream",
     "text": [
      " 10% (540 of 5082) |##                   | Elapsed Time: 0:00:36 ETA:   0:03:45"
     ]
    },
    {
     "name": "stdout",
     "output_type": "stream",
     "text": [
      "11\n",
      "9\n",
      "9\n",
      "8\n",
      "5\n",
      "6\n",
      "14\n"
     ]
    },
    {
     "name": "stderr",
     "output_type": "stream",
     "text": [
      " 10% (546 of 5082) |##                   | Elapsed Time: 0:00:36 ETA:   0:03:43"
     ]
    },
    {
     "name": "stdout",
     "output_type": "stream",
     "text": [
      "13\n",
      "8\n",
      "11\n",
      "18\n"
     ]
    },
    {
     "name": "stderr",
     "output_type": "stream",
     "text": [
      " 10% (553 of 5082) |##                   | Elapsed Time: 0:00:36 ETA:   0:03:25"
     ]
    },
    {
     "name": "stdout",
     "output_type": "stream",
     "text": [
      "6\n",
      "14\n",
      "4\n",
      "7\n",
      "4\n",
      "4\n",
      "12\n"
     ]
    },
    {
     "name": "stderr",
     "output_type": "stream",
     "text": [
      " 10% (558 of 5082) |##                   | Elapsed Time: 0:00:36 ETA:   0:03:32"
     ]
    },
    {
     "name": "stdout",
     "output_type": "stream",
     "text": [
      "11\n",
      "6\n",
      "11\n",
      "17\n",
      "6\n"
     ]
    },
    {
     "name": "stderr",
     "output_type": "stream",
     "text": [
      " 11% (562 of 5082) |##                   | Elapsed Time: 0:00:37 ETA:   0:03:40"
     ]
    },
    {
     "name": "stdout",
     "output_type": "stream",
     "text": [
      "19\n",
      "8\n",
      "12\n",
      "25\n"
     ]
    },
    {
     "name": "stderr",
     "output_type": "stream",
     "text": [
      "\r",
      " 11% (565 of 5082) |##                   | Elapsed Time: 0:00:37 ETA:   0:03:38"
     ]
    },
    {
     "name": "stdout",
     "output_type": "stream",
     "text": [
      "9\n",
      "10\n",
      "7\n",
      "9\n",
      "4\n",
      "9\n",
      "16\n"
     ]
    },
    {
     "name": "stderr",
     "output_type": "stream",
     "text": [
      " 11% (573 of 5082) |##                   | Elapsed Time: 0:00:37 ETA:   0:03:42"
     ]
    },
    {
     "name": "stdout",
     "output_type": "stream",
     "text": [
      "25\n",
      "5\n",
      "16\n",
      "5\n",
      "6\n"
     ]
    },
    {
     "name": "stderr",
     "output_type": "stream",
     "text": [
      "\r",
      " 11% (575 of 5082) |##                   | Elapsed Time: 0:00:37 ETA:   0:03:43"
     ]
    },
    {
     "name": "stdout",
     "output_type": "stream",
     "text": [
      "25\n",
      "19\n",
      "24\n"
     ]
    },
    {
     "name": "stderr",
     "output_type": "stream",
     "text": [
      " 11% (583 of 5082) |##                   | Elapsed Time: 0:00:38 ETA:   0:03:54"
     ]
    },
    {
     "name": "stdout",
     "output_type": "stream",
     "text": [
      "8\n",
      "16\n",
      "7\n",
      "6\n",
      "9\n",
      "7\n"
     ]
    },
    {
     "name": "stderr",
     "output_type": "stream",
     "text": [
      " 11% (586 of 5082) |##                   | Elapsed Time: 0:00:38 ETA:   0:04:08"
     ]
    },
    {
     "name": "stdout",
     "output_type": "stream",
     "text": [
      "25\n",
      "12\n",
      "10\n",
      "9\n",
      "9\n"
     ]
    },
    {
     "name": "stderr",
     "output_type": "stream",
     "text": [
      " 11% (590 of 5082) |##                   | Elapsed Time: 0:00:38 ETA:   0:04:20"
     ]
    },
    {
     "name": "stdout",
     "output_type": "stream",
     "text": [
      "16\n",
      "23\n",
      "7\n",
      "4\n",
      "7\n"
     ]
    },
    {
     "name": "stderr",
     "output_type": "stream",
     "text": [
      " 11% (595 of 5082) |##                   | Elapsed Time: 0:00:38 ETA:   0:04:23"
     ]
    },
    {
     "name": "stdout",
     "output_type": "stream",
     "text": [
      "8\n",
      "22\n",
      "13\n"
     ]
    },
    {
     "name": "stderr",
     "output_type": "stream",
     "text": [
      " 11% (598 of 5082) |##                   | Elapsed Time: 0:00:39 ETA:   0:04:34"
     ]
    },
    {
     "name": "stdout",
     "output_type": "stream",
     "text": [
      "16\n",
      "25\n",
      "15\n"
     ]
    },
    {
     "name": "stderr",
     "output_type": "stream",
     "text": [
      " 11% (601 of 5082) |##                   | Elapsed Time: 0:00:39 ETA:   0:04:53"
     ]
    },
    {
     "name": "stdout",
     "output_type": "stream",
     "text": [
      "15\n",
      "25\n",
      "8\n"
     ]
    },
    {
     "name": "stderr",
     "output_type": "stream",
     "text": [
      " 11% (604 of 5082) |##                   | Elapsed Time: 0:00:40 ETA:   0:05:57"
     ]
    },
    {
     "name": "stdout",
     "output_type": "stream",
     "text": [
      "25\n",
      "16\n",
      "9\n"
     ]
    },
    {
     "name": "stderr",
     "output_type": "stream",
     "text": [
      " 12% (610 of 5082) |##                   | Elapsed Time: 0:00:40 ETA:   0:05:46"
     ]
    },
    {
     "name": "stdout",
     "output_type": "stream",
     "text": [
      "7\n",
      "7\n",
      "8\n",
      "12\n",
      "3\n",
      "7\n"
     ]
    },
    {
     "name": "stderr",
     "output_type": "stream",
     "text": [
      " 12% (616 of 5082) |##                   | Elapsed Time: 0:00:40 ETA:   0:05:20"
     ]
    },
    {
     "name": "stdout",
     "output_type": "stream",
     "text": [
      "8\n",
      "6\n",
      "5\n",
      "8\n",
      "11\n"
     ]
    },
    {
     "name": "stderr",
     "output_type": "stream",
     "text": [
      " 12% (620 of 5082) |##                   | Elapsed Time: 0:00:40 ETA:   0:05:57"
     ]
    },
    {
     "name": "stdout",
     "output_type": "stream",
     "text": [
      "25\n",
      "9\n",
      "4\n",
      "12\n",
      "8\n",
      "4\n"
     ]
    },
    {
     "name": "stderr",
     "output_type": "stream",
     "text": [
      "\r",
      " 12% (624 of 5082) |##                   | Elapsed Time: 0:00:41 ETA:   0:05:23"
     ]
    },
    {
     "name": "stdout",
     "output_type": "stream",
     "text": [
      "5\n",
      "8\n"
     ]
    },
    {
     "name": "stderr",
     "output_type": "stream",
     "text": [
      " 12% (628 of 5082) |##                   | Elapsed Time: 0:00:41 ETA:   0:05:36"
     ]
    },
    {
     "name": "stdout",
     "output_type": "stream",
     "text": [
      "25\n",
      "10\n",
      "8\n",
      "16\n",
      "8\n",
      "5\n"
     ]
    },
    {
     "name": "stderr",
     "output_type": "stream",
     "text": [
      " 12% (635 of 5082) |##                   | Elapsed Time: 0:00:41 ETA:   0:04:43"
     ]
    },
    {
     "name": "stdout",
     "output_type": "stream",
     "text": [
      "12\n",
      "7\n",
      "3\n",
      "9\n",
      "4\n",
      "9\n",
      "8\n"
     ]
    },
    {
     "name": "stderr",
     "output_type": "stream",
     "text": [
      " 12% (640 of 5082) |##                   | Elapsed Time: 0:00:42 ETA:   0:04:06"
     ]
    },
    {
     "name": "stdout",
     "output_type": "stream",
     "text": [
      "16\n",
      "5\n",
      "25\n"
     ]
    },
    {
     "name": "stderr",
     "output_type": "stream",
     "text": [
      " 12% (644 of 5082) |##                   | Elapsed Time: 0:00:42 ETA:   0:04:01"
     ]
    },
    {
     "name": "stdout",
     "output_type": "stream",
     "text": [
      "23\n",
      "9\n",
      "5\n",
      "6\n"
     ]
    },
    {
     "name": "stderr",
     "output_type": "stream",
     "text": [
      " 12% (646 of 5082) |##                   | Elapsed Time: 0:00:42 ETA:   0:04:34"
     ]
    },
    {
     "name": "stdout",
     "output_type": "stream",
     "text": [
      "25\n",
      "25\n",
      "8\n"
     ]
    },
    {
     "name": "stderr",
     "output_type": "stream",
     "text": [
      " 12% (651 of 5082) |##                   | Elapsed Time: 0:00:42 ETA:   0:04:34"
     ]
    },
    {
     "name": "stdout",
     "output_type": "stream",
     "text": [
      "17\n",
      "9\n",
      "8\n",
      "10\n"
     ]
    },
    {
     "name": "stderr",
     "output_type": "stream",
     "text": [
      " 12% (654 of 5082) |##                   | Elapsed Time: 0:00:43 ETA:   0:04:31"
     ]
    },
    {
     "name": "stdout",
     "output_type": "stream",
     "text": [
      "23\n",
      "4\n",
      "15\n",
      "7\n",
      "9\n"
     ]
    },
    {
     "name": "stderr",
     "output_type": "stream",
     "text": [
      "\r",
      " 12% (657 of 5082) |##                   | Elapsed Time: 0:00:43 ETA:   0:04:36"
     ]
    },
    {
     "name": "stdout",
     "output_type": "stream",
     "text": [
      "8\n",
      "6\n",
      "13\n"
     ]
    },
    {
     "name": "stderr",
     "output_type": "stream",
     "text": [
      " 13% (665 of 5082) |##                   | Elapsed Time: 0:00:43 ETA:   0:04:10"
     ]
    },
    {
     "name": "stdout",
     "output_type": "stream",
     "text": [
      "25\n",
      "7\n",
      "6\n",
      "8\n",
      "18\n",
      "7\n"
     ]
    },
    {
     "name": "stderr",
     "output_type": "stream",
     "text": [
      "\r",
      " 13% (667 of 5082) |##                   | Elapsed Time: 0:00:43 ETA:   0:04:37"
     ]
    },
    {
     "name": "stdout",
     "output_type": "stream",
     "text": [
      "15\n",
      "17\n",
      "12\n"
     ]
    },
    {
     "name": "stderr",
     "output_type": "stream",
     "text": [
      "\r",
      " 13% (669 of 5082) |##                   | Elapsed Time: 0:00:44 ETA:   0:05:05"
     ]
    },
    {
     "name": "stdout",
     "output_type": "stream",
     "text": [
      "25\n",
      "7\n"
     ]
    },
    {
     "name": "stderr",
     "output_type": "stream",
     "text": [
      " 13% (675 of 5082) |##                   | Elapsed Time: 0:00:44 ETA:   0:05:22"
     ]
    },
    {
     "name": "stdout",
     "output_type": "stream",
     "text": [
      "25\n",
      "6\n",
      "8\n",
      "6\n",
      "9\n",
      "13\n"
     ]
    },
    {
     "name": "stderr",
     "output_type": "stream",
     "text": [
      " 13% (679 of 5082) |##                   | Elapsed Time: 0:00:45 ETA:   0:05:34"
     ]
    },
    {
     "name": "stdout",
     "output_type": "stream",
     "text": [
      "17\n",
      "13\n",
      "25\n"
     ]
    },
    {
     "name": "stderr",
     "output_type": "stream",
     "text": [
      " 13% (682 of 5082) |##                   | Elapsed Time: 0:00:45 ETA:   0:06:07"
     ]
    },
    {
     "name": "stdout",
     "output_type": "stream",
     "text": [
      "7\n",
      "19\n",
      "20\n",
      "12\n"
     ]
    },
    {
     "name": "stderr",
     "output_type": "stream",
     "text": [
      " 13% (687 of 5082) |##                   | Elapsed Time: 0:00:45 ETA:   0:05:37"
     ]
    },
    {
     "name": "stdout",
     "output_type": "stream",
     "text": [
      "12\n",
      "7\n",
      "5\n",
      "15\n"
     ]
    },
    {
     "name": "stderr",
     "output_type": "stream",
     "text": [
      " 13% (690 of 5082) |##                   | Elapsed Time: 0:00:45 ETA:   0:06:01"
     ]
    },
    {
     "name": "stdout",
     "output_type": "stream",
     "text": [
      "22\n",
      "17\n",
      "6\n",
      "15\n"
     ]
    },
    {
     "name": "stderr",
     "output_type": "stream",
     "text": [
      "\r",
      " 13% (692 of 5082) |##                   | Elapsed Time: 0:00:45 ETA:   0:05:58"
     ]
    },
    {
     "name": "stdout",
     "output_type": "stream",
     "text": [
      "12\n",
      "14\n",
      "6\n"
     ]
    },
    {
     "name": "stderr",
     "output_type": "stream",
     "text": [
      " 13% (696 of 5082) |##                   | Elapsed Time: 0:00:46 ETA:   0:05:52"
     ]
    },
    {
     "name": "stdout",
     "output_type": "stream",
     "text": [
      "25\n",
      "25\n",
      "4\n",
      "3\n",
      "8\n"
     ]
    },
    {
     "name": "stderr",
     "output_type": "stream",
     "text": [
      " 13% (701 of 5082) |##                   | Elapsed Time: 0:00:46 ETA:   0:05:25"
     ]
    },
    {
     "name": "stdout",
     "output_type": "stream",
     "text": [
      "9\n",
      "14\n",
      "14\n",
      "9\n"
     ]
    },
    {
     "name": "stderr",
     "output_type": "stream",
     "text": [
      " 13% (705 of 5082) |##                   | Elapsed Time: 0:00:46 ETA:   0:05:03"
     ]
    },
    {
     "name": "stdout",
     "output_type": "stream",
     "text": [
      "13\n",
      "25\n"
     ]
    },
    {
     "name": "stderr",
     "output_type": "stream",
     "text": [
      " 13% (709 of 5082) |##                   | Elapsed Time: 0:00:47 ETA:   0:04:51"
     ]
    },
    {
     "name": "stdout",
     "output_type": "stream",
     "text": [
      "9\n",
      "11\n",
      "7\n",
      "22\n",
      "7\n",
      "9\n",
      "9\n"
     ]
    },
    {
     "name": "stderr",
     "output_type": "stream",
     "text": [
      " 14% (715 of 5082) |##                   | Elapsed Time: 0:00:47 ETA:   0:04:31"
     ]
    },
    {
     "name": "stdout",
     "output_type": "stream",
     "text": [
      "5\n",
      "6\n",
      "12\n",
      "8\n",
      "5\n"
     ]
    },
    {
     "name": "stderr",
     "output_type": "stream",
     "text": [
      " 14% (723 of 5082) |##                   | Elapsed Time: 0:00:47 ETA:   0:04:07"
     ]
    },
    {
     "name": "stdout",
     "output_type": "stream",
     "text": [
      "17\n",
      "9\n",
      "5\n",
      "3\n",
      "5\n",
      "10\n",
      "2\n",
      "9\n"
     ]
    },
    {
     "name": "stderr",
     "output_type": "stream",
     "text": [
      " 14% (730 of 5082) |###                  | Elapsed Time: 0:00:47 ETA:   0:03:51"
     ]
    },
    {
     "name": "stdout",
     "output_type": "stream",
     "text": [
      "8\n",
      "9\n",
      "8\n",
      "12\n",
      "13\n",
      "7\n",
      "8\n"
     ]
    },
    {
     "name": "stderr",
     "output_type": "stream",
     "text": [
      " 14% (734 of 5082) |###                  | Elapsed Time: 0:00:48 ETA:   0:03:47"
     ]
    },
    {
     "name": "stdout",
     "output_type": "stream",
     "text": [
      "9\n",
      "25\n",
      "9\n"
     ]
    },
    {
     "name": "stderr",
     "output_type": "stream",
     "text": [
      " 14% (742 of 5082) |###                  | Elapsed Time: 0:00:48 ETA:   0:03:34"
     ]
    },
    {
     "name": "stdout",
     "output_type": "stream",
     "text": [
      "10\n",
      "5\n",
      "13\n",
      "6\n",
      "5\n",
      "18\n",
      "5\n"
     ]
    },
    {
     "name": "stderr",
     "output_type": "stream",
     "text": [
      " 14% (747 of 5082) |###                  | Elapsed Time: 0:00:48 ETA:   0:03:35"
     ]
    },
    {
     "name": "stdout",
     "output_type": "stream",
     "text": [
      "16\n",
      "8\n",
      "10\n",
      "6\n",
      "12\n",
      "6\n",
      "11\n"
     ]
    },
    {
     "name": "stderr",
     "output_type": "stream",
     "text": [
      " 14% (753 of 5082) |###                  | Elapsed Time: 0:00:48 ETA:   0:03:15"
     ]
    },
    {
     "name": "stdout",
     "output_type": "stream",
     "text": [
      "6\n",
      "15\n",
      "4\n",
      "8\n",
      "5\n",
      "5\n",
      "9\n",
      "9\n"
     ]
    },
    {
     "name": "stderr",
     "output_type": "stream",
     "text": [
      " 14% (760 of 5082) |###                  | Elapsed Time: 0:00:49 ETA:   0:03:07"
     ]
    },
    {
     "name": "stdout",
     "output_type": "stream",
     "text": [
      "7\n",
      "15\n",
      "10\n",
      "14\n"
     ]
    },
    {
     "name": "stderr",
     "output_type": "stream",
     "text": [
      " 15% (764 of 5082) |###                  | Elapsed Time: 0:00:49 ETA:   0:03:32"
     ]
    },
    {
     "name": "stdout",
     "output_type": "stream",
     "text": [
      "25\n",
      "17\n",
      "15\n",
      "9\n"
     ]
    },
    {
     "name": "stderr",
     "output_type": "stream",
     "text": [
      " 15% (768 of 5082) |###                  | Elapsed Time: 0:00:49 ETA:   0:03:44"
     ]
    },
    {
     "name": "stdout",
     "output_type": "stream",
     "text": [
      "13\n",
      "18\n",
      "16\n"
     ]
    },
    {
     "name": "stderr",
     "output_type": "stream",
     "text": [
      " 15% (772 of 5082) |###                  | Elapsed Time: 0:00:50 ETA:   0:03:48"
     ]
    },
    {
     "name": "stdout",
     "output_type": "stream",
     "text": [
      "21\n",
      "23\n",
      "17\n",
      "8\n"
     ]
    },
    {
     "name": "stderr",
     "output_type": "stream",
     "text": [
      " 15% (777 of 5082) |###                  | Elapsed Time: 0:00:50 ETA:   0:03:57"
     ]
    },
    {
     "name": "stdout",
     "output_type": "stream",
     "text": [
      "11\n",
      "8\n",
      "9\n",
      "12\n",
      "15\n"
     ]
    },
    {
     "name": "stderr",
     "output_type": "stream",
     "text": [
      "\r",
      " 15% (780 of 5082) |###                  | Elapsed Time: 0:00:50 ETA:   0:03:52"
     ]
    },
    {
     "name": "stdout",
     "output_type": "stream",
     "text": [
      "7\n",
      "13\n",
      "14\n",
      "7\n",
      "9\n"
     ]
    },
    {
     "name": "stderr",
     "output_type": "stream",
     "text": [
      " 15% (785 of 5082) |###                  | Elapsed Time: 0:00:50 ETA:   0:03:55"
     ]
    },
    {
     "name": "stdout",
     "output_type": "stream",
     "text": [
      "12\n",
      "5\n",
      "25\n"
     ]
    },
    {
     "name": "stderr",
     "output_type": "stream",
     "text": [
      "\r",
      " 15% (787 of 5082) |###                  | Elapsed Time: 0:00:51 ETA:   0:05:00"
     ]
    },
    {
     "name": "stdout",
     "output_type": "stream",
     "text": [
      "17\n",
      "25\n"
     ]
    },
    {
     "name": "stderr",
     "output_type": "stream",
     "text": [
      "\r",
      " 15% (789 of 5082) |###                  | Elapsed Time: 0:00:51 ETA:   0:05:04"
     ]
    },
    {
     "name": "stdout",
     "output_type": "stream",
     "text": [
      "7\n",
      "17\n",
      "5\n",
      "8\n",
      "8\n",
      "14\n"
     ]
    },
    {
     "name": "stderr",
     "output_type": "stream",
     "text": [
      "\r",
      " 15% (793 of 5082) |###                  | Elapsed Time: 0:00:51 ETA:   0:04:38"
     ]
    },
    {
     "name": "stdout",
     "output_type": "stream",
     "text": [
      "9\n",
      "11\n",
      "25\n"
     ]
    },
    {
     "name": "stderr",
     "output_type": "stream",
     "text": [
      " 15% (799 of 5082) |###                  | Elapsed Time: 0:00:51 ETA:   0:04:38"
     ]
    },
    {
     "name": "stdout",
     "output_type": "stream",
     "text": [
      "13\n",
      "7\n",
      "14\n",
      "13\n",
      "13\n"
     ]
    },
    {
     "name": "stderr",
     "output_type": "stream",
     "text": [
      " 15% (804 of 5082) |###                  | Elapsed Time: 0:00:52 ETA:   0:04:59"
     ]
    },
    {
     "name": "stdout",
     "output_type": "stream",
     "text": [
      "25\n",
      "22\n",
      "9\n"
     ]
    },
    {
     "name": "stderr",
     "output_type": "stream",
     "text": [
      " 15% (808 of 5082) |###                  | Elapsed Time: 0:00:52 ETA:   0:04:55"
     ]
    },
    {
     "name": "stdout",
     "output_type": "stream",
     "text": [
      "23\n",
      "11\n",
      "5\n",
      "12\n",
      "13\n",
      "8\n"
     ]
    },
    {
     "name": "stderr",
     "output_type": "stream",
     "text": [
      " 16% (814 of 5082) |###                  | Elapsed Time: 0:00:52 ETA:   0:04:51"
     ]
    },
    {
     "name": "stdout",
     "output_type": "stream",
     "text": [
      "6\n",
      "7\n",
      "7\n",
      "11\n"
     ]
    },
    {
     "name": "stderr",
     "output_type": "stream",
     "text": [
      " 16% (818 of 5082) |###                  | Elapsed Time: 0:00:52 ETA:   0:04:42"
     ]
    },
    {
     "name": "stdout",
     "output_type": "stream",
     "text": [
      "17\n",
      "5\n",
      "12\n",
      "9\n",
      "6\n",
      "6\n"
     ]
    },
    {
     "name": "stderr",
     "output_type": "stream",
     "text": [
      " 16% (825 of 5082) |###                  | Elapsed Time: 0:00:53 ETA:   0:03:57"
     ]
    },
    {
     "name": "stdout",
     "output_type": "stream",
     "text": [
      "16\n",
      "8\n",
      "4\n",
      "7\n",
      "11\n"
     ]
    },
    {
     "name": "stderr",
     "output_type": "stream",
     "text": [
      " 16% (829 of 5082) |###                  | Elapsed Time: 0:00:53 ETA:   0:04:11"
     ]
    },
    {
     "name": "stdout",
     "output_type": "stream",
     "text": [
      "19\n",
      "14\n",
      "9\n",
      "13\n"
     ]
    },
    {
     "name": "stderr",
     "output_type": "stream",
     "text": [
      "\r",
      " 16% (831 of 5082) |###                  | Elapsed Time: 0:00:53 ETA:   0:04:07"
     ]
    },
    {
     "name": "stdout",
     "output_type": "stream",
     "text": [
      "16\n",
      "16\n"
     ]
    },
    {
     "name": "stderr",
     "output_type": "stream",
     "text": [
      " 16% (835 of 5082) |###                  | Elapsed Time: 0:00:54 ETA:   0:04:24"
     ]
    },
    {
     "name": "stdout",
     "output_type": "stream",
     "text": [
      "25\n",
      "12\n",
      "3\n",
      "13\n",
      "11\n"
     ]
    },
    {
     "name": "stderr",
     "output_type": "stream",
     "text": [
      " 16% (839 of 5082) |###                  | Elapsed Time: 0:00:54 ETA:   0:04:21"
     ]
    },
    {
     "name": "stdout",
     "output_type": "stream",
     "text": [
      "20\n",
      "14\n",
      "16\n",
      "7\n"
     ]
    },
    {
     "name": "stderr",
     "output_type": "stream",
     "text": [
      "\r",
      " 16% (841 of 5082) |###                  | Elapsed Time: 0:00:54 ETA:   0:04:29"
     ]
    },
    {
     "name": "stdout",
     "output_type": "stream",
     "text": [
      "17\n",
      "7\n",
      "12\n"
     ]
    },
    {
     "name": "stderr",
     "output_type": "stream",
     "text": [
      " 16% (845 of 5082) |###                  | Elapsed Time: 0:00:55 ETA:   0:05:14"
     ]
    },
    {
     "name": "stdout",
     "output_type": "stream",
     "text": [
      "25\n",
      "25\n"
     ]
    },
    {
     "name": "stderr",
     "output_type": "stream",
     "text": [
      "\r",
      " 16% (848 of 5082) |###                  | Elapsed Time: 0:00:55 ETA:   0:05:23"
     ]
    },
    {
     "name": "stdout",
     "output_type": "stream",
     "text": [
      "8\n",
      "11\n",
      "17\n",
      "13\n",
      "6\n"
     ]
    },
    {
     "name": "stderr",
     "output_type": "stream",
     "text": [
      " 16% (854 of 5082) |###                  | Elapsed Time: 0:00:55 ETA:   0:05:36"
     ]
    },
    {
     "name": "stdout",
     "output_type": "stream",
     "text": [
      "10\n",
      "9\n",
      "5\n",
      "7\n",
      "11\n",
      "6\n"
     ]
    },
    {
     "name": "stderr",
     "output_type": "stream",
     "text": [
      " 16% (862 of 5082) |###                  | Elapsed Time: 0:00:55 ETA:   0:04:35"
     ]
    },
    {
     "name": "stdout",
     "output_type": "stream",
     "text": [
      "6\n",
      "9\n",
      "8\n",
      "7\n",
      "5\n",
      "8\n"
     ]
    },
    {
     "name": "stderr",
     "output_type": "stream",
     "text": [
      " 17% (866 of 5082) |###                  | Elapsed Time: 0:00:55 ETA:   0:04:28"
     ]
    },
    {
     "name": "stdout",
     "output_type": "stream",
     "text": [
      "25\n",
      "10\n",
      "11\n",
      "7\n",
      "9\n",
      "7\n"
     ]
    },
    {
     "name": "stderr",
     "output_type": "stream",
     "text": [
      " 17% (872 of 5082) |###                  | Elapsed Time: 0:00:56 ETA:   0:03:44"
     ]
    },
    {
     "name": "stdout",
     "output_type": "stream",
     "text": [
      "12\n",
      "8\n",
      "10\n",
      "11\n",
      "7\n",
      "7\n"
     ]
    },
    {
     "name": "stderr",
     "output_type": "stream",
     "text": [
      " 17% (879 of 5082) |###                  | Elapsed Time: 0:00:56 ETA:   0:03:40"
     ]
    },
    {
     "name": "stdout",
     "output_type": "stream",
     "text": [
      "6\n",
      "11\n",
      "7\n",
      "9\n",
      "7\n",
      "8\n",
      "11\n"
     ]
    },
    {
     "name": "stderr",
     "output_type": "stream",
     "text": [
      " 17% (885 of 5082) |###                  | Elapsed Time: 0:00:56 ETA:   0:03:25"
     ]
    },
    {
     "name": "stdout",
     "output_type": "stream",
     "text": [
      "15\n",
      "8\n",
      "11\n",
      "5\n",
      "11\n",
      "10\n",
      "6\n"
     ]
    },
    {
     "name": "stderr",
     "output_type": "stream",
     "text": [
      " 17% (892 of 5082) |###                  | Elapsed Time: 0:00:56 ETA:   0:03:01"
     ]
    },
    {
     "name": "stdout",
     "output_type": "stream",
     "text": [
      "5\n",
      "10\n",
      "6\n",
      "7\n",
      "8\n",
      "5\n"
     ]
    },
    {
     "name": "stderr",
     "output_type": "stream",
     "text": [
      " 17% (901 of 5082) |###                  | Elapsed Time: 0:00:57 ETA:   0:02:55"
     ]
    },
    {
     "name": "stdout",
     "output_type": "stream",
     "text": [
      "25\n",
      "17\n",
      "6\n",
      "7\n",
      "4\n",
      "8\n",
      "2\n"
     ]
    },
    {
     "name": "stderr",
     "output_type": "stream",
     "text": [
      " 17% (907 of 5082) |###                  | Elapsed Time: 0:00:57 ETA:   0:02:50"
     ]
    },
    {
     "name": "stdout",
     "output_type": "stream",
     "text": [
      "11\n",
      "14\n",
      "7\n",
      "3\n",
      "8\n",
      "8\n"
     ]
    },
    {
     "name": "stderr",
     "output_type": "stream",
     "text": [
      " 17% (913 of 5082) |###                  | Elapsed Time: 0:00:57 ETA:   0:02:52"
     ]
    },
    {
     "name": "stdout",
     "output_type": "stream",
     "text": [
      "10\n",
      "8\n",
      "13\n",
      "6\n",
      "10\n",
      "8\n"
     ]
    },
    {
     "name": "stderr",
     "output_type": "stream",
     "text": [
      " 18% (917 of 5082) |###                  | Elapsed Time: 0:00:58 ETA:   0:02:52"
     ]
    },
    {
     "name": "stdout",
     "output_type": "stream",
     "text": [
      "13\n",
      "14\n",
      "13\n",
      "14\n"
     ]
    },
    {
     "name": "stderr",
     "output_type": "stream",
     "text": [
      " 18% (922 of 5082) |###                  | Elapsed Time: 0:00:58 ETA:   0:02:54"
     ]
    },
    {
     "name": "stdout",
     "output_type": "stream",
     "text": [
      "11\n",
      "11\n",
      "5\n",
      "12\n",
      "11\n",
      "7\n",
      "3\n"
     ]
    },
    {
     "name": "stderr",
     "output_type": "stream",
     "text": [
      " 18% (929 of 5082) |###                  | Elapsed Time: 0:00:58 ETA:   0:02:55"
     ]
    },
    {
     "name": "stdout",
     "output_type": "stream",
     "text": [
      "2\n",
      "9\n",
      "8\n",
      "12\n",
      "22\n"
     ]
    },
    {
     "name": "stderr",
     "output_type": "stream",
     "text": [
      "\r",
      " 18% (931 of 5082) |###                  | Elapsed Time: 0:00:58 ETA:   0:02:58"
     ]
    },
    {
     "name": "stdout",
     "output_type": "stream",
     "text": [
      "10\n",
      "16\n"
     ]
    },
    {
     "name": "stderr",
     "output_type": "stream",
     "text": [
      " 18% (936 of 5082) |###                  | Elapsed Time: 0:00:59 ETA:   0:03:15"
     ]
    },
    {
     "name": "stdout",
     "output_type": "stream",
     "text": [
      "25\n",
      "7\n",
      "5\n",
      "4\n",
      "10\n",
      "15\n"
     ]
    },
    {
     "name": "stderr",
     "output_type": "stream",
     "text": [
      " 18% (941 of 5082) |###                  | Elapsed Time: 0:00:59 ETA:   0:03:15"
     ]
    },
    {
     "name": "stdout",
     "output_type": "stream",
     "text": [
      "24\n",
      "13\n",
      "7\n",
      "13\n",
      "10\n"
     ]
    },
    {
     "name": "stderr",
     "output_type": "stream",
     "text": [
      "\r",
      " 18% (944 of 5082) |###                  | Elapsed Time: 0:00:59 ETA:   0:03:27"
     ]
    },
    {
     "name": "stdout",
     "output_type": "stream",
     "text": [
      "8\n",
      "22\n",
      "7\n",
      "4\n",
      "11\n"
     ]
    },
    {
     "name": "stderr",
     "output_type": "stream",
     "text": [
      " 18% (951 of 5082) |###                  | Elapsed Time: 0:00:59 ETA:   0:03:27"
     ]
    },
    {
     "name": "stdout",
     "output_type": "stream",
     "text": [
      "10\n",
      "8\n",
      "8\n",
      "9\n",
      "5\n",
      "5\n",
      "6\n"
     ]
    },
    {
     "name": "stderr",
     "output_type": "stream",
     "text": [
      " 18% (959 of 5082) |###                  | Elapsed Time: 0:01:00 ETA:   0:03:14"
     ]
    },
    {
     "name": "stdout",
     "output_type": "stream",
     "text": [
      "11\n",
      "5\n",
      "10\n",
      "5\n",
      "5\n",
      "9\n",
      "11\n"
     ]
    },
    {
     "name": "stderr",
     "output_type": "stream",
     "text": [
      " 18% (964 of 5082) |###                  | Elapsed Time: 0:01:00 ETA:   0:03:18"
     ]
    },
    {
     "name": "stdout",
     "output_type": "stream",
     "text": [
      "15\n",
      "6\n",
      "15\n",
      "2\n",
      "11\n"
     ]
    },
    {
     "name": "stderr",
     "output_type": "stream",
     "text": [
      " 19% (970 of 5082) |####                 | Elapsed Time: 0:01:00 ETA:   0:03:21"
     ]
    },
    {
     "name": "stdout",
     "output_type": "stream",
     "text": [
      "10\n",
      "7\n",
      "9\n",
      "11\n",
      "6\n"
     ]
    },
    {
     "name": "stderr",
     "output_type": "stream",
     "text": [
      " 19% (975 of 5082) |####                 | Elapsed Time: 0:01:00 ETA:   0:03:24"
     ]
    },
    {
     "name": "stdout",
     "output_type": "stream",
     "text": [
      "25\n",
      "6\n",
      "8\n",
      "24\n"
     ]
    },
    {
     "name": "stderr",
     "output_type": "stream",
     "text": [
      " 19% (981 of 5082) |####                 | Elapsed Time: 0:01:01 ETA:   0:03:14"
     ]
    },
    {
     "name": "stdout",
     "output_type": "stream",
     "text": [
      "17\n",
      "5\n",
      "8\n",
      "7\n",
      "8\n",
      "14\n",
      "5\n"
     ]
    },
    {
     "name": "stderr",
     "output_type": "stream",
     "text": [
      " 19% (985 of 5082) |####                 | Elapsed Time: 0:01:01 ETA:   0:03:12"
     ]
    },
    {
     "name": "stdout",
     "output_type": "stream",
     "text": [
      "13\n",
      "21\n",
      "9\n",
      "8\n",
      "4\n"
     ]
    },
    {
     "name": "stderr",
     "output_type": "stream",
     "text": [
      " 19% (991 of 5082) |####                 | Elapsed Time: 0:01:01 ETA:   0:03:04"
     ]
    },
    {
     "name": "stdout",
     "output_type": "stream",
     "text": [
      "11\n",
      "10\n",
      "10\n",
      "9\n",
      "10\n"
     ]
    },
    {
     "name": "stderr",
     "output_type": "stream",
     "text": [
      " 19% (996 of 5082) |####                 | Elapsed Time: 0:01:01 ETA:   0:03:20"
     ]
    },
    {
     "name": "stdout",
     "output_type": "stream",
     "text": [
      "11\n",
      "7\n",
      "11\n",
      "16\n",
      "6\n"
     ]
    },
    {
     "name": "stderr",
     "output_type": "stream",
     "text": [
      " 19% (1000 of 5082) |###                 | Elapsed Time: 0:01:02 ETA:   0:03:30"
     ]
    },
    {
     "name": "stdout",
     "output_type": "stream",
     "text": [
      "10\n",
      "8\n",
      "21\n",
      "10\n",
      "5\n",
      "1\n"
     ]
    },
    {
     "name": "stderr",
     "output_type": "stream",
     "text": [
      " 19% (1006 of 5082) |###                 | Elapsed Time: 0:01:02 ETA:   0:03:32"
     ]
    },
    {
     "name": "stdout",
     "output_type": "stream",
     "text": [
      "17\n",
      "20\n",
      "16\n",
      "5\n"
     ]
    },
    {
     "name": "stderr",
     "output_type": "stream",
     "text": [
      " 19% (1012 of 5082) |###                 | Elapsed Time: 0:01:02 ETA:   0:03:32"
     ]
    },
    {
     "name": "stdout",
     "output_type": "stream",
     "text": [
      "13\n",
      "9\n",
      "6\n",
      "9\n",
      "21\n",
      "14\n"
     ]
    },
    {
     "name": "stderr",
     "output_type": "stream",
     "text": [
      " 20% (1021 of 5082) |####                | Elapsed Time: 0:01:03 ETA:   0:03:13"
     ]
    },
    {
     "name": "stdout",
     "output_type": "stream",
     "text": [
      "8\n",
      "7\n",
      "8\n",
      "10\n",
      "8\n",
      "10\n",
      "5\n",
      "9\n"
     ]
    },
    {
     "name": "stderr",
     "output_type": "stream",
     "text": [
      " 20% (1027 of 5082) |####                | Elapsed Time: 0:01:03 ETA:   0:03:08"
     ]
    },
    {
     "name": "stdout",
     "output_type": "stream",
     "text": [
      "6\n",
      "9\n",
      "8\n",
      "4\n",
      "15\n",
      "8\n"
     ]
    },
    {
     "name": "stderr",
     "output_type": "stream",
     "text": [
      " 20% (1030 of 5082) |####                | Elapsed Time: 0:01:03 ETA:   0:03:09"
     ]
    },
    {
     "name": "stdout",
     "output_type": "stream",
     "text": [
      "18\n",
      "11\n",
      "14\n",
      "14\n",
      "10\n"
     ]
    },
    {
     "name": "stderr",
     "output_type": "stream",
     "text": [
      " 20% (1035 of 5082) |####                | Elapsed Time: 0:01:03 ETA:   0:03:14"
     ]
    },
    {
     "name": "stdout",
     "output_type": "stream",
     "text": [
      "5\n",
      "14\n",
      "9\n",
      "12\n"
     ]
    },
    {
     "name": "stderr",
     "output_type": "stream",
     "text": [
      " 20% (1039 of 5082) |####                | Elapsed Time: 0:01:03 ETA:   0:03:16"
     ]
    },
    {
     "name": "stdout",
     "output_type": "stream",
     "text": [
      "10\n",
      "13\n",
      "12\n",
      "11\n"
     ]
    },
    {
     "name": "stderr",
     "output_type": "stream",
     "text": [
      " 20% (1044 of 5082) |####                | Elapsed Time: 0:01:04 ETA:   0:03:15"
     ]
    },
    {
     "name": "stdout",
     "output_type": "stream",
     "text": [
      "15\n",
      "8\n",
      "10\n",
      "14\n"
     ]
    },
    {
     "name": "stderr",
     "output_type": "stream",
     "text": [
      " 20% (1047 of 5082) |####                | Elapsed Time: 0:01:04 ETA:   0:03:36"
     ]
    },
    {
     "name": "stdout",
     "output_type": "stream",
     "text": [
      "25\n",
      "18\n",
      "11\n",
      "9\n"
     ]
    },
    {
     "name": "stderr",
     "output_type": "stream",
     "text": [
      " 20% (1052 of 5082) |####                | Elapsed Time: 0:01:04 ETA:   0:03:33"
     ]
    },
    {
     "name": "stdout",
     "output_type": "stream",
     "text": [
      "16\n",
      "7\n",
      "9\n",
      "12\n",
      "8\n"
     ]
    },
    {
     "name": "stderr",
     "output_type": "stream",
     "text": [
      "\r",
      " 20% (1055 of 5082) |####                | Elapsed Time: 0:01:04 ETA:   0:03:39"
     ]
    },
    {
     "name": "stdout",
     "output_type": "stream",
     "text": [
      "12\n",
      "11\n",
      "21\n"
     ]
    },
    {
     "name": "stderr",
     "output_type": "stream",
     "text": [
      " 20% (1060 of 5082) |####                | Elapsed Time: 0:01:05 ETA:   0:04:15"
     ]
    },
    {
     "name": "stdout",
     "output_type": "stream",
     "text": [
      "25\n",
      "7\n",
      "6\n",
      "16\n",
      "10\n"
     ]
    },
    {
     "name": "stderr",
     "output_type": "stream",
     "text": [
      " 20% (1066 of 5082) |####                | Elapsed Time: 0:01:05 ETA:   0:04:03"
     ]
    },
    {
     "name": "stdout",
     "output_type": "stream",
     "text": [
      "9\n",
      "15\n",
      "5\n",
      "11\n",
      "9\n"
     ]
    },
    {
     "name": "stderr",
     "output_type": "stream",
     "text": [
      "\r",
      " 21% (1069 of 5082) |####                | Elapsed Time: 0:01:05 ETA:   0:04:05"
     ]
    },
    {
     "name": "stdout",
     "output_type": "stream",
     "text": [
      "9\n",
      "10\n",
      "12\n",
      "7\n",
      "6\n",
      "21\n"
     ]
    },
    {
     "name": "stderr",
     "output_type": "stream",
     "text": [
      " 21% (1074 of 5082) |####                | Elapsed Time: 0:01:06 ETA:   0:04:05"
     ]
    },
    {
     "name": "stdout",
     "output_type": "stream",
     "text": [
      "16\n",
      "21\n",
      "10\n"
     ]
    },
    {
     "name": "stderr",
     "output_type": "stream",
     "text": [
      " 21% (1078 of 5082) |####                | Elapsed Time: 0:01:06 ETA:   0:04:14"
     ]
    },
    {
     "name": "stdout",
     "output_type": "stream",
     "text": [
      "23\n",
      "11\n",
      "11\n",
      "11\n"
     ]
    },
    {
     "name": "stderr",
     "output_type": "stream",
     "text": [
      " 21% (1083 of 5082) |####                | Elapsed Time: 0:01:06 ETA:   0:03:42"
     ]
    },
    {
     "name": "stdout",
     "output_type": "stream",
     "text": [
      "16\n",
      "9\n",
      "8\n",
      "9\n"
     ]
    },
    {
     "name": "stderr",
     "output_type": "stream",
     "text": [
      " 21% (1086 of 5082) |####                | Elapsed Time: 0:01:06 ETA:   0:03:59"
     ]
    },
    {
     "name": "stdout",
     "output_type": "stream",
     "text": [
      "25\n",
      "14\n",
      "14\n",
      "23\n"
     ]
    },
    {
     "name": "stderr",
     "output_type": "stream",
     "text": [
      " 21% (1090 of 5082) |####                | Elapsed Time: 0:01:07 ETA:   0:04:03"
     ]
    },
    {
     "name": "stdout",
     "output_type": "stream",
     "text": [
      "14\n",
      "9\n",
      "9\n",
      "11\n",
      "7\n"
     ]
    },
    {
     "name": "stderr",
     "output_type": "stream",
     "text": [
      " 21% (1096 of 5082) |####                | Elapsed Time: 0:01:07 ETA:   0:03:44"
     ]
    },
    {
     "name": "stdout",
     "output_type": "stream",
     "text": [
      "10\n",
      "13\n",
      "4\n",
      "24\n"
     ]
    },
    {
     "name": "stderr",
     "output_type": "stream",
     "text": [
      " 21% (1101 of 5082) |####                | Elapsed Time: 0:01:07 ETA:   0:03:49"
     ]
    },
    {
     "name": "stdout",
     "output_type": "stream",
     "text": [
      "9\n",
      "9\n",
      "13\n",
      "9\n",
      "23\n",
      "11\n"
     ]
    },
    {
     "name": "stderr",
     "output_type": "stream",
     "text": [
      " 21% (1107 of 5082) |####                | Elapsed Time: 0:01:07 ETA:   0:03:49"
     ]
    },
    {
     "name": "stdout",
     "output_type": "stream",
     "text": [
      "11\n",
      "17\n",
      "5\n",
      "14\n",
      "7\n"
     ]
    },
    {
     "name": "stderr",
     "output_type": "stream",
     "text": [
      " 21% (1110 of 5082) |####                | Elapsed Time: 0:01:08 ETA:   0:03:52"
     ]
    },
    {
     "name": "stdout",
     "output_type": "stream",
     "text": [
      "21\n",
      "19\n",
      "12\n",
      "8\n",
      "7\n"
     ]
    },
    {
     "name": "stderr",
     "output_type": "stream",
     "text": [
      " 21% (1116 of 5082) |####                | Elapsed Time: 0:01:08 ETA:   0:03:36"
     ]
    },
    {
     "name": "stdout",
     "output_type": "stream",
     "text": [
      "12\n",
      "6\n",
      "10\n",
      "7\n",
      "11\n"
     ]
    },
    {
     "name": "stderr",
     "output_type": "stream",
     "text": [
      " 22% (1120 of 5082) |####                | Elapsed Time: 0:01:08 ETA:   0:03:44"
     ]
    },
    {
     "name": "stdout",
     "output_type": "stream",
     "text": [
      "13\n",
      "8\n",
      "17\n",
      "8\n"
     ]
    },
    {
     "name": "stderr",
     "output_type": "stream",
     "text": [
      " 22% (1124 of 5082) |####                | Elapsed Time: 0:01:08 ETA:   0:03:34"
     ]
    },
    {
     "name": "stdout",
     "output_type": "stream",
     "text": [
      "12\n",
      "9\n",
      "9\n"
     ]
    },
    {
     "name": "stderr",
     "output_type": "stream",
     "text": [
      " 22% (1127 of 5082) |####                | Elapsed Time: 0:01:09 ETA:   0:03:47"
     ]
    },
    {
     "name": "stdout",
     "output_type": "stream",
     "text": [
      "25\n",
      "7\n",
      "19\n",
      "8\n"
     ]
    },
    {
     "name": "stderr",
     "output_type": "stream",
     "text": [
      "\r",
      " 22% (1129 of 5082) |####                | Elapsed Time: 0:01:09 ETA:   0:04:01"
     ]
    },
    {
     "name": "stdout",
     "output_type": "stream",
     "text": [
      "25\n",
      "12\n",
      "9\n",
      "25\n"
     ]
    },
    {
     "name": "stderr",
     "output_type": "stream",
     "text": [
      " 22% (1134 of 5082) |####                | Elapsed Time: 0:01:09 ETA:   0:04:09"
     ]
    },
    {
     "name": "stdout",
     "output_type": "stream",
     "text": [
      "9\n",
      "23\n",
      "17\n"
     ]
    },
    {
     "name": "stderr",
     "output_type": "stream",
     "text": [
      " 22% (1139 of 5082) |####                | Elapsed Time: 0:01:10 ETA:   0:04:15"
     ]
    },
    {
     "name": "stdout",
     "output_type": "stream",
     "text": [
      "17\n",
      "14\n",
      "6\n",
      "7\n",
      "5\n",
      "5\n",
      "13\n"
     ]
    },
    {
     "name": "stderr",
     "output_type": "stream",
     "text": [
      " 22% (1145 of 5082) |####                | Elapsed Time: 0:01:10 ETA:   0:04:10"
     ]
    },
    {
     "name": "stdout",
     "output_type": "stream",
     "text": [
      "19\n",
      "14\n",
      "18\n",
      "7\n"
     ]
    },
    {
     "name": "stderr",
     "output_type": "stream",
     "text": [
      " 22% (1151 of 5082) |####                | Elapsed Time: 0:01:10 ETA:   0:04:09"
     ]
    },
    {
     "name": "stdout",
     "output_type": "stream",
     "text": [
      "11\n",
      "13\n",
      "8\n",
      "9\n",
      "14\n"
     ]
    },
    {
     "name": "stderr",
     "output_type": "stream",
     "text": [
      " 22% (1156 of 5082) |####                | Elapsed Time: 0:01:10 ETA:   0:04:01"
     ]
    },
    {
     "name": "stdout",
     "output_type": "stream",
     "text": [
      "8\n",
      "17\n",
      "13\n",
      "9\n",
      "6\n"
     ]
    },
    {
     "name": "stderr",
     "output_type": "stream",
     "text": [
      "\r",
      " 22% (1158 of 5082) |####                | Elapsed Time: 0:01:11 ETA:   0:04:02"
     ]
    },
    {
     "name": "stdout",
     "output_type": "stream",
     "text": [
      "12\n",
      "15\n",
      "15\n"
     ]
    },
    {
     "name": "stderr",
     "output_type": "stream",
     "text": [
      " 22% (1163 of 5082) |####                | Elapsed Time: 0:01:11 ETA:   0:03:53"
     ]
    },
    {
     "name": "stdout",
     "output_type": "stream",
     "text": [
      "25\n",
      "9\n",
      "8\n",
      "21\n"
     ]
    },
    {
     "name": "stderr",
     "output_type": "stream",
     "text": [
      " 23% (1169 of 5082) |####                | Elapsed Time: 0:01:11 ETA:   0:03:38"
     ]
    },
    {
     "name": "stdout",
     "output_type": "stream",
     "text": [
      "13\n",
      "6\n",
      "5\n",
      "5\n",
      "14\n",
      "9\n"
     ]
    },
    {
     "name": "stderr",
     "output_type": "stream",
     "text": [
      " 23% (1172 of 5082) |####                | Elapsed Time: 0:01:12 ETA:   0:04:05"
     ]
    },
    {
     "name": "stdout",
     "output_type": "stream",
     "text": [
      "25\n",
      "13\n",
      "14\n"
     ]
    },
    {
     "name": "stderr",
     "output_type": "stream",
     "text": [
      " 23% (1176 of 5082) |####                | Elapsed Time: 0:01:12 ETA:   0:04:12"
     ]
    },
    {
     "name": "stdout",
     "output_type": "stream",
     "text": [
      "10\n",
      "14\n",
      "13\n",
      "11\n"
     ]
    },
    {
     "name": "stderr",
     "output_type": "stream",
     "text": [
      " 23% (1181 of 5082) |####                | Elapsed Time: 0:01:12 ETA:   0:04:22"
     ]
    },
    {
     "name": "stdout",
     "output_type": "stream",
     "text": [
      "14\n",
      "15\n",
      "5\n",
      "4\n",
      "14\n"
     ]
    },
    {
     "name": "stderr",
     "output_type": "stream",
     "text": [
      "\r",
      " 23% (1182 of 5082) |####                | Elapsed Time: 0:01:12 ETA:   0:04:32"
     ]
    },
    {
     "name": "stdout",
     "output_type": "stream",
     "text": [
      "20\n",
      "16\n"
     ]
    },
    {
     "name": "stderr",
     "output_type": "stream",
     "text": [
      " 23% (1186 of 5082) |####                | Elapsed Time: 0:01:13 ETA:   0:04:58"
     ]
    },
    {
     "name": "stdout",
     "output_type": "stream",
     "text": [
      "25\n",
      "10\n",
      "12\n",
      "15\n",
      "7\n"
     ]
    },
    {
     "name": "stderr",
     "output_type": "stream",
     "text": [
      " 23% (1191 of 5082) |####                | Elapsed Time: 0:01:13 ETA:   0:04:50"
     ]
    },
    {
     "name": "stdout",
     "output_type": "stream",
     "text": [
      "15\n",
      "13\n",
      "25\n"
     ]
    },
    {
     "name": "stderr",
     "output_type": "stream",
     "text": [
      "\r",
      " 23% (1194 of 5082) |####                | Elapsed Time: 0:01:13 ETA:   0:04:48"
     ]
    },
    {
     "name": "stdout",
     "output_type": "stream",
     "text": [
      "8\n",
      "8\n",
      "7\n"
     ]
    },
    {
     "name": "stderr",
     "output_type": "stream",
     "text": [
      "\r",
      " 23% (1195 of 5082) |####                | Elapsed Time: 0:01:13 ETA:   0:05:27"
     ]
    },
    {
     "name": "stdout",
     "output_type": "stream",
     "text": [
      "25\n",
      "3\n",
      "16\n"
     ]
    },
    {
     "name": "stderr",
     "output_type": "stream",
     "text": [
      " 23% (1200 of 5082) |####                | Elapsed Time: 0:01:14 ETA:   0:05:03"
     ]
    },
    {
     "name": "stdout",
     "output_type": "stream",
     "text": [
      "25\n",
      "20\n",
      "10\n",
      "4\n",
      "12\n",
      "6\n"
     ]
    },
    {
     "name": "stderr",
     "output_type": "stream",
     "text": [
      " 23% (1206 of 5082) |####                | Elapsed Time: 0:01:14 ETA:   0:04:42"
     ]
    },
    {
     "name": "stdout",
     "output_type": "stream",
     "text": [
      "13\n",
      "11\n",
      "17\n",
      "19\n"
     ]
    },
    {
     "name": "stderr",
     "output_type": "stream",
     "text": [
      " 23% (1210 of 5082) |####                | Elapsed Time: 0:01:14 ETA:   0:04:37"
     ]
    },
    {
     "name": "stdout",
     "output_type": "stream",
     "text": [
      "12\n",
      "10\n",
      "6\n",
      "6\n",
      "8\n"
     ]
    },
    {
     "name": "stderr",
     "output_type": "stream",
     "text": [
      " 23% (1216 of 5082) |####                | Elapsed Time: 0:01:15 ETA:   0:04:10"
     ]
    },
    {
     "name": "stdout",
     "output_type": "stream",
     "text": [
      "17\n",
      "16\n",
      "8\n",
      "11\n"
     ]
    },
    {
     "name": "stderr",
     "output_type": "stream",
     "text": [
      " 23% (1219 of 5082) |####                | Elapsed Time: 0:01:15 ETA:   0:04:19"
     ]
    },
    {
     "name": "stdout",
     "output_type": "stream",
     "text": [
      "25\n",
      "12\n",
      "14\n"
     ]
    },
    {
     "name": "stderr",
     "output_type": "stream",
     "text": [
      " 24% (1222 of 5082) |####                | Elapsed Time: 0:01:15 ETA:   0:04:42"
     ]
    },
    {
     "name": "stdout",
     "output_type": "stream",
     "text": [
      "18\n",
      "19\n",
      "25\n"
     ]
    },
    {
     "name": "stderr",
     "output_type": "stream",
     "text": [
      " 24% (1224 of 5082) |####                | Elapsed Time: 0:01:15 ETA:   0:04:29"
     ]
    },
    {
     "name": "stdout",
     "output_type": "stream",
     "text": [
      "18\n",
      "25\n",
      "8\n",
      "5\n"
     ]
    },
    {
     "name": "stderr",
     "output_type": "stream",
     "text": [
      "\r",
      " 24% (1228 of 5082) |####                | Elapsed Time: 0:01:16 ETA:   0:04:13"
     ]
    },
    {
     "name": "stdout",
     "output_type": "stream",
     "text": [
      "6\n",
      "11\n",
      "13\n"
     ]
    },
    {
     "name": "stderr",
     "output_type": "stream",
     "text": [
      " 24% (1232 of 5082) |####                | Elapsed Time: 0:01:16 ETA:   0:04:16"
     ]
    },
    {
     "name": "stdout",
     "output_type": "stream",
     "text": [
      "25\n",
      "21\n",
      "7\n",
      "16\n",
      "4\n"
     ]
    },
    {
     "name": "stderr",
     "output_type": "stream",
     "text": [
      " 24% (1237 of 5082) |####                | Elapsed Time: 0:01:16 ETA:   0:04:36"
     ]
    },
    {
     "name": "stdout",
     "output_type": "stream",
     "text": [
      "25\n",
      "14\n",
      "21\n"
     ]
    },
    {
     "name": "stderr",
     "output_type": "stream",
     "text": [
      " 24% (1241 of 5082) |####                | Elapsed Time: 0:01:17 ETA:   0:04:49"
     ]
    },
    {
     "name": "stdout",
     "output_type": "stream",
     "text": [
      "10\n",
      "25\n",
      "17\n",
      "12\n",
      "5\n"
     ]
    },
    {
     "name": "stderr",
     "output_type": "stream",
     "text": [
      " 24% (1246 of 5082) |####                | Elapsed Time: 0:01:17 ETA:   0:04:53"
     ]
    },
    {
     "name": "stdout",
     "output_type": "stream",
     "text": [
      "10\n",
      "25\n",
      "12\n",
      "15\n",
      "6\n",
      "7\n"
     ]
    },
    {
     "name": "stderr",
     "output_type": "stream",
     "text": [
      " 24% (1251 of 5082) |####                | Elapsed Time: 0:01:17 ETA:   0:04:28"
     ]
    },
    {
     "name": "stdout",
     "output_type": "stream",
     "text": [
      "11\n",
      "8\n",
      "16\n",
      "8\n"
     ]
    },
    {
     "name": "stderr",
     "output_type": "stream",
     "text": [
      " 24% (1254 of 5082) |####                | Elapsed Time: 0:01:18 ETA:   0:04:54"
     ]
    },
    {
     "name": "stdout",
     "output_type": "stream",
     "text": [
      "25\n",
      "23\n",
      "7\n",
      "8\n",
      "5\n"
     ]
    },
    {
     "name": "stderr",
     "output_type": "stream",
     "text": [
      " 24% (1260 of 5082) |####                | Elapsed Time: 0:01:18 ETA:   0:04:20"
     ]
    },
    {
     "name": "stdout",
     "output_type": "stream",
     "text": [
      "7\n",
      "14\n",
      "18\n",
      "5\n"
     ]
    },
    {
     "name": "stderr",
     "output_type": "stream",
     "text": [
      " 24% (1263 of 5082) |####                | Elapsed Time: 0:01:18 ETA:   0:04:45"
     ]
    },
    {
     "name": "stdout",
     "output_type": "stream",
     "text": [
      "25\n",
      "22\n",
      "14\n"
     ]
    },
    {
     "name": "stderr",
     "output_type": "stream",
     "text": [
      " 24% (1267 of 5082) |####                | Elapsed Time: 0:01:19 ETA:   0:04:42"
     ]
    },
    {
     "name": "stdout",
     "output_type": "stream",
     "text": [
      "6\n",
      "5\n",
      "25\n"
     ]
    },
    {
     "name": "stderr",
     "output_type": "stream",
     "text": [
      "\r",
      " 24% (1270 of 5082) |####                | Elapsed Time: 0:01:19 ETA:   0:04:31"
     ]
    },
    {
     "name": "stdout",
     "output_type": "stream",
     "text": [
      "4\n",
      "9\n",
      "12\n",
      "8\n",
      "7\n",
      "8\n"
     ]
    },
    {
     "name": "stderr",
     "output_type": "stream",
     "text": [
      " 25% (1276 of 5082) |#####               | Elapsed Time: 0:01:19 ETA:   0:04:12"
     ]
    },
    {
     "name": "stdout",
     "output_type": "stream",
     "text": [
      "7\n",
      "17\n",
      "15\n",
      "11\n"
     ]
    },
    {
     "name": "stderr",
     "output_type": "stream",
     "text": [
      " 25% (1280 of 5082) |#####               | Elapsed Time: 0:01:19 ETA:   0:04:25"
     ]
    },
    {
     "name": "stdout",
     "output_type": "stream",
     "text": [
      "12\n",
      "14\n",
      "10\n",
      "17\n"
     ]
    },
    {
     "name": "stderr",
     "output_type": "stream",
     "text": [
      " 25% (1283 of 5082) |#####               | Elapsed Time: 0:01:19 ETA:   0:04:34"
     ]
    },
    {
     "name": "stdout",
     "output_type": "stream",
     "text": [
      "13\n",
      "25\n",
      "21\n"
     ]
    },
    {
     "name": "stderr",
     "output_type": "stream",
     "text": [
      " 25% (1287 of 5082) |#####               | Elapsed Time: 0:01:20 ETA:   0:04:23"
     ]
    },
    {
     "name": "stdout",
     "output_type": "stream",
     "text": [
      "13\n",
      "8\n",
      "13\n",
      "5\n",
      "6\n",
      "6\n"
     ]
    },
    {
     "name": "stderr",
     "output_type": "stream",
     "text": [
      " 25% (1293 of 5082) |#####               | Elapsed Time: 0:01:20 ETA:   0:04:00"
     ]
    },
    {
     "name": "stdout",
     "output_type": "stream",
     "text": [
      "11\n",
      "10\n",
      "14\n",
      "8\n",
      "9\n",
      "12\n"
     ]
    },
    {
     "name": "stderr",
     "output_type": "stream",
     "text": [
      " 25% (1298 of 5082) |#####               | Elapsed Time: 0:01:20 ETA:   0:03:39"
     ]
    },
    {
     "name": "stdout",
     "output_type": "stream",
     "text": [
      "11\n",
      "15\n",
      "7\n",
      "11\n"
     ]
    },
    {
     "name": "stderr",
     "output_type": "stream",
     "text": [
      " 25% (1303 of 5082) |#####               | Elapsed Time: 0:01:20 ETA:   0:03:32"
     ]
    },
    {
     "name": "stdout",
     "output_type": "stream",
     "text": [
      "9\n",
      "20\n",
      "7\n",
      "4\n",
      "8\n",
      "3\n"
     ]
    },
    {
     "name": "stderr",
     "output_type": "stream",
     "text": [
      " 25% (1311 of 5082) |#####               | Elapsed Time: 0:01:21 ETA:   0:03:07"
     ]
    },
    {
     "name": "stdout",
     "output_type": "stream",
     "text": [
      "13\n",
      "11\n",
      "3\n",
      "6\n",
      "15\n"
     ]
    },
    {
     "name": "stderr",
     "output_type": "stream",
     "text": [
      "\r",
      " 25% (1312 of 5082) |#####               | Elapsed Time: 0:01:21 ETA:   0:03:27"
     ]
    },
    {
     "name": "stdout",
     "output_type": "stream",
     "text": [
      "25\n",
      "18\n",
      "25\n"
     ]
    },
    {
     "name": "stderr",
     "output_type": "stream",
     "text": [
      " 25% (1318 of 5082) |#####               | Elapsed Time: 0:01:21 ETA:   0:03:29"
     ]
    },
    {
     "name": "stdout",
     "output_type": "stream",
     "text": [
      "8\n",
      "5\n",
      "12\n",
      "22\n"
     ]
    },
    {
     "name": "stderr",
     "output_type": "stream",
     "text": [
      "\r",
      " 25% (1321 of 5082) |#####               | Elapsed Time: 0:01:21 ETA:   0:03:24"
     ]
    },
    {
     "name": "stdout",
     "output_type": "stream",
     "text": [
      "7\n",
      "10\n",
      "9\n",
      "7\n",
      "10\n",
      "21\n"
     ]
    },
    {
     "name": "stderr",
     "output_type": "stream",
     "text": [
      "\r",
      " 26% (1324 of 5082) |#####               | Elapsed Time: 0:01:22 ETA:   0:03:12"
     ]
    },
    {
     "name": "stdout",
     "output_type": "stream",
     "text": [
      "5\n",
      "7\n",
      "7\n"
     ]
    },
    {
     "name": "stderr",
     "output_type": "stream",
     "text": [
      " 26% (1330 of 5082) |#####               | Elapsed Time: 0:01:22 ETA:   0:03:55"
     ]
    },
    {
     "name": "stdout",
     "output_type": "stream",
     "text": [
      "25\n",
      "6\n",
      "8\n",
      "16\n"
     ]
    },
    {
     "name": "stderr",
     "output_type": "stream",
     "text": [
      " 26% (1335 of 5082) |#####               | Elapsed Time: 0:01:22 ETA:   0:03:55"
     ]
    },
    {
     "name": "stdout",
     "output_type": "stream",
     "text": [
      "12\n",
      "11\n",
      "8\n",
      "4\n",
      "15\n",
      "5\n"
     ]
    },
    {
     "name": "stderr",
     "output_type": "stream",
     "text": [
      " 26% (1342 of 5082) |#####               | Elapsed Time: 0:01:23 ETA:   0:04:03"
     ]
    },
    {
     "name": "stdout",
     "output_type": "stream",
     "text": [
      "18\n",
      "9\n",
      "9\n",
      "5\n",
      "5\n",
      "10\n",
      "6\n"
     ]
    },
    {
     "name": "stderr",
     "output_type": "stream",
     "text": [
      " 26% (1347 of 5082) |#####               | Elapsed Time: 0:01:23 ETA:   0:03:41"
     ]
    },
    {
     "name": "stdout",
     "output_type": "stream",
     "text": [
      "15\n",
      "12\n",
      "13\n",
      "4\n",
      "11\n"
     ]
    },
    {
     "name": "stderr",
     "output_type": "stream",
     "text": [
      " 26% (1354 of 5082) |#####               | Elapsed Time: 0:01:23 ETA:   0:03:19"
     ]
    },
    {
     "name": "stdout",
     "output_type": "stream",
     "text": [
      "5\n",
      "10\n",
      "9\n",
      "8\n",
      "16\n",
      "5\n"
     ]
    },
    {
     "name": "stderr",
     "output_type": "stream",
     "text": [
      " 26% (1361 of 5082) |#####               | Elapsed Time: 0:01:24 ETA:   0:03:24"
     ]
    },
    {
     "name": "stdout",
     "output_type": "stream",
     "text": [
      "25\n",
      "10\n",
      "8\n",
      "12\n",
      "19\n",
      "8\n"
     ]
    },
    {
     "name": "stderr",
     "output_type": "stream",
     "text": [
      "\r",
      " 26% (1365 of 5082) |#####               | Elapsed Time: 0:01:24 ETA:   0:03:21"
     ]
    },
    {
     "name": "stdout",
     "output_type": "stream",
     "text": [
      "7\n",
      "5\n",
      "6\n",
      "25\n",
      "7\n"
     ]
    },
    {
     "name": "stderr",
     "output_type": "stream",
     "text": [
      "\r",
      " 26% (1368 of 5082) |#####               | Elapsed Time: 0:01:24 ETA:   0:03:23"
     ]
    },
    {
     "name": "stdout",
     "output_type": "stream",
     "text": [
      "14\n",
      "20\n",
      "11\n",
      "6\n",
      "8\n"
     ]
    },
    {
     "name": "stderr",
     "output_type": "stream",
     "text": [
      " 27% (1374 of 5082) |#####               | Elapsed Time: 0:01:24 ETA:   0:02:53"
     ]
    },
    {
     "name": "stdout",
     "output_type": "stream",
     "text": [
      "11\n",
      "8\n",
      "11\n",
      "17\n"
     ]
    },
    {
     "name": "stderr",
     "output_type": "stream",
     "text": [
      " 27% (1377 of 5082) |#####               | Elapsed Time: 0:01:25 ETA:   0:03:05"
     ]
    },
    {
     "name": "stdout",
     "output_type": "stream",
     "text": [
      "18\n",
      "20\n",
      "9\n",
      "13\n"
     ]
    },
    {
     "name": "stderr",
     "output_type": "stream",
     "text": [
      "\r",
      " 27% (1380 of 5082) |#####               | Elapsed Time: 0:01:25 ETA:   0:03:00"
     ]
    },
    {
     "name": "stdout",
     "output_type": "stream",
     "text": [
      "8\n",
      "9\n"
     ]
    },
    {
     "name": "stderr",
     "output_type": "stream",
     "text": [
      " 27% (1383 of 5082) |#####               | Elapsed Time: 0:01:25 ETA:   0:03:34"
     ]
    },
    {
     "name": "stdout",
     "output_type": "stream",
     "text": [
      "25\n",
      "25\n",
      "12\n"
     ]
    },
    {
     "name": "stderr",
     "output_type": "stream",
     "text": [
      " 27% (1389 of 5082) |#####               | Elapsed Time: 0:01:25 ETA:   0:03:37"
     ]
    },
    {
     "name": "stdout",
     "output_type": "stream",
     "text": [
      "7\n",
      "10\n",
      "8\n",
      "7\n",
      "14\n",
      "8\n",
      "3\n",
      "8\n"
     ]
    },
    {
     "name": "stderr",
     "output_type": "stream",
     "text": [
      " 27% (1397 of 5082) |#####               | Elapsed Time: 0:01:26 ETA:   0:03:20"
     ]
    },
    {
     "name": "stdout",
     "output_type": "stream",
     "text": [
      "16\n",
      "2\n",
      "9\n",
      "9\n",
      "11\n"
     ]
    },
    {
     "name": "stderr",
     "output_type": "stream",
     "text": [
      " 27% (1401 of 5082) |#####               | Elapsed Time: 0:01:26 ETA:   0:03:30"
     ]
    },
    {
     "name": "stdout",
     "output_type": "stream",
     "text": [
      "17\n",
      "12\n",
      "6\n",
      "25\n",
      "11\n",
      "10\n"
     ]
    },
    {
     "name": "stderr",
     "output_type": "stream",
     "text": [
      " 27% (1406 of 5082) |#####               | Elapsed Time: 0:01:26 ETA:   0:03:56"
     ]
    },
    {
     "name": "stdout",
     "output_type": "stream",
     "text": [
      "25\n",
      "10\n",
      "15\n",
      "7\n",
      "8\n",
      "8\n"
     ]
    },
    {
     "name": "stderr",
     "output_type": "stream",
     "text": [
      " 27% (1412 of 5082) |#####               | Elapsed Time: 0:01:27 ETA:   0:04:01"
     ]
    },
    {
     "name": "stdout",
     "output_type": "stream",
     "text": [
      "25\n",
      "17\n",
      "15\n",
      "20\n"
     ]
    },
    {
     "name": "stderr",
     "output_type": "stream",
     "text": [
      " 27% (1420 of 5082) |#####               | Elapsed Time: 0:01:27 ETA:   0:03:20"
     ]
    },
    {
     "name": "stdout",
     "output_type": "stream",
     "text": [
      "9\n",
      "10\n",
      "11\n",
      "4\n",
      "7\n",
      "6\n",
      "8\n"
     ]
    },
    {
     "name": "stderr",
     "output_type": "stream",
     "text": [
      " 28% (1426 of 5082) |#####               | Elapsed Time: 0:01:27 ETA:   0:03:19"
     ]
    },
    {
     "name": "stdout",
     "output_type": "stream",
     "text": [
      "13\n",
      "11\n",
      "9\n",
      "5\n",
      "4\n",
      "17\n",
      "10\n"
     ]
    },
    {
     "name": "stderr",
     "output_type": "stream",
     "text": [
      " 28% (1430 of 5082) |#####               | Elapsed Time: 0:01:28 ETA:   0:03:43"
     ]
    },
    {
     "name": "stdout",
     "output_type": "stream",
     "text": [
      "13\n",
      "17\n",
      "10\n",
      "8\n",
      "8\n",
      "12\n"
     ]
    },
    {
     "name": "stderr",
     "output_type": "stream",
     "text": [
      " 28% (1438 of 5082) |#####               | Elapsed Time: 0:01:28 ETA:   0:03:29"
     ]
    },
    {
     "name": "stdout",
     "output_type": "stream",
     "text": [
      "6\n",
      "11\n",
      "6\n",
      "7\n",
      "12\n"
     ]
    },
    {
     "name": "stderr",
     "output_type": "stream",
     "text": [
      " 28% (1443 of 5082) |#####               | Elapsed Time: 0:01:28 ETA:   0:03:14"
     ]
    },
    {
     "name": "stdout",
     "output_type": "stream",
     "text": [
      "25\n",
      "3\n",
      "8\n",
      "3\n",
      "12\n"
     ]
    },
    {
     "name": "stderr",
     "output_type": "stream",
     "text": [
      " 28% (1446 of 5082) |#####               | Elapsed Time: 0:01:29 ETA:   0:03:26"
     ]
    },
    {
     "name": "stdout",
     "output_type": "stream",
     "text": [
      "25\n",
      "13\n",
      "16\n",
      "8\n"
     ]
    },
    {
     "name": "stderr",
     "output_type": "stream",
     "text": [
      " 28% (1449 of 5082) |#####               | Elapsed Time: 0:01:29 ETA:   0:03:20"
     ]
    },
    {
     "name": "stdout",
     "output_type": "stream",
     "text": [
      "18\n",
      "23\n",
      "8\n",
      "14\n"
     ]
    },
    {
     "name": "stderr",
     "output_type": "stream",
     "text": [
      " 28% (1455 of 5082) |#####               | Elapsed Time: 0:01:29 ETA:   0:03:36"
     ]
    },
    {
     "name": "stdout",
     "output_type": "stream",
     "text": [
      "8\n",
      "21\n",
      "15\n",
      "14\n"
     ]
    },
    {
     "name": "stderr",
     "output_type": "stream",
     "text": [
      " 28% (1462 of 5082) |#####               | Elapsed Time: 0:01:29 ETA:   0:03:32"
     ]
    },
    {
     "name": "stdout",
     "output_type": "stream",
     "text": [
      "15\n",
      "17\n",
      "5\n",
      "3\n",
      "11\n",
      "3\n",
      "11\n"
     ]
    },
    {
     "name": "stderr",
     "output_type": "stream",
     "text": [
      "\r",
      " 28% (1465 of 5082) |#####               | Elapsed Time: 0:01:30 ETA:   0:03:26"
     ]
    },
    {
     "name": "stdout",
     "output_type": "stream",
     "text": [
      "6\n",
      "10\n",
      "14\n"
     ]
    },
    {
     "name": "stderr",
     "output_type": "stream",
     "text": [
      " 28% (1469 of 5082) |#####               | Elapsed Time: 0:01:30 ETA:   0:03:29"
     ]
    },
    {
     "name": "stdout",
     "output_type": "stream",
     "text": [
      "19\n",
      "7\n",
      "7\n",
      "7\n",
      "12\n"
     ]
    },
    {
     "name": "stderr",
     "output_type": "stream",
     "text": [
      " 29% (1474 of 5082) |#####               | Elapsed Time: 0:01:30 ETA:   0:03:36"
     ]
    },
    {
     "name": "stdout",
     "output_type": "stream",
     "text": [
      "22\n",
      "6\n",
      "7\n",
      "10\n",
      "6\n"
     ]
    },
    {
     "name": "stderr",
     "output_type": "stream",
     "text": [
      " 29% (1479 of 5082) |#####               | Elapsed Time: 0:01:30 ETA:   0:03:34"
     ]
    },
    {
     "name": "stdout",
     "output_type": "stream",
     "text": [
      "8\n",
      "22\n",
      "10\n",
      "15\n",
      "14\n"
     ]
    },
    {
     "name": "stderr",
     "output_type": "stream",
     "text": [
      " 29% (1482 of 5082) |#####               | Elapsed Time: 0:01:31 ETA:   0:03:28"
     ]
    },
    {
     "name": "stdout",
     "output_type": "stream",
     "text": [
      "7\n",
      "25\n",
      "7\n",
      "10\n",
      "4\n"
     ]
    },
    {
     "name": "stderr",
     "output_type": "stream",
     "text": [
      " 29% (1489 of 5082) |#####               | Elapsed Time: 0:01:31 ETA:   0:03:10"
     ]
    },
    {
     "name": "stdout",
     "output_type": "stream",
     "text": [
      "12\n",
      "7\n",
      "11\n",
      "7\n",
      "10\n",
      "4\n"
     ]
    },
    {
     "name": "stderr",
     "output_type": "stream",
     "text": [
      " 29% (1496 of 5082) |#####               | Elapsed Time: 0:01:31 ETA:   0:02:59"
     ]
    },
    {
     "name": "stdout",
     "output_type": "stream",
     "text": [
      "6\n",
      "19\n",
      "7\n",
      "9\n",
      "8\n"
     ]
    },
    {
     "name": "stderr",
     "output_type": "stream",
     "text": [
      " 29% (1501 of 5082) |#####               | Elapsed Time: 0:01:31 ETA:   0:02:51"
     ]
    },
    {
     "name": "stdout",
     "output_type": "stream",
     "text": [
      "6\n",
      "10\n",
      "8\n",
      "13\n",
      "11\n",
      "14\n"
     ]
    },
    {
     "name": "stderr",
     "output_type": "stream",
     "text": [
      " 29% (1506 of 5082) |#####               | Elapsed Time: 0:01:32 ETA:   0:02:59"
     ]
    },
    {
     "name": "stdout",
     "output_type": "stream",
     "text": [
      "9\n",
      "10\n",
      "7\n",
      "14\n",
      "4\n"
     ]
    },
    {
     "name": "stderr",
     "output_type": "stream",
     "text": [
      " 29% (1512 of 5082) |#####               | Elapsed Time: 0:01:32 ETA:   0:02:58"
     ]
    },
    {
     "name": "stdout",
     "output_type": "stream",
     "text": [
      "25\n",
      "7\n",
      "8\n",
      "3\n",
      "13\n",
      "12\n"
     ]
    },
    {
     "name": "stderr",
     "output_type": "stream",
     "text": [
      " 29% (1517 of 5082) |#####               | Elapsed Time: 0:01:32 ETA:   0:02:58"
     ]
    },
    {
     "name": "stdout",
     "output_type": "stream",
     "text": [
      "15\n",
      "16\n",
      "6\n",
      "5\n",
      "7\n",
      "14\n"
     ]
    },
    {
     "name": "stderr",
     "output_type": "stream",
     "text": [
      " 29% (1523 of 5082) |#####               | Elapsed Time: 0:01:33 ETA:   0:02:57"
     ]
    },
    {
     "name": "stdout",
     "output_type": "stream",
     "text": [
      "25\n",
      "4\n",
      "15\n",
      "11\n",
      "16\n"
     ]
    },
    {
     "name": "stderr",
     "output_type": "stream",
     "text": [
      "\r",
      " 30% (1526 of 5082) |######              | Elapsed Time: 0:01:33 ETA:   0:03:00"
     ]
    },
    {
     "name": "stdout",
     "output_type": "stream",
     "text": [
      "6\n",
      "22\n",
      "18\n"
     ]
    },
    {
     "name": "stderr",
     "output_type": "stream",
     "text": [
      "\r",
      " 30% (1528 of 5082) |######              | Elapsed Time: 0:01:33 ETA:   0:03:06"
     ]
    },
    {
     "name": "stdout",
     "output_type": "stream",
     "text": [
      "13\n",
      "11\n"
     ]
    },
    {
     "name": "stderr",
     "output_type": "stream",
     "text": [
      " 30% (1532 of 5082) |######              | Elapsed Time: 0:01:34 ETA:   0:04:10"
     ]
    },
    {
     "name": "stdout",
     "output_type": "stream",
     "text": [
      "25\n",
      "15\n",
      "10\n",
      "6\n",
      "7\n",
      "5\n"
     ]
    },
    {
     "name": "stderr",
     "output_type": "stream",
     "text": [
      " 30% (1538 of 5082) |######              | Elapsed Time: 0:01:34 ETA:   0:04:02"
     ]
    },
    {
     "name": "stdout",
     "output_type": "stream",
     "text": [
      "11\n",
      "8\n",
      "24\n",
      "2\n",
      "7\n"
     ]
    },
    {
     "name": "stderr",
     "output_type": "stream",
     "text": [
      " 30% (1544 of 5082) |######              | Elapsed Time: 0:01:34 ETA:   0:03:36"
     ]
    },
    {
     "name": "stdout",
     "output_type": "stream",
     "text": [
      "9\n",
      "13\n",
      "12\n",
      "8\n",
      "6\n"
     ]
    },
    {
     "name": "stderr",
     "output_type": "stream",
     "text": [
      " 30% (1547 of 5082) |######              | Elapsed Time: 0:01:34 ETA:   0:04:02"
     ]
    },
    {
     "name": "stdout",
     "output_type": "stream",
     "text": [
      "21\n",
      "25\n",
      "21\n"
     ]
    },
    {
     "name": "stderr",
     "output_type": "stream",
     "text": [
      "\r",
      " 30% (1549 of 5082) |######              | Elapsed Time: 0:01:35 ETA:   0:04:48"
     ]
    },
    {
     "name": "stdout",
     "output_type": "stream",
     "text": [
      "25\n",
      "4\n",
      "5\n"
     ]
    },
    {
     "name": "stderr",
     "output_type": "stream",
     "text": [
      "\r",
      " 30% (1552 of 5082) |######              | Elapsed Time: 0:01:35 ETA:   0:05:55"
     ]
    },
    {
     "name": "stdout",
     "output_type": "stream",
     "text": [
      "25\n",
      "25\n"
     ]
    },
    {
     "name": "stderr",
     "output_type": "stream",
     "text": [
      " 30% (1558 of 5082) |######              | Elapsed Time: 0:01:36 ETA:   0:05:56"
     ]
    },
    {
     "name": "stdout",
     "output_type": "stream",
     "text": [
      "16\n",
      "18\n",
      "8\n",
      "11\n",
      "9\n"
     ]
    },
    {
     "name": "stderr",
     "output_type": "stream",
     "text": [
      " 30% (1563 of 5082) |######              | Elapsed Time: 0:01:36 ETA:   0:05:58"
     ]
    },
    {
     "name": "stdout",
     "output_type": "stream",
     "text": [
      "8\n",
      "16\n",
      "7\n",
      "7\n",
      "15\n",
      "16\n",
      "25\n"
     ]
    },
    {
     "name": "stderr",
     "output_type": "stream",
     "text": [
      " 30% (1568 of 5082) |######              | Elapsed Time: 0:01:37 ETA:   0:06:13"
     ]
    },
    {
     "name": "stdout",
     "output_type": "stream",
     "text": [
      "10\n",
      "11\n",
      "8\n",
      "8\n",
      "8\n"
     ]
    },
    {
     "name": "stderr",
     "output_type": "stream",
     "text": [
      " 30% (1574 of 5082) |######              | Elapsed Time: 0:01:37 ETA:   0:05:02"
     ]
    },
    {
     "name": "stdout",
     "output_type": "stream",
     "text": [
      "16\n",
      "9\n",
      "7\n",
      "16\n"
     ]
    },
    {
     "name": "stderr",
     "output_type": "stream",
     "text": [
      "\r",
      " 30% (1575 of 5082) |######              | Elapsed Time: 0:01:37 ETA:   0:05:04"
     ]
    },
    {
     "name": "stdout",
     "output_type": "stream",
     "text": [
      "19\n",
      "8\n"
     ]
    },
    {
     "name": "stderr",
     "output_type": "stream",
     "text": [
      " 31% (1579 of 5082) |######              | Elapsed Time: 0:01:37 ETA:   0:04:25"
     ]
    },
    {
     "name": "stdout",
     "output_type": "stream",
     "text": [
      "25\n",
      "16\n",
      "12\n",
      "10\n"
     ]
    },
    {
     "name": "stderr",
     "output_type": "stream",
     "text": [
      "\r",
      " 31% (1582 of 5082) |######              | Elapsed Time: 0:01:38 ETA:   0:04:02"
     ]
    },
    {
     "name": "stdout",
     "output_type": "stream",
     "text": [
      "4\n",
      "25\n",
      "3\n",
      "7\n",
      "10\n"
     ]
    },
    {
     "name": "stderr",
     "output_type": "stream",
     "text": [
      " 31% (1588 of 5082) |######              | Elapsed Time: 0:01:38 ETA:   0:04:20"
     ]
    },
    {
     "name": "stdout",
     "output_type": "stream",
     "text": [
      "25\n",
      "12\n",
      "21\n",
      "5\n",
      "8\n"
     ]
    },
    {
     "name": "stderr",
     "output_type": "stream",
     "text": [
      " 31% (1594 of 5082) |######              | Elapsed Time: 0:01:38 ETA:   0:04:08"
     ]
    },
    {
     "name": "stdout",
     "output_type": "stream",
     "text": [
      "8\n",
      "8\n",
      "13\n",
      "11\n",
      "9\n",
      "10\n"
     ]
    },
    {
     "name": "stderr",
     "output_type": "stream",
     "text": [
      " 31% (1598 of 5082) |######              | Elapsed Time: 0:01:39 ETA:   0:03:54"
     ]
    },
    {
     "name": "stdout",
     "output_type": "stream",
     "text": [
      "23\n",
      "24\n",
      "9\n",
      "7\n",
      "7\n"
     ]
    },
    {
     "name": "stderr",
     "output_type": "stream",
     "text": [
      " 31% (1604 of 5082) |######              | Elapsed Time: 0:01:39 ETA:   0:03:47"
     ]
    },
    {
     "name": "stdout",
     "output_type": "stream",
     "text": [
      "4\n",
      "9\n",
      "25\n"
     ]
    },
    {
     "name": "stderr",
     "output_type": "stream",
     "text": [
      "\r",
      " 31% (1607 of 5082) |######              | Elapsed Time: 0:01:39 ETA:   0:03:38"
     ]
    },
    {
     "name": "stdout",
     "output_type": "stream",
     "text": [
      "18\n",
      "5\n",
      "8\n",
      "15\n"
     ]
    },
    {
     "name": "stderr",
     "output_type": "stream",
     "text": [
      " 31% (1610 of 5082) |######              | Elapsed Time: 0:01:39 ETA:   0:03:48"
     ]
    },
    {
     "name": "stdout",
     "output_type": "stream",
     "text": [
      "25\n",
      "18\n",
      "6\n"
     ]
    },
    {
     "name": "stderr",
     "output_type": "stream",
     "text": [
      " 31% (1614 of 5082) |######              | Elapsed Time: 0:01:40 ETA:   0:04:22"
     ]
    },
    {
     "name": "stdout",
     "output_type": "stream",
     "text": [
      "25\n",
      "21\n",
      "5\n",
      "25\n"
     ]
    },
    {
     "name": "stderr",
     "output_type": "stream",
     "text": [
      " 31% (1619 of 5082) |######              | Elapsed Time: 0:01:40 ETA:   0:04:28"
     ]
    },
    {
     "name": "stdout",
     "output_type": "stream",
     "text": [
      "9\n",
      "3\n",
      "7\n",
      "13\n",
      "6\n",
      "13\n"
     ]
    },
    {
     "name": "stderr",
     "output_type": "stream",
     "text": [
      " 31% (1626 of 5082) |######              | Elapsed Time: 0:01:41 ETA:   0:04:10"
     ]
    },
    {
     "name": "stdout",
     "output_type": "stream",
     "text": [
      "17\n",
      "5\n",
      "4\n",
      "7\n",
      "12\n",
      "5\n",
      "4\n",
      "6\n"
     ]
    },
    {
     "name": "stderr",
     "output_type": "stream",
     "text": [
      " 32% (1632 of 5082) |######              | Elapsed Time: 0:01:41 ETA:   0:04:11"
     ]
    },
    {
     "name": "stdout",
     "output_type": "stream",
     "text": [
      "25\n",
      "6\n",
      "22\n",
      "14\n",
      "5\n"
     ]
    },
    {
     "name": "stderr",
     "output_type": "stream",
     "text": [
      " 32% (1637 of 5082) |######              | Elapsed Time: 0:01:41 ETA:   0:04:11"
     ]
    },
    {
     "name": "stdout",
     "output_type": "stream",
     "text": [
      "9\n",
      "10\n",
      "25\n"
     ]
    },
    {
     "name": "stderr",
     "output_type": "stream",
     "text": [
      " 32% (1642 of 5082) |######              | Elapsed Time: 0:01:41 ETA:   0:03:52"
     ]
    },
    {
     "name": "stdout",
     "output_type": "stream",
     "text": [
      "5\n",
      "19\n",
      "7\n",
      "10\n",
      "9\n"
     ]
    },
    {
     "name": "stderr",
     "output_type": "stream",
     "text": [
      "\r",
      " 32% (1644 of 5082) |######              | Elapsed Time: 0:01:42 ETA:   0:03:54"
     ]
    },
    {
     "name": "stdout",
     "output_type": "stream",
     "text": [
      "10\n",
      "25\n",
      "10\n",
      "6\n",
      "12\n"
     ]
    },
    {
     "name": "stderr",
     "output_type": "stream",
     "text": [
      " 32% (1650 of 5082) |######              | Elapsed Time: 0:01:42 ETA:   0:03:39"
     ]
    },
    {
     "name": "stdout",
     "output_type": "stream",
     "text": [
      "7\n",
      "6\n",
      "13\n",
      "15\n",
      "2\n"
     ]
    },
    {
     "name": "stderr",
     "output_type": "stream",
     "text": [
      " 32% (1655 of 5082) |######              | Elapsed Time: 0:01:42 ETA:   0:02:56"
     ]
    },
    {
     "name": "stdout",
     "output_type": "stream",
     "text": [
      "25\n",
      "21\n",
      "7\n",
      "21\n"
     ]
    },
    {
     "name": "stderr",
     "output_type": "stream",
     "text": [
      " 32% (1660 of 5082) |######              | Elapsed Time: 0:01:42 ETA:   0:03:02"
     ]
    },
    {
     "name": "stdout",
     "output_type": "stream",
     "text": [
      "4\n",
      "8\n",
      "12\n",
      "17\n",
      "14\n",
      "4\n"
     ]
    },
    {
     "name": "stderr",
     "output_type": "stream",
     "text": [
      " 32% (1666 of 5082) |######              | Elapsed Time: 0:01:43 ETA:   0:03:13"
     ]
    },
    {
     "name": "stdout",
     "output_type": "stream",
     "text": [
      "25\n",
      "12\n",
      "5\n",
      "17\n",
      "7\n",
      "4\n"
     ]
    },
    {
     "name": "stderr",
     "output_type": "stream",
     "text": [
      " 32% (1672 of 5082) |######              | Elapsed Time: 0:01:43 ETA:   0:03:05"
     ]
    },
    {
     "name": "stdout",
     "output_type": "stream",
     "text": [
      "13\n",
      "13\n",
      "6\n",
      "7\n",
      "11\n",
      "11\n"
     ]
    },
    {
     "name": "stderr",
     "output_type": "stream",
     "text": [
      " 32% (1677 of 5082) |######              | Elapsed Time: 0:01:43 ETA:   0:03:01"
     ]
    },
    {
     "name": "stdout",
     "output_type": "stream",
     "text": [
      "8\n",
      "13\n",
      "25\n"
     ]
    },
    {
     "name": "stderr",
     "output_type": "stream",
     "text": [
      "\r",
      " 33% (1679 of 5082) |######              | Elapsed Time: 0:01:44 ETA:   0:03:14"
     ]
    },
    {
     "name": "stdout",
     "output_type": "stream",
     "text": [
      "10\n",
      "25\n",
      "3\n",
      "10\n"
     ]
    },
    {
     "name": "stderr",
     "output_type": "stream",
     "text": [
      " 33% (1687 of 5082) |######              | Elapsed Time: 0:01:44 ETA:   0:03:13"
     ]
    },
    {
     "name": "stdout",
     "output_type": "stream",
     "text": [
      "12\n",
      "18\n",
      "13\n",
      "5\n",
      "10\n",
      "6\n"
     ]
    },
    {
     "name": "stderr",
     "output_type": "stream",
     "text": [
      "\r",
      " 33% (1689 of 5082) |######              | Elapsed Time: 0:01:44 ETA:   0:03:13"
     ]
    },
    {
     "name": "stdout",
     "output_type": "stream",
     "text": [
      "5\n",
      "15\n",
      "8\n"
     ]
    },
    {
     "name": "stderr",
     "output_type": "stream",
     "text": [
      " 33% (1693 of 5082) |######              | Elapsed Time: 0:01:45 ETA:   0:03:37"
     ]
    },
    {
     "name": "stdout",
     "output_type": "stream",
     "text": [
      "25\n",
      "17\n",
      "13\n"
     ]
    },
    {
     "name": "stderr",
     "output_type": "stream",
     "text": [
      " 33% (1696 of 5082) |######              | Elapsed Time: 0:01:45 ETA:   0:04:19"
     ]
    },
    {
     "name": "stdout",
     "output_type": "stream",
     "text": [
      "25\n",
      "17\n",
      "15\n"
     ]
    },
    {
     "name": "stderr",
     "output_type": "stream",
     "text": [
      "\r",
      " 33% (1699 of 5082) |######              | Elapsed Time: 0:01:45 ETA:   0:04:19"
     ]
    },
    {
     "name": "stdout",
     "output_type": "stream",
     "text": [
      "10\n",
      "9\n",
      "10\n",
      "6\n"
     ]
    },
    {
     "name": "stderr",
     "output_type": "stream",
     "text": [
      "\r",
      " 33% (1701 of 5082) |######              | Elapsed Time: 0:01:45 ETA:   0:04:40"
     ]
    },
    {
     "name": "stdout",
     "output_type": "stream",
     "text": [
      "25\n",
      "9\n"
     ]
    },
    {
     "name": "stderr",
     "output_type": "stream",
     "text": [
      " 33% (1706 of 5082) |######              | Elapsed Time: 0:01:46 ETA:   0:04:48"
     ]
    },
    {
     "name": "stdout",
     "output_type": "stream",
     "text": [
      "25\n",
      "12\n",
      "5\n",
      "12\n",
      "14\n"
     ]
    },
    {
     "name": "stderr",
     "output_type": "stream",
     "text": [
      " 33% (1710 of 5082) |######              | Elapsed Time: 0:01:46 ETA:   0:05:27"
     ]
    },
    {
     "name": "stdout",
     "output_type": "stream",
     "text": [
      "25\n",
      "11\n",
      "14\n",
      "9\n",
      "12\n",
      "2\n"
     ]
    },
    {
     "name": "stderr",
     "output_type": "stream",
     "text": [
      " 33% (1717 of 5082) |######              | Elapsed Time: 0:01:46 ETA:   0:04:38"
     ]
    },
    {
     "name": "stdout",
     "output_type": "stream",
     "text": [
      "5\n",
      "14\n",
      "5\n",
      "20\n"
     ]
    },
    {
     "name": "stderr",
     "output_type": "stream",
     "text": [
      "\r",
      " 33% (1719 of 5082) |######              | Elapsed Time: 0:01:47 ETA:   0:04:31"
     ]
    },
    {
     "name": "stdout",
     "output_type": "stream",
     "text": [
      "15\n",
      "25\n"
     ]
    },
    {
     "name": "stderr",
     "output_type": "stream",
     "text": [
      " 33% (1722 of 5082) |######              | Elapsed Time: 0:01:47 ETA:   0:04:15"
     ]
    },
    {
     "name": "stdout",
     "output_type": "stream",
     "text": [
      "25\n",
      "12\n",
      "18\n"
     ]
    },
    {
     "name": "stderr",
     "output_type": "stream",
     "text": [
      " 33% (1726 of 5082) |######              | Elapsed Time: 0:01:47 ETA:   0:04:27"
     ]
    },
    {
     "name": "stdout",
     "output_type": "stream",
     "text": [
      "13\n",
      "6\n",
      "10\n",
      "25\n"
     ]
    },
    {
     "name": "stderr",
     "output_type": "stream",
     "text": [
      " 34% (1731 of 5082) |######              | Elapsed Time: 0:01:48 ETA:   0:04:04"
     ]
    },
    {
     "name": "stdout",
     "output_type": "stream",
     "text": [
      "24\n",
      "9\n",
      "6\n",
      "7\n",
      "11\n",
      "10\n",
      "14\n"
     ]
    },
    {
     "name": "stderr",
     "output_type": "stream",
     "text": [
      " 34% (1737 of 5082) |######              | Elapsed Time: 0:01:48 ETA:   0:03:38"
     ]
    },
    {
     "name": "stdout",
     "output_type": "stream",
     "text": [
      "6\n",
      "4\n",
      "7\n",
      "5\n"
     ]
    },
    {
     "name": "stderr",
     "output_type": "stream",
     "text": [
      " 34% (1740 of 5082) |######              | Elapsed Time: 0:01:48 ETA:   0:03:51"
     ]
    },
    {
     "name": "stdout",
     "output_type": "stream",
     "text": [
      "25\n",
      "16\n",
      "17\n"
     ]
    },
    {
     "name": "stderr",
     "output_type": "stream",
     "text": [
      " 34% (1744 of 5082) |######              | Elapsed Time: 0:01:49 ETA:   0:04:20"
     ]
    },
    {
     "name": "stdout",
     "output_type": "stream",
     "text": [
      "25\n",
      "7\n",
      "5\n",
      "25\n"
     ]
    },
    {
     "name": "stderr",
     "output_type": "stream",
     "text": [
      "\r",
      " 34% (1747 of 5082) |######              | Elapsed Time: 0:01:49 ETA:   0:04:05"
     ]
    },
    {
     "name": "stdout",
     "output_type": "stream",
     "text": [
      "7\n",
      "11\n",
      "25\n",
      "7\n"
     ]
    },
    {
     "name": "stderr",
     "output_type": "stream",
     "text": [
      " 34% (1753 of 5082) |######              | Elapsed Time: 0:01:49 ETA:   0:03:43"
     ]
    },
    {
     "name": "stdout",
     "output_type": "stream",
     "text": [
      "13\n",
      "9\n",
      "9\n",
      "7\n",
      "7\n",
      "8\n",
      "7\n"
     ]
    },
    {
     "name": "stderr",
     "output_type": "stream",
     "text": [
      " 34% (1758 of 5082) |######              | Elapsed Time: 0:01:49 ETA:   0:03:38"
     ]
    },
    {
     "name": "stdout",
     "output_type": "stream",
     "text": [
      "25\n",
      "21\n",
      "9\n",
      "15\n"
     ]
    },
    {
     "name": "stderr",
     "output_type": "stream",
     "text": [
      " 34% (1762 of 5082) |######              | Elapsed Time: 0:01:50 ETA:   0:03:42"
     ]
    },
    {
     "name": "stdout",
     "output_type": "stream",
     "text": [
      "11\n",
      "13\n",
      "10\n",
      "2\n",
      "13\n"
     ]
    },
    {
     "name": "stderr",
     "output_type": "stream",
     "text": [
      " 34% (1769 of 5082) |######              | Elapsed Time: 0:01:50 ETA:   0:03:31"
     ]
    },
    {
     "name": "stdout",
     "output_type": "stream",
     "text": [
      "8\n",
      "15\n",
      "5\n",
      "14\n",
      "10\n"
     ]
    },
    {
     "name": "stderr",
     "output_type": "stream",
     "text": [
      "\r",
      " 34% (1771 of 5082) |######              | Elapsed Time: 0:01:50 ETA:   0:03:24"
     ]
    },
    {
     "name": "stdout",
     "output_type": "stream",
     "text": [
      "22\n",
      "25\n"
     ]
    },
    {
     "name": "stderr",
     "output_type": "stream",
     "text": [
      "\r",
      " 34% (1773 of 5082) |######              | Elapsed Time: 0:01:50 ETA:   0:03:32"
     ]
    },
    {
     "name": "stdout",
     "output_type": "stream",
     "text": [
      "17\n",
      "25\n"
     ]
    },
    {
     "name": "stderr",
     "output_type": "stream",
     "text": [
      " 35% (1782 of 5082) |#######             | Elapsed Time: 0:01:51 ETA:   0:03:09"
     ]
    },
    {
     "name": "stdout",
     "output_type": "stream",
     "text": [
      "2\n",
      "8\n",
      "11\n",
      "5\n",
      "4\n",
      "13\n",
      "6\n",
      "5\n",
      "18\n"
     ]
    },
    {
     "name": "stderr",
     "output_type": "stream",
     "text": [
      "\r",
      " 35% (1784 of 5082) |#######             | Elapsed Time: 0:01:51 ETA:   0:03:15"
     ]
    },
    {
     "name": "stdout",
     "output_type": "stream",
     "text": [
      "10\n",
      "23\n",
      "6\n",
      "3\n",
      "4\n",
      "5\n",
      "5\n"
     ]
    },
    {
     "name": "stderr",
     "output_type": "stream",
     "text": [
      " 35% (1794 of 5082) |#######             | Elapsed Time: 0:01:51 ETA:   0:02:53"
     ]
    },
    {
     "name": "stdout",
     "output_type": "stream",
     "text": [
      "18\n",
      "13\n",
      "4\n",
      "4\n",
      "6\n",
      "2\n",
      "10\n"
     ]
    },
    {
     "name": "stderr",
     "output_type": "stream",
     "text": [
      " 35% (1799 of 5082) |#######             | Elapsed Time: 0:01:52 ETA:   0:02:50"
     ]
    },
    {
     "name": "stdout",
     "output_type": "stream",
     "text": [
      "15\n",
      "16\n",
      "25\n"
     ]
    },
    {
     "name": "stderr",
     "output_type": "stream",
     "text": [
      "\r",
      " 35% (1802 of 5082) |#######             | Elapsed Time: 0:01:52 ETA:   0:02:47"
     ]
    },
    {
     "name": "stdout",
     "output_type": "stream",
     "text": [
      "14\n",
      "5\n",
      "12\n",
      "14\n"
     ]
    },
    {
     "name": "stderr",
     "output_type": "stream",
     "text": [
      " 35% (1809 of 5082) |#######             | Elapsed Time: 0:01:52 ETA:   0:02:49"
     ]
    },
    {
     "name": "stdout",
     "output_type": "stream",
     "text": [
      "17\n",
      "3\n",
      "6\n",
      "7\n",
      "6\n",
      "16\n"
     ]
    },
    {
     "name": "stderr",
     "output_type": "stream",
     "text": [
      " 35% (1813 of 5082) |#######             | Elapsed Time: 0:01:52 ETA:   0:02:51"
     ]
    },
    {
     "name": "stdout",
     "output_type": "stream",
     "text": [
      "25\n",
      "9\n",
      "8\n",
      "12\n",
      "11\n"
     ]
    },
    {
     "name": "stderr",
     "output_type": "stream",
     "text": [
      "\r",
      " 35% (1816 of 5082) |#######             | Elapsed Time: 0:01:53 ETA:   0:02:48"
     ]
    },
    {
     "name": "stdout",
     "output_type": "stream",
     "text": [
      "8\n",
      "24\n",
      "5\n",
      "5\n",
      "9\n",
      "8\n"
     ]
    },
    {
     "name": "stderr",
     "output_type": "stream",
     "text": [
      "\r",
      " 35% (1820 of 5082) |#######             | Elapsed Time: 0:01:53 ETA:   0:02:41"
     ]
    },
    {
     "name": "stdout",
     "output_type": "stream",
     "text": [
      "8\n",
      "7\n",
      "7\n"
     ]
    },
    {
     "name": "stderr",
     "output_type": "stream",
     "text": [
      " 35% (1825 of 5082) |#######             | Elapsed Time: 0:01:53 ETA:   0:02:52"
     ]
    },
    {
     "name": "stdout",
     "output_type": "stream",
     "text": [
      "25\n",
      "25\n",
      "12\n"
     ]
    },
    {
     "name": "stderr",
     "output_type": "stream",
     "text": [
      " 35% (1829 of 5082) |#######             | Elapsed Time: 0:01:53 ETA:   0:03:25"
     ]
    },
    {
     "name": "stdout",
     "output_type": "stream",
     "text": [
      "17\n",
      "12\n",
      "11\n",
      "14\n"
     ]
    },
    {
     "name": "stderr",
     "output_type": "stream",
     "text": [
      " 36% (1833 of 5082) |#######             | Elapsed Time: 0:01:54 ETA:   0:03:16"
     ]
    },
    {
     "name": "stdout",
     "output_type": "stream",
     "text": [
      "19\n",
      "13\n",
      "9\n",
      "7\n",
      "10\n"
     ]
    },
    {
     "name": "stderr",
     "output_type": "stream",
     "text": [
      " 36% (1838 of 5082) |#######             | Elapsed Time: 0:01:54 ETA:   0:03:16"
     ]
    },
    {
     "name": "stdout",
     "output_type": "stream",
     "text": [
      "16\n",
      "11\n",
      "12\n",
      "8\n",
      "7\n",
      "5\n"
     ]
    },
    {
     "name": "stderr",
     "output_type": "stream",
     "text": [
      " 36% (1844 of 5082) |#######             | Elapsed Time: 0:01:54 ETA:   0:03:14"
     ]
    },
    {
     "name": "stdout",
     "output_type": "stream",
     "text": [
      "7\n",
      "6\n",
      "24\n",
      "9\n",
      "7\n"
     ]
    },
    {
     "name": "stderr",
     "output_type": "stream",
     "text": [
      " 36% (1851 of 5082) |#######             | Elapsed Time: 0:01:54 ETA:   0:02:50"
     ]
    },
    {
     "name": "stdout",
     "output_type": "stream",
     "text": [
      "10\n",
      "3\n",
      "8\n",
      "10\n",
      "13\n",
      "12\n"
     ]
    },
    {
     "name": "stderr",
     "output_type": "stream",
     "text": [
      " 36% (1857 of 5082) |#######             | Elapsed Time: 0:01:55 ETA:   0:02:44"
     ]
    },
    {
     "name": "stdout",
     "output_type": "stream",
     "text": [
      "11\n",
      "8\n",
      "12\n",
      "9\n",
      "13\n"
     ]
    },
    {
     "name": "stderr",
     "output_type": "stream",
     "text": [
      "\r",
      " 36% (1860 of 5082) |#######             | Elapsed Time: 0:01:55 ETA:   0:02:48"
     ]
    },
    {
     "name": "stdout",
     "output_type": "stream",
     "text": [
      "9\n",
      "13\n",
      "7\n",
      "8\n",
      "12\n",
      "16\n"
     ]
    },
    {
     "name": "stderr",
     "output_type": "stream",
     "text": [
      " 36% (1866 of 5082) |#######             | Elapsed Time: 0:01:55 ETA:   0:02:46"
     ]
    },
    {
     "name": "stdout",
     "output_type": "stream",
     "text": [
      "23\n",
      "10\n",
      "10\n",
      "10\n",
      "6\n",
      "13\n"
     ]
    },
    {
     "name": "stderr",
     "output_type": "stream",
     "text": [
      " 36% (1873 of 5082) |#######             | Elapsed Time: 0:01:55 ETA:   0:02:35"
     ]
    },
    {
     "name": "stdout",
     "output_type": "stream",
     "text": [
      "25\n",
      "7\n",
      "6\n",
      "12\n",
      "22\n"
     ]
    },
    {
     "name": "stderr",
     "output_type": "stream",
     "text": [
      " 36% (1877 of 5082) |#######             | Elapsed Time: 0:01:56 ETA:   0:02:41"
     ]
    },
    {
     "name": "stdout",
     "output_type": "stream",
     "text": [
      "15\n",
      "8\n",
      "25\n"
     ]
    },
    {
     "name": "stderr",
     "output_type": "stream",
     "text": [
      " 36% (1880 of 5082) |#######             | Elapsed Time: 0:01:56 ETA:   0:02:56"
     ]
    },
    {
     "name": "stdout",
     "output_type": "stream",
     "text": [
      "19\n",
      "20\n",
      "10\n",
      "5\n",
      "7\n"
     ]
    },
    {
     "name": "stderr",
     "output_type": "stream",
     "text": [
      " 37% (1885 of 5082) |#######             | Elapsed Time: 0:01:56 ETA:   0:02:52"
     ]
    },
    {
     "name": "stdout",
     "output_type": "stream",
     "text": [
      "10\n",
      "17\n",
      "10\n",
      "12\n",
      "16\n"
     ]
    },
    {
     "name": "stderr",
     "output_type": "stream",
     "text": [
      " 37% (1892 of 5082) |#######             | Elapsed Time: 0:01:57 ETA:   0:02:59"
     ]
    },
    {
     "name": "stdout",
     "output_type": "stream",
     "text": [
      "8\n",
      "6\n",
      "8\n",
      "11\n",
      "12\n"
     ]
    },
    {
     "name": "stderr",
     "output_type": "stream",
     "text": [
      "\r",
      " 37% (1895 of 5082) |#######             | Elapsed Time: 0:01:57 ETA:   0:03:04"
     ]
    },
    {
     "name": "stdout",
     "output_type": "stream",
     "text": [
      "6\n",
      "8\n",
      "24\n",
      "10\n"
     ]
    },
    {
     "name": "stderr",
     "output_type": "stream",
     "text": [
      " 37% (1900 of 5082) |#######             | Elapsed Time: 0:01:57 ETA:   0:03:05"
     ]
    },
    {
     "name": "stdout",
     "output_type": "stream",
     "text": [
      "7\n",
      "25\n",
      "13\n",
      "19\n",
      "15\n",
      "7\n"
     ]
    },
    {
     "name": "stderr",
     "output_type": "stream",
     "text": [
      " 37% (1910 of 5082) |#######             | Elapsed Time: 0:01:58 ETA:   0:02:56"
     ]
    },
    {
     "name": "stdout",
     "output_type": "stream",
     "text": [
      "15\n",
      "8\n",
      "6\n",
      "7\n",
      "5\n",
      "5\n",
      "9\n",
      "5\n"
     ]
    },
    {
     "name": "stderr",
     "output_type": "stream",
     "text": [
      " 37% (1915 of 5082) |#######             | Elapsed Time: 0:01:58 ETA:   0:02:46"
     ]
    },
    {
     "name": "stdout",
     "output_type": "stream",
     "text": [
      "13\n",
      "6\n",
      "4\n",
      "13\n",
      "12\n",
      "11\n"
     ]
    },
    {
     "name": "stderr",
     "output_type": "stream",
     "text": [
      " 37% (1920 of 5082) |#######             | Elapsed Time: 0:01:58 ETA:   0:02:37"
     ]
    },
    {
     "name": "stdout",
     "output_type": "stream",
     "text": [
      "6\n",
      "7\n",
      "7\n",
      "15\n",
      "14\n"
     ]
    },
    {
     "name": "stderr",
     "output_type": "stream",
     "text": [
      " 37% (1925 of 5082) |#######             | Elapsed Time: 0:01:58 ETA:   0:02:38"
     ]
    },
    {
     "name": "stdout",
     "output_type": "stream",
     "text": [
      "8\n",
      "4\n",
      "4\n",
      "16\n"
     ]
    },
    {
     "name": "stderr",
     "output_type": "stream",
     "text": [
      " 37% (1928 of 5082) |#######             | Elapsed Time: 0:01:58 ETA:   0:02:40"
     ]
    },
    {
     "name": "stdout",
     "output_type": "stream",
     "text": [
      "18\n",
      "9\n",
      "17\n",
      "14\n"
     ]
    },
    {
     "name": "stderr",
     "output_type": "stream",
     "text": [
      " 38% (1932 of 5082) |#######             | Elapsed Time: 0:01:59 ETA:   0:02:56"
     ]
    },
    {
     "name": "stdout",
     "output_type": "stream",
     "text": [
      "13\n",
      "7\n",
      "11\n"
     ]
    },
    {
     "name": "stderr",
     "output_type": "stream",
     "text": [
      " 38% (1936 of 5082) |#######             | Elapsed Time: 0:01:59 ETA:   0:02:55"
     ]
    },
    {
     "name": "stdout",
     "output_type": "stream",
     "text": [
      "14\n",
      "4\n",
      "5\n",
      "11\n",
      "11\n"
     ]
    },
    {
     "name": "stderr",
     "output_type": "stream",
     "text": [
      " 38% (1940 of 5082) |#######             | Elapsed Time: 0:01:59 ETA:   0:03:06"
     ]
    },
    {
     "name": "stdout",
     "output_type": "stream",
     "text": [
      "14\n",
      "14\n",
      "15\n"
     ]
    },
    {
     "name": "stderr",
     "output_type": "stream",
     "text": [
      " 38% (1945 of 5082) |#######             | Elapsed Time: 0:02:00 ETA:   0:03:29"
     ]
    },
    {
     "name": "stdout",
     "output_type": "stream",
     "text": [
      "7\n",
      "17\n",
      "7\n",
      "5\n",
      "9\n",
      "10\n"
     ]
    },
    {
     "name": "stderr",
     "output_type": "stream",
     "text": [
      " 38% (1949 of 5082) |#######             | Elapsed Time: 0:02:00 ETA:   0:03:45"
     ]
    },
    {
     "name": "stdout",
     "output_type": "stream",
     "text": [
      "16\n",
      "10\n",
      "25\n",
      "14\n"
     ]
    },
    {
     "name": "stderr",
     "output_type": "stream",
     "text": [
      " 38% (1954 of 5082) |#######             | Elapsed Time: 0:02:00 ETA:   0:03:44"
     ]
    },
    {
     "name": "stdout",
     "output_type": "stream",
     "text": [
      "7\n",
      "8\n",
      "8\n",
      "20\n"
     ]
    },
    {
     "name": "stderr",
     "output_type": "stream",
     "text": [
      " 38% (1958 of 5082) |#######             | Elapsed Time: 0:02:01 ETA:   0:03:41"
     ]
    },
    {
     "name": "stdout",
     "output_type": "stream",
     "text": [
      "25\n",
      "9\n",
      "7\n",
      "10\n",
      "11\n",
      "9\n"
     ]
    },
    {
     "name": "stderr",
     "output_type": "stream",
     "text": [
      " 38% (1965 of 5082) |#######             | Elapsed Time: 0:02:01 ETA:   0:03:12"
     ]
    },
    {
     "name": "stdout",
     "output_type": "stream",
     "text": [
      "11\n",
      "6\n",
      "9\n",
      "4\n",
      "19\n",
      "7\n"
     ]
    },
    {
     "name": "stderr",
     "output_type": "stream",
     "text": [
      " 38% (1969 of 5082) |#######             | Elapsed Time: 0:02:01 ETA:   0:03:13"
     ]
    },
    {
     "name": "stdout",
     "output_type": "stream",
     "text": [
      "17\n",
      "5\n",
      "22\n",
      "5\n"
     ]
    },
    {
     "name": "stderr",
     "output_type": "stream",
     "text": [
      " 38% (1974 of 5082) |#######             | Elapsed Time: 0:02:01 ETA:   0:03:05"
     ]
    },
    {
     "name": "stdout",
     "output_type": "stream",
     "text": [
      "20\n",
      "5\n",
      "10\n",
      "6\n",
      "15\n"
     ]
    },
    {
     "name": "stderr",
     "output_type": "stream",
     "text": [
      " 38% (1979 of 5082) |#######             | Elapsed Time: 0:02:02 ETA:   0:02:53"
     ]
    },
    {
     "name": "stdout",
     "output_type": "stream",
     "text": [
      "17\n",
      "11\n",
      "10\n",
      "12\n"
     ]
    },
    {
     "name": "stderr",
     "output_type": "stream",
     "text": [
      " 39% (1982 of 5082) |#######             | Elapsed Time: 0:02:02 ETA:   0:03:03"
     ]
    },
    {
     "name": "stdout",
     "output_type": "stream",
     "text": [
      "25\n",
      "15\n",
      "9\n",
      "4\n",
      "5\n",
      "8\n"
     ]
    },
    {
     "name": "stderr",
     "output_type": "stream",
     "text": [
      " 39% (1989 of 5082) |#######             | Elapsed Time: 0:02:02 ETA:   0:02:46"
     ]
    },
    {
     "name": "stdout",
     "output_type": "stream",
     "text": [
      "9\n",
      "12\n",
      "7\n",
      "12\n",
      "9\n"
     ]
    },
    {
     "name": "stderr",
     "output_type": "stream",
     "text": [
      " 39% (1994 of 5082) |#######             | Elapsed Time: 0:02:03 ETA:   0:02:41"
     ]
    },
    {
     "name": "stdout",
     "output_type": "stream",
     "text": [
      "20\n",
      "10\n",
      "7\n",
      "19\n",
      "6\n",
      "7\n",
      "4\n",
      "2\n"
     ]
    },
    {
     "name": "stderr",
     "output_type": "stream",
     "text": [
      " 39% (2002 of 5082) |#######             | Elapsed Time: 0:02:03 ETA:   0:02:33"
     ]
    },
    {
     "name": "stdout",
     "output_type": "stream",
     "text": [
      "10\n",
      "7\n",
      "7\n",
      "14\n"
     ]
    },
    {
     "name": "stderr",
     "output_type": "stream",
     "text": [
      " 39% (2006 of 5082) |#######             | Elapsed Time: 0:02:03 ETA:   0:02:38"
     ]
    },
    {
     "name": "stdout",
     "output_type": "stream",
     "text": [
      "25\n",
      "10\n",
      "4\n",
      "9\n",
      "7\n",
      "4\n"
     ]
    },
    {
     "name": "stderr",
     "output_type": "stream",
     "text": [
      " 39% (2012 of 5082) |#######             | Elapsed Time: 0:02:03 ETA:   0:02:28"
     ]
    },
    {
     "name": "stdout",
     "output_type": "stream",
     "text": [
      "14\n",
      "4\n",
      "9\n",
      "12\n",
      "12\n"
     ]
    },
    {
     "name": "stderr",
     "output_type": "stream",
     "text": [
      " 39% (2019 of 5082) |#######             | Elapsed Time: 0:02:04 ETA:   0:02:22"
     ]
    },
    {
     "name": "stdout",
     "output_type": "stream",
     "text": [
      "8\n",
      "15\n",
      "6\n",
      "9\n",
      "7\n",
      "6\n",
      "8\n",
      "3\n",
      "4\n",
      "6\n"
     ]
    },
    {
     "name": "stderr",
     "output_type": "stream",
     "text": [
      " 39% (2026 of 5082) |#######             | Elapsed Time: 0:02:04 ETA:   0:02:15"
     ]
    },
    {
     "name": "stdout",
     "output_type": "stream",
     "text": [
      "10\n",
      "15\n",
      "11\n",
      "4\n",
      "6\n"
     ]
    },
    {
     "name": "stderr",
     "output_type": "stream",
     "text": [
      " 40% (2033 of 5082) |########            | Elapsed Time: 0:02:04 ETA:   0:02:10"
     ]
    },
    {
     "name": "stdout",
     "output_type": "stream",
     "text": [
      "11\n",
      "22\n",
      "7\n",
      "7\n",
      "8\n",
      "8\n"
     ]
    },
    {
     "name": "stderr",
     "output_type": "stream",
     "text": [
      " 40% (2039 of 5082) |########            | Elapsed Time: 0:02:04 ETA:   0:02:09"
     ]
    },
    {
     "name": "stdout",
     "output_type": "stream",
     "text": [
      "9\n",
      "5\n",
      "8\n",
      "12\n",
      "8\n"
     ]
    },
    {
     "name": "stderr",
     "output_type": "stream",
     "text": [
      " 40% (2043 of 5082) |########            | Elapsed Time: 0:02:05 ETA:   0:02:10"
     ]
    },
    {
     "name": "stdout",
     "output_type": "stream",
     "text": [
      "18\n",
      "19\n",
      "6\n",
      "18\n"
     ]
    },
    {
     "name": "stderr",
     "output_type": "stream",
     "text": [
      " 40% (2048 of 5082) |########            | Elapsed Time: 0:02:05 ETA:   0:02:16"
     ]
    },
    {
     "name": "stdout",
     "output_type": "stream",
     "text": [
      "14\n",
      "7\n",
      "16\n",
      "5\n",
      "7\n",
      "16\n"
     ]
    },
    {
     "name": "stderr",
     "output_type": "stream",
     "text": [
      " 40% (2051 of 5082) |########            | Elapsed Time: 0:02:05 ETA:   0:02:25"
     ]
    },
    {
     "name": "stdout",
     "output_type": "stream",
     "text": [
      "15\n",
      "25\n"
     ]
    },
    {
     "name": "stderr",
     "output_type": "stream",
     "text": [
      " 40% (2054 of 5082) |########            | Elapsed Time: 0:02:05 ETA:   0:02:38"
     ]
    },
    {
     "name": "stdout",
     "output_type": "stream",
     "text": [
      "25\n",
      "5\n",
      "21\n"
     ]
    },
    {
     "name": "stderr",
     "output_type": "stream",
     "text": [
      " 40% (2058 of 5082) |########            | Elapsed Time: 0:02:06 ETA:   0:03:00"
     ]
    },
    {
     "name": "stdout",
     "output_type": "stream",
     "text": [
      "16\n",
      "11\n",
      "5\n",
      "16\n",
      "8\n"
     ]
    },
    {
     "name": "stderr",
     "output_type": "stream",
     "text": [
      "\r",
      " 40% (2061 of 5082) |########            | Elapsed Time: 0:02:06 ETA:   0:02:55"
     ]
    },
    {
     "name": "stdout",
     "output_type": "stream",
     "text": [
      "12\n",
      "11\n",
      "5\n"
     ]
    },
    {
     "name": "stderr",
     "output_type": "stream",
     "text": [
      " 40% (2064 of 5082) |########            | Elapsed Time: 0:02:06 ETA:   0:03:49"
     ]
    },
    {
     "name": "stdout",
     "output_type": "stream",
     "text": [
      "25\n",
      "25\n",
      "7\n",
      "11\n"
     ]
    },
    {
     "name": "stderr",
     "output_type": "stream",
     "text": [
      " 40% (2069 of 5082) |########            | Elapsed Time: 0:02:07 ETA:   0:04:52"
     ]
    },
    {
     "name": "stdout",
     "output_type": "stream",
     "text": [
      "25\n",
      "20\n",
      "8\n",
      "6\n"
     ]
    },
    {
     "name": "stderr",
     "output_type": "stream",
     "text": [
      "\r",
      " 40% (2072 of 5082) |########            | Elapsed Time: 0:02:07 ETA:   0:04:36"
     ]
    },
    {
     "name": "stdout",
     "output_type": "stream",
     "text": [
      "15\n",
      "6\n",
      "8\n",
      "5\n"
     ]
    },
    {
     "name": "stderr",
     "output_type": "stream",
     "text": [
      " 40% (2076 of 5082) |########            | Elapsed Time: 0:02:07 ETA:   0:04:21"
     ]
    },
    {
     "name": "stdout",
     "output_type": "stream",
     "text": [
      "25\n",
      "25\n"
     ]
    },
    {
     "name": "stderr",
     "output_type": "stream",
     "text": [
      " 40% (2079 of 5082) |########            | Elapsed Time: 0:02:08 ETA:   0:04:55"
     ]
    },
    {
     "name": "stdout",
     "output_type": "stream",
     "text": [
      "25\n",
      "5\n",
      "24\n"
     ]
    },
    {
     "name": "stderr",
     "output_type": "stream",
     "text": [
      " 40% (2083 of 5082) |########            | Elapsed Time: 0:02:08 ETA:   0:05:03"
     ]
    },
    {
     "name": "stdout",
     "output_type": "stream",
     "text": [
      "21\n",
      "15\n",
      "6\n",
      "13\n"
     ]
    },
    {
     "name": "stderr",
     "output_type": "stream",
     "text": [
      " 41% (2088 of 5082) |########            | Elapsed Time: 0:02:08 ETA:   0:04:13"
     ]
    },
    {
     "name": "stdout",
     "output_type": "stream",
     "text": [
      "21\n",
      "7\n",
      "9\n",
      "9\n",
      "6\n",
      "6\n"
     ]
    },
    {
     "name": "stderr",
     "output_type": "stream",
     "text": [
      "\r",
      " 41% (2090 of 5082) |########            | Elapsed Time: 0:02:08 ETA:   0:04:13"
     ]
    },
    {
     "name": "stdout",
     "output_type": "stream",
     "text": [
      "15\n",
      "8\n",
      "25\n"
     ]
    },
    {
     "name": "stderr",
     "output_type": "stream",
     "text": [
      " 41% (2095 of 5082) |########            | Elapsed Time: 0:02:09 ETA:   0:03:49"
     ]
    },
    {
     "name": "stdout",
     "output_type": "stream",
     "text": [
      "8\n",
      "7\n",
      "11\n",
      "16\n"
     ]
    },
    {
     "name": "stderr",
     "output_type": "stream",
     "text": [
      " 41% (2101 of 5082) |########            | Elapsed Time: 0:02:09 ETA:   0:03:36"
     ]
    },
    {
     "name": "stdout",
     "output_type": "stream",
     "text": [
      "23\n",
      "8\n",
      "3\n",
      "11\n",
      "15\n"
     ]
    },
    {
     "name": "stderr",
     "output_type": "stream",
     "text": [
      " 41% (2103 of 5082) |########            | Elapsed Time: 0:02:09 ETA:   0:03:42"
     ]
    },
    {
     "name": "stdout",
     "output_type": "stream",
     "text": [
      "25\n",
      "24\n",
      "9\n",
      "12\n"
     ]
    },
    {
     "name": "stderr",
     "output_type": "stream",
     "text": [
      " 41% (2108 of 5082) |########            | Elapsed Time: 0:02:10 ETA:   0:03:33"
     ]
    },
    {
     "name": "stdout",
     "output_type": "stream",
     "text": [
      "25\n",
      "21\n",
      "21\n"
     ]
    },
    {
     "name": "stderr",
     "output_type": "stream",
     "text": [
      " 41% (2113 of 5082) |########            | Elapsed Time: 0:02:10 ETA:   0:03:18"
     ]
    },
    {
     "name": "stdout",
     "output_type": "stream",
     "text": [
      "4\n",
      "7\n",
      "6\n",
      "18\n",
      "5\n"
     ]
    },
    {
     "name": "stderr",
     "output_type": "stream",
     "text": [
      " 41% (2119 of 5082) |########            | Elapsed Time: 0:02:10 ETA:   0:03:14"
     ]
    },
    {
     "name": "stdout",
     "output_type": "stream",
     "text": [
      "25\n",
      "4\n",
      "5\n",
      "3\n",
      "7\n",
      "6\n",
      "16\n"
     ]
    },
    {
     "name": "stderr",
     "output_type": "stream",
     "text": [
      " 41% (2123 of 5082) |########            | Elapsed Time: 0:02:11 ETA:   0:03:13"
     ]
    },
    {
     "name": "stdout",
     "output_type": "stream",
     "text": [
      "17\n",
      "15\n",
      "13\n"
     ]
    },
    {
     "name": "stderr",
     "output_type": "stream",
     "text": [
      " 41% (2127 of 5082) |########            | Elapsed Time: 0:02:11 ETA:   0:03:24"
     ]
    },
    {
     "name": "stdout",
     "output_type": "stream",
     "text": [
      "20\n",
      "14\n",
      "14\n",
      "11\n",
      "9\n"
     ]
    },
    {
     "name": "stderr",
     "output_type": "stream",
     "text": [
      " 41% (2132 of 5082) |########            | Elapsed Time: 0:02:11 ETA:   0:03:13"
     ]
    },
    {
     "name": "stdout",
     "output_type": "stream",
     "text": [
      "10\n",
      "9\n",
      "11\n",
      "16\n",
      "7\n"
     ]
    },
    {
     "name": "stderr",
     "output_type": "stream",
     "text": [
      " 42% (2136 of 5082) |########            | Elapsed Time: 0:02:11 ETA:   0:03:03"
     ]
    },
    {
     "name": "stdout",
     "output_type": "stream",
     "text": [
      "18\n",
      "11\n",
      "24\n"
     ]
    },
    {
     "name": "stderr",
     "output_type": "stream",
     "text": [
      " 42% (2141 of 5082) |########            | Elapsed Time: 0:02:12 ETA:   0:02:50"
     ]
    },
    {
     "name": "stdout",
     "output_type": "stream",
     "text": [
      "19\n",
      "13\n",
      "6\n",
      "6\n",
      "11\n",
      "6\n"
     ]
    },
    {
     "name": "stderr",
     "output_type": "stream",
     "text": [
      " 42% (2150 of 5082) |########            | Elapsed Time: 0:02:12 ETA:   0:02:38"
     ]
    },
    {
     "name": "stdout",
     "output_type": "stream",
     "text": [
      "8\n",
      "7\n",
      "13\n",
      "15\n",
      "6\n",
      "10\n",
      "6\n",
      "10\n"
     ]
    },
    {
     "name": "stderr",
     "output_type": "stream",
     "text": [
      " 42% (2156 of 5082) |########            | Elapsed Time: 0:02:12 ETA:   0:02:24"
     ]
    },
    {
     "name": "stdout",
     "output_type": "stream",
     "text": [
      "10\n",
      "8\n",
      "6\n",
      "12\n",
      "7\n",
      "4\n",
      "6\n"
     ]
    },
    {
     "name": "stderr",
     "output_type": "stream",
     "text": [
      " 42% (2160 of 5082) |########            | Elapsed Time: 0:02:13 ETA:   0:02:38"
     ]
    },
    {
     "name": "stdout",
     "output_type": "stream",
     "text": [
      "25\n",
      "13\n",
      "12\n"
     ]
    },
    {
     "name": "stderr",
     "output_type": "stream",
     "text": [
      " 42% (2166 of 5082) |########            | Elapsed Time: 0:02:13 ETA:   0:02:25"
     ]
    },
    {
     "name": "stdout",
     "output_type": "stream",
     "text": [
      "14\n",
      "4\n",
      "5\n",
      "3\n",
      "14\n",
      "14\n",
      "5\n",
      "6\n",
      "5\n"
     ]
    },
    {
     "name": "stderr",
     "output_type": "stream",
     "text": [
      " 42% (2173 of 5082) |########            | Elapsed Time: 0:02:13 ETA:   0:02:14"
     ]
    },
    {
     "name": "stdout",
     "output_type": "stream",
     "text": [
      "9\n",
      "8\n",
      "5\n",
      "11\n",
      "10\n",
      "5\n"
     ]
    },
    {
     "name": "stderr",
     "output_type": "stream",
     "text": [
      " 42% (2179 of 5082) |########            | Elapsed Time: 0:02:13 ETA:   0:02:11"
     ]
    },
    {
     "name": "stdout",
     "output_type": "stream",
     "text": [
      "13\n",
      "7\n",
      "9\n",
      "8\n",
      "7\n",
      "7\n"
     ]
    },
    {
     "name": "stderr",
     "output_type": "stream",
     "text": [
      "\r",
      " 42% (2182 of 5082) |########            | Elapsed Time: 0:02:13 ETA:   0:02:08"
     ]
    },
    {
     "name": "stdout",
     "output_type": "stream",
     "text": [
      "11\n",
      "10\n",
      "7\n"
     ]
    },
    {
     "name": "stderr",
     "output_type": "stream",
     "text": [
      " 43% (2186 of 5082) |########            | Elapsed Time: 0:02:14 ETA:   0:02:14"
     ]
    },
    {
     "name": "stdout",
     "output_type": "stream",
     "text": [
      "25\n",
      "25\n"
     ]
    },
    {
     "name": "stderr",
     "output_type": "stream",
     "text": [
      " 43% (2190 of 5082) |########            | Elapsed Time: 0:02:14 ETA:   0:02:16"
     ]
    },
    {
     "name": "stdout",
     "output_type": "stream",
     "text": [
      "14\n",
      "4\n",
      "12\n",
      "14\n",
      "13\n"
     ]
    },
    {
     "name": "stderr",
     "output_type": "stream",
     "text": [
      " 43% (2195 of 5082) |########            | Elapsed Time: 0:02:14 ETA:   0:02:23"
     ]
    },
    {
     "name": "stdout",
     "output_type": "stream",
     "text": [
      "5\n",
      "17\n",
      "16\n",
      "8\n"
     ]
    },
    {
     "name": "stderr",
     "output_type": "stream",
     "text": [
      "\r",
      " 43% (2197 of 5082) |########            | Elapsed Time: 0:02:14 ETA:   0:02:28"
     ]
    },
    {
     "name": "stdout",
     "output_type": "stream",
     "text": [
      "14\n",
      "25\n",
      "12\n"
     ]
    },
    {
     "name": "stderr",
     "output_type": "stream",
     "text": [
      " 43% (2202 of 5082) |########            | Elapsed Time: 0:02:15 ETA:   0:02:29"
     ]
    },
    {
     "name": "stdout",
     "output_type": "stream",
     "text": [
      "11\n",
      "16\n",
      "7\n",
      "5\n",
      "5\n",
      "6\n",
      "5\n"
     ]
    },
    {
     "name": "stderr",
     "output_type": "stream",
     "text": [
      " 43% (2209 of 5082) |########            | Elapsed Time: 0:02:15 ETA:   0:02:32"
     ]
    },
    {
     "name": "stdout",
     "output_type": "stream",
     "text": [
      "5\n",
      "6\n",
      "12\n",
      "17\n"
     ]
    },
    {
     "name": "stderr",
     "output_type": "stream",
     "text": [
      " 43% (2211 of 5082) |########            | Elapsed Time: 0:02:15 ETA:   0:03:00"
     ]
    },
    {
     "name": "stdout",
     "output_type": "stream",
     "text": [
      "25\n",
      "25\n",
      "13\n"
     ]
    },
    {
     "name": "stderr",
     "output_type": "stream",
     "text": [
      "\r",
      " 43% (2213 of 5082) |########            | Elapsed Time: 0:02:16 ETA:   0:03:19"
     ]
    },
    {
     "name": "stdout",
     "output_type": "stream",
     "text": [
      "25\n",
      "17\n",
      "19\n"
     ]
    },
    {
     "name": "stderr",
     "output_type": "stream",
     "text": [
      " 43% (2218 of 5082) |########            | Elapsed Time: 0:02:16 ETA:   0:03:12"
     ]
    },
    {
     "name": "stdout",
     "output_type": "stream",
     "text": [
      "5\n",
      "5\n",
      "9\n",
      "10\n"
     ]
    },
    {
     "name": "stderr",
     "output_type": "stream",
     "text": [
      " 43% (2221 of 5082) |########            | Elapsed Time: 0:02:16 ETA:   0:03:34"
     ]
    },
    {
     "name": "stdout",
     "output_type": "stream",
     "text": [
      "20\n",
      "25\n"
     ]
    },
    {
     "name": "stderr",
     "output_type": "stream",
     "text": [
      " 43% (2227 of 5082) |########            | Elapsed Time: 0:02:16 ETA:   0:03:17"
     ]
    },
    {
     "name": "stdout",
     "output_type": "stream",
     "text": [
      "11\n",
      "10\n",
      "8\n",
      "14\n",
      "3\n",
      "7\n"
     ]
    },
    {
     "name": "stderr",
     "output_type": "stream",
     "text": [
      " 43% (2230 of 5082) |########            | Elapsed Time: 0:02:17 ETA:   0:03:23"
     ]
    },
    {
     "name": "stdout",
     "output_type": "stream",
     "text": [
      "20\n",
      "11\n",
      "16\n",
      "4\n"
     ]
    },
    {
     "name": "stderr",
     "output_type": "stream",
     "text": [
      " 43% (2234 of 5082) |########            | Elapsed Time: 0:02:17 ETA:   0:03:56"
     ]
    },
    {
     "name": "stdout",
     "output_type": "stream",
     "text": [
      "25\n",
      "12\n",
      "8\n",
      "7\n",
      "11\n"
     ]
    },
    {
     "name": "stderr",
     "output_type": "stream",
     "text": [
      " 44% (2240 of 5082) |########            | Elapsed Time: 0:02:17 ETA:   0:03:24"
     ]
    },
    {
     "name": "stdout",
     "output_type": "stream",
     "text": [
      "7\n",
      "4\n",
      "8\n",
      "18\n",
      "8\n",
      "3\n",
      "7\n"
     ]
    },
    {
     "name": "stderr",
     "output_type": "stream",
     "text": [
      " 44% (2246 of 5082) |########            | Elapsed Time: 0:02:18 ETA:   0:02:55"
     ]
    },
    {
     "name": "stdout",
     "output_type": "stream",
     "text": [
      "7\n",
      "10\n",
      "14\n"
     ]
    },
    {
     "name": "stderr",
     "output_type": "stream",
     "text": [
      " 44% (2249 of 5082) |########            | Elapsed Time: 0:02:18 ETA:   0:02:56"
     ]
    },
    {
     "name": "stdout",
     "output_type": "stream",
     "text": [
      "25\n",
      "17\n",
      "12\n"
     ]
    },
    {
     "name": "stderr",
     "output_type": "stream",
     "text": [
      " 44% (2255 of 5082) |########            | Elapsed Time: 0:02:18 ETA:   0:02:52"
     ]
    },
    {
     "name": "stdout",
     "output_type": "stream",
     "text": [
      "15\n",
      "8\n",
      "11\n",
      "10\n",
      "7\n",
      "10\n"
     ]
    },
    {
     "name": "stderr",
     "output_type": "stream",
     "text": [
      " 44% (2261 of 5082) |########            | Elapsed Time: 0:02:18 ETA:   0:02:37"
     ]
    },
    {
     "name": "stdout",
     "output_type": "stream",
     "text": [
      "14\n",
      "6\n",
      "13\n",
      "4\n",
      "9\n",
      "10\n",
      "8\n",
      "8\n"
     ]
    },
    {
     "name": "stderr",
     "output_type": "stream",
     "text": [
      " 44% (2265 of 5082) |########            | Elapsed Time: 0:02:20 ETA:   0:05:11"
     ]
    },
    {
     "name": "stdout",
     "output_type": "stream",
     "text": [
      "25\n",
      "25\n",
      "13\n",
      "6\n"
     ]
    },
    {
     "name": "stderr",
     "output_type": "stream",
     "text": [
      " 44% (2270 of 5082) |########            | Elapsed Time: 0:02:20 ETA:   0:04:56"
     ]
    },
    {
     "name": "stdout",
     "output_type": "stream",
     "text": [
      "25\n",
      "16\n",
      "11\n"
     ]
    },
    {
     "name": "stderr",
     "output_type": "stream",
     "text": [
      " 44% (2274 of 5082) |########            | Elapsed Time: 0:02:20 ETA:   0:05:06"
     ]
    },
    {
     "name": "stdout",
     "output_type": "stream",
     "text": [
      "18\n",
      "7\n",
      "9\n",
      "11\n",
      "8\n",
      "6\n",
      "8\n"
     ]
    },
    {
     "name": "stderr",
     "output_type": "stream",
     "text": [
      " 44% (2280 of 5082) |########            | Elapsed Time: 0:02:21 ETA:   0:05:12"
     ]
    },
    {
     "name": "stdout",
     "output_type": "stream",
     "text": [
      "5\n",
      "8\n",
      "25\n"
     ]
    },
    {
     "name": "stderr",
     "output_type": "stream",
     "text": [
      " 44% (2285 of 5082) |########            | Elapsed Time: 0:02:21 ETA:   0:04:34"
     ]
    },
    {
     "name": "stdout",
     "output_type": "stream",
     "text": [
      "8\n",
      "14\n",
      "12\n",
      "10\n",
      "10\n"
     ]
    },
    {
     "name": "stderr",
     "output_type": "stream",
     "text": [
      "\r",
      " 45% (2287 of 5082) |#########           | Elapsed Time: 0:02:21 ETA:   0:04:27"
     ]
    },
    {
     "name": "stdout",
     "output_type": "stream",
     "text": [
      "12\n",
      "13\n",
      "5\n",
      "9\n"
     ]
    },
    {
     "name": "stderr",
     "output_type": "stream",
     "text": [
      " 45% (2292 of 5082) |#########           | Elapsed Time: 0:02:21 ETA:   0:04:14"
     ]
    },
    {
     "name": "stdout",
     "output_type": "stream",
     "text": [
      "25\n",
      "6\n",
      "25\n",
      "5\n",
      "6\n"
     ]
    },
    {
     "name": "stderr",
     "output_type": "stream",
     "text": [
      "\r",
      " 45% (2296 of 5082) |#########           | Elapsed Time: 0:02:21 ETA:   0:03:54"
     ]
    },
    {
     "name": "stdout",
     "output_type": "stream",
     "text": [
      "6\n",
      "9\n",
      "8\n"
     ]
    },
    {
     "name": "stderr",
     "output_type": "stream",
     "text": [
      " 45% (2301 of 5082) |#########           | Elapsed Time: 0:02:22 ETA:   0:02:45"
     ]
    },
    {
     "name": "stdout",
     "output_type": "stream",
     "text": [
      "25\n",
      "6\n",
      "12\n",
      "21\n"
     ]
    },
    {
     "name": "stderr",
     "output_type": "stream",
     "text": [
      " 45% (2306 of 5082) |#########           | Elapsed Time: 0:02:22 ETA:   0:02:35"
     ]
    },
    {
     "name": "stdout",
     "output_type": "stream",
     "text": [
      "7\n",
      "8\n",
      "9\n",
      "17\n",
      "8\n",
      "10\n",
      "5\n"
     ]
    },
    {
     "name": "stderr",
     "output_type": "stream",
     "text": [
      " 45% (2312 of 5082) |#########           | Elapsed Time: 0:02:22 ETA:   0:02:29"
     ]
    },
    {
     "name": "stdout",
     "output_type": "stream",
     "text": [
      "20\n",
      "8\n",
      "10\n",
      "9\n",
      "8\n",
      "5\n",
      "5\n",
      "6\n"
     ]
    },
    {
     "name": "stderr",
     "output_type": "stream",
     "text": [
      " 45% (2320 of 5082) |#########           | Elapsed Time: 0:02:23 ETA:   0:02:19"
     ]
    },
    {
     "name": "stdout",
     "output_type": "stream",
     "text": [
      "4\n",
      "11\n",
      "6\n",
      "18\n",
      "11\n",
      "6\n"
     ]
    },
    {
     "name": "stderr",
     "output_type": "stream",
     "text": [
      " 45% (2326 of 5082) |#########           | Elapsed Time: 0:02:23 ETA:   0:02:15"
     ]
    },
    {
     "name": "stdout",
     "output_type": "stream",
     "text": [
      "10\n",
      "7\n",
      "12\n",
      "8\n",
      "17\n"
     ]
    },
    {
     "name": "stderr",
     "output_type": "stream",
     "text": [
      " 45% (2331 of 5082) |#########           | Elapsed Time: 0:02:23 ETA:   0:02:15"
     ]
    },
    {
     "name": "stdout",
     "output_type": "stream",
     "text": [
      "13\n",
      "8\n",
      "7\n",
      "17\n",
      "11\n"
     ]
    },
    {
     "name": "stderr",
     "output_type": "stream",
     "text": [
      " 45% (2337 of 5082) |#########           | Elapsed Time: 0:02:23 ETA:   0:02:07"
     ]
    },
    {
     "name": "stdout",
     "output_type": "stream",
     "text": [
      "10\n",
      "9\n",
      "11\n",
      "7\n",
      "15\n"
     ]
    },
    {
     "name": "stderr",
     "output_type": "stream",
     "text": [
      " 46% (2343 of 5082) |#########           | Elapsed Time: 0:02:24 ETA:   0:02:09"
     ]
    },
    {
     "name": "stdout",
     "output_type": "stream",
     "text": [
      "12\n",
      "8\n",
      "7\n",
      "5\n",
      "5\n",
      "14\n",
      "10\n"
     ]
    },
    {
     "name": "stderr",
     "output_type": "stream",
     "text": [
      " 46% (2351 of 5082) |#########           | Elapsed Time: 0:02:24 ETA:   0:01:52"
     ]
    },
    {
     "name": "stdout",
     "output_type": "stream",
     "text": [
      "8\n",
      "12\n",
      "4\n",
      "7\n",
      "4\n",
      "7\n",
      "10\n"
     ]
    },
    {
     "name": "stderr",
     "output_type": "stream",
     "text": [
      " 46% (2356 of 5082) |#########           | Elapsed Time: 0:02:24 ETA:   0:01:57"
     ]
    },
    {
     "name": "stdout",
     "output_type": "stream",
     "text": [
      "22\n",
      "10\n",
      "8\n",
      "4\n",
      "16\n"
     ]
    },
    {
     "name": "stderr",
     "output_type": "stream",
     "text": [
      " 46% (2358 of 5082) |#########           | Elapsed Time: 0:02:24 ETA:   0:02:11"
     ]
    },
    {
     "name": "stdout",
     "output_type": "stream",
     "text": [
      "20\n",
      "25\n",
      "12\n"
     ]
    },
    {
     "name": "stderr",
     "output_type": "stream",
     "text": [
      " 46% (2363 of 5082) |#########           | Elapsed Time: 0:02:25 ETA:   0:02:13"
     ]
    },
    {
     "name": "stdout",
     "output_type": "stream",
     "text": [
      "6\n",
      "10\n",
      "6\n",
      "16\n",
      "7\n",
      "11\n"
     ]
    },
    {
     "name": "stderr",
     "output_type": "stream",
     "text": [
      " 46% (2369 of 5082) |#########           | Elapsed Time: 0:02:25 ETA:   0:02:15"
     ]
    },
    {
     "name": "stdout",
     "output_type": "stream",
     "text": [
      "10\n",
      "7\n",
      "4\n",
      "13\n",
      "12\n",
      "8\n"
     ]
    },
    {
     "name": "stderr",
     "output_type": "stream",
     "text": [
      " 46% (2374 of 5082) |#########           | Elapsed Time: 0:02:25 ETA:   0:02:09"
     ]
    },
    {
     "name": "stdout",
     "output_type": "stream",
     "text": [
      "8\n",
      "15\n",
      "8\n"
     ]
    },
    {
     "name": "stderr",
     "output_type": "stream",
     "text": [
      " 46% (2377 of 5082) |#########           | Elapsed Time: 0:02:25 ETA:   0:02:14"
     ]
    },
    {
     "name": "stdout",
     "output_type": "stream",
     "text": [
      "21\n",
      "9\n",
      "11\n"
     ]
    },
    {
     "name": "stderr",
     "output_type": "stream",
     "text": [
      " 46% (2381 of 5082) |#########           | Elapsed Time: 0:02:26 ETA:   0:02:22"
     ]
    },
    {
     "name": "stdout",
     "output_type": "stream",
     "text": [
      "25\n",
      "7\n",
      "2\n",
      "4\n",
      "8\n",
      "5\n"
     ]
    },
    {
     "name": "stderr",
     "output_type": "stream",
     "text": [
      " 46% (2386 of 5082) |#########           | Elapsed Time: 0:02:26 ETA:   0:02:38"
     ]
    },
    {
     "name": "stdout",
     "output_type": "stream",
     "text": [
      "24\n",
      "15\n",
      "24\n"
     ]
    },
    {
     "name": "stderr",
     "output_type": "stream",
     "text": [
      " 47% (2391 of 5082) |#########           | Elapsed Time: 0:02:26 ETA:   0:02:38"
     ]
    },
    {
     "name": "stdout",
     "output_type": "stream",
     "text": [
      "11\n",
      "4\n",
      "12\n",
      "16\n",
      "11\n"
     ]
    },
    {
     "name": "stderr",
     "output_type": "stream",
     "text": [
      "\r",
      " 47% (2393 of 5082) |#########           | Elapsed Time: 0:02:26 ETA:   0:02:32"
     ]
    },
    {
     "name": "stdout",
     "output_type": "stream",
     "text": [
      "11\n",
      "14\n",
      "12\n"
     ]
    },
    {
     "name": "stderr",
     "output_type": "stream",
     "text": [
      " 47% (2397 of 5082) |#########           | Elapsed Time: 0:02:27 ETA:   0:02:34"
     ]
    },
    {
     "name": "stdout",
     "output_type": "stream",
     "text": [
      "22\n",
      "4\n",
      "24\n"
     ]
    },
    {
     "name": "stderr",
     "output_type": "stream",
     "text": [
      " 47% (2401 of 5082) |#########           | Elapsed Time: 0:02:27 ETA:   0:02:37"
     ]
    },
    {
     "name": "stdout",
     "output_type": "stream",
     "text": [
      "12\n",
      "9\n",
      "8\n",
      "7\n"
     ]
    },
    {
     "name": "stderr",
     "output_type": "stream",
     "text": [
      " 47% (2404 of 5082) |#########           | Elapsed Time: 0:02:27 ETA:   0:02:55"
     ]
    },
    {
     "name": "stdout",
     "output_type": "stream",
     "text": [
      "22\n",
      "15\n",
      "17\n"
     ]
    },
    {
     "name": "stderr",
     "output_type": "stream",
     "text": [
      "\r",
      " 47% (2406 of 5082) |#########           | Elapsed Time: 0:02:27 ETA:   0:02:55"
     ]
    },
    {
     "name": "stdout",
     "output_type": "stream",
     "text": [
      "13\n",
      "13\n",
      "9\n",
      "12\n"
     ]
    },
    {
     "name": "stderr",
     "output_type": "stream",
     "text": [
      "\r",
      " 47% (2409 of 5082) |#########           | Elapsed Time: 0:02:29 ETA:   0:05:59"
     ]
    },
    {
     "name": "stdout",
     "output_type": "stream",
     "text": [
      "25\n",
      "11\n",
      "5\n",
      "25\n"
     ]
    },
    {
     "name": "stderr",
     "output_type": "stream",
     "text": [
      " 47% (2415 of 5082) |#########           | Elapsed Time: 0:02:29 ETA:   0:05:43"
     ]
    },
    {
     "name": "stdout",
     "output_type": "stream",
     "text": [
      "8\n",
      "5\n",
      "12\n",
      "10\n",
      "8\n"
     ]
    },
    {
     "name": "stderr",
     "output_type": "stream",
     "text": [
      " 47% (2420 of 5082) |#########           | Elapsed Time: 0:02:29 ETA:   0:05:09"
     ]
    },
    {
     "name": "stdout",
     "output_type": "stream",
     "text": [
      "22\n",
      "9\n",
      "16\n",
      "11\n",
      "10\n"
     ]
    },
    {
     "name": "stderr",
     "output_type": "stream",
     "text": [
      " 47% (2426 of 5082) |#########           | Elapsed Time: 0:02:29 ETA:   0:04:39"
     ]
    },
    {
     "name": "stdout",
     "output_type": "stream",
     "text": [
      "10\n",
      "11\n",
      "7\n",
      "9\n",
      "8\n"
     ]
    },
    {
     "name": "stderr",
     "output_type": "stream",
     "text": [
      " 47% (2429 of 5082) |#########           | Elapsed Time: 0:02:30 ETA:   0:04:40"
     ]
    },
    {
     "name": "stdout",
     "output_type": "stream",
     "text": [
      "25\n",
      "19\n",
      "7\n",
      "5\n",
      "7\n"
     ]
    },
    {
     "name": "stderr",
     "output_type": "stream",
     "text": [
      " 47% (2435 of 5082) |#########           | Elapsed Time: 0:02:30 ETA:   0:04:09"
     ]
    },
    {
     "name": "stdout",
     "output_type": "stream",
     "text": [
      "16\n",
      "18\n",
      "9\n",
      "7\n",
      "16\n"
     ]
    },
    {
     "name": "stderr",
     "output_type": "stream",
     "text": [
      " 48% (2441 of 5082) |#########           | Elapsed Time: 0:02:30 ETA:   0:03:43"
     ]
    },
    {
     "name": "stdout",
     "output_type": "stream",
     "text": [
      "6\n",
      "3\n",
      "10\n",
      "7\n",
      "11\n",
      "7\n"
     ]
    },
    {
     "name": "stderr",
     "output_type": "stream",
     "text": [
      " 48% (2447 of 5082) |#########           | Elapsed Time: 0:02:30 ETA:   0:03:24"
     ]
    },
    {
     "name": "stdout",
     "output_type": "stream",
     "text": [
      "4\n",
      "10\n",
      "7\n",
      "6\n"
     ]
    },
    {
     "name": "stderr",
     "output_type": "stream",
     "text": [
      " 48% (2453 of 5082) |#########           | Elapsed Time: 0:02:31 ETA:   0:02:08"
     ]
    },
    {
     "name": "stdout",
     "output_type": "stream",
     "text": [
      "9\n",
      "4\n",
      "6\n",
      "5\n",
      "5\n",
      "8\n",
      "7\n",
      "6\n",
      "7\n"
     ]
    },
    {
     "name": "stderr",
     "output_type": "stream",
     "text": [
      " 48% (2459 of 5082) |#########           | Elapsed Time: 0:02:31 ETA:   0:02:10"
     ]
    },
    {
     "name": "stdout",
     "output_type": "stream",
     "text": [
      "19\n",
      "20\n",
      "8\n",
      "8\n"
     ]
    },
    {
     "name": "stderr",
     "output_type": "stream",
     "text": [
      " 48% (2464 of 5082) |#########           | Elapsed Time: 0:02:31 ETA:   0:02:15"
     ]
    },
    {
     "name": "stdout",
     "output_type": "stream",
     "text": [
      "5\n",
      "7\n",
      "18\n",
      "25\n"
     ]
    },
    {
     "name": "stderr",
     "output_type": "stream",
     "text": [
      " 48% (2469 of 5082) |#########           | Elapsed Time: 0:02:32 ETA:   0:02:10"
     ]
    },
    {
     "name": "stdout",
     "output_type": "stream",
     "text": [
      "9\n",
      "9\n",
      "6\n",
      "6\n",
      "25\n",
      "3\n",
      "4\n",
      "4\n",
      "8\n"
     ]
    },
    {
     "name": "stderr",
     "output_type": "stream",
     "text": [
      " 48% (2475 of 5082) |#########           | Elapsed Time: 0:02:32 ETA:   0:02:04"
     ]
    },
    {
     "name": "stdout",
     "output_type": "stream",
     "text": [
      "9\n",
      "25\n",
      "13\n"
     ]
    },
    {
     "name": "stderr",
     "output_type": "stream",
     "text": [
      "\r",
      " 48% (2477 of 5082) |#########           | Elapsed Time: 0:02:32 ETA:   0:02:04"
     ]
    },
    {
     "name": "stdout",
     "output_type": "stream",
     "text": [
      "19\n"
     ]
    },
    {
     "name": "stderr",
     "output_type": "stream",
     "text": [
      " 48% (2480 of 5082) |#########           | Elapsed Time: 0:02:32 ETA:   0:02:25"
     ]
    },
    {
     "name": "stdout",
     "output_type": "stream",
     "text": [
      "25\n",
      "10\n",
      "16\n",
      "3\n",
      "9\n",
      "6\n"
     ]
    },
    {
     "name": "stderr",
     "output_type": "stream",
     "text": [
      " 48% (2489 of 5082) |#########           | Elapsed Time: 0:02:33 ETA:   0:02:13"
     ]
    },
    {
     "name": "stdout",
     "output_type": "stream",
     "text": [
      "12\n",
      "4\n",
      "5\n",
      "7\n",
      "4\n",
      "8\n",
      "10\n",
      "5\n"
     ]
    },
    {
     "name": "stderr",
     "output_type": "stream",
     "text": [
      " 49% (2495 of 5082) |#########           | Elapsed Time: 0:02:33 ETA:   0:02:17"
     ]
    },
    {
     "name": "stdout",
     "output_type": "stream",
     "text": [
      "11\n",
      "10\n",
      "7\n",
      "25\n"
     ]
    },
    {
     "name": "stderr",
     "output_type": "stream",
     "text": [
      " 49% (2502 of 5082) |#########           | Elapsed Time: 0:02:33 ETA:   0:02:07"
     ]
    },
    {
     "name": "stdout",
     "output_type": "stream",
     "text": [
      "17\n",
      "11\n",
      "8\n",
      "5\n",
      "5\n",
      "5\n",
      "5\n"
     ]
    },
    {
     "name": "stderr",
     "output_type": "stream",
     "text": [
      "\r",
      " 49% (2506 of 5082) |#########           | Elapsed Time: 0:02:33 ETA:   0:02:07"
     ]
    },
    {
     "name": "stdout",
     "output_type": "stream",
     "text": [
      "10\n",
      "5\n",
      "5\n",
      "19\n",
      "20\n"
     ]
    },
    {
     "name": "stderr",
     "output_type": "stream",
     "text": [
      " 49% (2509 of 5082) |#########           | Elapsed Time: 0:02:34 ETA:   0:02:00"
     ]
    },
    {
     "name": "stdout",
     "output_type": "stream",
     "text": [
      "5\n",
      "14\n",
      "10\n"
     ]
    },
    {
     "name": "stderr",
     "output_type": "stream",
     "text": [
      " 49% (2514 of 5082) |#########           | Elapsed Time: 0:02:34 ETA:   0:02:13"
     ]
    },
    {
     "name": "stdout",
     "output_type": "stream",
     "text": [
      "25\n",
      "12\n",
      "7\n",
      "7\n",
      "5\n",
      "11\n"
     ]
    },
    {
     "name": "stderr",
     "output_type": "stream",
     "text": [
      " 49% (2520 of 5082) |#########           | Elapsed Time: 0:02:34 ETA:   0:02:06"
     ]
    },
    {
     "name": "stdout",
     "output_type": "stream",
     "text": [
      "7\n",
      "21\n",
      "8\n",
      "17\n",
      "8\n",
      "6\n"
     ]
    },
    {
     "name": "stderr",
     "output_type": "stream",
     "text": [
      " 49% (2528 of 5082) |#########           | Elapsed Time: 0:02:34 ETA:   0:01:48"
     ]
    },
    {
     "name": "stdout",
     "output_type": "stream",
     "text": [
      "5\n",
      "6\n",
      "5\n",
      "8\n",
      "8\n",
      "12\n"
     ]
    },
    {
     "name": "stderr",
     "output_type": "stream",
     "text": [
      " 49% (2531 of 5082) |#########           | Elapsed Time: 0:02:35 ETA:   0:02:01"
     ]
    },
    {
     "name": "stdout",
     "output_type": "stream",
     "text": [
      "20\n",
      "5\n",
      "25\n",
      "13\n",
      "7\n"
     ]
    },
    {
     "name": "stderr",
     "output_type": "stream",
     "text": [
      " 49% (2538 of 5082) |#########           | Elapsed Time: 0:02:35 ETA:   0:01:59"
     ]
    },
    {
     "name": "stdout",
     "output_type": "stream",
     "text": [
      "12\n",
      "8\n",
      "4\n",
      "5\n",
      "13\n",
      "11\n",
      "7\n"
     ]
    },
    {
     "name": "stderr",
     "output_type": "stream",
     "text": [
      " 50% (2544 of 5082) |##########          | Elapsed Time: 0:02:35 ETA:   0:02:00"
     ]
    },
    {
     "name": "stdout",
     "output_type": "stream",
     "text": [
      "6\n",
      "8\n",
      "15\n",
      "17\n"
     ]
    },
    {
     "name": "stderr",
     "output_type": "stream",
     "text": [
      " 50% (2554 of 5082) |##########          | Elapsed Time: 0:02:36 ETA:   0:01:58"
     ]
    },
    {
     "name": "stdout",
     "output_type": "stream",
     "text": [
      "17\n",
      "17\n",
      "3\n",
      "7\n",
      "6\n",
      "10\n",
      "7\n",
      "9\n",
      "5\n",
      "6\n",
      "6\n",
      "7\n"
     ]
    },
    {
     "name": "stderr",
     "output_type": "stream",
     "text": [
      " 50% (2561 of 5082) |##########          | Elapsed Time: 0:02:36 ETA:   0:01:58"
     ]
    },
    {
     "name": "stdout",
     "output_type": "stream",
     "text": [
      "25\n",
      "6\n",
      "10\n",
      "5\n",
      "8\n",
      "8\n",
      "7\n",
      "10\n"
     ]
    },
    {
     "name": "stderr",
     "output_type": "stream",
     "text": [
      " 50% (2566 of 5082) |##########          | Elapsed Time: 0:02:36 ETA:   0:01:58"
     ]
    },
    {
     "name": "stdout",
     "output_type": "stream",
     "text": [
      "10\n",
      "12\n",
      "8\n",
      "10\n"
     ]
    },
    {
     "name": "stderr",
     "output_type": "stream",
     "text": [
      " 50% (2574 of 5082) |##########          | Elapsed Time: 0:02:37 ETA:   0:02:02"
     ]
    },
    {
     "name": "stdout",
     "output_type": "stream",
     "text": [
      "6\n",
      "6\n",
      "14\n",
      "11\n",
      "10\n",
      "5\n",
      "10\n",
      "4\n"
     ]
    },
    {
     "name": "stderr",
     "output_type": "stream",
     "text": [
      " 50% (2581 of 5082) |##########          | Elapsed Time: 0:02:37 ETA:   0:02:00"
     ]
    },
    {
     "name": "stdout",
     "output_type": "stream",
     "text": [
      "5\n",
      "7\n",
      "10\n",
      "9\n",
      "8\n",
      "9\n"
     ]
    },
    {
     "name": "stderr",
     "output_type": "stream",
     "text": [
      " 50% (2587 of 5082) |##########          | Elapsed Time: 0:02:37 ETA:   0:01:57"
     ]
    },
    {
     "name": "stdout",
     "output_type": "stream",
     "text": [
      "5\n",
      "6\n",
      "11\n",
      "6\n",
      "17\n",
      "5\n",
      "5\n",
      "9\n"
     ]
    },
    {
     "name": "stderr",
     "output_type": "stream",
     "text": [
      " 51% (2593 of 5082) |##########          | Elapsed Time: 0:02:37 ETA:   0:01:52"
     ]
    },
    {
     "name": "stdout",
     "output_type": "stream",
     "text": [
      "11\n",
      "13\n",
      "17\n"
     ]
    },
    {
     "name": "stderr",
     "output_type": "stream",
     "text": [
      " 51% (2597 of 5082) |##########          | Elapsed Time: 0:02:38 ETA:   0:02:02"
     ]
    },
    {
     "name": "stdout",
     "output_type": "stream",
     "text": [
      "23\n",
      "6\n",
      "7\n",
      "9\n",
      "9\n"
     ]
    },
    {
     "name": "stderr",
     "output_type": "stream",
     "text": [
      " 51% (2603 of 5082) |##########          | Elapsed Time: 0:02:38 ETA:   0:01:54"
     ]
    },
    {
     "name": "stdout",
     "output_type": "stream",
     "text": [
      "17\n",
      "12\n",
      "13\n",
      "8\n",
      "11\n"
     ]
    },
    {
     "name": "stderr",
     "output_type": "stream",
     "text": [
      "\r",
      " 51% (2606 of 5082) |##########          | Elapsed Time: 0:02:38 ETA:   0:01:58"
     ]
    },
    {
     "name": "stdout",
     "output_type": "stream",
     "text": [
      "5\n",
      "10\n",
      "16\n",
      "7\n",
      "9\n",
      "5\n"
     ]
    },
    {
     "name": "stderr",
     "output_type": "stream",
     "text": [
      " 51% (2612 of 5082) |##########          | Elapsed Time: 0:02:38 ETA:   0:01:53"
     ]
    },
    {
     "name": "stdout",
     "output_type": "stream",
     "text": [
      "5\n",
      "5\n",
      "20\n",
      "11\n",
      "10\n"
     ]
    },
    {
     "name": "stderr",
     "output_type": "stream",
     "text": [
      " 51% (2619 of 5082) |##########          | Elapsed Time: 0:02:39 ETA:   0:01:44"
     ]
    },
    {
     "name": "stdout",
     "output_type": "stream",
     "text": [
      "6\n",
      "7\n",
      "4\n",
      "10\n",
      "6\n",
      "16\n"
     ]
    },
    {
     "name": "stderr",
     "output_type": "stream",
     "text": [
      " 51% (2624 of 5082) |##########          | Elapsed Time: 0:02:39 ETA:   0:01:49"
     ]
    },
    {
     "name": "stdout",
     "output_type": "stream",
     "text": [
      "12\n",
      "8\n",
      "8\n",
      "9\n",
      "6\n",
      "5\n"
     ]
    },
    {
     "name": "stderr",
     "output_type": "stream",
     "text": [
      " 51% (2631 of 5082) |##########          | Elapsed Time: 0:02:39 ETA:   0:01:51"
     ]
    },
    {
     "name": "stdout",
     "output_type": "stream",
     "text": [
      "20\n",
      "6\n",
      "12\n",
      "3\n",
      "17\n",
      "5\n",
      "4\n"
     ]
    },
    {
     "name": "stderr",
     "output_type": "stream",
     "text": [
      " 51% (2638 of 5082) |##########          | Elapsed Time: 0:02:39 ETA:   0:01:48"
     ]
    },
    {
     "name": "stdout",
     "output_type": "stream",
     "text": [
      "8\n",
      "8\n",
      "8\n",
      "8\n",
      "8\n",
      "4\n",
      "9\n"
     ]
    },
    {
     "name": "stderr",
     "output_type": "stream",
     "text": [
      " 52% (2644 of 5082) |##########          | Elapsed Time: 0:02:40 ETA:   0:01:40"
     ]
    },
    {
     "name": "stdout",
     "output_type": "stream",
     "text": [
      "10\n",
      "14\n",
      "8\n",
      "4\n",
      "4\n"
     ]
    },
    {
     "name": "stderr",
     "output_type": "stream",
     "text": [
      " 52% (2651 of 5082) |##########          | Elapsed Time: 0:02:40 ETA:   0:01:34"
     ]
    },
    {
     "name": "stdout",
     "output_type": "stream",
     "text": [
      "21\n",
      "5\n",
      "4\n",
      "4\n",
      "4\n",
      "8\n",
      "8\n"
     ]
    },
    {
     "name": "stderr",
     "output_type": "stream",
     "text": [
      " 52% (2655 of 5082) |##########          | Elapsed Time: 0:02:40 ETA:   0:01:34"
     ]
    },
    {
     "name": "stdout",
     "output_type": "stream",
     "text": [
      "18\n",
      "16\n",
      "7\n",
      "6\n",
      "25\n"
     ]
    },
    {
     "name": "stderr",
     "output_type": "stream",
     "text": [
      " 52% (2661 of 5082) |##########          | Elapsed Time: 0:02:40 ETA:   0:01:39"
     ]
    },
    {
     "name": "stdout",
     "output_type": "stream",
     "text": [
      "8\n",
      "21\n",
      "8\n",
      "17\n"
     ]
    },
    {
     "name": "stderr",
     "output_type": "stream",
     "text": [
      "\r",
      " 52% (2664 of 5082) |##########          | Elapsed Time: 0:02:41 ETA:   0:01:40"
     ]
    },
    {
     "name": "stdout",
     "output_type": "stream",
     "text": [
      "12\n",
      "8\n",
      "12\n",
      "9\n",
      "7\n",
      "3\n",
      "12\n"
     ]
    },
    {
     "name": "stderr",
     "output_type": "stream",
     "text": [
      "\r",
      " 52% (2668 of 5082) |##########          | Elapsed Time: 0:02:41 ETA:   0:01:41"
     ]
    },
    {
     "name": "stdout",
     "output_type": "stream",
     "text": [
      "4\n",
      "13\n"
     ]
    },
    {
     "name": "stderr",
     "output_type": "stream",
     "text": [
      " 52% (2674 of 5082) |##########          | Elapsed Time: 0:02:42 ETA:   0:03:54"
     ]
    },
    {
     "name": "stdout",
     "output_type": "stream",
     "text": [
      "25\n",
      "12\n",
      "4\n",
      "6\n",
      "9\n",
      "5\n",
      "3\n"
     ]
    },
    {
     "name": "stderr",
     "output_type": "stream",
     "text": [
      " 52% (2680 of 5082) |##########          | Elapsed Time: 0:02:42 ETA:   0:03:36"
     ]
    },
    {
     "name": "stdout",
     "output_type": "stream",
     "text": [
      "11\n",
      "11\n",
      "14\n",
      "10\n",
      "8\n",
      "5\n"
     ]
    },
    {
     "name": "stderr",
     "output_type": "stream",
     "text": [
      " 52% (2686 of 5082) |##########          | Elapsed Time: 0:02:42 ETA:   0:03:17"
     ]
    },
    {
     "name": "stdout",
     "output_type": "stream",
     "text": [
      "6\n",
      "7\n",
      "14\n",
      "9\n",
      "9\n"
     ]
    },
    {
     "name": "stderr",
     "output_type": "stream",
     "text": [
      " 52% (2690 of 5082) |##########          | Elapsed Time: 0:02:43 ETA:   0:03:40"
     ]
    },
    {
     "name": "stdout",
     "output_type": "stream",
     "text": [
      "12\n",
      "24\n",
      "11\n"
     ]
    },
    {
     "name": "stderr",
     "output_type": "stream",
     "text": [
      " 53% (2695 of 5082) |##########          | Elapsed Time: 0:02:43 ETA:   0:03:25"
     ]
    },
    {
     "name": "stdout",
     "output_type": "stream",
     "text": [
      "17\n",
      "7\n",
      "10\n",
      "21\n"
     ]
    },
    {
     "name": "stderr",
     "output_type": "stream",
     "text": [
      " 53% (2702 of 5082) |##########          | Elapsed Time: 0:02:43 ETA:   0:03:18"
     ]
    },
    {
     "name": "stdout",
     "output_type": "stream",
     "text": [
      "8\n",
      "12\n",
      "16\n",
      "6\n",
      "7\n",
      "4\n",
      "7\n",
      "6\n",
      "6\n",
      "7\n"
     ]
    },
    {
     "name": "stderr",
     "output_type": "stream",
     "text": [
      " 53% (2709 of 5082) |##########          | Elapsed Time: 0:02:44 ETA:   0:02:45"
     ]
    },
    {
     "name": "stdout",
     "output_type": "stream",
     "text": [
      "10\n",
      "8\n",
      "14\n",
      "7\n",
      "12\n",
      "8\n"
     ]
    },
    {
     "name": "stderr",
     "output_type": "stream",
     "text": [
      " 53% (2715 of 5082) |##########          | Elapsed Time: 0:02:44 ETA:   0:02:36"
     ]
    },
    {
     "name": "stdout",
     "output_type": "stream",
     "text": [
      "10\n",
      "7\n",
      "7\n",
      "13\n",
      "17\n"
     ]
    },
    {
     "name": "stderr",
     "output_type": "stream",
     "text": [
      " 53% (2719 of 5082) |##########          | Elapsed Time: 0:02:44 ETA:   0:01:48"
     ]
    },
    {
     "name": "stdout",
     "output_type": "stream",
     "text": [
      "19\n",
      "7\n",
      "16\n",
      "13\n"
     ]
    },
    {
     "name": "stderr",
     "output_type": "stream",
     "text": [
      " 53% (2724 of 5082) |##########          | Elapsed Time: 0:02:44 ETA:   0:01:50"
     ]
    },
    {
     "name": "stdout",
     "output_type": "stream",
     "text": [
      "14\n",
      "3\n",
      "12\n",
      "10\n",
      "16\n",
      "7\n"
     ]
    },
    {
     "name": "stderr",
     "output_type": "stream",
     "text": [
      " 53% (2731 of 5082) |##########          | Elapsed Time: 0:02:45 ETA:   0:01:51"
     ]
    },
    {
     "name": "stdout",
     "output_type": "stream",
     "text": [
      "9\n",
      "9\n",
      "9\n",
      "10\n",
      "15\n"
     ]
    },
    {
     "name": "stderr",
     "output_type": "stream",
     "text": [
      " 53% (2737 of 5082) |##########          | Elapsed Time: 0:02:45 ETA:   0:01:45"
     ]
    },
    {
     "name": "stdout",
     "output_type": "stream",
     "text": [
      "4\n",
      "5\n",
      "6\n",
      "6\n",
      "4\n",
      "21\n"
     ]
    },
    {
     "name": "stderr",
     "output_type": "stream",
     "text": [
      "\r",
      " 53% (2740 of 5082) |##########          | Elapsed Time: 0:02:45 ETA:   0:01:43"
     ]
    },
    {
     "name": "stdout",
     "output_type": "stream",
     "text": [
      "10\n",
      "8\n",
      "12\n",
      "7\n",
      "2\n",
      "8\n",
      "6\n"
     ]
    },
    {
     "name": "stderr",
     "output_type": "stream",
     "text": [
      " 54% (2748 of 5082) |##########          | Elapsed Time: 0:02:45 ETA:   0:01:37"
     ]
    },
    {
     "name": "stdout",
     "output_type": "stream",
     "text": [
      "18\n",
      "11\n",
      "9\n",
      "12\n",
      "7\n",
      "4\n"
     ]
    },
    {
     "name": "stderr",
     "output_type": "stream",
     "text": [
      " 54% (2753 of 5082) |##########          | Elapsed Time: 0:02:46 ETA:   0:01:43"
     ]
    },
    {
     "name": "stdout",
     "output_type": "stream",
     "text": [
      "22\n",
      "4\n",
      "19\n",
      "10\n",
      "6\n",
      "5\n"
     ]
    },
    {
     "name": "stderr",
     "output_type": "stream",
     "text": [
      " 54% (2759 of 5082) |##########          | Elapsed Time: 0:02:46 ETA:   0:01:45"
     ]
    },
    {
     "name": "stdout",
     "output_type": "stream",
     "text": [
      "9\n",
      "17\n",
      "12\n",
      "9\n"
     ]
    },
    {
     "name": "stderr",
     "output_type": "stream",
     "text": [
      " 54% (2766 of 5082) |##########          | Elapsed Time: 0:02:46 ETA:   0:01:36"
     ]
    },
    {
     "name": "stdout",
     "output_type": "stream",
     "text": [
      "7\n",
      "8\n",
      "5\n",
      "7\n",
      "6\n",
      "8\n",
      "10\n",
      "11\n"
     ]
    },
    {
     "name": "stderr",
     "output_type": "stream",
     "text": [
      " 54% (2772 of 5082) |##########          | Elapsed Time: 0:02:46 ETA:   0:01:34"
     ]
    },
    {
     "name": "stdout",
     "output_type": "stream",
     "text": [
      "9\n",
      "7\n",
      "13\n",
      "14\n",
      "13\n"
     ]
    },
    {
     "name": "stderr",
     "output_type": "stream",
     "text": [
      " 54% (2776 of 5082) |##########          | Elapsed Time: 0:02:47 ETA:   0:01:36"
     ]
    },
    {
     "name": "stdout",
     "output_type": "stream",
     "text": [
      "11\n",
      "21\n",
      "5\n",
      "8\n"
     ]
    },
    {
     "name": "stderr",
     "output_type": "stream",
     "text": [
      " 54% (2780 of 5082) |##########          | Elapsed Time: 0:02:47 ETA:   0:01:44"
     ]
    },
    {
     "name": "stdout",
     "output_type": "stream",
     "text": [
      "25\n",
      "15\n",
      "9\n",
      "15\n"
     ]
    },
    {
     "name": "stderr",
     "output_type": "stream",
     "text": [
      " 54% (2785 of 5082) |##########          | Elapsed Time: 0:02:47 ETA:   0:01:45"
     ]
    },
    {
     "name": "stdout",
     "output_type": "stream",
     "text": [
      "5\n",
      "16\n",
      "9\n",
      "17\n"
     ]
    },
    {
     "name": "stderr",
     "output_type": "stream",
     "text": [
      " 54% (2790 of 5082) |##########          | Elapsed Time: 0:02:47 ETA:   0:01:47"
     ]
    },
    {
     "name": "stdout",
     "output_type": "stream",
     "text": [
      "13\n",
      "10\n",
      "8\n",
      "8\n",
      "8\n",
      "12\n"
     ]
    },
    {
     "name": "stderr",
     "output_type": "stream",
     "text": [
      "\r",
      " 54% (2793 of 5082) |##########          | Elapsed Time: 0:02:48 ETA:   0:01:52"
     ]
    },
    {
     "name": "stdout",
     "output_type": "stream",
     "text": [
      "6\n",
      "22\n",
      "10\n"
     ]
    },
    {
     "name": "stderr",
     "output_type": "stream",
     "text": [
      " 55% (2798 of 5082) |###########         | Elapsed Time: 0:02:48 ETA:   0:01:58"
     ]
    },
    {
     "name": "stdout",
     "output_type": "stream",
     "text": [
      "23\n",
      "8\n",
      "5\n",
      "12\n",
      "8\n",
      "4\n"
     ]
    },
    {
     "name": "stderr",
     "output_type": "stream",
     "text": [
      " 55% (2803 of 5082) |###########         | Elapsed Time: 0:02:48 ETA:   0:02:16"
     ]
    },
    {
     "name": "stdout",
     "output_type": "stream",
     "text": [
      "20\n",
      "6\n",
      "16\n",
      "7\n"
     ]
    },
    {
     "name": "stderr",
     "output_type": "stream",
     "text": [
      " 55% (2809 of 5082) |###########         | Elapsed Time: 0:02:49 ETA:   0:02:18"
     ]
    },
    {
     "name": "stdout",
     "output_type": "stream",
     "text": [
      "25\n",
      "5\n",
      "6\n",
      "8\n",
      "11\n",
      "9\n"
     ]
    },
    {
     "name": "stderr",
     "output_type": "stream",
     "text": [
      " 55% (2813 of 5082) |###########         | Elapsed Time: 0:02:49 ETA:   0:02:14"
     ]
    },
    {
     "name": "stdout",
     "output_type": "stream",
     "text": [
      "14\n",
      "10\n",
      "12\n",
      "6\n",
      "11\n",
      "5\n"
     ]
    },
    {
     "name": "stderr",
     "output_type": "stream",
     "text": [
      " 55% (2820 of 5082) |###########         | Elapsed Time: 0:02:49 ETA:   0:02:12"
     ]
    },
    {
     "name": "stdout",
     "output_type": "stream",
     "text": [
      "25\n",
      "5\n",
      "15\n",
      "9\n",
      "9\n",
      "2\n"
     ]
    },
    {
     "name": "stderr",
     "output_type": "stream",
     "text": [
      " 55% (2826 of 5082) |###########         | Elapsed Time: 0:02:49 ETA:   0:02:08"
     ]
    },
    {
     "name": "stdout",
     "output_type": "stream",
     "text": [
      "9\n",
      "6\n",
      "11\n",
      "12\n",
      "3\n"
     ]
    },
    {
     "name": "stderr",
     "output_type": "stream",
     "text": [
      " 55% (2831 of 5082) |###########         | Elapsed Time: 0:02:50 ETA:   0:02:01"
     ]
    },
    {
     "name": "stdout",
     "output_type": "stream",
     "text": [
      "24\n",
      "12\n",
      "10\n",
      "5\n",
      "7\n"
     ]
    },
    {
     "name": "stderr",
     "output_type": "stream",
     "text": [
      " 55% (2836 of 5082) |###########         | Elapsed Time: 0:02:50 ETA:   0:02:01"
     ]
    },
    {
     "name": "stdout",
     "output_type": "stream",
     "text": [
      "20\n",
      "4\n",
      "15\n",
      "6\n",
      "8\n",
      "8\n",
      "7\n"
     ]
    },
    {
     "name": "stderr",
     "output_type": "stream",
     "text": [
      " 55% (2843 of 5082) |###########         | Elapsed Time: 0:02:50 ETA:   0:01:49"
     ]
    },
    {
     "name": "stdout",
     "output_type": "stream",
     "text": [
      "9\n",
      "7\n",
      "4\n",
      "13\n",
      "2\n",
      "3\n",
      "2\n",
      "3\n"
     ]
    },
    {
     "name": "stderr",
     "output_type": "stream",
     "text": [
      " 56% (2849 of 5082) |###########         | Elapsed Time: 0:02:51 ETA:   0:02:00"
     ]
    },
    {
     "name": "stdout",
     "output_type": "stream",
     "text": [
      "25\n",
      "24\n"
     ]
    },
    {
     "name": "stderr",
     "output_type": "stream",
     "text": [
      " 56% (2851 of 5082) |###########         | Elapsed Time: 0:02:51 ETA:   0:02:18"
     ]
    },
    {
     "name": "stdout",
     "output_type": "stream",
     "text": [
      "25\n",
      "25\n"
     ]
    },
    {
     "name": "stderr",
     "output_type": "stream",
     "text": [
      "\r",
      " 56% (2852 of 5082) |###########         | Elapsed Time: 0:02:51 ETA:   0:02:25"
     ]
    },
    {
     "name": "stdout",
     "output_type": "stream",
     "text": [
      "23\n",
      "6\n",
      "9\n",
      "6\n",
      "4\n",
      "22\n"
     ]
    },
    {
     "name": "stderr",
     "output_type": "stream",
     "text": [
      "\r",
      " 56% (2857 of 5082) |###########         | Elapsed Time: 0:02:51 ETA:   0:02:30"
     ]
    },
    {
     "name": "stdout",
     "output_type": "stream",
     "text": [
      "6\n",
      "9\n",
      "8\n"
     ]
    },
    {
     "name": "stderr",
     "output_type": "stream",
     "text": [
      " 56% (2863 of 5082) |###########         | Elapsed Time: 0:02:52 ETA:   0:02:39"
     ]
    },
    {
     "name": "stdout",
     "output_type": "stream",
     "text": [
      "25\n",
      "4\n",
      "22\n",
      "8\n",
      "11\n"
     ]
    },
    {
     "name": "stderr",
     "output_type": "stream",
     "text": [
      " 56% (2868 of 5082) |###########         | Elapsed Time: 0:02:52 ETA:   0:02:50"
     ]
    },
    {
     "name": "stdout",
     "output_type": "stream",
     "text": [
      "7\n",
      "8\n",
      "20\n"
     ]
    },
    {
     "name": "stderr",
     "output_type": "stream",
     "text": [
      " 56% (2872 of 5082) |###########         | Elapsed Time: 0:02:52 ETA:   0:02:53"
     ]
    },
    {
     "name": "stdout",
     "output_type": "stream",
     "text": [
      "25\n",
      "10\n",
      "10\n",
      "8\n",
      "8\n",
      "3\n",
      "3\n"
     ]
    },
    {
     "name": "stderr",
     "output_type": "stream",
     "text": [
      " 56% (2878 of 5082) |###########         | Elapsed Time: 0:02:53 ETA:   0:02:32"
     ]
    },
    {
     "name": "stdout",
     "output_type": "stream",
     "text": [
      "16\n",
      "21\n",
      "7\n",
      "16\n"
     ]
    },
    {
     "name": "stderr",
     "output_type": "stream",
     "text": [
      " 56% (2882 of 5082) |###########         | Elapsed Time: 0:02:53 ETA:   0:02:26"
     ]
    },
    {
     "name": "stdout",
     "output_type": "stream",
     "text": [
      "13\n",
      "11\n",
      "10\n",
      "22\n"
     ]
    },
    {
     "name": "stderr",
     "output_type": "stream",
     "text": [
      " 56% (2886 of 5082) |###########         | Elapsed Time: 0:02:53 ETA:   0:02:12"
     ]
    },
    {
     "name": "stdout",
     "output_type": "stream",
     "text": [
      "10\n",
      "11\n",
      "25\n",
      "3\n"
     ]
    },
    {
     "name": "stderr",
     "output_type": "stream",
     "text": [
      " 56% (2891 of 5082) |###########         | Elapsed Time: 0:02:53 ETA:   0:02:12"
     ]
    },
    {
     "name": "stdout",
     "output_type": "stream",
     "text": [
      "5\n",
      "9\n",
      "18\n",
      "24\n"
     ]
    },
    {
     "name": "stderr",
     "output_type": "stream",
     "text": [
      " 57% (2898 of 5082) |###########         | Elapsed Time: 0:02:54 ETA:   0:01:59"
     ]
    },
    {
     "name": "stdout",
     "output_type": "stream",
     "text": [
      "18\n",
      "14\n",
      "1\n",
      "6\n",
      "8\n",
      "7\n",
      "10\n",
      "1\n",
      "10\n",
      "5\n"
     ]
    },
    {
     "name": "stderr",
     "output_type": "stream",
     "text": [
      " 57% (2904 of 5082) |###########         | Elapsed Time: 0:02:54 ETA:   0:02:02"
     ]
    },
    {
     "name": "stdout",
     "output_type": "stream",
     "text": [
      "18\n",
      "11\n",
      "25\n"
     ]
    },
    {
     "name": "stderr",
     "output_type": "stream",
     "text": [
      "\r",
      " 57% (2906 of 5082) |###########         | Elapsed Time: 0:02:54 ETA:   0:01:58"
     ]
    },
    {
     "name": "stdout",
     "output_type": "stream",
     "text": [
      "19\n",
      "25\n",
      "10\n",
      "14\n"
     ]
    },
    {
     "name": "stderr",
     "output_type": "stream",
     "text": [
      " 57% (2911 of 5082) |###########         | Elapsed Time: 0:02:55 ETA:   0:02:12"
     ]
    },
    {
     "name": "stdout",
     "output_type": "stream",
     "text": [
      "6\n",
      "25\n",
      "25\n"
     ]
    },
    {
     "name": "stderr",
     "output_type": "stream",
     "text": [
      " 57% (2916 of 5082) |###########         | Elapsed Time: 0:02:55 ETA:   0:02:13"
     ]
    },
    {
     "name": "stdout",
     "output_type": "stream",
     "text": [
      "25\n",
      "7\n",
      "8\n",
      "6\n",
      "22\n"
     ]
    },
    {
     "name": "stderr",
     "output_type": "stream",
     "text": [
      "\r",
      " 57% (2920 of 5082) |###########         | Elapsed Time: 0:02:55 ETA:   0:02:04"
     ]
    },
    {
     "name": "stdout",
     "output_type": "stream",
     "text": [
      "7\n",
      "10\n",
      "4\n",
      "8\n",
      "10\n",
      "8\n",
      "16\n"
     ]
    },
    {
     "name": "stderr",
     "output_type": "stream",
     "text": [
      " 57% (2926 of 5082) |###########         | Elapsed Time: 0:02:55 ETA:   0:02:00"
     ]
    },
    {
     "name": "stdout",
     "output_type": "stream",
     "text": [
      "5\n",
      "11\n",
      "8\n",
      "10\n",
      "7\n"
     ]
    },
    {
     "name": "stderr",
     "output_type": "stream",
     "text": [
      " 57% (2932 of 5082) |###########         | Elapsed Time: 0:02:56 ETA:   0:01:54"
     ]
    },
    {
     "name": "stdout",
     "output_type": "stream",
     "text": [
      "19\n",
      "13\n",
      "8\n",
      "15\n",
      "14\n"
     ]
    },
    {
     "name": "stderr",
     "output_type": "stream",
     "text": [
      " 57% (2936 of 5082) |###########         | Elapsed Time: 0:02:56 ETA:   0:02:09"
     ]
    },
    {
     "name": "stdout",
     "output_type": "stream",
     "text": [
      "19\n",
      "17\n",
      "13\n"
     ]
    },
    {
     "name": "stderr",
     "output_type": "stream",
     "text": [
      " 57% (2940 of 5082) |###########         | Elapsed Time: 0:02:56 ETA:   0:02:05"
     ]
    },
    {
     "name": "stdout",
     "output_type": "stream",
     "text": [
      "20\n",
      "13\n",
      "15\n",
      "10\n",
      "13\n"
     ]
    },
    {
     "name": "stderr",
     "output_type": "stream",
     "text": [
      " 57% (2945 of 5082) |###########         | Elapsed Time: 0:02:56 ETA:   0:01:56"
     ]
    },
    {
     "name": "stdout",
     "output_type": "stream",
     "text": [
      "9\n",
      "5\n",
      "10\n",
      "16\n",
      "6\n",
      "5\n",
      "9\n"
     ]
    },
    {
     "name": "stderr",
     "output_type": "stream",
     "text": [
      " 58% (2952 of 5082) |###########         | Elapsed Time: 0:02:57 ETA:   0:01:44"
     ]
    },
    {
     "name": "stdout",
     "output_type": "stream",
     "text": [
      "10\n",
      "7\n",
      "7\n",
      "12\n",
      "19\n"
     ]
    },
    {
     "name": "stderr",
     "output_type": "stream",
     "text": [
      " 58% (2957 of 5082) |###########         | Elapsed Time: 0:02:57 ETA:   0:01:43"
     ]
    },
    {
     "name": "stdout",
     "output_type": "stream",
     "text": [
      "12\n",
      "8\n",
      "10\n",
      "20\n"
     ]
    },
    {
     "name": "stderr",
     "output_type": "stream",
     "text": [
      " 58% (2962 of 5082) |###########         | Elapsed Time: 0:02:57 ETA:   0:01:46"
     ]
    },
    {
     "name": "stdout",
     "output_type": "stream",
     "text": [
      "7\n",
      "9\n",
      "10\n",
      "17\n",
      "9\n",
      "1\n",
      "6\n"
     ]
    },
    {
     "name": "stderr",
     "output_type": "stream",
     "text": [
      "\r",
      " 58% (2967 of 5082) |###########         | Elapsed Time: 0:02:57 ETA:   0:01:48"
     ]
    },
    {
     "name": "stdout",
     "output_type": "stream",
     "text": [
      "4\n",
      "7\n",
      "25\n",
      "14\n",
      "9\n"
     ]
    },
    {
     "name": "stderr",
     "output_type": "stream",
     "text": [
      " 58% (2973 of 5082) |###########         | Elapsed Time: 0:02:58 ETA:   0:01:52"
     ]
    },
    {
     "name": "stdout",
     "output_type": "stream",
     "text": [
      "25\n",
      "13\n",
      "5\n",
      "9\n",
      "3\n"
     ]
    },
    {
     "name": "stderr",
     "output_type": "stream",
     "text": [
      "\r",
      " 58% (2975 of 5082) |###########         | Elapsed Time: 0:02:58 ETA:   0:02:02"
     ]
    },
    {
     "name": "stdout",
     "output_type": "stream",
     "text": [
      "25\n",
      "17\n"
     ]
    },
    {
     "name": "stderr",
     "output_type": "stream",
     "text": [
      " 58% (2978 of 5082) |###########         | Elapsed Time: 0:02:59 ETA:   0:02:25"
     ]
    },
    {
     "name": "stdout",
     "output_type": "stream",
     "text": [
      "25\n",
      "25\n",
      "6\n"
     ]
    },
    {
     "name": "stderr",
     "output_type": "stream",
     "text": [
      " 58% (2983 of 5082) |###########         | Elapsed Time: 0:02:59 ETA:   0:02:30"
     ]
    },
    {
     "name": "stdout",
     "output_type": "stream",
     "text": [
      "22\n",
      "5\n",
      "8\n",
      "9\n",
      "7\n",
      "7\n"
     ]
    },
    {
     "name": "stderr",
     "output_type": "stream",
     "text": [
      " 58% (2987 of 5082) |###########         | Elapsed Time: 0:02:59 ETA:   0:02:40"
     ]
    },
    {
     "name": "stdout",
     "output_type": "stream",
     "text": [
      "9\n",
      "25\n",
      "12\n"
     ]
    },
    {
     "name": "stderr",
     "output_type": "stream",
     "text": [
      " 58% (2991 of 5082) |###########         | Elapsed Time: 0:02:59 ETA:   0:02:54"
     ]
    },
    {
     "name": "stdout",
     "output_type": "stream",
     "text": [
      "16\n",
      "8\n",
      "25\n",
      "6\n"
     ]
    },
    {
     "name": "stderr",
     "output_type": "stream",
     "text": [
      " 59% (3000 of 5082) |###########         | Elapsed Time: 0:03:00 ETA:   0:02:21"
     ]
    },
    {
     "name": "stdout",
     "output_type": "stream",
     "text": [
      "12\n",
      "3\n",
      "9\n",
      "7\n",
      "4\n",
      "4\n",
      "5\n",
      "5\n"
     ]
    },
    {
     "name": "stderr",
     "output_type": "stream",
     "text": [
      "\r",
      " 59% (3001 of 5082) |###########         | Elapsed Time: 0:03:00 ETA:   0:02:20"
     ]
    },
    {
     "name": "stdout",
     "output_type": "stream",
     "text": [
      "23\n"
     ]
    },
    {
     "name": "stderr",
     "output_type": "stream",
     "text": [
      " 59% (3004 of 5082) |###########         | Elapsed Time: 0:03:00 ETA:   0:02:28"
     ]
    },
    {
     "name": "stdout",
     "output_type": "stream",
     "text": [
      "25\n",
      "20\n",
      "4\n",
      "2\n",
      "9\n"
     ]
    },
    {
     "name": "stderr",
     "output_type": "stream",
     "text": [
      " 59% (3011 of 5082) |###########         | Elapsed Time: 0:03:00 ETA:   0:02:02"
     ]
    },
    {
     "name": "stdout",
     "output_type": "stream",
     "text": [
      "12\n",
      "2\n",
      "4\n",
      "10\n",
      "18\n"
     ]
    },
    {
     "name": "stderr",
     "output_type": "stream",
     "text": [
      " 59% (3016 of 5082) |###########         | Elapsed Time: 0:03:01 ETA:   0:01:51"
     ]
    },
    {
     "name": "stdout",
     "output_type": "stream",
     "text": [
      "16\n",
      "14\n",
      "3\n",
      "13\n",
      "11\n"
     ]
    },
    {
     "name": "stderr",
     "output_type": "stream",
     "text": [
      " 59% (3020 of 5082) |###########         | Elapsed Time: 0:03:01 ETA:   0:01:51"
     ]
    },
    {
     "name": "stdout",
     "output_type": "stream",
     "text": [
      "15\n",
      "13\n",
      "10\n",
      "17\n",
      "13\n"
     ]
    },
    {
     "name": "stderr",
     "output_type": "stream",
     "text": [
      " 59% (3024 of 5082) |###########         | Elapsed Time: 0:03:02 ETA:   0:02:51"
     ]
    },
    {
     "name": "stdout",
     "output_type": "stream",
     "text": [
      "25\n",
      "13\n",
      "20\n"
     ]
    },
    {
     "name": "stderr",
     "output_type": "stream",
     "text": [
      " 59% (3029 of 5082) |###########         | Elapsed Time: 0:03:02 ETA:   0:02:37"
     ]
    },
    {
     "name": "stdout",
     "output_type": "stream",
     "text": [
      "12\n",
      "11\n",
      "10\n",
      "8\n",
      "9\n",
      "3\n",
      "4\n",
      "8\n"
     ]
    },
    {
     "name": "stderr",
     "output_type": "stream",
     "text": [
      " 59% (3036 of 5082) |###########         | Elapsed Time: 0:03:02 ETA:   0:02:11"
     ]
    },
    {
     "name": "stdout",
     "output_type": "stream",
     "text": [
      "16\n",
      "5\n",
      "7\n",
      "10\n",
      "15\n",
      "7\n"
     ]
    },
    {
     "name": "stderr",
     "output_type": "stream",
     "text": [
      " 59% (3041 of 5082) |###########         | Elapsed Time: 0:03:02 ETA:   0:02:16"
     ]
    },
    {
     "name": "stdout",
     "output_type": "stream",
     "text": [
      "6\n",
      "12\n",
      "8\n",
      "10\n",
      "19\n"
     ]
    },
    {
     "name": "stderr",
     "output_type": "stream",
     "text": [
      " 59% (3048 of 5082) |###########         | Elapsed Time: 0:03:03 ETA:   0:02:16"
     ]
    },
    {
     "name": "stdout",
     "output_type": "stream",
     "text": [
      "9\n",
      "17\n",
      "7\n",
      "9\n",
      "13\n",
      "6\n",
      "9\n",
      "6\n"
     ]
    },
    {
     "name": "stderr",
     "output_type": "stream",
     "text": [
      " 60% (3055 of 5082) |############        | Elapsed Time: 0:03:03 ETA:   0:02:15"
     ]
    },
    {
     "name": "stdout",
     "output_type": "stream",
     "text": [
      "25\n",
      "14\n",
      "6\n",
      "7\n",
      "3\n",
      "3\n"
     ]
    },
    {
     "name": "stderr",
     "output_type": "stream",
     "text": [
      "\r",
      " 60% (3059 of 5082) |############        | Elapsed Time: 0:03:03 ETA:   0:02:13"
     ]
    },
    {
     "name": "stdout",
     "output_type": "stream",
     "text": [
      "9\n",
      "25\n"
     ]
    },
    {
     "name": "stderr",
     "output_type": "stream",
     "text": [
      " 60% (3062 of 5082) |############        | Elapsed Time: 0:03:04 ETA:   0:01:56"
     ]
    },
    {
     "name": "stdout",
     "output_type": "stream",
     "text": [
      "25\n",
      "9\n",
      "22\n",
      "5\n"
     ]
    },
    {
     "name": "stderr",
     "output_type": "stream",
     "text": [
      " 60% (3068 of 5082) |############        | Elapsed Time: 0:03:04 ETA:   0:01:57"
     ]
    },
    {
     "name": "stdout",
     "output_type": "stream",
     "text": [
      "9\n",
      "11\n",
      "12\n",
      "9\n",
      "6\n",
      "15\n",
      "4\n"
     ]
    },
    {
     "name": "stderr",
     "output_type": "stream",
     "text": [
      "\r",
      " 60% (3071 of 5082) |############        | Elapsed Time: 0:03:04 ETA:   0:02:01"
     ]
    },
    {
     "name": "stdout",
     "output_type": "stream",
     "text": [
      "20\n",
      "4\n",
      "9\n",
      "7\n"
     ]
    },
    {
     "name": "stderr",
     "output_type": "stream",
     "text": [
      " 60% (3080 of 5082) |############        | Elapsed Time: 0:03:05 ETA:   0:01:53"
     ]
    },
    {
     "name": "stdout",
     "output_type": "stream",
     "text": [
      "25\n",
      "4\n",
      "6\n",
      "7\n",
      "6\n",
      "3\n",
      "11\n"
     ]
    },
    {
     "name": "stderr",
     "output_type": "stream",
     "text": [
      " 60% (3083 of 5082) |############        | Elapsed Time: 0:03:05 ETA:   0:02:01"
     ]
    },
    {
     "name": "stdout",
     "output_type": "stream",
     "text": [
      "25\n",
      "25\n",
      "11\n",
      "5\n"
     ]
    },
    {
     "name": "stderr",
     "output_type": "stream",
     "text": [
      " 60% (3088 of 5082) |############        | Elapsed Time: 0:03:05 ETA:   0:01:56"
     ]
    },
    {
     "name": "stdout",
     "output_type": "stream",
     "text": [
      "5\n",
      "24\n",
      "25\n",
      "5\n"
     ]
    },
    {
     "name": "stderr",
     "output_type": "stream",
     "text": [
      " 60% (3092 of 5082) |############        | Elapsed Time: 0:03:06 ETA:   0:02:02"
     ]
    },
    {
     "name": "stdout",
     "output_type": "stream",
     "text": [
      "6\n",
      "16\n",
      "25\n"
     ]
    },
    {
     "name": "stderr",
     "output_type": "stream",
     "text": [
      " 60% (3099 of 5082) |############        | Elapsed Time: 0:03:06 ETA:   0:01:52"
     ]
    },
    {
     "name": "stdout",
     "output_type": "stream",
     "text": [
      "5\n",
      "6\n",
      "3\n",
      "15\n",
      "12\n",
      "8\n",
      "5\n",
      "8\n",
      "7\n"
     ]
    },
    {
     "name": "stderr",
     "output_type": "stream",
     "text": [
      " 61% (3105 of 5082) |############        | Elapsed Time: 0:03:06 ETA:   0:01:41"
     ]
    },
    {
     "name": "stdout",
     "output_type": "stream",
     "text": [
      "25\n",
      "9\n",
      "7\n",
      "9\n",
      "7\n"
     ]
    },
    {
     "name": "stderr",
     "output_type": "stream",
     "text": [
      " 61% (3111 of 5082) |############        | Elapsed Time: 0:03:06 ETA:   0:01:39"
     ]
    },
    {
     "name": "stdout",
     "output_type": "stream",
     "text": [
      "13\n",
      "11\n",
      "8\n",
      "11\n",
      "4\n",
      "7\n",
      "2\n",
      "5\n"
     ]
    },
    {
     "name": "stderr",
     "output_type": "stream",
     "text": [
      " 61% (3117 of 5082) |############        | Elapsed Time: 0:03:07 ETA:   0:01:34"
     ]
    },
    {
     "name": "stdout",
     "output_type": "stream",
     "text": [
      "15\n",
      "13\n",
      "10\n",
      "11\n",
      "11\n"
     ]
    },
    {
     "name": "stderr",
     "output_type": "stream",
     "text": [
      " 61% (3125 of 5082) |############        | Elapsed Time: 0:03:07 ETA:   0:01:32"
     ]
    },
    {
     "name": "stdout",
     "output_type": "stream",
     "text": [
      "15\n",
      "5\n",
      "6\n",
      "6\n",
      "4\n",
      "5\n",
      "5\n",
      "5\n"
     ]
    },
    {
     "name": "stderr",
     "output_type": "stream",
     "text": [
      " 61% (3131 of 5082) |############        | Elapsed Time: 0:03:07 ETA:   0:01:26"
     ]
    },
    {
     "name": "stdout",
     "output_type": "stream",
     "text": [
      "18\n",
      "10\n",
      "8\n",
      "7\n",
      "21\n"
     ]
    },
    {
     "name": "stderr",
     "output_type": "stream",
     "text": [
      "\r",
      " 61% (3133 of 5082) |############        | Elapsed Time: 0:03:07 ETA:   0:01:27"
     ]
    },
    {
     "name": "stdout",
     "output_type": "stream",
     "text": [
      "14\n",
      "9\n",
      "3\n",
      "5\n"
     ]
    },
    {
     "name": "stderr",
     "output_type": "stream",
     "text": [
      " 61% (3138 of 5082) |############        | Elapsed Time: 0:03:08 ETA:   0:01:28"
     ]
    },
    {
     "name": "stdout",
     "output_type": "stream",
     "text": [
      "25\n",
      "24\n"
     ]
    },
    {
     "name": "stderr",
     "output_type": "stream",
     "text": [
      " 61% (3141 of 5082) |############        | Elapsed Time: 0:03:08 ETA:   0:01:38"
     ]
    },
    {
     "name": "stdout",
     "output_type": "stream",
     "text": [
      "25\n",
      "21\n",
      "18\n"
     ]
    },
    {
     "name": "stderr",
     "output_type": "stream",
     "text": [
      " 61% (3144 of 5082) |############        | Elapsed Time: 0:03:08 ETA:   0:01:45"
     ]
    },
    {
     "name": "stdout",
     "output_type": "stream",
     "text": [
      "13\n",
      "23\n",
      "25\n"
     ]
    },
    {
     "name": "stderr",
     "output_type": "stream",
     "text": [
      "\r",
      " 61% (3147 of 5082) |############        | Elapsed Time: 0:03:08 ETA:   0:01:43"
     ]
    },
    {
     "name": "stdout",
     "output_type": "stream",
     "text": [
      "9\n",
      "9\n",
      "7\n",
      "17\n"
     ]
    },
    {
     "name": "stderr",
     "output_type": "stream",
     "text": [
      " 61% (3150 of 5082) |############        | Elapsed Time: 0:03:09 ETA:   0:02:00"
     ]
    },
    {
     "name": "stdout",
     "output_type": "stream",
     "text": [
      "17\n",
      "25\n"
     ]
    },
    {
     "name": "stderr",
     "output_type": "stream",
     "text": [
      " 62% (3156 of 5082) |############        | Elapsed Time: 0:03:09 ETA:   0:02:07"
     ]
    },
    {
     "name": "stdout",
     "output_type": "stream",
     "text": [
      "13\n",
      "2\n",
      "12\n",
      "7\n",
      "3\n",
      "22\n"
     ]
    },
    {
     "name": "stderr",
     "output_type": "stream",
     "text": [
      " 62% (3161 of 5082) |############        | Elapsed Time: 0:03:09 ETA:   0:02:12"
     ]
    },
    {
     "name": "stdout",
     "output_type": "stream",
     "text": [
      "5\n",
      "2\n",
      "20\n",
      "3\n",
      "23\n"
     ]
    },
    {
     "name": "stderr",
     "output_type": "stream",
     "text": [
      "\r",
      " 62% (3164 of 5082) |############        | Elapsed Time: 0:03:09 ETA:   0:02:12"
     ]
    },
    {
     "name": "stdout",
     "output_type": "stream",
     "text": [
      "10\n",
      "5\n",
      "25\n"
     ]
    },
    {
     "name": "stderr",
     "output_type": "stream",
     "text": [
      " 62% (3169 of 5082) |############        | Elapsed Time: 0:03:10 ETA:   0:02:09"
     ]
    },
    {
     "name": "stdout",
     "output_type": "stream",
     "text": [
      "25\n",
      "3\n",
      "11\n",
      "9\n",
      "12\n",
      "5\n",
      "1\n"
     ]
    },
    {
     "name": "stderr",
     "output_type": "stream",
     "text": [
      " 62% (3174 of 5082) |############        | Elapsed Time: 0:03:10 ETA:   0:01:58"
     ]
    },
    {
     "name": "stdout",
     "output_type": "stream",
     "text": [
      "11\n",
      "11\n",
      "24\n"
     ]
    },
    {
     "name": "stderr",
     "output_type": "stream",
     "text": [
      " 62% (3178 of 5082) |############        | Elapsed Time: 0:03:10 ETA:   0:01:52"
     ]
    },
    {
     "name": "stdout",
     "output_type": "stream",
     "text": [
      "19\n",
      "13\n",
      "19\n",
      "10\n",
      "12\n"
     ]
    },
    {
     "name": "stderr",
     "output_type": "stream",
     "text": [
      " 62% (3183 of 5082) |############        | Elapsed Time: 0:03:10 ETA:   0:01:48"
     ]
    },
    {
     "name": "stdout",
     "output_type": "stream",
     "text": [
      "12\n",
      "13\n",
      "8\n",
      "12\n",
      "5\n"
     ]
    },
    {
     "name": "stderr",
     "output_type": "stream",
     "text": [
      "\r",
      " 62% (3186 of 5082) |############        | Elapsed Time: 0:03:11 ETA:   0:01:44"
     ]
    },
    {
     "name": "stdout",
     "output_type": "stream",
     "text": [
      "14\n",
      "18\n"
     ]
    },
    {
     "name": "stderr",
     "output_type": "stream",
     "text": [
      " 62% (3194 of 5082) |############        | Elapsed Time: 0:03:11 ETA:   0:01:47"
     ]
    },
    {
     "name": "stdout",
     "output_type": "stream",
     "text": [
      "25\n",
      "6\n",
      "25\n",
      "3\n",
      "9\n",
      "7\n",
      "4\n",
      "5\n"
     ]
    },
    {
     "name": "stderr",
     "output_type": "stream",
     "text": [
      " 62% (3200 of 5082) |############        | Elapsed Time: 0:03:11 ETA:   0:01:42"
     ]
    },
    {
     "name": "stdout",
     "output_type": "stream",
     "text": [
      "6\n",
      "10\n",
      "6\n",
      "10\n",
      "9\n",
      "17\n",
      "13\n",
      "8\n"
     ]
    },
    {
     "name": "stderr",
     "output_type": "stream",
     "text": [
      " 63% (3206 of 5082) |############        | Elapsed Time: 0:03:11 ETA:   0:01:32"
     ]
    },
    {
     "name": "stdout",
     "output_type": "stream",
     "text": [
      "13\n",
      "12\n",
      "8\n",
      "8\n",
      "9\n",
      "6\n",
      "5\n"
     ]
    },
    {
     "name": "stderr",
     "output_type": "stream",
     "text": [
      " 63% (3212 of 5082) |############        | Elapsed Time: 0:03:12 ETA:   0:01:31"
     ]
    },
    {
     "name": "stdout",
     "output_type": "stream",
     "text": [
      "5\n",
      "11\n",
      "13\n"
     ]
    },
    {
     "name": "stderr",
     "output_type": "stream",
     "text": [
      " 63% (3216 of 5082) |############        | Elapsed Time: 0:03:12 ETA:   0:01:34"
     ]
    },
    {
     "name": "stdout",
     "output_type": "stream",
     "text": [
      "24\n",
      "4\n",
      "10\n",
      "25\n"
     ]
    },
    {
     "name": "stderr",
     "output_type": "stream",
     "text": [
      "\r",
      " 63% (3220 of 5082) |############        | Elapsed Time: 0:03:12 ETA:   0:01:30"
     ]
    },
    {
     "name": "stdout",
     "output_type": "stream",
     "text": [
      "8\n",
      "3\n",
      "2\n",
      "16\n",
      "5\n",
      "14\n"
     ]
    },
    {
     "name": "stderr",
     "output_type": "stream",
     "text": [
      " 63% (3225 of 5082) |############        | Elapsed Time: 0:03:12 ETA:   0:01:31"
     ]
    },
    {
     "name": "stdout",
     "output_type": "stream",
     "text": [
      "13\n",
      "6\n",
      "21\n",
      "14\n"
     ]
    },
    {
     "name": "stderr",
     "output_type": "stream",
     "text": [
      " 63% (3228 of 5082) |############        | Elapsed Time: 0:03:13 ETA:   0:01:34"
     ]
    },
    {
     "name": "stdout",
     "output_type": "stream",
     "text": [
      "12\n",
      "18\n",
      "10\n",
      "8\n"
     ]
    },
    {
     "name": "stderr",
     "output_type": "stream",
     "text": [
      " 63% (3233 of 5082) |############        | Elapsed Time: 0:03:13 ETA:   0:01:26"
     ]
    },
    {
     "name": "stdout",
     "output_type": "stream",
     "text": [
      "17\n",
      "13\n",
      "9\n",
      "7\n",
      "4\n"
     ]
    },
    {
     "name": "stderr",
     "output_type": "stream",
     "text": [
      " 63% (3238 of 5082) |############        | Elapsed Time: 0:03:13 ETA:   0:01:34"
     ]
    },
    {
     "name": "stdout",
     "output_type": "stream",
     "text": [
      "14\n",
      "18\n",
      "8\n",
      "14\n"
     ]
    },
    {
     "name": "stderr",
     "output_type": "stream",
     "text": [
      " 63% (3242 of 5082) |############        | Elapsed Time: 0:03:13 ETA:   0:01:34"
     ]
    },
    {
     "name": "stdout",
     "output_type": "stream",
     "text": [
      "13\n",
      "4\n",
      "9\n",
      "5\n",
      "13\n"
     ]
    },
    {
     "name": "stderr",
     "output_type": "stream",
     "text": [
      " 63% (3246 of 5082) |############        | Elapsed Time: 0:03:14 ETA:   0:01:46"
     ]
    },
    {
     "name": "stdout",
     "output_type": "stream",
     "text": [
      "15\n",
      "25\n"
     ]
    },
    {
     "name": "stderr",
     "output_type": "stream",
     "text": [
      " 64% (3255 of 5082) |############        | Elapsed Time: 0:03:14 ETA:   0:01:35"
     ]
    },
    {
     "name": "stdout",
     "output_type": "stream",
     "text": [
      "15\n",
      "6\n",
      "7\n",
      "8\n",
      "7\n",
      "6\n",
      "9\n",
      "7\n",
      "6\n"
     ]
    },
    {
     "name": "stderr",
     "output_type": "stream",
     "text": [
      " 64% (3259 of 5082) |############        | Elapsed Time: 0:03:14 ETA:   0:01:42"
     ]
    },
    {
     "name": "stdout",
     "output_type": "stream",
     "text": [
      "25\n",
      "3\n",
      "12\n",
      "14\n",
      "7\n",
      "7\n"
     ]
    },
    {
     "name": "stderr",
     "output_type": "stream",
     "text": [
      " 64% (3265 of 5082) |############        | Elapsed Time: 0:03:15 ETA:   0:01:35"
     ]
    },
    {
     "name": "stdout",
     "output_type": "stream",
     "text": [
      "7\n",
      "3\n",
      "13\n",
      "5\n",
      "17\n",
      "4\n"
     ]
    },
    {
     "name": "stderr",
     "output_type": "stream",
     "text": [
      " 64% (3273 of 5082) |############        | Elapsed Time: 0:03:15 ETA:   0:01:27"
     ]
    },
    {
     "name": "stdout",
     "output_type": "stream",
     "text": [
      "20\n",
      "4\n",
      "4\n",
      "2\n",
      "10\n",
      "11\n",
      "10\n"
     ]
    },
    {
     "name": "stderr",
     "output_type": "stream",
     "text": [
      " 64% (3278 of 5082) |############        | Elapsed Time: 0:03:15 ETA:   0:01:29"
     ]
    },
    {
     "name": "stdout",
     "output_type": "stream",
     "text": [
      "10\n",
      "11\n",
      "17\n",
      "11\n"
     ]
    },
    {
     "name": "stderr",
     "output_type": "stream",
     "text": [
      " 64% (3283 of 5082) |############        | Elapsed Time: 0:03:15 ETA:   0:01:28"
     ]
    },
    {
     "name": "stdout",
     "output_type": "stream",
     "text": [
      "18\n",
      "3\n",
      "11\n",
      "14\n",
      "14\n"
     ]
    },
    {
     "name": "stderr",
     "output_type": "stream",
     "text": [
      "\r",
      " 64% (3287 of 5082) |############        | Elapsed Time: 0:03:16 ETA:   0:01:25"
     ]
    },
    {
     "name": "stdout",
     "output_type": "stream",
     "text": [
      "7\n",
      "3\n",
      "10\n",
      "6\n"
     ]
    },
    {
     "name": "stderr",
     "output_type": "stream",
     "text": [
      " 64% (3292 of 5082) |############        | Elapsed Time: 0:03:16 ETA:   0:01:23"
     ]
    },
    {
     "name": "stdout",
     "output_type": "stream",
     "text": [
      "25\n",
      "12\n",
      "6\n",
      "4\n",
      "4\n",
      "12\n",
      "4\n",
      "5\n"
     ]
    },
    {
     "name": "stderr",
     "output_type": "stream",
     "text": [
      " 64% (3299 of 5082) |############        | Elapsed Time: 0:03:16 ETA:   0:01:24"
     ]
    },
    {
     "name": "stdout",
     "output_type": "stream",
     "text": [
      "25\n",
      "8\n",
      "6\n",
      "18\n",
      "8\n"
     ]
    },
    {
     "name": "stderr",
     "output_type": "stream",
     "text": [
      "\r",
      " 64% (3301 of 5082) |############        | Elapsed Time: 0:03:16 ETA:   0:01:28"
     ]
    },
    {
     "name": "stdout",
     "output_type": "stream",
     "text": [
      "24\n",
      "11\n",
      "6\n"
     ]
    },
    {
     "name": "stderr",
     "output_type": "stream",
     "text": [
      " 65% (3307 of 5082) |#############       | Elapsed Time: 0:03:17 ETA:   0:01:33"
     ]
    },
    {
     "name": "stdout",
     "output_type": "stream",
     "text": [
      "25\n",
      "3\n",
      "11\n",
      "6\n",
      "4\n"
     ]
    },
    {
     "name": "stderr",
     "output_type": "stream",
     "text": [
      " 65% (3310 of 5082) |#############       | Elapsed Time: 0:03:17 ETA:   0:01:42"
     ]
    },
    {
     "name": "stdout",
     "output_type": "stream",
     "text": [
      "18\n",
      "20\n",
      "6\n",
      "9\n"
     ]
    },
    {
     "name": "stderr",
     "output_type": "stream",
     "text": [
      " 65% (3315 of 5082) |#############       | Elapsed Time: 0:03:17 ETA:   0:01:45"
     ]
    },
    {
     "name": "stdout",
     "output_type": "stream",
     "text": [
      "13\n",
      "14\n",
      "19\n",
      "7\n"
     ]
    },
    {
     "name": "stderr",
     "output_type": "stream",
     "text": [
      " 65% (3319 of 5082) |#############       | Elapsed Time: 0:03:18 ETA:   0:01:56"
     ]
    },
    {
     "name": "stdout",
     "output_type": "stream",
     "text": [
      "17\n",
      "7\n",
      "25\n"
     ]
    },
    {
     "name": "stderr",
     "output_type": "stream",
     "text": [
      " 65% (3325 of 5082) |#############       | Elapsed Time: 0:03:18 ETA:   0:01:49"
     ]
    },
    {
     "name": "stdout",
     "output_type": "stream",
     "text": [
      "11\n",
      "15\n",
      "9\n",
      "6\n",
      "4\n",
      "7\n",
      "15\n",
      "5\n"
     ]
    },
    {
     "name": "stderr",
     "output_type": "stream",
     "text": [
      "\r",
      " 65% (3328 of 5082) |#############       | Elapsed Time: 0:03:18 ETA:   0:01:46"
     ]
    },
    {
     "name": "stdout",
     "output_type": "stream",
     "text": [
      "7\n",
      "10\n",
      "4\n",
      "7\n",
      "24\n"
     ]
    },
    {
     "name": "stderr",
     "output_type": "stream",
     "text": [
      " 65% (3336 of 5082) |#############       | Elapsed Time: 0:03:19 ETA:   0:01:48"
     ]
    },
    {
     "name": "stdout",
     "output_type": "stream",
     "text": [
      "25\n",
      "9\n",
      "9\n",
      "6\n",
      "9\n"
     ]
    },
    {
     "name": "stderr",
     "output_type": "stream",
     "text": [
      " 65% (3341 of 5082) |#############       | Elapsed Time: 0:03:19 ETA:   0:01:45"
     ]
    },
    {
     "name": "stdout",
     "output_type": "stream",
     "text": [
      "14\n",
      "11\n",
      "6\n",
      "9\n",
      "13\n",
      "6\n"
     ]
    },
    {
     "name": "stderr",
     "output_type": "stream",
     "text": [
      " 65% (3346 of 5082) |#############       | Elapsed Time: 0:03:19 ETA:   0:01:43"
     ]
    },
    {
     "name": "stdout",
     "output_type": "stream",
     "text": [
      "12\n",
      "5\n",
      "8\n",
      "5\n",
      "15\n",
      "12\n"
     ]
    },
    {
     "name": "stderr",
     "output_type": "stream",
     "text": [
      " 66% (3355 of 5082) |#############       | Elapsed Time: 0:03:19 ETA:   0:01:30"
     ]
    },
    {
     "name": "stdout",
     "output_type": "stream",
     "text": [
      "4\n",
      "11\n",
      "9\n",
      "5\n",
      "10\n",
      "5\n"
     ]
    },
    {
     "name": "stderr",
     "output_type": "stream",
     "text": [
      "\r",
      " 66% (3360 of 5082) |#############       | Elapsed Time: 0:03:20 ETA:   0:01:26"
     ]
    },
    {
     "name": "stdout",
     "output_type": "stream",
     "text": [
      "7\n",
      "2\n",
      "7\n",
      "3\n",
      "13\n",
      "7\n",
      "9\n"
     ]
    },
    {
     "name": "stderr",
     "output_type": "stream",
     "text": [
      " 66% (3364 of 5082) |#############       | Elapsed Time: 0:03:20 ETA:   0:01:24"
     ]
    },
    {
     "name": "stdout",
     "output_type": "stream",
     "text": [
      "17\n",
      "23\n",
      "11\n"
     ]
    },
    {
     "name": "stderr",
     "output_type": "stream",
     "text": [
      " 66% (3373 of 5082) |#############       | Elapsed Time: 0:03:20 ETA:   0:01:24"
     ]
    },
    {
     "name": "stdout",
     "output_type": "stream",
     "text": [
      "11\n",
      "5\n",
      "8\n",
      "14\n",
      "5\n",
      "4\n",
      "9\n",
      "8\n"
     ]
    },
    {
     "name": "stderr",
     "output_type": "stream",
     "text": [
      " 66% (3377 of 5082) |#############       | Elapsed Time: 0:03:20 ETA:   0:01:17"
     ]
    },
    {
     "name": "stdout",
     "output_type": "stream",
     "text": [
      "12\n",
      "10\n",
      "4\n",
      "23\n",
      "11\n",
      "4\n"
     ]
    },
    {
     "name": "stderr",
     "output_type": "stream",
     "text": [
      " 66% (3383 of 5082) |#############       | Elapsed Time: 0:03:21 ETA:   0:01:15"
     ]
    },
    {
     "name": "stdout",
     "output_type": "stream",
     "text": [
      "5\n",
      "6\n",
      "5\n",
      "18\n",
      "12\n",
      "11\n"
     ]
    },
    {
     "name": "stderr",
     "output_type": "stream",
     "text": [
      "\r",
      " 66% (3385 of 5082) |#############       | Elapsed Time: 0:03:21 ETA:   0:01:17"
     ]
    },
    {
     "name": "stdout",
     "output_type": "stream",
     "text": [
      "10\n"
     ]
    },
    {
     "name": "stderr",
     "output_type": "stream",
     "text": [
      " 66% (3390 of 5082) |#############       | Elapsed Time: 0:03:21 ETA:   0:01:24"
     ]
    },
    {
     "name": "stdout",
     "output_type": "stream",
     "text": [
      "25\n",
      "5\n",
      "13\n",
      "9\n",
      "9\n",
      "9\n"
     ]
    },
    {
     "name": "stderr",
     "output_type": "stream",
     "text": [
      " 66% (3397 of 5082) |#############       | Elapsed Time: 0:03:22 ETA:   0:01:23"
     ]
    },
    {
     "name": "stdout",
     "output_type": "stream",
     "text": [
      "8\n",
      "13\n",
      "3\n",
      "3\n",
      "18\n",
      "7\n"
     ]
    },
    {
     "name": "stderr",
     "output_type": "stream",
     "text": [
      " 66% (3403 of 5082) |#############       | Elapsed Time: 0:03:22 ETA:   0:01:24"
     ]
    },
    {
     "name": "stdout",
     "output_type": "stream",
     "text": [
      "18\n",
      "9\n",
      "2\n",
      "7\n",
      "12\n",
      "10\n",
      "5\n"
     ]
    },
    {
     "name": "stderr",
     "output_type": "stream",
     "text": [
      " 67% (3410 of 5082) |#############       | Elapsed Time: 0:03:22 ETA:   0:01:15"
     ]
    },
    {
     "name": "stdout",
     "output_type": "stream",
     "text": [
      "6\n",
      "3\n",
      "5\n",
      "12\n",
      "7\n",
      "11\n",
      "5\n"
     ]
    },
    {
     "name": "stderr",
     "output_type": "stream",
     "text": [
      "\r",
      " 67% (3413 of 5082) |#############       | Elapsed Time: 0:03:22 ETA:   0:01:13"
     ]
    },
    {
     "name": "stdout",
     "output_type": "stream",
     "text": [
      "11\n",
      "8\n"
     ]
    },
    {
     "name": "stderr",
     "output_type": "stream",
     "text": [
      "\r",
      " 67% (3415 of 5082) |#############       | Elapsed Time: 0:03:23 ETA:   0:01:31"
     ]
    },
    {
     "name": "stdout",
     "output_type": "stream",
     "text": [
      "25\n",
      "18\n"
     ]
    },
    {
     "name": "stderr",
     "output_type": "stream",
     "text": [
      " 67% (3419 of 5082) |#############       | Elapsed Time: 0:03:23 ETA:   0:01:48"
     ]
    },
    {
     "name": "stdout",
     "output_type": "stream",
     "text": [
      "25\n",
      "10\n",
      "25\n"
     ]
    },
    {
     "name": "stderr",
     "output_type": "stream",
     "text": [
      "\r",
      " 67% (3423 of 5082) |#############       | Elapsed Time: 0:03:23 ETA:   0:01:36"
     ]
    },
    {
     "name": "stdout",
     "output_type": "stream",
     "text": [
      "7\n",
      "5\n",
      "5\n",
      "13\n",
      "9\n",
      "6\n"
     ]
    },
    {
     "name": "stderr",
     "output_type": "stream",
     "text": [
      " 67% (3429 of 5082) |#############       | Elapsed Time: 0:03:24 ETA:   0:01:44"
     ]
    },
    {
     "name": "stdout",
     "output_type": "stream",
     "text": [
      "25\n",
      "12\n",
      "4\n",
      "10\n",
      "8\n"
     ]
    },
    {
     "name": "stderr",
     "output_type": "stream",
     "text": [
      " 67% (3434 of 5082) |#############       | Elapsed Time: 0:03:24 ETA:   0:01:49"
     ]
    },
    {
     "name": "stdout",
     "output_type": "stream",
     "text": [
      "19\n",
      "3\n",
      "14\n",
      "21\n",
      "14\n",
      "13\n"
     ]
    },
    {
     "name": "stderr",
     "output_type": "stream",
     "text": [
      " 67% (3444 of 5082) |#############       | Elapsed Time: 0:03:24 ETA:   0:01:49"
     ]
    },
    {
     "name": "stdout",
     "output_type": "stream",
     "text": [
      "8\n",
      "7\n",
      "3\n",
      "4\n",
      "3\n",
      "2\n",
      "12\n",
      "11\n"
     ]
    },
    {
     "name": "stderr",
     "output_type": "stream",
     "text": [
      " 67% (3449 of 5082) |#############       | Elapsed Time: 0:03:24 ETA:   0:01:45"
     ]
    },
    {
     "name": "stdout",
     "output_type": "stream",
     "text": [
      "10\n",
      "4\n",
      "15\n",
      "5\n",
      "20\n"
     ]
    },
    {
     "name": "stderr",
     "output_type": "stream",
     "text": [
      " 68% (3457 of 5082) |#############       | Elapsed Time: 0:03:25 ETA:   0:01:25"
     ]
    },
    {
     "name": "stdout",
     "output_type": "stream",
     "text": [
      "25\n",
      "11\n",
      "5\n",
      "4\n",
      "5\n",
      "6\n",
      "6\n",
      "4\n"
     ]
    },
    {
     "name": "stderr",
     "output_type": "stream",
     "text": [
      " 68% (3462 of 5082) |#############       | Elapsed Time: 0:03:25 ETA:   0:01:17"
     ]
    },
    {
     "name": "stdout",
     "output_type": "stream",
     "text": [
      "3\n",
      "12\n",
      "8\n",
      "13\n",
      "19\n"
     ]
    },
    {
     "name": "stderr",
     "output_type": "stream",
     "text": [
      "\r",
      " 68% (3464 of 5082) |#############       | Elapsed Time: 0:03:25 ETA:   0:01:15"
     ]
    },
    {
     "name": "stdout",
     "output_type": "stream",
     "text": [
      "18\n",
      "16\n"
     ]
    },
    {
     "name": "stderr",
     "output_type": "stream",
     "text": [
      " 68% (3467 of 5082) |#############       | Elapsed Time: 0:03:25 ETA:   0:01:20"
     ]
    },
    {
     "name": "stdout",
     "output_type": "stream",
     "text": [
      "25\n",
      "10\n",
      "11\n",
      "1\n",
      "2\n",
      "10\n"
     ]
    },
    {
     "name": "stderr",
     "output_type": "stream",
     "text": [
      "\r",
      " 68% (3471 of 5082) |#############       | Elapsed Time: 0:03:26 ETA:   0:01:19"
     ]
    },
    {
     "name": "stdout",
     "output_type": "stream",
     "text": [
      "15\n"
     ]
    },
    {
     "name": "stderr",
     "output_type": "stream",
     "text": [
      " 68% (3473 of 5082) |#############       | Elapsed Time: 0:03:26 ETA:   0:01:30"
     ]
    },
    {
     "name": "stdout",
     "output_type": "stream",
     "text": [
      "25\n",
      "25\n"
     ]
    },
    {
     "name": "stderr",
     "output_type": "stream",
     "text": [
      " 68% (3476 of 5082) |#############       | Elapsed Time: 0:03:26 ETA:   0:01:40"
     ]
    },
    {
     "name": "stdout",
     "output_type": "stream",
     "text": [
      "21\n",
      "5\n",
      "18\n",
      "8\n",
      "4\n"
     ]
    },
    {
     "name": "stderr",
     "output_type": "stream",
     "text": [
      " 68% (3481 of 5082) |#############       | Elapsed Time: 0:03:27 ETA:   0:01:44"
     ]
    },
    {
     "name": "stdout",
     "output_type": "stream",
     "text": [
      "15\n",
      "20\n",
      "17\n",
      "9\n"
     ]
    },
    {
     "name": "stderr",
     "output_type": "stream",
     "text": [
      "\r",
      " 68% (3485 of 5082) |#############       | Elapsed Time: 0:03:27 ETA:   0:01:40"
     ]
    },
    {
     "name": "stdout",
     "output_type": "stream",
     "text": [
      "5\n",
      "9\n",
      "10\n",
      "4\n",
      "18\n"
     ]
    },
    {
     "name": "stderr",
     "output_type": "stream",
     "text": [
      "\r",
      " 68% (3488 of 5082) |#############       | Elapsed Time: 0:03:27 ETA:   0:01:56"
     ]
    },
    {
     "name": "stdout",
     "output_type": "stream",
     "text": [
      "25\n",
      "19\n"
     ]
    },
    {
     "name": "stderr",
     "output_type": "stream",
     "text": [
      "\r",
      " 68% (3490 of 5082) |#############       | Elapsed Time: 0:03:27 ETA:   0:02:08"
     ]
    },
    {
     "name": "stdout",
     "output_type": "stream",
     "text": [
      "25\n",
      "25\n"
     ]
    },
    {
     "name": "stderr",
     "output_type": "stream",
     "text": [
      " 68% (3493 of 5082) |#############       | Elapsed Time: 0:03:28 ETA:   0:02:33"
     ]
    },
    {
     "name": "stdout",
     "output_type": "stream",
     "text": [
      "25\n",
      "25\n",
      "4\n"
     ]
    },
    {
     "name": "stderr",
     "output_type": "stream",
     "text": [
      " 68% (3496 of 5082) |#############       | Elapsed Time: 0:03:28 ETA:   0:02:19"
     ]
    },
    {
     "name": "stdout",
     "output_type": "stream",
     "text": [
      "25\n",
      "25\n",
      "12\n",
      "8\n"
     ]
    },
    {
     "name": "stderr",
     "output_type": "stream",
     "text": [
      " 68% (3501 of 5082) |#############       | Elapsed Time: 0:03:28 ETA:   0:02:08"
     ]
    },
    {
     "name": "stdout",
     "output_type": "stream",
     "text": [
      "25\n",
      "17\n",
      "9\n",
      "15\n"
     ]
    },
    {
     "name": "stderr",
     "output_type": "stream",
     "text": [
      " 68% (3506 of 5082) |#############       | Elapsed Time: 0:03:29 ETA:   0:02:18"
     ]
    },
    {
     "name": "stdout",
     "output_type": "stream",
     "text": [
      "16\n",
      "9\n",
      "6\n",
      "8\n",
      "4\n"
     ]
    },
    {
     "name": "stderr",
     "output_type": "stream",
     "text": [
      " 69% (3509 of 5082) |#############       | Elapsed Time: 0:03:29 ETA:   0:02:43"
     ]
    },
    {
     "name": "stdout",
     "output_type": "stream",
     "text": [
      "25\n",
      "25\n"
     ]
    },
    {
     "name": "stderr",
     "output_type": "stream",
     "text": [
      "\r",
      " 69% (3511 of 5082) |#############       | Elapsed Time: 0:03:29 ETA:   0:02:35"
     ]
    },
    {
     "name": "stdout",
     "output_type": "stream",
     "text": [
      "13\n",
      "9\n",
      "12\n",
      "4\n",
      "5\n"
     ]
    },
    {
     "name": "stderr",
     "output_type": "stream",
     "text": [
      " 69% (3518 of 5082) |#############       | Elapsed Time: 0:03:30 ETA:   0:02:00"
     ]
    },
    {
     "name": "stdout",
     "output_type": "stream",
     "text": [
      "24\n",
      "11\n",
      "10\n",
      "11\n",
      "5\n",
      "4\n",
      "11\n"
     ]
    },
    {
     "name": "stderr",
     "output_type": "stream",
     "text": [
      " 69% (3525 of 5082) |#############       | Elapsed Time: 0:03:30 ETA:   0:01:41"
     ]
    },
    {
     "name": "stdout",
     "output_type": "stream",
     "text": [
      "8\n",
      "8\n",
      "5\n",
      "18\n"
     ]
    },
    {
     "name": "stderr",
     "output_type": "stream",
     "text": [
      "\r",
      " 69% (3528 of 5082) |#############       | Elapsed Time: 0:03:30 ETA:   0:01:38"
     ]
    },
    {
     "name": "stdout",
     "output_type": "stream",
     "text": [
      "12\n",
      "8\n",
      "14\n",
      "14\n"
     ]
    },
    {
     "name": "stderr",
     "output_type": "stream",
     "text": [
      " 69% (3532 of 5082) |#############       | Elapsed Time: 0:03:30 ETA:   0:01:36"
     ]
    },
    {
     "name": "stdout",
     "output_type": "stream",
     "text": [
      "14\n",
      "13\n",
      "8\n",
      "12\n",
      "14\n"
     ]
    },
    {
     "name": "stderr",
     "output_type": "stream",
     "text": [
      " 69% (3536 of 5082) |#############       | Elapsed Time: 0:03:30 ETA:   0:01:33"
     ]
    },
    {
     "name": "stdout",
     "output_type": "stream",
     "text": [
      "12\n",
      "19\n",
      "4\n",
      "5\n"
     ]
    },
    {
     "name": "stderr",
     "output_type": "stream",
     "text": [
      "\r",
      " 69% (3539 of 5082) |#############       | Elapsed Time: 0:03:31 ETA:   0:01:33"
     ]
    },
    {
     "name": "stdout",
     "output_type": "stream",
     "text": [
      "25\n",
      "6\n",
      "6\n"
     ]
    },
    {
     "name": "stderr",
     "output_type": "stream",
     "text": [
      "\r",
      " 69% (3542 of 5082) |#############       | Elapsed Time: 0:03:31 ETA:   0:01:35"
     ]
    },
    {
     "name": "stdout",
     "output_type": "stream",
     "text": [
      "25\n"
     ]
    },
    {
     "name": "stderr",
     "output_type": "stream",
     "text": [
      " 69% (3546 of 5082) |#############       | Elapsed Time: 0:03:32 ETA:   0:01:53"
     ]
    },
    {
     "name": "stdout",
     "output_type": "stream",
     "text": [
      "25\n",
      "9\n",
      "11\n",
      "8\n",
      "11\n"
     ]
    },
    {
     "name": "stderr",
     "output_type": "stream",
     "text": [
      " 69% (3550 of 5082) |#############       | Elapsed Time: 0:03:32 ETA:   0:02:05"
     ]
    },
    {
     "name": "stdout",
     "output_type": "stream",
     "text": [
      "19\n",
      "22\n",
      "4\n",
      "11\n",
      "9\n"
     ]
    },
    {
     "name": "stderr",
     "output_type": "stream",
     "text": [
      " 69% (3555 of 5082) |#############       | Elapsed Time: 0:03:32 ETA:   0:02:05"
     ]
    },
    {
     "name": "stdout",
     "output_type": "stream",
     "text": [
      "13\n",
      "22\n",
      "10\n"
     ]
    },
    {
     "name": "stderr",
     "output_type": "stream",
     "text": [
      "\r",
      " 70% (3559 of 5082) |##############      | Elapsed Time: 0:03:32 ETA:   0:01:55"
     ]
    },
    {
     "name": "stdout",
     "output_type": "stream",
     "text": [
      "13\n",
      "4\n",
      "5\n",
      "13\n"
     ]
    },
    {
     "name": "stderr",
     "output_type": "stream",
     "text": [
      " 70% (3565 of 5082) |##############      | Elapsed Time: 0:03:33 ETA:   0:01:59"
     ]
    },
    {
     "name": "stdout",
     "output_type": "stream",
     "text": [
      "25\n",
      "9\n",
      "5\n",
      "21\n",
      "16\n",
      "9\n"
     ]
    },
    {
     "name": "stderr",
     "output_type": "stream",
     "text": [
      " 70% (3569 of 5082) |##############      | Elapsed Time: 0:03:33 ETA:   0:02:02"
     ]
    },
    {
     "name": "stdout",
     "output_type": "stream",
     "text": [
      "25\n",
      "5\n",
      "15\n",
      "4\n",
      "3\n",
      "8\n",
      "5\n",
      "1\n"
     ]
    },
    {
     "name": "stderr",
     "output_type": "stream",
     "text": [
      " 70% (3578 of 5082) |##############      | Elapsed Time: 0:03:33 ETA:   0:01:30"
     ]
    },
    {
     "name": "stdout",
     "output_type": "stream",
     "text": [
      "19\n",
      "4\n",
      "8\n",
      "2\n",
      "15\n",
      "9\n"
     ]
    },
    {
     "name": "stderr",
     "output_type": "stream",
     "text": [
      "\r",
      " 70% (3581 of 5082) |##############      | Elapsed Time: 0:03:33 ETA:   0:01:28"
     ]
    },
    {
     "name": "stdout",
     "output_type": "stream",
     "text": [
      "11\n",
      "7\n",
      "8\n",
      "5\n",
      "9\n"
     ]
    },
    {
     "name": "stderr",
     "output_type": "stream",
     "text": [
      " 70% (3586 of 5082) |##############      | Elapsed Time: 0:03:34 ETA:   0:01:17"
     ]
    },
    {
     "name": "stdout",
     "output_type": "stream",
     "text": [
      "25\n",
      "21\n",
      "7\n",
      "11\n"
     ]
    },
    {
     "name": "stderr",
     "output_type": "stream",
     "text": [
      " 70% (3592 of 5082) |##############      | Elapsed Time: 0:03:34 ETA:   0:01:14"
     ]
    },
    {
     "name": "stdout",
     "output_type": "stream",
     "text": [
      "12\n",
      "9\n",
      "10\n",
      "7\n",
      "6\n"
     ]
    },
    {
     "name": "stderr",
     "output_type": "stream",
     "text": [
      "\r",
      " 70% (3595 of 5082) |##############      | Elapsed Time: 0:03:34 ETA:   0:01:14"
     ]
    },
    {
     "name": "stdout",
     "output_type": "stream",
     "text": [
      "13\n",
      "16\n"
     ]
    },
    {
     "name": "stderr",
     "output_type": "stream",
     "text": [
      " 70% (3597 of 5082) |##############      | Elapsed Time: 0:03:35 ETA:   0:03:07"
     ]
    },
    {
     "name": "stdout",
     "output_type": "stream",
     "text": [
      "25\n",
      "25\n"
     ]
    },
    {
     "name": "stderr",
     "output_type": "stream",
     "text": [
      "\r",
      " 70% (3599 of 5082) |##############      | Elapsed Time: 0:03:36 ETA:   0:03:42"
     ]
    },
    {
     "name": "stdout",
     "output_type": "stream",
     "text": [
      "20\n",
      "25\n"
     ]
    },
    {
     "name": "stderr",
     "output_type": "stream",
     "text": [
      "\r",
      " 70% (3601 of 5082) |##############      | Elapsed Time: 0:03:36 ETA:   0:04:07"
     ]
    },
    {
     "name": "stdout",
     "output_type": "stream",
     "text": [
      "10\n",
      "21\n"
     ]
    },
    {
     "name": "stderr",
     "output_type": "stream",
     "text": [
      " 70% (3603 of 5082) |##############      | Elapsed Time: 0:03:36 ETA:   0:06:23"
     ]
    },
    {
     "name": "stdout",
     "output_type": "stream",
     "text": [
      "25\n",
      "25\n",
      "8\n"
     ]
    },
    {
     "name": "stderr",
     "output_type": "stream",
     "text": [
      " 70% (3606 of 5082) |##############      | Elapsed Time: 0:03:36 ETA:   0:05:25"
     ]
    },
    {
     "name": "stdout",
     "output_type": "stream",
     "text": [
      "20\n",
      "21\n",
      "8\n"
     ]
    },
    {
     "name": "stderr",
     "output_type": "stream",
     "text": [
      "\r",
      " 70% (3608 of 5082) |##############      | Elapsed Time: 0:03:37 ETA:   0:04:41"
     ]
    },
    {
     "name": "stdout",
     "output_type": "stream",
     "text": [
      "25\n",
      "17\n",
      "2\n"
     ]
    },
    {
     "name": "stderr",
     "output_type": "stream",
     "text": [
      " 71% (3612 of 5082) |##############      | Elapsed Time: 0:03:37 ETA:   0:04:28"
     ]
    },
    {
     "name": "stdout",
     "output_type": "stream",
     "text": [
      "25\n",
      "25\n",
      "6\n",
      "6\n",
      "5\n"
     ]
    },
    {
     "name": "stderr",
     "output_type": "stream",
     "text": [
      " 71% (3618 of 5082) |##############      | Elapsed Time: 0:03:38 ETA:   0:02:37"
     ]
    },
    {
     "name": "stdout",
     "output_type": "stream",
     "text": [
      "25\n",
      "17\n",
      "8\n"
     ]
    },
    {
     "name": "stderr",
     "output_type": "stream",
     "text": [
      " 71% (3623 of 5082) |##############      | Elapsed Time: 0:03:38 ETA:   0:02:22"
     ]
    },
    {
     "name": "stdout",
     "output_type": "stream",
     "text": [
      "25\n",
      "14\n",
      "5\n",
      "3\n",
      "4\n",
      "5\n"
     ]
    },
    {
     "name": "stderr",
     "output_type": "stream",
     "text": [
      " 71% (3629 of 5082) |##############      | Elapsed Time: 0:03:38 ETA:   0:02:03"
     ]
    },
    {
     "name": "stdout",
     "output_type": "stream",
     "text": [
      "11\n",
      "12\n",
      "12\n",
      "9\n",
      "9\n",
      "4\n"
     ]
    },
    {
     "name": "stderr",
     "output_type": "stream",
     "text": [
      " 71% (3633 of 5082) |##############      | Elapsed Time: 0:03:39 ETA:   0:02:02"
     ]
    },
    {
     "name": "stdout",
     "output_type": "stream",
     "text": [
      "25\n",
      "8\n",
      "25\n",
      "6\n",
      "8\n"
     ]
    },
    {
     "name": "stderr",
     "output_type": "stream",
     "text": [
      " 71% (3640 of 5082) |##############      | Elapsed Time: 0:03:39 ETA:   0:01:44"
     ]
    },
    {
     "name": "stdout",
     "output_type": "stream",
     "text": [
      "8\n",
      "4\n",
      "4\n",
      "7\n",
      "9\n",
      "3\n",
      "3\n",
      "12\n"
     ]
    },
    {
     "name": "stderr",
     "output_type": "stream",
     "text": [
      " 71% (3646 of 5082) |##############      | Elapsed Time: 0:03:39 ETA:   0:01:25"
     ]
    },
    {
     "name": "stdout",
     "output_type": "stream",
     "text": [
      "16\n",
      "18\n",
      "5\n",
      "14\n"
     ]
    },
    {
     "name": "stderr",
     "output_type": "stream",
     "text": [
      " 71% (3651 of 5082) |##############      | Elapsed Time: 0:03:39 ETA:   0:01:21"
     ]
    },
    {
     "name": "stdout",
     "output_type": "stream",
     "text": [
      "17\n",
      "11\n",
      "8\n",
      "9\n",
      "13\n"
     ]
    },
    {
     "name": "stderr",
     "output_type": "stream",
     "text": [
      " 71% (3657 of 5082) |##############      | Elapsed Time: 0:03:40 ETA:   0:01:14"
     ]
    },
    {
     "name": "stdout",
     "output_type": "stream",
     "text": [
      "11\n",
      "10\n",
      "8\n",
      "5\n",
      "6\n",
      "6\n"
     ]
    },
    {
     "name": "stderr",
     "output_type": "stream",
     "text": [
      " 72% (3660 of 5082) |##############      | Elapsed Time: 0:03:40 ETA:   0:01:18"
     ]
    },
    {
     "name": "stdout",
     "output_type": "stream",
     "text": [
      "18\n",
      "25\n",
      "4\n"
     ]
    },
    {
     "name": "stderr",
     "output_type": "stream",
     "text": [
      " 72% (3666 of 5082) |##############      | Elapsed Time: 0:03:40 ETA:   0:01:08"
     ]
    },
    {
     "name": "stdout",
     "output_type": "stream",
     "text": [
      "5\n",
      "15\n",
      "7\n",
      "10\n",
      "10\n",
      "9\n",
      "5\n",
      "6\n"
     ]
    },
    {
     "name": "stderr",
     "output_type": "stream",
     "text": [
      " 72% (3672 of 5082) |##############      | Elapsed Time: 0:03:40 ETA:   0:01:10"
     ]
    },
    {
     "name": "stdout",
     "output_type": "stream",
     "text": [
      "6\n",
      "25\n",
      "23\n"
     ]
    },
    {
     "name": "stderr",
     "output_type": "stream",
     "text": [
      "\r",
      " 72% (3674 of 5082) |##############      | Elapsed Time: 0:03:41 ETA:   0:01:08"
     ]
    },
    {
     "name": "stdout",
     "output_type": "stream",
     "text": [
      "15\n",
      "11\n",
      "5\n",
      "4\n",
      "7\n"
     ]
    },
    {
     "name": "stderr",
     "output_type": "stream",
     "text": [
      " 72% (3681 of 5082) |##############      | Elapsed Time: 0:03:41 ETA:   0:01:05"
     ]
    },
    {
     "name": "stdout",
     "output_type": "stream",
     "text": [
      "24\n",
      "9\n",
      "8\n",
      "10\n",
      "7\n"
     ]
    },
    {
     "name": "stderr",
     "output_type": "stream",
     "text": [
      " 72% (3687 of 5082) |##############      | Elapsed Time: 0:03:41 ETA:   0:01:08"
     ]
    },
    {
     "name": "stdout",
     "output_type": "stream",
     "text": [
      "12\n",
      "6\n",
      "14\n",
      "4\n",
      "18\n",
      "3\n",
      "12\n"
     ]
    },
    {
     "name": "stderr",
     "output_type": "stream",
     "text": [
      " 72% (3692 of 5082) |##############      | Elapsed Time: 0:03:41 ETA:   0:01:08"
     ]
    },
    {
     "name": "stdout",
     "output_type": "stream",
     "text": [
      "12\n",
      "18\n",
      "10\n",
      "14\n",
      "9\n"
     ]
    },
    {
     "name": "stderr",
     "output_type": "stream",
     "text": [
      " 72% (3696 of 5082) |##############      | Elapsed Time: 0:03:42 ETA:   0:01:18"
     ]
    },
    {
     "name": "stdout",
     "output_type": "stream",
     "text": [
      "25\n",
      "25\n"
     ]
    },
    {
     "name": "stderr",
     "output_type": "stream",
     "text": [
      "\r",
      " 72% (3699 of 5082) |##############      | Elapsed Time: 0:03:42 ETA:   0:01:14"
     ]
    },
    {
     "name": "stdout",
     "output_type": "stream",
     "text": [
      "11\n",
      "9\n",
      "13\n",
      "6\n",
      "5\n"
     ]
    },
    {
     "name": "stderr",
     "output_type": "stream",
     "text": [
      " 72% (3705 of 5082) |##############      | Elapsed Time: 0:03:42 ETA:   0:01:14"
     ]
    },
    {
     "name": "stdout",
     "output_type": "stream",
     "text": [
      "15\n",
      "9\n",
      "10\n",
      "9\n",
      "4\n",
      "7\n",
      "7\n"
     ]
    },
    {
     "name": "stderr",
     "output_type": "stream",
     "text": [
      " 73% (3713 of 5082) |##############      | Elapsed Time: 0:03:43 ETA:   0:01:09"
     ]
    },
    {
     "name": "stdout",
     "output_type": "stream",
     "text": [
      "4\n",
      "8\n",
      "7\n",
      "3\n",
      "17\n"
     ]
    },
    {
     "name": "stderr",
     "output_type": "stream",
     "text": [
      "\r",
      " 73% (3715 of 5082) |##############      | Elapsed Time: 0:03:43 ETA:   0:01:10"
     ]
    },
    {
     "name": "stdout",
     "output_type": "stream",
     "text": [
      "13\n",
      "19\n",
      "8\n"
     ]
    },
    {
     "name": "stderr",
     "output_type": "stream",
     "text": [
      " 73% (3720 of 5082) |##############      | Elapsed Time: 0:03:43 ETA:   0:01:16"
     ]
    },
    {
     "name": "stdout",
     "output_type": "stream",
     "text": [
      "25\n",
      "7\n",
      "13\n",
      "6\n",
      "10\n"
     ]
    },
    {
     "name": "stderr",
     "output_type": "stream",
     "text": [
      " 73% (3726 of 5082) |##############      | Elapsed Time: 0:03:43 ETA:   0:01:14"
     ]
    },
    {
     "name": "stdout",
     "output_type": "stream",
     "text": [
      "8\n",
      "17\n",
      "4\n",
      "6\n",
      "12\n",
      "7\n"
     ]
    },
    {
     "name": "stderr",
     "output_type": "stream",
     "text": [
      " 73% (3730 of 5082) |##############      | Elapsed Time: 0:03:44 ETA:   0:01:17"
     ]
    },
    {
     "name": "stdout",
     "output_type": "stream",
     "text": [
      "22\n",
      "10\n",
      "25\n",
      "9\n",
      "5\n"
     ]
    },
    {
     "name": "stderr",
     "output_type": "stream",
     "text": [
      " 73% (3735 of 5082) |##############      | Elapsed Time: 0:03:44 ETA:   0:01:10"
     ]
    },
    {
     "name": "stdout",
     "output_type": "stream",
     "text": [
      "7\n",
      "8\n",
      "10\n",
      "3\n",
      "5\n",
      "8\n",
      "7\n"
     ]
    },
    {
     "name": "stderr",
     "output_type": "stream",
     "text": [
      " 73% (3745 of 5082) |##############      | Elapsed Time: 0:03:44 ETA:   0:00:58"
     ]
    },
    {
     "name": "stdout",
     "output_type": "stream",
     "text": [
      "4\n",
      "4\n",
      "6\n",
      "5\n",
      "3\n",
      "6\n",
      "15\n"
     ]
    },
    {
     "name": "stderr",
     "output_type": "stream",
     "text": [
      " 73% (3750 of 5082) |##############      | Elapsed Time: 0:03:44 ETA:   0:00:59"
     ]
    },
    {
     "name": "stdout",
     "output_type": "stream",
     "text": [
      "10\n",
      "7\n",
      "7\n",
      "7\n",
      "7\n",
      "8\n",
      "11\n"
     ]
    },
    {
     "name": "stderr",
     "output_type": "stream",
     "text": [
      " 73% (3756 of 5082) |##############      | Elapsed Time: 0:03:45 ETA:   0:01:02"
     ]
    },
    {
     "name": "stdout",
     "output_type": "stream",
     "text": [
      "4\n",
      "3\n",
      "25\n"
     ]
    },
    {
     "name": "stderr",
     "output_type": "stream",
     "text": [
      " 74% (3761 of 5082) |##############      | Elapsed Time: 0:03:45 ETA:   0:01:02"
     ]
    },
    {
     "name": "stdout",
     "output_type": "stream",
     "text": [
      "22\n",
      "18\n",
      "8\n",
      "10\n",
      "14\n"
     ]
    },
    {
     "name": "stderr",
     "output_type": "stream",
     "text": [
      " 74% (3765 of 5082) |##############      | Elapsed Time: 0:03:45 ETA:   0:01:02"
     ]
    },
    {
     "name": "stdout",
     "output_type": "stream",
     "text": [
      "12\n",
      "22\n",
      "11\n",
      "13\n",
      "7\n",
      "4\n"
     ]
    },
    {
     "name": "stderr",
     "output_type": "stream",
     "text": [
      " 74% (3772 of 5082) |##############      | Elapsed Time: 0:03:45 ETA:   0:00:59"
     ]
    },
    {
     "name": "stdout",
     "output_type": "stream",
     "text": [
      "10\n",
      "10\n",
      "4\n",
      "5\n",
      "5\n",
      "5\n",
      "5\n",
      "6\n"
     ]
    },
    {
     "name": "stderr",
     "output_type": "stream",
     "text": [
      " 74% (3778 of 5082) |##############      | Elapsed Time: 0:03:46 ETA:   0:00:57"
     ]
    },
    {
     "name": "stdout",
     "output_type": "stream",
     "text": [
      "11\n",
      "12\n",
      "25\n"
     ]
    },
    {
     "name": "stderr",
     "output_type": "stream",
     "text": [
      "\r",
      " 74% (3782 of 5082) |##############      | Elapsed Time: 0:03:46 ETA:   0:00:57"
     ]
    },
    {
     "name": "stdout",
     "output_type": "stream",
     "text": [
      "4\n",
      "10\n",
      "7\n",
      "10\n"
     ]
    },
    {
     "name": "stderr",
     "output_type": "stream",
     "text": [
      " 74% (3786 of 5082) |##############      | Elapsed Time: 0:03:46 ETA:   0:01:09"
     ]
    },
    {
     "name": "stdout",
     "output_type": "stream",
     "text": [
      "25\n",
      "11\n",
      "7\n",
      "10\n"
     ]
    },
    {
     "name": "stderr",
     "output_type": "stream",
     "text": [
      " 74% (3791 of 5082) |##############      | Elapsed Time: 0:03:47 ETA:   0:01:13"
     ]
    },
    {
     "name": "stdout",
     "output_type": "stream",
     "text": [
      "25\n",
      "7\n",
      "8\n",
      "5\n",
      "5\n"
     ]
    },
    {
     "name": "stderr",
     "output_type": "stream",
     "text": [
      " 74% (3795 of 5082) |##############      | Elapsed Time: 0:03:47 ETA:   0:01:11"
     ]
    },
    {
     "name": "stdout",
     "output_type": "stream",
     "text": [
      "25\n",
      "15\n",
      "4\n",
      "9\n"
     ]
    },
    {
     "name": "stderr",
     "output_type": "stream",
     "text": [
      " 74% (3799 of 5082) |##############      | Elapsed Time: 0:03:47 ETA:   0:01:12"
     ]
    },
    {
     "name": "stdout",
     "output_type": "stream",
     "text": [
      "11\n",
      "9\n",
      "3\n",
      "23\n",
      "8\n"
     ]
    },
    {
     "name": "stderr",
     "output_type": "stream",
     "text": [
      " 74% (3803 of 5082) |##############      | Elapsed Time: 0:03:47 ETA:   0:01:12"
     ]
    },
    {
     "name": "stdout",
     "output_type": "stream",
     "text": [
      "7\n",
      "6\n",
      "25\n",
      "2\n"
     ]
    },
    {
     "name": "stderr",
     "output_type": "stream",
     "text": [
      "\r",
      " 74% (3806 of 5082) |##############      | Elapsed Time: 0:03:48 ETA:   0:01:25"
     ]
    },
    {
     "name": "stdout",
     "output_type": "stream",
     "text": [
      "17\n",
      "22\n",
      "13\n"
     ]
    },
    {
     "name": "stderr",
     "output_type": "stream",
     "text": [
      " 74% (3810 of 5082) |##############      | Elapsed Time: 0:03:48 ETA:   0:01:24"
     ]
    },
    {
     "name": "stdout",
     "output_type": "stream",
     "text": [
      "25\n",
      "15\n",
      "10\n",
      "6\n"
     ]
    },
    {
     "name": "stderr",
     "output_type": "stream",
     "text": [
      " 75% (3815 of 5082) |###############     | Elapsed Time: 0:03:48 ETA:   0:01:19"
     ]
    },
    {
     "name": "stdout",
     "output_type": "stream",
     "text": [
      "22\n",
      "6\n",
      "11\n",
      "9\n",
      "7\n",
      "3\n"
     ]
    },
    {
     "name": "stderr",
     "output_type": "stream",
     "text": [
      " 75% (3821 of 5082) |###############     | Elapsed Time: 0:03:48 ETA:   0:01:18"
     ]
    },
    {
     "name": "stdout",
     "output_type": "stream",
     "text": [
      "21\n",
      "10\n",
      "10\n",
      "11\n",
      "9\n",
      "7\n"
     ]
    },
    {
     "name": "stderr",
     "output_type": "stream",
     "text": [
      "\r",
      " 75% (3824 of 5082) |###############     | Elapsed Time: 0:03:49 ETA:   0:01:22"
     ]
    },
    {
     "name": "stdout",
     "output_type": "stream",
     "text": [
      "25\n",
      "7\n",
      "13\n"
     ]
    },
    {
     "name": "stderr",
     "output_type": "stream",
     "text": [
      " 75% (3829 of 5082) |###############     | Elapsed Time: 0:03:49 ETA:   0:01:34"
     ]
    },
    {
     "name": "stdout",
     "output_type": "stream",
     "text": [
      "25\n",
      "11\n",
      "15\n"
     ]
    },
    {
     "name": "stderr",
     "output_type": "stream",
     "text": [
      " 75% (3833 of 5082) |###############     | Elapsed Time: 0:03:49 ETA:   0:01:29"
     ]
    },
    {
     "name": "stdout",
     "output_type": "stream",
     "text": [
      "17\n",
      "9\n",
      "20\n",
      "15\n"
     ]
    },
    {
     "name": "stderr",
     "output_type": "stream",
     "text": [
      " 75% (3839 of 5082) |###############     | Elapsed Time: 0:03:50 ETA:   0:01:21"
     ]
    },
    {
     "name": "stdout",
     "output_type": "stream",
     "text": [
      "14\n",
      "4\n",
      "8\n",
      "4\n",
      "10\n",
      "11\n",
      "9\n"
     ]
    },
    {
     "name": "stderr",
     "output_type": "stream",
     "text": [
      " 75% (3844 of 5082) |###############     | Elapsed Time: 0:03:50 ETA:   0:01:17"
     ]
    },
    {
     "name": "stdout",
     "output_type": "stream",
     "text": [
      "11\n",
      "5\n",
      "16\n",
      "16\n",
      "4\n"
     ]
    },
    {
     "name": "stderr",
     "output_type": "stream",
     "text": [
      " 75% (3850 of 5082) |###############     | Elapsed Time: 0:03:50 ETA:   0:01:20"
     ]
    },
    {
     "name": "stdout",
     "output_type": "stream",
     "text": [
      "21\n",
      "7\n",
      "19\n",
      "13\n",
      "10\n"
     ]
    },
    {
     "name": "stderr",
     "output_type": "stream",
     "text": [
      " 75% (3853 of 5082) |###############     | Elapsed Time: 0:03:51 ETA:   0:01:30"
     ]
    },
    {
     "name": "stdout",
     "output_type": "stream",
     "text": [
      "25\n",
      "9\n",
      "14\n",
      "9\n",
      "8\n"
     ]
    },
    {
     "name": "stderr",
     "output_type": "stream",
     "text": [
      " 75% (3860 of 5082) |###############     | Elapsed Time: 0:03:51 ETA:   0:01:19"
     ]
    },
    {
     "name": "stdout",
     "output_type": "stream",
     "text": [
      "7\n",
      "11\n",
      "14\n",
      "7\n",
      "4\n"
     ]
    },
    {
     "name": "stderr",
     "output_type": "stream",
     "text": [
      "\r",
      " 75% (3862 of 5082) |###############     | Elapsed Time: 0:03:51 ETA:   0:01:15"
     ]
    },
    {
     "name": "stdout",
     "output_type": "stream",
     "text": [
      "9\n",
      "22\n",
      "19\n"
     ]
    },
    {
     "name": "stderr",
     "output_type": "stream",
     "text": [
      " 76% (3866 of 5082) |###############     | Elapsed Time: 0:03:52 ETA:   0:01:21"
     ]
    },
    {
     "name": "stdout",
     "output_type": "stream",
     "text": [
      "14\n",
      "18\n",
      "10\n"
     ]
    },
    {
     "name": "stderr",
     "output_type": "stream",
     "text": [
      "\r",
      " 76% (3868 of 5082) |###############     | Elapsed Time: 0:03:52 ETA:   0:01:28"
     ]
    },
    {
     "name": "stdout",
     "output_type": "stream",
     "text": [
      "7\n",
      "20\n"
     ]
    },
    {
     "name": "stderr",
     "output_type": "stream",
     "text": [
      " 76% (3871 of 5082) |###############     | Elapsed Time: 0:03:52 ETA:   0:01:35"
     ]
    },
    {
     "name": "stdout",
     "output_type": "stream",
     "text": [
      "24\n",
      "6\n",
      "9\n"
     ]
    },
    {
     "name": "stderr",
     "output_type": "stream",
     "text": [
      " 76% (3874 of 5082) |###############     | Elapsed Time: 0:03:52 ETA:   0:01:47"
     ]
    },
    {
     "name": "stdout",
     "output_type": "stream",
     "text": [
      "25\n",
      "13\n",
      "11\n",
      "10\n",
      "4\n",
      "4\n"
     ]
    },
    {
     "name": "stderr",
     "output_type": "stream",
     "text": [
      " 76% (3882 of 5082) |###############     | Elapsed Time: 0:03:53 ETA:   0:01:33"
     ]
    },
    {
     "name": "stdout",
     "output_type": "stream",
     "text": [
      "18\n",
      "24\n",
      "6\n",
      "4\n",
      "12\n"
     ]
    },
    {
     "name": "stderr",
     "output_type": "stream",
     "text": [
      " 76% (3888 of 5082) |###############     | Elapsed Time: 0:03:53 ETA:   0:01:24"
     ]
    },
    {
     "name": "stdout",
     "output_type": "stream",
     "text": [
      "2\n",
      "4\n",
      "13\n",
      "2\n",
      "13\n",
      "6\n",
      "10\n"
     ]
    },
    {
     "name": "stderr",
     "output_type": "stream",
     "text": [
      " 76% (3893 of 5082) |###############     | Elapsed Time: 0:03:53 ETA:   0:01:22"
     ]
    },
    {
     "name": "stdout",
     "output_type": "stream",
     "text": [
      "11\n",
      "9\n",
      "6\n",
      "5\n"
     ]
    },
    {
     "name": "stderr",
     "output_type": "stream",
     "text": [
      "\r",
      " 76% (3894 of 5082) |###############     | Elapsed Time: 0:03:54 ETA:   0:01:24"
     ]
    },
    {
     "name": "stdout",
     "output_type": "stream",
     "text": [
      "25\n",
      "18\n",
      "24\n"
     ]
    },
    {
     "name": "stderr",
     "output_type": "stream",
     "text": [
      " 76% (3899 of 5082) |###############     | Elapsed Time: 0:03:54 ETA:   0:01:21"
     ]
    },
    {
     "name": "stdout",
     "output_type": "stream",
     "text": [
      "10\n",
      "9\n",
      "17\n"
     ]
    },
    {
     "name": "stderr",
     "output_type": "stream",
     "text": [
      " 76% (3901 of 5082) |###############     | Elapsed Time: 0:03:54 ETA:   0:01:24"
     ]
    },
    {
     "name": "stdout",
     "output_type": "stream",
     "text": [
      "25\n",
      "21\n",
      "25\n"
     ]
    },
    {
     "name": "stderr",
     "output_type": "stream",
     "text": [
      "\r",
      " 76% (3902 of 5082) |###############     | Elapsed Time: 0:03:54 ETA:   0:01:21"
     ]
    },
    {
     "name": "stdout",
     "output_type": "stream",
     "text": [
      "10\n",
      "5\n",
      "1\n",
      "25\n"
     ]
    },
    {
     "name": "stderr",
     "output_type": "stream",
     "text": [
      " 76% (3909 of 5082) |###############     | Elapsed Time: 0:03:55 ETA:   0:01:27"
     ]
    },
    {
     "name": "stdout",
     "output_type": "stream",
     "text": [
      "25\n",
      "9\n",
      "24\n",
      "7\n",
      "3\n"
     ]
    },
    {
     "name": "stderr",
     "output_type": "stream",
     "text": [
      " 77% (3918 of 5082) |###############     | Elapsed Time: 0:03:55 ETA:   0:01:26"
     ]
    },
    {
     "name": "stdout",
     "output_type": "stream",
     "text": [
      "18\n",
      "2\n",
      "8\n",
      "9\n",
      "8\n",
      "7\n",
      "14\n"
     ]
    },
    {
     "name": "stderr",
     "output_type": "stream",
     "text": [
      " 77% (3924 of 5082) |###############     | Elapsed Time: 0:03:56 ETA:   0:01:21"
     ]
    },
    {
     "name": "stdout",
     "output_type": "stream",
     "text": [
      "6\n",
      "4\n",
      "25\n",
      "9\n",
      "10\n",
      "14\n"
     ]
    },
    {
     "name": "stderr",
     "output_type": "stream",
     "text": [
      "\r",
      " 77% (3928 of 5082) |###############     | Elapsed Time: 0:03:56 ETA:   0:01:12"
     ]
    },
    {
     "name": "stdout",
     "output_type": "stream",
     "text": [
      "5\n",
      "3\n",
      "7\n",
      "8\n",
      "13\n"
     ]
    },
    {
     "name": "stderr",
     "output_type": "stream",
     "text": [
      "\r",
      " 77% (3930 of 5082) |###############     | Elapsed Time: 0:03:56 ETA:   0:01:18"
     ]
    },
    {
     "name": "stdout",
     "output_type": "stream",
     "text": [
      "25\n",
      "15\n"
     ]
    },
    {
     "name": "stderr",
     "output_type": "stream",
     "text": [
      " 77% (3934 of 5082) |###############     | Elapsed Time: 0:03:57 ETA:   0:01:17"
     ]
    },
    {
     "name": "stdout",
     "output_type": "stream",
     "text": [
      "25\n",
      "16\n",
      "19\n"
     ]
    },
    {
     "name": "stderr",
     "output_type": "stream",
     "text": [
      " 77% (3939 of 5082) |###############     | Elapsed Time: 0:03:57 ETA:   0:01:13"
     ]
    },
    {
     "name": "stdout",
     "output_type": "stream",
     "text": [
      "8\n",
      "12\n",
      "6\n",
      "9\n",
      "17\n",
      "5\n"
     ]
    },
    {
     "name": "stderr",
     "output_type": "stream",
     "text": [
      " 77% (3945 of 5082) |###############     | Elapsed Time: 0:03:57 ETA:   0:01:05"
     ]
    },
    {
     "name": "stdout",
     "output_type": "stream",
     "text": [
      "18\n",
      "8\n",
      "5\n",
      "1\n",
      "16\n",
      "1\n",
      "8\n"
     ]
    },
    {
     "name": "stderr",
     "output_type": "stream",
     "text": [
      "\r",
      " 77% (3948 of 5082) |###############     | Elapsed Time: 0:03:57 ETA:   0:01:10"
     ]
    },
    {
     "name": "stdout",
     "output_type": "stream",
     "text": [
      "25\n"
     ]
    },
    {
     "name": "stderr",
     "output_type": "stream",
     "text": [
      " 77% (3951 of 5082) |###############     | Elapsed Time: 0:03:58 ETA:   0:01:25"
     ]
    },
    {
     "name": "stdout",
     "output_type": "stream",
     "text": [
      "25\n",
      "20\n",
      "5\n",
      "3\n",
      "11\n",
      "8\n"
     ]
    },
    {
     "name": "stderr",
     "output_type": "stream",
     "text": [
      "\r",
      " 77% (3954 of 5082) |###############     | Elapsed Time: 0:03:58 ETA:   0:01:28"
     ]
    },
    {
     "name": "stdout",
     "output_type": "stream",
     "text": [
      "10\n",
      "8\n"
     ]
    },
    {
     "name": "stderr",
     "output_type": "stream",
     "text": [
      " 77% (3958 of 5082) |###############     | Elapsed Time: 0:03:59 ETA:   0:01:37"
     ]
    },
    {
     "name": "stdout",
     "output_type": "stream",
     "text": [
      "25\n",
      "25\n",
      "3\n"
     ]
    },
    {
     "name": "stderr",
     "output_type": "stream",
     "text": [
      " 78% (3966 of 5082) |###############     | Elapsed Time: 0:03:59 ETA:   0:01:30"
     ]
    },
    {
     "name": "stdout",
     "output_type": "stream",
     "text": [
      "9\n",
      "3\n",
      "6\n",
      "15\n",
      "19\n",
      "1\n",
      "7\n",
      "1\n"
     ]
    },
    {
     "name": "stderr",
     "output_type": "stream",
     "text": [
      "\r",
      " 78% (3970 of 5082) |###############     | Elapsed Time: 0:03:59 ETA:   0:01:31"
     ]
    },
    {
     "name": "stdout",
     "output_type": "stream",
     "text": [
      "11\n",
      "7\n",
      "13\n",
      "4\n",
      "4\n"
     ]
    },
    {
     "name": "stderr",
     "output_type": "stream",
     "text": [
      " 78% (3974 of 5082) |###############     | Elapsed Time: 0:04:00 ETA:   0:01:39"
     ]
    },
    {
     "name": "stdout",
     "output_type": "stream",
     "text": [
      "25\n",
      "19\n",
      "6\n",
      "2\n",
      "10\n"
     ]
    },
    {
     "name": "stderr",
     "output_type": "stream",
     "text": [
      " 78% (3981 of 5082) |###############     | Elapsed Time: 0:04:00 ETA:   0:01:22"
     ]
    },
    {
     "name": "stdout",
     "output_type": "stream",
     "text": [
      "15\n",
      "7\n",
      "9\n",
      "4\n",
      "8\n",
      "5\n",
      "9\n",
      "3\n"
     ]
    },
    {
     "name": "stderr",
     "output_type": "stream",
     "text": [
      " 78% (3989 of 5082) |###############     | Elapsed Time: 0:04:00 ETA:   0:01:09"
     ]
    },
    {
     "name": "stdout",
     "output_type": "stream",
     "text": [
      "4\n",
      "2\n",
      "5\n",
      "12\n",
      "2\n",
      "18\n"
     ]
    },
    {
     "name": "stderr",
     "output_type": "stream",
     "text": [
      "\r",
      " 78% (3992 of 5082) |###############     | Elapsed Time: 0:04:00 ETA:   0:01:08"
     ]
    },
    {
     "name": "stdout",
     "output_type": "stream",
     "text": [
      "9\n",
      "6\n",
      "4\n"
     ]
    },
    {
     "name": "stderr",
     "output_type": "stream",
     "text": [
      " 78% (3997 of 5082) |###############     | Elapsed Time: 0:04:01 ETA:   0:00:58"
     ]
    },
    {
     "name": "stdout",
     "output_type": "stream",
     "text": [
      "25\n",
      "8\n",
      "25\n"
     ]
    },
    {
     "name": "stderr",
     "output_type": "stream",
     "text": [
      " 78% (3999 of 5082) |###############     | Elapsed Time: 0:04:01 ETA:   0:01:09"
     ]
    },
    {
     "name": "stdout",
     "output_type": "stream",
     "text": [
      "25\n",
      "25\n",
      "12\n"
     ]
    },
    {
     "name": "stderr",
     "output_type": "stream",
     "text": [
      " 78% (4003 of 5082) |###############     | Elapsed Time: 0:04:01 ETA:   0:01:11"
     ]
    },
    {
     "name": "stdout",
     "output_type": "stream",
     "text": [
      "16\n",
      "10\n",
      "14\n"
     ]
    },
    {
     "name": "stderr",
     "output_type": "stream",
     "text": [
      "\r",
      " 78% (4004 of 5082) |###############     | Elapsed Time: 0:04:01 ETA:   0:01:11"
     ]
    },
    {
     "name": "stdout",
     "output_type": "stream",
     "text": [
      "11\n",
      "25\n"
     ]
    },
    {
     "name": "stderr",
     "output_type": "stream",
     "text": [
      " 78% (4008 of 5082) |###############     | Elapsed Time: 0:04:02 ETA:   0:01:12"
     ]
    },
    {
     "name": "stdout",
     "output_type": "stream",
     "text": [
      "9\n",
      "9\n",
      "21\n"
     ]
    },
    {
     "name": "stderr",
     "output_type": "stream",
     "text": [
      " 78% (4012 of 5082) |###############     | Elapsed Time: 0:04:02 ETA:   0:01:35"
     ]
    },
    {
     "name": "stdout",
     "output_type": "stream",
     "text": [
      "25\n",
      "5\n",
      "4\n",
      "25\n"
     ]
    },
    {
     "name": "stderr",
     "output_type": "stream",
     "text": [
      " 78% (4014 of 5082) |###############     | Elapsed Time: 0:04:02 ETA:   0:01:50"
     ]
    },
    {
     "name": "stdout",
     "output_type": "stream",
     "text": [
      "25\n",
      "24\n"
     ]
    },
    {
     "name": "stderr",
     "output_type": "stream",
     "text": [
      " 79% (4018 of 5082) |###############     | Elapsed Time: 0:04:03 ETA:   0:01:43"
     ]
    },
    {
     "name": "stdout",
     "output_type": "stream",
     "text": [
      "11\n",
      "9\n",
      "6\n",
      "25\n",
      "5\n"
     ]
    },
    {
     "name": "stderr",
     "output_type": "stream",
     "text": [
      " 79% (4025 of 5082) |###############     | Elapsed Time: 0:04:03 ETA:   0:01:23"
     ]
    },
    {
     "name": "stdout",
     "output_type": "stream",
     "text": [
      "8\n",
      "8\n",
      "11\n",
      "9\n",
      "6\n",
      "10\n",
      "14\n",
      "10\n"
     ]
    },
    {
     "name": "stderr",
     "output_type": "stream",
     "text": [
      " 79% (4030 of 5082) |###############     | Elapsed Time: 0:04:03 ETA:   0:01:18"
     ]
    },
    {
     "name": "stdout",
     "output_type": "stream",
     "text": [
      "10\n",
      "4\n",
      "23\n",
      "2\n",
      "8\n"
     ]
    },
    {
     "name": "stderr",
     "output_type": "stream",
     "text": [
      " 79% (4035 of 5082) |###############     | Elapsed Time: 0:04:03 ETA:   0:01:12"
     ]
    },
    {
     "name": "stdout",
     "output_type": "stream",
     "text": [
      "11\n",
      "4\n",
      "18\n",
      "15\n",
      "6\n",
      "6\n"
     ]
    },
    {
     "name": "stderr",
     "output_type": "stream",
     "text": [
      " 79% (4042 of 5082) |###############     | Elapsed Time: 0:04:04 ETA:   0:01:01"
     ]
    },
    {
     "name": "stdout",
     "output_type": "stream",
     "text": [
      "3\n",
      "4\n",
      "8\n",
      "25\n"
     ]
    },
    {
     "name": "stderr",
     "output_type": "stream",
     "text": [
      " 79% (4049 of 5082) |###############     | Elapsed Time: 0:04:04 ETA:   0:00:58"
     ]
    },
    {
     "name": "stdout",
     "output_type": "stream",
     "text": [
      "11\n",
      "4\n",
      "6\n",
      "6\n",
      "12\n",
      "8\n",
      "4\n",
      "18\n"
     ]
    },
    {
     "name": "stderr",
     "output_type": "stream",
     "text": [
      " 79% (4053 of 5082) |###############     | Elapsed Time: 0:04:04 ETA:   0:00:54"
     ]
    },
    {
     "name": "stdout",
     "output_type": "stream",
     "text": [
      "14\n",
      "4\n",
      "12\n",
      "12\n"
     ]
    },
    {
     "name": "stderr",
     "output_type": "stream",
     "text": [
      " 79% (4056 of 5082) |###############     | Elapsed Time: 0:04:05 ETA:   0:00:50"
     ]
    },
    {
     "name": "stdout",
     "output_type": "stream",
     "text": [
      "25\n",
      "25\n",
      "16\n"
     ]
    },
    {
     "name": "stderr",
     "output_type": "stream",
     "text": [
      " 79% (4060 of 5082) |###############     | Elapsed Time: 0:04:05 ETA:   0:00:50"
     ]
    },
    {
     "name": "stdout",
     "output_type": "stream",
     "text": [
      "11\n",
      "19\n",
      "13\n",
      "12\n",
      "6\n"
     ]
    },
    {
     "name": "stderr",
     "output_type": "stream",
     "text": [
      " 79% (4065 of 5082) |###############     | Elapsed Time: 0:04:05 ETA:   0:00:52"
     ]
    },
    {
     "name": "stdout",
     "output_type": "stream",
     "text": [
      "15\n",
      "4\n",
      "20\n",
      "7\n",
      "5\n",
      "8\n",
      "7\n"
     ]
    },
    {
     "name": "stderr",
     "output_type": "stream",
     "text": [
      " 80% (4072 of 5082) |################    | Elapsed Time: 0:04:05 ETA:   0:00:48"
     ]
    },
    {
     "name": "stdout",
     "output_type": "stream",
     "text": [
      "10\n",
      "6\n",
      "5\n"
     ]
    },
    {
     "name": "stderr",
     "output_type": "stream",
     "text": [
      "\r",
      " 80% (4073 of 5082) |################    | Elapsed Time: 0:04:05 ETA:   0:00:51"
     ]
    },
    {
     "name": "stdout",
     "output_type": "stream",
     "text": [
      "25\n",
      "23\n",
      "24\n"
     ]
    },
    {
     "name": "stderr",
     "output_type": "stream",
     "text": [
      " 80% (4078 of 5082) |################    | Elapsed Time: 0:04:06 ETA:   0:00:56"
     ]
    },
    {
     "name": "stdout",
     "output_type": "stream",
     "text": [
      "8\n",
      "12\n",
      "9\n",
      "25\n"
     ]
    },
    {
     "name": "stderr",
     "output_type": "stream",
     "text": [
      " 80% (4086 of 5082) |################    | Elapsed Time: 0:04:06 ETA:   0:00:57"
     ]
    },
    {
     "name": "stdout",
     "output_type": "stream",
     "text": [
      "3\n",
      "17\n",
      "5\n",
      "6\n",
      "5\n",
      "10\n",
      "7\n"
     ]
    },
    {
     "name": "stderr",
     "output_type": "stream",
     "text": [
      " 80% (4091 of 5082) |################    | Elapsed Time: 0:04:06 ETA:   0:00:55"
     ]
    },
    {
     "name": "stdout",
     "output_type": "stream",
     "text": [
      "7\n",
      "16\n",
      "6\n",
      "14\n",
      "6\n",
      "8\n",
      "7\n"
     ]
    },
    {
     "name": "stderr",
     "output_type": "stream",
     "text": [
      " 80% (4099 of 5082) |################    | Elapsed Time: 0:04:07 ETA:   0:00:47"
     ]
    },
    {
     "name": "stdout",
     "output_type": "stream",
     "text": [
      "5\n",
      "5\n",
      "6\n",
      "6\n",
      "7\n",
      "8\n"
     ]
    },
    {
     "name": "stderr",
     "output_type": "stream",
     "text": [
      " 80% (4104 of 5082) |################    | Elapsed Time: 0:04:07 ETA:   0:00:45"
     ]
    },
    {
     "name": "stdout",
     "output_type": "stream",
     "text": [
      "19\n",
      "8\n",
      "7\n",
      "10\n",
      "12\n",
      "11\n"
     ]
    },
    {
     "name": "stderr",
     "output_type": "stream",
     "text": [
      "\r",
      " 80% (4107 of 5082) |################    | Elapsed Time: 0:04:07 ETA:   0:00:45"
     ]
    },
    {
     "name": "stdout",
     "output_type": "stream",
     "text": [
      "6\n",
      "11\n",
      "4\n",
      "6\n",
      "3\n",
      "10\n",
      "14\n"
     ]
    },
    {
     "name": "stderr",
     "output_type": "stream",
     "text": [
      " 80% (4115 of 5082) |################    | Elapsed Time: 0:04:07 ETA:   0:00:43"
     ]
    },
    {
     "name": "stdout",
     "output_type": "stream",
     "text": [
      "8\n",
      "9\n",
      "7\n",
      "11\n",
      "9\n"
     ]
    },
    {
     "name": "stderr",
     "output_type": "stream",
     "text": [
      " 81% (4121 of 5082) |################    | Elapsed Time: 0:04:08 ETA:   0:00:43"
     ]
    },
    {
     "name": "stdout",
     "output_type": "stream",
     "text": [
      "25\n",
      "11\n",
      "10\n",
      "14\n",
      "5\n",
      "5\n"
     ]
    },
    {
     "name": "stderr",
     "output_type": "stream",
     "text": [
      " 81% (4129 of 5082) |################    | Elapsed Time: 0:04:08 ETA:   0:00:38"
     ]
    },
    {
     "name": "stdout",
     "output_type": "stream",
     "text": [
      "7\n",
      "7\n",
      "11\n",
      "5\n",
      "5\n",
      "8\n"
     ]
    },
    {
     "name": "stderr",
     "output_type": "stream",
     "text": [
      " 81% (4134 of 5082) |################    | Elapsed Time: 0:04:08 ETA:   0:00:37"
     ]
    },
    {
     "name": "stdout",
     "output_type": "stream",
     "text": [
      "14\n",
      "14\n",
      "7\n",
      "9\n",
      "7\n",
      "6\n"
     ]
    },
    {
     "name": "stderr",
     "output_type": "stream",
     "text": [
      "\r",
      " 81% (4137 of 5082) |################    | Elapsed Time: 0:04:08 ETA:   0:00:40"
     ]
    },
    {
     "name": "stdout",
     "output_type": "stream",
     "text": [
      "14\n",
      "25\n",
      "15\n"
     ]
    },
    {
     "name": "stderr",
     "output_type": "stream",
     "text": [
      " 81% (4142 of 5082) |################    | Elapsed Time: 0:04:09 ETA:   0:00:43"
     ]
    },
    {
     "name": "stdout",
     "output_type": "stream",
     "text": [
      "8\n",
      "12\n",
      "5\n",
      "10\n",
      "7\n",
      "7\n",
      "3\n"
     ]
    },
    {
     "name": "stderr",
     "output_type": "stream",
     "text": [
      " 81% (4148 of 5082) |################    | Elapsed Time: 0:04:09 ETA:   0:00:42"
     ]
    },
    {
     "name": "stdout",
     "output_type": "stream",
     "text": [
      "15\n",
      "4\n",
      "19\n",
      "9\n",
      "3\n",
      "12\n"
     ]
    },
    {
     "name": "stderr",
     "output_type": "stream",
     "text": [
      " 81% (4156 of 5082) |################    | Elapsed Time: 0:04:09 ETA:   0:00:43"
     ]
    },
    {
     "name": "stdout",
     "output_type": "stream",
     "text": [
      "15\n",
      "5\n",
      "8\n",
      "6\n",
      "20\n",
      "16\n"
     ]
    },
    {
     "name": "stderr",
     "output_type": "stream",
     "text": [
      " 81% (4160 of 5082) |################    | Elapsed Time: 0:04:10 ETA:   0:00:45"
     ]
    },
    {
     "name": "stdout",
     "output_type": "stream",
     "text": [
      "25\n",
      "6\n",
      "25\n"
     ]
    },
    {
     "name": "stderr",
     "output_type": "stream",
     "text": [
      " 81% (4164 of 5082) |################    | Elapsed Time: 0:04:10 ETA:   0:00:45"
     ]
    },
    {
     "name": "stdout",
     "output_type": "stream",
     "text": [
      "23\n",
      "6\n",
      "10\n",
      "11\n",
      "11\n"
     ]
    },
    {
     "name": "stderr",
     "output_type": "stream",
     "text": [
      " 82% (4170 of 5082) |################    | Elapsed Time: 0:04:10 ETA:   0:00:47"
     ]
    },
    {
     "name": "stdout",
     "output_type": "stream",
     "text": [
      "12\n",
      "6\n",
      "15\n",
      "4\n",
      "8\n",
      "3\n",
      "4\n",
      "8\n"
     ]
    },
    {
     "name": "stderr",
     "output_type": "stream",
     "text": [
      "\r",
      " 82% (4174 of 5082) |################    | Elapsed Time: 0:04:10 ETA:   0:00:45"
     ]
    },
    {
     "name": "stdout",
     "output_type": "stream",
     "text": [
      "12\n",
      "2\n",
      "16\n"
     ]
    },
    {
     "name": "stderr",
     "output_type": "stream",
     "text": [
      " 82% (4180 of 5082) |################    | Elapsed Time: 0:04:11 ETA:   0:00:44"
     ]
    },
    {
     "name": "stdout",
     "output_type": "stream",
     "text": [
      "25\n",
      "5\n",
      "5\n",
      "20\n",
      "6\n",
      "5\n",
      "6\n",
      "3\n"
     ]
    },
    {
     "name": "stderr",
     "output_type": "stream",
     "text": [
      " 82% (4186 of 5082) |################    | Elapsed Time: 0:04:11 ETA:   0:00:47"
     ]
    },
    {
     "name": "stdout",
     "output_type": "stream",
     "text": [
      "23\n",
      "25\n",
      "10\n",
      "5\n"
     ]
    },
    {
     "name": "stderr",
     "output_type": "stream",
     "text": [
      " 82% (4193 of 5082) |################    | Elapsed Time: 0:04:11 ETA:   0:00:44"
     ]
    },
    {
     "name": "stdout",
     "output_type": "stream",
     "text": [
      "7\n",
      "3\n",
      "11\n",
      "3\n",
      "6\n"
     ]
    },
    {
     "name": "stderr",
     "output_type": "stream",
     "text": [
      " 82% (4199 of 5082) |################    | Elapsed Time: 0:04:11 ETA:   0:00:44"
     ]
    },
    {
     "name": "stdout",
     "output_type": "stream",
     "text": [
      "14\n",
      "6\n",
      "4\n",
      "5\n",
      "3\n",
      "25\n"
     ]
    },
    {
     "name": "stderr",
     "output_type": "stream",
     "text": [
      " 82% (4205 of 5082) |################    | Elapsed Time: 0:04:12 ETA:   0:00:41"
     ]
    },
    {
     "name": "stdout",
     "output_type": "stream",
     "text": [
      "11\n",
      "16\n",
      "24\n",
      "10\n",
      "5\n",
      "11\n"
     ]
    },
    {
     "name": "stderr",
     "output_type": "stream",
     "text": [
      " 82% (4209 of 5082) |################    | Elapsed Time: 0:04:12 ETA:   0:00:43"
     ]
    },
    {
     "name": "stdout",
     "output_type": "stream",
     "text": [
      "8\n",
      "25\n",
      "10\n",
      "15\n"
     ]
    },
    {
     "name": "stderr",
     "output_type": "stream",
     "text": [
      "\r",
      " 82% (4212 of 5082) |################    | Elapsed Time: 0:04:12 ETA:   0:00:43"
     ]
    },
    {
     "name": "stdout",
     "output_type": "stream",
     "text": [
      "9\n",
      "9\n",
      "10\n",
      "10\n",
      "21\n"
     ]
    },
    {
     "name": "stderr",
     "output_type": "stream",
     "text": [
      " 82% (4217 of 5082) |################    | Elapsed Time: 0:04:12 ETA:   0:00:43"
     ]
    },
    {
     "name": "stdout",
     "output_type": "stream",
     "text": [
      "9\n",
      "6\n",
      "8\n",
      "9\n"
     ]
    },
    {
     "name": "stderr",
     "output_type": "stream",
     "text": [
      "\r",
      " 83% (4219 of 5082) |################    | Elapsed Time: 0:04:13 ETA:   0:00:46"
     ]
    },
    {
     "name": "stdout",
     "output_type": "stream",
     "text": [
      "25\n"
     ]
    },
    {
     "name": "stderr",
     "output_type": "stream",
     "text": [
      " 83% (4222 of 5082) |################    | Elapsed Time: 0:04:13 ETA:   0:01:16"
     ]
    },
    {
     "name": "stdout",
     "output_type": "stream",
     "text": [
      "25\n",
      "20\n",
      "8\n",
      "9\n",
      "6\n"
     ]
    },
    {
     "name": "stderr",
     "output_type": "stream",
     "text": [
      " 83% (4227 of 5082) |################    | Elapsed Time: 0:04:14 ETA:   0:01:11"
     ]
    },
    {
     "name": "stdout",
     "output_type": "stream",
     "text": [
      "9\n",
      "19\n",
      "13\n",
      "7\n"
     ]
    },
    {
     "name": "stderr",
     "output_type": "stream",
     "text": [
      " 83% (4230 of 5082) |################    | Elapsed Time: 0:04:14 ETA:   0:01:17"
     ]
    },
    {
     "name": "stdout",
     "output_type": "stream",
     "text": [
      "25\n",
      "25\n"
     ]
    },
    {
     "name": "stderr",
     "output_type": "stream",
     "text": [
      " 83% (4233 of 5082) |################    | Elapsed Time: 0:04:14 ETA:   0:01:49"
     ]
    },
    {
     "name": "stdout",
     "output_type": "stream",
     "text": [
      "25\n",
      "5\n",
      "21\n",
      "5\n",
      "5\n",
      "3\n",
      "9\n"
     ]
    },
    {
     "name": "stderr",
     "output_type": "stream",
     "text": [
      "\r",
      " 83% (4238 of 5082) |################    | Elapsed Time: 0:04:15 ETA:   0:01:27"
     ]
    },
    {
     "name": "stdout",
     "output_type": "stream",
     "text": [
      "9\n",
      "7\n",
      "8\n",
      "7\n",
      "24\n"
     ]
    },
    {
     "name": "stderr",
     "output_type": "stream",
     "text": [
      " 83% (4244 of 5082) |################    | Elapsed Time: 0:04:15 ETA:   0:01:16"
     ]
    },
    {
     "name": "stdout",
     "output_type": "stream",
     "text": [
      "15\n",
      "14\n"
     ]
    },
    {
     "name": "stderr",
     "output_type": "stream",
     "text": [
      " 83% (4249 of 5082) |################    | Elapsed Time: 0:04:15 ETA:   0:01:14"
     ]
    },
    {
     "name": "stdout",
     "output_type": "stream",
     "text": [
      "25\n",
      "3\n",
      "11\n",
      "4\n",
      "15\n",
      "5\n"
     ]
    },
    {
     "name": "stderr",
     "output_type": "stream",
     "text": [
      " 83% (4255 of 5082) |################    | Elapsed Time: 0:04:16 ETA:   0:00:55"
     ]
    },
    {
     "name": "stdout",
     "output_type": "stream",
     "text": [
      "15\n",
      "12\n",
      "11\n",
      "10\n",
      "3\n",
      "15\n",
      "9\n"
     ]
    },
    {
     "name": "stderr",
     "output_type": "stream",
     "text": [
      " 83% (4264 of 5082) |################    | Elapsed Time: 0:04:16 ETA:   0:00:48"
     ]
    },
    {
     "name": "stdout",
     "output_type": "stream",
     "text": [
      "16\n",
      "6\n",
      "3\n",
      "6\n",
      "5\n",
      "6\n",
      "20\n"
     ]
    },
    {
     "name": "stderr",
     "output_type": "stream",
     "text": [
      "\r",
      " 83% (4266 of 5082) |################    | Elapsed Time: 0:04:16 ETA:   0:00:46"
     ]
    },
    {
     "name": "stdout",
     "output_type": "stream",
     "text": [
      "14\n",
      "5\n",
      "18\n"
     ]
    },
    {
     "name": "stderr",
     "output_type": "stream",
     "text": [
      " 84% (4271 of 5082) |################    | Elapsed Time: 0:04:16 ETA:   0:00:40"
     ]
    },
    {
     "name": "stdout",
     "output_type": "stream",
     "text": [
      "25\n",
      "4\n",
      "7\n",
      "15\n",
      "7\n",
      "5\n",
      "3\n",
      "8\n"
     ]
    },
    {
     "name": "stderr",
     "output_type": "stream",
     "text": [
      "\r",
      " 84% (4276 of 5082) |################    | Elapsed Time: 0:04:17 ETA:   0:00:38"
     ]
    },
    {
     "name": "stdout",
     "output_type": "stream",
     "text": [
      "12\n",
      "12\n",
      "25\n"
     ]
    },
    {
     "name": "stderr",
     "output_type": "stream",
     "text": [
      " 84% (4282 of 5082) |################    | Elapsed Time: 0:04:17 ETA:   0:00:41"
     ]
    },
    {
     "name": "stdout",
     "output_type": "stream",
     "text": [
      "7\n",
      "9\n",
      "6\n",
      "5\n",
      "12\n"
     ]
    },
    {
     "name": "stderr",
     "output_type": "stream",
     "text": [
      " 84% (4285 of 5082) |################    | Elapsed Time: 0:04:17 ETA:   0:00:40"
     ]
    },
    {
     "name": "stdout",
     "output_type": "stream",
     "text": [
      "21\n",
      "25\n",
      "5\n",
      "6\n"
     ]
    },
    {
     "name": "stderr",
     "output_type": "stream",
     "text": [
      " 84% (4292 of 5082) |################    | Elapsed Time: 0:04:17 ETA:   0:00:39"
     ]
    },
    {
     "name": "stdout",
     "output_type": "stream",
     "text": [
      "13\n",
      "11\n",
      "5\n",
      "5\n",
      "15\n"
     ]
    },
    {
     "name": "stderr",
     "output_type": "stream",
     "text": [
      " 84% (4295 of 5082) |################    | Elapsed Time: 0:04:18 ETA:   0:00:42"
     ]
    },
    {
     "name": "stdout",
     "output_type": "stream",
     "text": [
      "25\n",
      "8\n",
      "15\n"
     ]
    },
    {
     "name": "stderr",
     "output_type": "stream",
     "text": [
      " 84% (4299 of 5082) |################    | Elapsed Time: 0:04:18 ETA:   0:00:48"
     ]
    },
    {
     "name": "stdout",
     "output_type": "stream",
     "text": [
      "25\n",
      "14\n",
      "7\n",
      "16\n",
      "9\n",
      "3\n"
     ]
    },
    {
     "name": "stderr",
     "output_type": "stream",
     "text": [
      " 84% (4306 of 5082) |################    | Elapsed Time: 0:04:18 ETA:   0:00:41"
     ]
    },
    {
     "name": "stdout",
     "output_type": "stream",
     "text": [
      "7\n",
      "6\n",
      "4\n",
      "7\n",
      "19\n",
      "14\n"
     ]
    },
    {
     "name": "stderr",
     "output_type": "stream",
     "text": [
      " 84% (4311 of 5082) |################    | Elapsed Time: 0:04:19 ETA:   0:00:46"
     ]
    },
    {
     "name": "stdout",
     "output_type": "stream",
     "text": [
      "19\n",
      "8\n",
      "16\n",
      "22\n"
     ]
    },
    {
     "name": "stderr",
     "output_type": "stream",
     "text": [
      " 84% (4318 of 5082) |################    | Elapsed Time: 0:04:19 ETA:   0:00:43"
     ]
    },
    {
     "name": "stdout",
     "output_type": "stream",
     "text": [
      "11\n",
      "8\n",
      "10\n",
      "4\n",
      "5\n",
      "11\n",
      "4\n",
      "17\n"
     ]
    },
    {
     "name": "stderr",
     "output_type": "stream",
     "text": [
      " 85% (4324 of 5082) |#################   | Elapsed Time: 0:04:19 ETA:   0:00:40"
     ]
    },
    {
     "name": "stdout",
     "output_type": "stream",
     "text": [
      "11\n",
      "7\n",
      "7\n",
      "7\n",
      "12\n",
      "9\n",
      "9\n"
     ]
    },
    {
     "name": "stderr",
     "output_type": "stream",
     "text": [
      " 85% (4331 of 5082) |#################   | Elapsed Time: 0:04:19 ETA:   0:00:37"
     ]
    },
    {
     "name": "stdout",
     "output_type": "stream",
     "text": [
      "12\n",
      "4\n",
      "9\n",
      "6\n",
      "2\n",
      "16\n"
     ]
    },
    {
     "name": "stderr",
     "output_type": "stream",
     "text": [
      " 85% (4336 of 5082) |#################   | Elapsed Time: 0:04:20 ETA:   0:00:36"
     ]
    },
    {
     "name": "stdout",
     "output_type": "stream",
     "text": [
      "14\n",
      "7\n",
      "14\n",
      "11\n"
     ]
    },
    {
     "name": "stderr",
     "output_type": "stream",
     "text": [
      " 85% (4343 of 5082) |#################   | Elapsed Time: 0:04:20 ETA:   0:00:32"
     ]
    },
    {
     "name": "stdout",
     "output_type": "stream",
     "text": [
      "6\n",
      "5\n",
      "20\n",
      "11\n",
      "5\n",
      "6\n",
      "8\n",
      "16\n"
     ]
    },
    {
     "name": "stderr",
     "output_type": "stream",
     "text": [
      " 85% (4347 of 5082) |#################   | Elapsed Time: 0:04:21 ETA:   0:00:42"
     ]
    },
    {
     "name": "stdout",
     "output_type": "stream",
     "text": [
      "25\n",
      "11\n",
      "25\n"
     ]
    },
    {
     "name": "stderr",
     "output_type": "stream",
     "text": [
      " 85% (4353 of 5082) |#################   | Elapsed Time: 0:04:21 ETA:   0:00:43"
     ]
    },
    {
     "name": "stdout",
     "output_type": "stream",
     "text": [
      "9\n",
      "16\n",
      "6\n",
      "11\n",
      "3\n",
      "8\n",
      "7\n"
     ]
    },
    {
     "name": "stderr",
     "output_type": "stream",
     "text": [
      " 85% (4358 of 5082) |#################   | Elapsed Time: 0:04:21 ETA:   0:00:43"
     ]
    },
    {
     "name": "stdout",
     "output_type": "stream",
     "text": [
      "22\n",
      "7\n",
      "11\n",
      "5\n",
      "18\n"
     ]
    },
    {
     "name": "stderr",
     "output_type": "stream",
     "text": [
      " 85% (4365 of 5082) |#################   | Elapsed Time: 0:04:21 ETA:   0:00:43"
     ]
    },
    {
     "name": "stdout",
     "output_type": "stream",
     "text": [
      "13\n",
      "7\n",
      "6\n",
      "5\n",
      "3\n",
      "15\n",
      "3\n",
      "5\n"
     ]
    },
    {
     "name": "stderr",
     "output_type": "stream",
     "text": [
      " 85% (4370 of 5082) |#################   | Elapsed Time: 0:04:22 ETA:   0:00:43"
     ]
    },
    {
     "name": "stdout",
     "output_type": "stream",
     "text": [
      "18\n",
      "6\n",
      "21\n",
      "10\n",
      "10\n"
     ]
    },
    {
     "name": "stderr",
     "output_type": "stream",
     "text": [
      " 86% (4375 of 5082) |#################   | Elapsed Time: 0:04:22 ETA:   0:00:46"
     ]
    },
    {
     "name": "stdout",
     "output_type": "stream",
     "text": [
      "17\n",
      "3\n",
      "25\n",
      "10\n"
     ]
    },
    {
     "name": "stderr",
     "output_type": "stream",
     "text": [
      "\r",
      " 86% (4378 of 5082) |#################   | Elapsed Time: 0:04:22 ETA:   0:00:46"
     ]
    },
    {
     "name": "stdout",
     "output_type": "stream",
     "text": [
      "13\n",
      "25\n",
      "14\n"
     ]
    },
    {
     "name": "stderr",
     "output_type": "stream",
     "text": [
      "\r",
      " 86% (4380 of 5082) |#################   | Elapsed Time: 0:04:22 ETA:   0:00:46"
     ]
    },
    {
     "name": "stdout",
     "output_type": "stream",
     "text": [
      "9\n",
      "12\n",
      "25\n"
     ]
    },
    {
     "name": "stderr",
     "output_type": "stream",
     "text": [
      " 86% (4385 of 5082) |#################   | Elapsed Time: 0:04:23 ETA:   0:00:38"
     ]
    },
    {
     "name": "stdout",
     "output_type": "stream",
     "text": [
      "25\n",
      "15\n",
      "13\n",
      "6\n"
     ]
    },
    {
     "name": "stderr",
     "output_type": "stream",
     "text": [
      " 86% (4389 of 5082) |#################   | Elapsed Time: 0:04:23 ETA:   0:00:44"
     ]
    },
    {
     "name": "stdout",
     "output_type": "stream",
     "text": [
      "25\n",
      "3\n",
      "25\n",
      "9\n",
      "7\n"
     ]
    },
    {
     "name": "stderr",
     "output_type": "stream",
     "text": [
      " 86% (4394 of 5082) |#################   | Elapsed Time: 0:04:23 ETA:   0:00:48"
     ]
    },
    {
     "name": "stdout",
     "output_type": "stream",
     "text": [
      "2\n",
      "3\n",
      "14\n",
      "12\n"
     ]
    },
    {
     "name": "stderr",
     "output_type": "stream",
     "text": [
      " 86% (4398 of 5082) |#################   | Elapsed Time: 0:04:24 ETA:   0:00:48"
     ]
    },
    {
     "name": "stdout",
     "output_type": "stream",
     "text": [
      "8\n",
      "6\n",
      "13\n",
      "7\n",
      "8\n"
     ]
    },
    {
     "name": "stderr",
     "output_type": "stream",
     "text": [
      " 86% (4403 of 5082) |#################   | Elapsed Time: 0:04:24 ETA:   0:00:48"
     ]
    },
    {
     "name": "stdout",
     "output_type": "stream",
     "text": [
      "14\n",
      "6\n",
      "21\n",
      "14\n"
     ]
    },
    {
     "name": "stderr",
     "output_type": "stream",
     "text": [
      " 86% (4407 of 5082) |#################   | Elapsed Time: 0:04:24 ETA:   0:00:46"
     ]
    },
    {
     "name": "stdout",
     "output_type": "stream",
     "text": [
      "10\n",
      "7\n",
      "20\n",
      "4\n",
      "5\n"
     ]
    },
    {
     "name": "stderr",
     "output_type": "stream",
     "text": [
      " 86% (4414 of 5082) |#################   | Elapsed Time: 0:04:25 ETA:   0:00:42"
     ]
    },
    {
     "name": "stdout",
     "output_type": "stream",
     "text": [
      "21\n",
      "12\n",
      "2\n",
      "6\n",
      "6\n",
      "4\n",
      "4\n",
      "17\n"
     ]
    },
    {
     "name": "stderr",
     "output_type": "stream",
     "text": [
      " 86% (4421 of 5082) |#################   | Elapsed Time: 0:04:25 ETA:   0:00:35"
     ]
    },
    {
     "name": "stdout",
     "output_type": "stream",
     "text": [
      "4\n",
      "5\n",
      "6\n",
      "11\n",
      "5\n"
     ]
    },
    {
     "name": "stderr",
     "output_type": "stream",
     "text": [
      " 87% (4425 of 5082) |#################   | Elapsed Time: 0:04:25 ETA:   0:00:38"
     ]
    },
    {
     "name": "stdout",
     "output_type": "stream",
     "text": [
      "25\n",
      "9\n",
      "12\n",
      "5\n",
      "7\n",
      "7\n",
      "5\n"
     ]
    },
    {
     "name": "stderr",
     "output_type": "stream",
     "text": [
      " 87% (4434 of 5082) |#################   | Elapsed Time: 0:04:25 ETA:   0:00:31"
     ]
    },
    {
     "name": "stdout",
     "output_type": "stream",
     "text": [
      "2\n",
      "7\n",
      "9\n",
      "2\n",
      "14\n",
      "15\n"
     ]
    },
    {
     "name": "stderr",
     "output_type": "stream",
     "text": [
      " 87% (4438 of 5082) |#################   | Elapsed Time: 0:04:26 ETA:   0:00:31"
     ]
    },
    {
     "name": "stdout",
     "output_type": "stream",
     "text": [
      "6\n",
      "10\n",
      "25\n",
      "5\n",
      "8\n",
      "4\n"
     ]
    },
    {
     "name": "stderr",
     "output_type": "stream",
     "text": [
      " 87% (4445 of 5082) |#################   | Elapsed Time: 0:04:26 ETA:   0:00:29"
     ]
    },
    {
     "name": "stdout",
     "output_type": "stream",
     "text": [
      "10\n",
      "6\n",
      "5\n",
      "19\n"
     ]
    },
    {
     "name": "stderr",
     "output_type": "stream",
     "text": [
      " 87% (4448 of 5082) |#################   | Elapsed Time: 0:04:26 ETA:   0:00:29"
     ]
    },
    {
     "name": "stdout",
     "output_type": "stream",
     "text": [
      "25\n",
      "8\n",
      "10\n",
      "11\n"
     ]
    },
    {
     "name": "stderr",
     "output_type": "stream",
     "text": [
      " 87% (4452 of 5082) |#################   | Elapsed Time: 0:04:26 ETA:   0:00:29"
     ]
    },
    {
     "name": "stdout",
     "output_type": "stream",
     "text": [
      "15\n",
      "3\n",
      "21\n",
      "8\n"
     ]
    },
    {
     "name": "stderr",
     "output_type": "stream",
     "text": [
      " 87% (4456 of 5082) |#################   | Elapsed Time: 0:04:27 ETA:   0:00:32"
     ]
    },
    {
     "name": "stdout",
     "output_type": "stream",
     "text": [
      "25\n",
      "12\n",
      "16\n",
      "6\n",
      "4\n"
     ]
    },
    {
     "name": "stderr",
     "output_type": "stream",
     "text": [
      " 87% (4464 of 5082) |#################   | Elapsed Time: 0:04:27 ETA:   0:00:30"
     ]
    },
    {
     "name": "stdout",
     "output_type": "stream",
     "text": [
      "25\n",
      "4\n",
      "5\n",
      "3\n",
      "7\n",
      "14\n",
      "7\n"
     ]
    },
    {
     "name": "stderr",
     "output_type": "stream",
     "text": [
      " 87% (4467 of 5082) |#################   | Elapsed Time: 0:04:27 ETA:   0:00:33"
     ]
    },
    {
     "name": "stdout",
     "output_type": "stream",
     "text": [
      "21\n",
      "25\n",
      "11\n"
     ]
    },
    {
     "name": "stderr",
     "output_type": "stream",
     "text": [
      " 87% (4472 of 5082) |#################   | Elapsed Time: 0:04:28 ETA:   0:00:35"
     ]
    },
    {
     "name": "stdout",
     "output_type": "stream",
     "text": [
      "7\n",
      "11\n",
      "12\n",
      "12\n",
      "3\n"
     ]
    },
    {
     "name": "stderr",
     "output_type": "stream",
     "text": [
      " 88% (4479 of 5082) |#################   | Elapsed Time: 0:04:28 ETA:   0:00:33"
     ]
    },
    {
     "name": "stdout",
     "output_type": "stream",
     "text": [
      "13\n",
      "5\n",
      "6\n",
      "2\n",
      "7\n",
      "17\n"
     ]
    },
    {
     "name": "stderr",
     "output_type": "stream",
     "text": [
      " 88% (4482 of 5082) |#################   | Elapsed Time: 0:04:28 ETA:   0:00:34"
     ]
    },
    {
     "name": "stdout",
     "output_type": "stream",
     "text": [
      "22\n",
      "16\n",
      "9\n",
      "13\n"
     ]
    },
    {
     "name": "stderr",
     "output_type": "stream",
     "text": [
      " 88% (4485 of 5082) |#################   | Elapsed Time: 0:04:29 ETA:   0:00:42"
     ]
    },
    {
     "name": "stdout",
     "output_type": "stream",
     "text": [
      "25\n",
      "25\n"
     ]
    },
    {
     "name": "stderr",
     "output_type": "stream",
     "text": [
      " 88% (4488 of 5082) |#################   | Elapsed Time: 0:04:29 ETA:   0:00:43"
     ]
    },
    {
     "name": "stdout",
     "output_type": "stream",
     "text": [
      "25\n",
      "10\n",
      "25\n",
      "7\n",
      "5\n"
     ]
    },
    {
     "name": "stderr",
     "output_type": "stream",
     "text": [
      " 88% (4496 of 5082) |#################   | Elapsed Time: 0:04:29 ETA:   0:00:41"
     ]
    },
    {
     "name": "stdout",
     "output_type": "stream",
     "text": [
      "6\n",
      "7\n",
      "5\n",
      "8\n",
      "7\n",
      "9\n",
      "5\n",
      "3\n"
     ]
    },
    {
     "name": "stderr",
     "output_type": "stream",
     "text": [
      "\r",
      " 88% (4499 of 5082) |#################   | Elapsed Time: 0:04:29 ETA:   0:00:38"
     ]
    },
    {
     "name": "stdout",
     "output_type": "stream",
     "text": [
      "14\n"
     ]
    },
    {
     "name": "stderr",
     "output_type": "stream",
     "text": [
      " 88% (4501 of 5082) |#################   | Elapsed Time: 0:04:30 ETA:   0:00:53"
     ]
    },
    {
     "name": "stdout",
     "output_type": "stream",
     "text": [
      "25\n",
      "24\n",
      "19\n"
     ]
    },
    {
     "name": "stderr",
     "output_type": "stream",
     "text": [
      " 88% (4506 of 5082) |#################   | Elapsed Time: 0:04:30 ETA:   0:00:49"
     ]
    },
    {
     "name": "stdout",
     "output_type": "stream",
     "text": [
      "13\n",
      "5\n",
      "10\n",
      "17\n",
      "8\n",
      "4\n",
      "6\n",
      "2\n",
      "6\n"
     ]
    },
    {
     "name": "stderr",
     "output_type": "stream",
     "text": [
      " 88% (4514 of 5082) |#################   | Elapsed Time: 0:04:30 ETA:   0:00:40"
     ]
    },
    {
     "name": "stdout",
     "output_type": "stream",
     "text": [
      "11\n",
      "10\n",
      "5\n",
      "18\n"
     ]
    },
    {
     "name": "stderr",
     "output_type": "stream",
     "text": [
      " 88% (4522 of 5082) |#################   | Elapsed Time: 0:04:31 ETA:   0:00:31"
     ]
    },
    {
     "name": "stdout",
     "output_type": "stream",
     "text": [
      "17\n",
      "5\n",
      "14\n",
      "6\n",
      "6\n",
      "6\n",
      "12\n"
     ]
    },
    {
     "name": "stderr",
     "output_type": "stream",
     "text": [
      " 89% (4529 of 5082) |#################   | Elapsed Time: 0:04:31 ETA:   0:00:27"
     ]
    },
    {
     "name": "stdout",
     "output_type": "stream",
     "text": [
      "13\n",
      "4\n",
      "16\n",
      "3\n",
      "10\n",
      "3\n",
      "13\n"
     ]
    },
    {
     "name": "stderr",
     "output_type": "stream",
     "text": [
      " 89% (4534 of 5082) |#################   | Elapsed Time: 0:04:31 ETA:   0:00:27"
     ]
    },
    {
     "name": "stdout",
     "output_type": "stream",
     "text": [
      "13\n",
      "13\n",
      "14\n",
      "8\n",
      "10\n"
     ]
    },
    {
     "name": "stderr",
     "output_type": "stream",
     "text": [
      " 89% (4540 of 5082) |#################   | Elapsed Time: 0:04:32 ETA:   0:00:28"
     ]
    },
    {
     "name": "stdout",
     "output_type": "stream",
     "text": [
      "20\n",
      "10\n",
      "4\n",
      "9\n",
      "8\n",
      "12\n"
     ]
    },
    {
     "name": "stderr",
     "output_type": "stream",
     "text": [
      " 89% (4545 of 5082) |#################   | Elapsed Time: 0:04:32 ETA:   0:00:27"
     ]
    },
    {
     "name": "stdout",
     "output_type": "stream",
     "text": [
      "10\n",
      "7\n",
      "7\n",
      "13\n",
      "13\n"
     ]
    },
    {
     "name": "stderr",
     "output_type": "stream",
     "text": [
      " 89% (4547 of 5082) |#################   | Elapsed Time: 0:04:32 ETA:   0:00:25"
     ]
    },
    {
     "name": "stdout",
     "output_type": "stream",
     "text": [
      "25\n",
      "24\n"
     ]
    },
    {
     "name": "stderr",
     "output_type": "stream",
     "text": [
      " 89% (4551 of 5082) |#################   | Elapsed Time: 0:04:32 ETA:   0:00:26"
     ]
    },
    {
     "name": "stdout",
     "output_type": "stream",
     "text": [
      "22\n",
      "14\n",
      "8\n",
      "9\n"
     ]
    },
    {
     "name": "stderr",
     "output_type": "stream",
     "text": [
      " 89% (4556 of 5082) |#################   | Elapsed Time: 0:04:33 ETA:   0:00:26"
     ]
    },
    {
     "name": "stdout",
     "output_type": "stream",
     "text": [
      "10\n",
      "25\n",
      "9\n",
      "12\n",
      "8\n"
     ]
    },
    {
     "name": "stderr",
     "output_type": "stream",
     "text": [
      " 89% (4561 of 5082) |#################   | Elapsed Time: 0:04:33 ETA:   0:00:28"
     ]
    },
    {
     "name": "stdout",
     "output_type": "stream",
     "text": [
      "25\n",
      "10\n",
      "6\n",
      "6\n",
      "7\n",
      "8\n"
     ]
    },
    {
     "name": "stderr",
     "output_type": "stream",
     "text": [
      " 89% (4568 of 5082) |#################   | Elapsed Time: 0:04:33 ETA:   0:00:27"
     ]
    },
    {
     "name": "stdout",
     "output_type": "stream",
     "text": [
      "13\n",
      "5\n",
      "3\n",
      "5\n",
      "11\n",
      "5\n",
      "6\n",
      "9\n"
     ]
    },
    {
     "name": "stderr",
     "output_type": "stream",
     "text": [
      " 90% (4575 of 5082) |##################  | Elapsed Time: 0:04:33 ETA:   0:00:25"
     ]
    },
    {
     "name": "stdout",
     "output_type": "stream",
     "text": [
      "12\n",
      "5\n",
      "11\n",
      "6\n",
      "6\n",
      "7\n"
     ]
    },
    {
     "name": "stderr",
     "output_type": "stream",
     "text": [
      " 90% (4580 of 5082) |##################  | Elapsed Time: 0:04:34 ETA:   0:00:27"
     ]
    },
    {
     "name": "stdout",
     "output_type": "stream",
     "text": [
      "25\n",
      "15\n",
      "5\n",
      "25\n"
     ]
    },
    {
     "name": "stderr",
     "output_type": "stream",
     "text": [
      "\r",
      " 90% (4584 of 5082) |##################  | Elapsed Time: 0:04:34 ETA:   0:00:26"
     ]
    },
    {
     "name": "stdout",
     "output_type": "stream",
     "text": [
      "13\n",
      "5\n",
      "3\n",
      "24\n"
     ]
    },
    {
     "name": "stderr",
     "output_type": "stream",
     "text": [
      " 90% (4587 of 5082) |##################  | Elapsed Time: 0:04:34 ETA:   0:00:26"
     ]
    },
    {
     "name": "stdout",
     "output_type": "stream",
     "text": [
      "25\n",
      "13\n",
      "9\n",
      "6\n",
      "6\n"
     ]
    },
    {
     "name": "stderr",
     "output_type": "stream",
     "text": [
      " 90% (4592 of 5082) |##################  | Elapsed Time: 0:04:35 ETA:   0:00:25"
     ]
    },
    {
     "name": "stdout",
     "output_type": "stream",
     "text": [
      "15\n",
      "22\n",
      "7\n",
      "11\n",
      "3\n"
     ]
    },
    {
     "name": "stderr",
     "output_type": "stream",
     "text": [
      " 90% (4598 of 5082) |##################  | Elapsed Time: 0:04:35 ETA:   0:00:23"
     ]
    },
    {
     "name": "stdout",
     "output_type": "stream",
     "text": [
      "19\n",
      "9\n",
      "10\n",
      "11\n",
      "11\n",
      "6\n"
     ]
    },
    {
     "name": "stderr",
     "output_type": "stream",
     "text": [
      " 90% (4604 of 5082) |##################  | Elapsed Time: 0:04:35 ETA:   0:00:29"
     ]
    },
    {
     "name": "stdout",
     "output_type": "stream",
     "text": [
      "25\n",
      "10\n",
      "11\n",
      "6\n",
      "5\n",
      "7\n",
      "5\n"
     ]
    },
    {
     "name": "stderr",
     "output_type": "stream",
     "text": [
      " 90% (4610 of 5082) |##################  | Elapsed Time: 0:04:36 ETA:   0:00:29"
     ]
    },
    {
     "name": "stdout",
     "output_type": "stream",
     "text": [
      "7\n",
      "16\n",
      "19\n",
      "4\n"
     ]
    },
    {
     "name": "stderr",
     "output_type": "stream",
     "text": [
      " 90% (4614 of 5082) |##################  | Elapsed Time: 0:04:36 ETA:   0:00:28"
     ]
    },
    {
     "name": "stdout",
     "output_type": "stream",
     "text": [
      "21\n",
      "15\n",
      "19\n"
     ]
    },
    {
     "name": "stderr",
     "output_type": "stream",
     "text": [
      " 90% (4619 of 5082) |##################  | Elapsed Time: 0:04:36 ETA:   0:00:29"
     ]
    },
    {
     "name": "stdout",
     "output_type": "stream",
     "text": [
      "7\n",
      "16\n",
      "12\n",
      "5\n",
      "6\n",
      "5\n",
      "2\n",
      "6\n",
      "5\n"
     ]
    },
    {
     "name": "stderr",
     "output_type": "stream",
     "text": [
      " 91% (4627 of 5082) |##################  | Elapsed Time: 0:04:36 ETA:   0:00:23"
     ]
    },
    {
     "name": "stdout",
     "output_type": "stream",
     "text": [
      "11\n",
      "9\n",
      "10\n",
      "8\n"
     ]
    },
    {
     "name": "stderr",
     "output_type": "stream",
     "text": [
      " 91% (4632 of 5082) |##################  | Elapsed Time: 0:04:37 ETA:   0:00:22"
     ]
    },
    {
     "name": "stdout",
     "output_type": "stream",
     "text": [
      "14\n",
      "6\n",
      "11\n",
      "4\n",
      "10\n",
      "9\n"
     ]
    },
    {
     "name": "stderr",
     "output_type": "stream",
     "text": [
      " 91% (4637 of 5082) |##################  | Elapsed Time: 0:04:37 ETA:   0:00:23"
     ]
    },
    {
     "name": "stdout",
     "output_type": "stream",
     "text": [
      "15\n",
      "4\n",
      "13\n",
      "18\n"
     ]
    },
    {
     "name": "stderr",
     "output_type": "stream",
     "text": [
      "\r",
      " 91% (4639 of 5082) |##################  | Elapsed Time: 0:04:37 ETA:   0:00:23"
     ]
    },
    {
     "name": "stdout",
     "output_type": "stream",
     "text": [
      "12\n",
      "19\n",
      "5\n",
      "24\n"
     ]
    },
    {
     "name": "stderr",
     "output_type": "stream",
     "text": [
      " 91% (4647 of 5082) |##################  | Elapsed Time: 0:04:37 ETA:   0:00:20"
     ]
    },
    {
     "name": "stdout",
     "output_type": "stream",
     "text": [
      "9\n",
      "10\n",
      "5\n",
      "5\n",
      "10\n",
      "9\n",
      "5\n",
      "8\n",
      "25\n"
     ]
    },
    {
     "name": "stderr",
     "output_type": "stream",
     "text": [
      " 91% (4652 of 5082) |##################  | Elapsed Time: 0:04:38 ETA:   0:00:22"
     ]
    },
    {
     "name": "stdout",
     "output_type": "stream",
     "text": [
      "19\n",
      "10\n",
      "13\n",
      "23\n"
     ]
    },
    {
     "name": "stderr",
     "output_type": "stream",
     "text": [
      " 91% (4660 of 5082) |##################  | Elapsed Time: 0:04:38 ETA:   0:00:23"
     ]
    },
    {
     "name": "stdout",
     "output_type": "stream",
     "text": [
      "17\n",
      "11\n",
      "10\n",
      "3\n",
      "6\n",
      "6\n",
      "11\n",
      "7\n"
     ]
    },
    {
     "name": "stderr",
     "output_type": "stream",
     "text": [
      " 91% (4665 of 5082) |##################  | Elapsed Time: 0:04:38 ETA:   0:00:22"
     ]
    },
    {
     "name": "stdout",
     "output_type": "stream",
     "text": [
      "7\n",
      "9\n",
      "18\n",
      "10\n",
      "9\n"
     ]
    },
    {
     "name": "stderr",
     "output_type": "stream",
     "text": [
      " 91% (4670 of 5082) |##################  | Elapsed Time: 0:04:39 ETA:   0:00:22"
     ]
    },
    {
     "name": "stdout",
     "output_type": "stream",
     "text": [
      "7\n",
      "8\n",
      "22\n",
      "12\n",
      "7\n"
     ]
    },
    {
     "name": "stderr",
     "output_type": "stream",
     "text": [
      " 92% (4676 of 5082) |##################  | Elapsed Time: 0:04:39 ETA:   0:00:21"
     ]
    },
    {
     "name": "stdout",
     "output_type": "stream",
     "text": [
      "6\n",
      "8\n",
      "3\n",
      "11\n",
      "12\n"
     ]
    },
    {
     "name": "stderr",
     "output_type": "stream",
     "text": [
      "\r",
      " 92% (4678 of 5082) |##################  | Elapsed Time: 0:04:39 ETA:   0:00:20"
     ]
    },
    {
     "name": "stdout",
     "output_type": "stream",
     "text": [
      "11\n",
      "25\n"
     ]
    },
    {
     "name": "stderr",
     "output_type": "stream",
     "text": [
      " 92% (4685 of 5082) |##################  | Elapsed Time: 0:04:39 ETA:   0:00:21"
     ]
    },
    {
     "name": "stdout",
     "output_type": "stream",
     "text": [
      "13\n",
      "12\n",
      "6\n",
      "5\n",
      "4\n",
      "17\n",
      "5\n"
     ]
    },
    {
     "name": "stderr",
     "output_type": "stream",
     "text": [
      " 92% (4689 of 5082) |##################  | Elapsed Time: 0:04:40 ETA:   0:00:21"
     ]
    },
    {
     "name": "stdout",
     "output_type": "stream",
     "text": [
      "10\n",
      "25\n",
      "24\n",
      "8\n"
     ]
    },
    {
     "name": "stderr",
     "output_type": "stream",
     "text": [
      " 92% (4696 of 5082) |##################  | Elapsed Time: 0:04:40 ETA:   0:00:21"
     ]
    },
    {
     "name": "stdout",
     "output_type": "stream",
     "text": [
      "25\n",
      "4\n",
      "9\n",
      "5\n",
      "5\n",
      "4\n",
      "8\n",
      "7\n",
      "5\n",
      "6\n"
     ]
    },
    {
     "name": "stderr",
     "output_type": "stream",
     "text": [
      " 92% (4706 of 5082) |##################  | Elapsed Time: 0:04:40 ETA:   0:00:17"
     ]
    },
    {
     "name": "stdout",
     "output_type": "stream",
     "text": [
      "19\n",
      "9\n",
      "7\n",
      "4\n",
      "10\n",
      "4\n",
      "8\n"
     ]
    },
    {
     "name": "stderr",
     "output_type": "stream",
     "text": [
      "\r",
      " 92% (4708 of 5082) |##################  | Elapsed Time: 0:04:40 ETA:   0:00:17"
     ]
    },
    {
     "name": "stdout",
     "output_type": "stream",
     "text": [
      "16\n",
      "5\n",
      "3\n",
      "5\n",
      "25\n"
     ]
    },
    {
     "name": "stderr",
     "output_type": "stream",
     "text": [
      " 92% (4714 of 5082) |##################  | Elapsed Time: 0:04:41 ETA:   0:00:18"
     ]
    },
    {
     "name": "stdout",
     "output_type": "stream",
     "text": [
      "15\n",
      "25\n",
      "17\n",
      "5\n"
     ]
    },
    {
     "name": "stderr",
     "output_type": "stream",
     "text": [
      " 92% (4720 of 5082) |##################  | Elapsed Time: 0:04:41 ETA:   0:00:18"
     ]
    },
    {
     "name": "stdout",
     "output_type": "stream",
     "text": [
      "11\n",
      "7\n",
      "15\n",
      "11\n",
      "5\n",
      "8\n"
     ]
    },
    {
     "name": "stderr",
     "output_type": "stream",
     "text": [
      " 93% (4727 of 5082) |##################  | Elapsed Time: 0:04:41 ETA:   0:00:16"
     ]
    },
    {
     "name": "stdout",
     "output_type": "stream",
     "text": [
      "11\n",
      "5\n",
      "3\n",
      "15\n",
      "5\n",
      "14\n"
     ]
    },
    {
     "name": "stderr",
     "output_type": "stream",
     "text": [
      " 93% (4731 of 5082) |##################  | Elapsed Time: 0:04:42 ETA:   0:00:16"
     ]
    },
    {
     "name": "stdout",
     "output_type": "stream",
     "text": [
      "10\n",
      "14\n",
      "9\n",
      "5\n",
      "12\n"
     ]
    },
    {
     "name": "stderr",
     "output_type": "stream",
     "text": [
      " 93% (4737 of 5082) |##################  | Elapsed Time: 0:04:42 ETA:   0:00:15"
     ]
    },
    {
     "name": "stdout",
     "output_type": "stream",
     "text": [
      "14\n",
      "8\n",
      "13\n",
      "8\n",
      "6\n",
      "6\n"
     ]
    },
    {
     "name": "stderr",
     "output_type": "stream",
     "text": [
      " 93% (4745 of 5082) |##################  | Elapsed Time: 0:04:42 ETA:   0:00:13"
     ]
    },
    {
     "name": "stdout",
     "output_type": "stream",
     "text": [
      "10\n",
      "8\n",
      "11\n",
      "4\n",
      "5\n",
      "7\n",
      "7\n"
     ]
    },
    {
     "name": "stderr",
     "output_type": "stream",
     "text": [
      " 93% (4753 of 5082) |##################  | Elapsed Time: 0:04:42 ETA:   0:00:14"
     ]
    },
    {
     "name": "stdout",
     "output_type": "stream",
     "text": [
      "9\n",
      "15\n",
      "17\n",
      "10\n",
      "5\n",
      "14\n",
      "4\n"
     ]
    },
    {
     "name": "stderr",
     "output_type": "stream",
     "text": [
      " 93% (4761 of 5082) |##################  | Elapsed Time: 0:04:43 ETA:   0:00:13"
     ]
    },
    {
     "name": "stdout",
     "output_type": "stream",
     "text": [
      "3\n",
      "5\n",
      "7\n",
      "5\n",
      "9\n",
      "8\n",
      "9\n",
      "6\n"
     ]
    },
    {
     "name": "stderr",
     "output_type": "stream",
     "text": [
      "\r",
      " 93% (4764 of 5082) |##################  | Elapsed Time: 0:04:43 ETA:   0:00:13"
     ]
    },
    {
     "name": "stdout",
     "output_type": "stream",
     "text": [
      "10\n",
      "9\n",
      "9\n",
      "7\n",
      "6\n",
      "3\n",
      "17\n"
     ]
    },
    {
     "name": "stderr",
     "output_type": "stream",
     "text": [
      " 93% (4772 of 5082) |##################  | Elapsed Time: 0:04:43 ETA:   0:00:11"
     ]
    },
    {
     "name": "stdout",
     "output_type": "stream",
     "text": [
      "11\n",
      "4\n",
      "7\n",
      "11\n",
      "1\n",
      "15\n",
      "6\n",
      "8\n"
     ]
    },
    {
     "name": "stderr",
     "output_type": "stream",
     "text": [
      " 94% (4778 of 5082) |##################  | Elapsed Time: 0:04:43 ETA:   0:00:12"
     ]
    },
    {
     "name": "stdout",
     "output_type": "stream",
     "text": [
      "6\n",
      "25\n"
     ]
    },
    {
     "name": "stderr",
     "output_type": "stream",
     "text": [
      "\r",
      " 94% (4782 of 5082) |##################  | Elapsed Time: 0:04:44 ETA:   0:00:11"
     ]
    },
    {
     "name": "stdout",
     "output_type": "stream",
     "text": [
      "8\n",
      "7\n",
      "7\n",
      "10\n",
      "4\n",
      "8\n",
      "7\n",
      "5\n"
     ]
    },
    {
     "name": "stderr",
     "output_type": "stream",
     "text": [
      " 94% (4789 of 5082) |##################  | Elapsed Time: 0:04:44 ETA:   0:00:11"
     ]
    },
    {
     "name": "stdout",
     "output_type": "stream",
     "text": [
      "21\n",
      "14\n",
      "13\n",
      "13\n"
     ]
    },
    {
     "name": "stderr",
     "output_type": "stream",
     "text": [
      " 94% (4794 of 5082) |##################  | Elapsed Time: 0:04:44 ETA:   0:00:12"
     ]
    },
    {
     "name": "stdout",
     "output_type": "stream",
     "text": [
      "25\n",
      "11\n",
      "11\n",
      "11\n",
      "8\n",
      "7\n"
     ]
    },
    {
     "name": "stderr",
     "output_type": "stream",
     "text": [
      " 94% (4799 of 5082) |##################  | Elapsed Time: 0:04:44 ETA:   0:00:12"
     ]
    },
    {
     "name": "stdout",
     "output_type": "stream",
     "text": [
      "8\n",
      "7\n",
      "14\n",
      "8\n",
      "12\n"
     ]
    },
    {
     "name": "stderr",
     "output_type": "stream",
     "text": [
      " 94% (4804 of 5082) |##################  | Elapsed Time: 0:04:45 ETA:   0:00:17"
     ]
    },
    {
     "name": "stdout",
     "output_type": "stream",
     "text": [
      "25\n",
      "7\n",
      "21\n",
      "8\n",
      "6\n"
     ]
    },
    {
     "name": "stderr",
     "output_type": "stream",
     "text": [
      " 94% (4811 of 5082) |##################  | Elapsed Time: 0:04:45 ETA:   0:00:16"
     ]
    },
    {
     "name": "stdout",
     "output_type": "stream",
     "text": [
      "10\n",
      "4\n",
      "9\n",
      "9\n",
      "4\n",
      "6\n"
     ]
    },
    {
     "name": "stderr",
     "output_type": "stream",
     "text": [
      " 94% (4816 of 5082) |##################  | Elapsed Time: 0:04:46 ETA:   0:00:20"
     ]
    },
    {
     "name": "stdout",
     "output_type": "stream",
     "text": [
      "25\n",
      "8\n",
      "8\n",
      "16\n"
     ]
    },
    {
     "name": "stderr",
     "output_type": "stream",
     "text": [
      " 94% (4819 of 5082) |##################  | Elapsed Time: 0:04:46 ETA:   0:00:21"
     ]
    },
    {
     "name": "stdout",
     "output_type": "stream",
     "text": [
      "25\n",
      "22\n",
      "10\n",
      "13\n"
     ]
    },
    {
     "name": "stderr",
     "output_type": "stream",
     "text": [
      " 94% (4823 of 5082) |##################  | Elapsed Time: 0:04:46 ETA:   0:00:22"
     ]
    },
    {
     "name": "stdout",
     "output_type": "stream",
     "text": [
      "13\n",
      "18\n",
      "5\n"
     ]
    },
    {
     "name": "stderr",
     "output_type": "stream",
     "text": [
      " 95% (4828 of 5082) |################### | Elapsed Time: 0:04:47 ETA:   0:00:20"
     ]
    },
    {
     "name": "stdout",
     "output_type": "stream",
     "text": [
      "25\n",
      "13\n",
      "5\n",
      "12\n",
      "11\n",
      "9\n"
     ]
    },
    {
     "name": "stderr",
     "output_type": "stream",
     "text": [
      " 95% (4833 of 5082) |################### | Elapsed Time: 0:04:47 ETA:   0:00:18"
     ]
    },
    {
     "name": "stdout",
     "output_type": "stream",
     "text": [
      "9\n",
      "7\n",
      "4\n",
      "19\n"
     ]
    },
    {
     "name": "stderr",
     "output_type": "stream",
     "text": [
      " 95% (4837 of 5082) |################### | Elapsed Time: 0:04:47 ETA:   0:00:16"
     ]
    },
    {
     "name": "stdout",
     "output_type": "stream",
     "text": [
      "25\n",
      "14\n",
      "6\n",
      "12\n"
     ]
    },
    {
     "name": "stderr",
     "output_type": "stream",
     "text": [
      " 95% (4839 of 5082) |################### | Elapsed Time: 0:04:48 ETA:   0:00:18"
     ]
    },
    {
     "name": "stdout",
     "output_type": "stream",
     "text": [
      "25\n",
      "19\n",
      "20\n",
      "6\n"
     ]
    },
    {
     "name": "stderr",
     "output_type": "stream",
     "text": [
      " 95% (4847 of 5082) |################### | Elapsed Time: 0:04:48 ETA:   0:00:13"
     ]
    },
    {
     "name": "stdout",
     "output_type": "stream",
     "text": [
      "10\n",
      "8\n",
      "4\n",
      "8\n",
      "10\n",
      "14\n"
     ]
    },
    {
     "name": "stderr",
     "output_type": "stream",
     "text": [
      "\r",
      " 95% (4850 of 5082) |################### | Elapsed Time: 0:04:48 ETA:   0:00:13"
     ]
    },
    {
     "name": "stdout",
     "output_type": "stream",
     "text": [
      "12\n",
      "7\n",
      "8\n",
      "13\n"
     ]
    },
    {
     "name": "stderr",
     "output_type": "stream",
     "text": [
      " 95% (4854 of 5082) |################### | Elapsed Time: 0:04:48 ETA:   0:00:13"
     ]
    },
    {
     "name": "stdout",
     "output_type": "stream",
     "text": [
      "25\n",
      "10\n",
      "16\n",
      "7\n",
      "8\n"
     ]
    },
    {
     "name": "stderr",
     "output_type": "stream",
     "text": [
      " 95% (4863 of 5082) |################### | Elapsed Time: 0:04:49 ETA:   0:00:11"
     ]
    },
    {
     "name": "stdout",
     "output_type": "stream",
     "text": [
      "14\n",
      "7\n",
      "5\n",
      "4\n",
      "2\n",
      "4\n",
      "4\n",
      "6\n",
      "5\n",
      "8\n",
      "5\n"
     ]
    },
    {
     "name": "stderr",
     "output_type": "stream",
     "text": [
      " 95% (4870 of 5082) |################### | Elapsed Time: 0:04:49 ETA:   0:00:10"
     ]
    },
    {
     "name": "stdout",
     "output_type": "stream",
     "text": [
      "14\n",
      "7\n",
      "12\n",
      "7\n",
      "4\n"
     ]
    },
    {
     "name": "stderr",
     "output_type": "stream",
     "text": [
      " 95% (4876 of 5082) |################### | Elapsed Time: 0:04:49 ETA:   0:00:09"
     ]
    },
    {
     "name": "stdout",
     "output_type": "stream",
     "text": [
      "25\n",
      "12\n",
      "8\n",
      "5\n",
      "8\n",
      "10\n",
      "3\n"
     ]
    },
    {
     "name": "stderr",
     "output_type": "stream",
     "text": [
      " 96% (4881 of 5082) |################### | Elapsed Time: 0:04:49 ETA:   0:00:09"
     ]
    },
    {
     "name": "stdout",
     "output_type": "stream",
     "text": [
      "7\n",
      "25\n",
      "9\n",
      "1\n",
      "8\n"
     ]
    },
    {
     "name": "stderr",
     "output_type": "stream",
     "text": [
      " 96% (4888 of 5082) |################### | Elapsed Time: 0:04:50 ETA:   0:00:08"
     ]
    },
    {
     "name": "stdout",
     "output_type": "stream",
     "text": [
      "10\n",
      "11\n",
      "9\n",
      "12\n"
     ]
    },
    {
     "name": "stderr",
     "output_type": "stream",
     "text": [
      " 96% (4892 of 5082) |################### | Elapsed Time: 0:04:50 ETA:   0:00:08"
     ]
    },
    {
     "name": "stdout",
     "output_type": "stream",
     "text": [
      "11\n",
      "9\n",
      "9\n",
      "19\n"
     ]
    },
    {
     "name": "stderr",
     "output_type": "stream",
     "text": [
      " 96% (4895 of 5082) |################### | Elapsed Time: 0:04:50 ETA:   0:00:08"
     ]
    },
    {
     "name": "stdout",
     "output_type": "stream",
     "text": [
      "25\n",
      "11\n",
      "17\n",
      "6\n"
     ]
    },
    {
     "name": "stderr",
     "output_type": "stream",
     "text": [
      " 96% (4900 of 5082) |################### | Elapsed Time: 0:04:50 ETA:   0:00:08"
     ]
    },
    {
     "name": "stdout",
     "output_type": "stream",
     "text": [
      "18\n",
      "9\n",
      "5\n",
      "10\n"
     ]
    },
    {
     "name": "stderr",
     "output_type": "stream",
     "text": [
      " 96% (4903 of 5082) |################### | Elapsed Time: 0:04:51 ETA:   0:00:09"
     ]
    },
    {
     "name": "stdout",
     "output_type": "stream",
     "text": [
      "25\n",
      "21\n",
      "7\n",
      "15\n"
     ]
    },
    {
     "name": "stderr",
     "output_type": "stream",
     "text": [
      " 96% (4907 of 5082) |################### | Elapsed Time: 0:04:51 ETA:   0:00:10"
     ]
    },
    {
     "name": "stdout",
     "output_type": "stream",
     "text": [
      "17\n",
      "3\n",
      "20\n",
      "13\n",
      "5\n"
     ]
    },
    {
     "name": "stderr",
     "output_type": "stream",
     "text": [
      " 96% (4914 of 5082) |################### | Elapsed Time: 0:04:51 ETA:   0:00:10"
     ]
    },
    {
     "name": "stdout",
     "output_type": "stream",
     "text": [
      "21\n",
      "20\n",
      "13\n",
      "4\n",
      "18\n"
     ]
    },
    {
     "name": "stderr",
     "output_type": "stream",
     "text": [
      " 96% (4917 of 5082) |################### | Elapsed Time: 0:04:52 ETA:   0:00:10"
     ]
    },
    {
     "name": "stdout",
     "output_type": "stream",
     "text": [
      "24\n",
      "4\n",
      "23\n"
     ]
    },
    {
     "name": "stderr",
     "output_type": "stream",
     "text": [
      " 96% (4921 of 5082) |################### | Elapsed Time: 0:04:52 ETA:   0:00:10"
     ]
    },
    {
     "name": "stdout",
     "output_type": "stream",
     "text": [
      "11\n",
      "16\n",
      "17\n",
      "15\n"
     ]
    },
    {
     "name": "stderr",
     "output_type": "stream",
     "text": [
      " 96% (4925 of 5082) |################### | Elapsed Time: 0:04:52 ETA:   0:00:10"
     ]
    },
    {
     "name": "stdout",
     "output_type": "stream",
     "text": [
      "14\n",
      "9\n",
      "18\n",
      "7\n",
      "9\n"
     ]
    },
    {
     "name": "stderr",
     "output_type": "stream",
     "text": [
      "\r",
      " 96% (4927 of 5082) |################### | Elapsed Time: 0:04:52 ETA:   0:00:09"
     ]
    },
    {
     "name": "stdout",
     "output_type": "stream",
     "text": [
      "15\n"
     ]
    },
    {
     "name": "stderr",
     "output_type": "stream",
     "text": [
      " 97% (4930 of 5082) |################### | Elapsed Time: 0:04:53 ETA:   0:00:12"
     ]
    },
    {
     "name": "stdout",
     "output_type": "stream",
     "text": [
      "25\n",
      "18\n",
      "13\n",
      "6\n"
     ]
    },
    {
     "name": "stderr",
     "output_type": "stream",
     "text": [
      " 97% (4936 of 5082) |################### | Elapsed Time: 0:04:53 ETA:   0:00:11"
     ]
    },
    {
     "name": "stdout",
     "output_type": "stream",
     "text": [
      "13\n",
      "6\n",
      "8\n",
      "6\n",
      "10\n",
      "6\n",
      "7\n",
      "5\n",
      "4\n"
     ]
    },
    {
     "name": "stderr",
     "output_type": "stream",
     "text": [
      "\r",
      " 97% (4941 of 5082) |################### | Elapsed Time: 0:04:53 ETA:   0:00:10"
     ]
    },
    {
     "name": "stdout",
     "output_type": "stream",
     "text": [
      "25\n",
      "10\n"
     ]
    },
    {
     "name": "stderr",
     "output_type": "stream",
     "text": [
      " 97% (4945 of 5082) |################### | Elapsed Time: 0:04:54 ETA:   0:00:10"
     ]
    },
    {
     "name": "stdout",
     "output_type": "stream",
     "text": [
      "25\n",
      "8\n",
      "25\n"
     ]
    },
    {
     "name": "stderr",
     "output_type": "stream",
     "text": [
      " 97% (4950 of 5082) |################### | Elapsed Time: 0:04:54 ETA:   0:00:09"
     ]
    },
    {
     "name": "stdout",
     "output_type": "stream",
     "text": [
      "17\n",
      "8\n",
      "4\n",
      "4\n",
      "15\n"
     ]
    },
    {
     "name": "stderr",
     "output_type": "stream",
     "text": [
      " 97% (4953 of 5082) |################### | Elapsed Time: 0:04:54 ETA:   0:00:10"
     ]
    },
    {
     "name": "stdout",
     "output_type": "stream",
     "text": [
      "24\n",
      "14\n",
      "16\n",
      "4\n",
      "7\n"
     ]
    },
    {
     "name": "stderr",
     "output_type": "stream",
     "text": [
      " 97% (4959 of 5082) |################### | Elapsed Time: 0:04:54 ETA:   0:00:08"
     ]
    },
    {
     "name": "stdout",
     "output_type": "stream",
     "text": [
      "15\n",
      "13\n",
      "5\n",
      "8\n",
      "10\n"
     ]
    },
    {
     "name": "stderr",
     "output_type": "stream",
     "text": [
      " 97% (4967 of 5082) |################### | Elapsed Time: 0:04:55 ETA:   0:00:07"
     ]
    },
    {
     "name": "stdout",
     "output_type": "stream",
     "text": [
      "9\n",
      "3\n",
      "12\n",
      "8\n",
      "5\n",
      "3\n",
      "10\n",
      "9\n",
      "7\n"
     ]
    },
    {
     "name": "stderr",
     "output_type": "stream",
     "text": [
      " 97% (4973 of 5082) |################### | Elapsed Time: 0:04:55 ETA:   0:00:05"
     ]
    },
    {
     "name": "stdout",
     "output_type": "stream",
     "text": [
      "7\n",
      "5\n",
      "10\n",
      "15\n",
      "12\n"
     ]
    },
    {
     "name": "stderr",
     "output_type": "stream",
     "text": [
      " 97% (4978 of 5082) |################### | Elapsed Time: 0:04:55 ETA:   0:00:05"
     ]
    },
    {
     "name": "stdout",
     "output_type": "stream",
     "text": [
      "12\n",
      "4\n",
      "13\n",
      "10\n",
      "4\n",
      "3\n"
     ]
    },
    {
     "name": "stderr",
     "output_type": "stream",
     "text": [
      " 98% (4983 of 5082) |################### | Elapsed Time: 0:04:55 ETA:   0:00:04"
     ]
    },
    {
     "name": "stdout",
     "output_type": "stream",
     "text": [
      "19\n",
      "8\n",
      "12\n",
      "8\n",
      "7\n",
      "3\n"
     ]
    },
    {
     "name": "stderr",
     "output_type": "stream",
     "text": [
      " 98% (4990 of 5082) |################### | Elapsed Time: 0:04:56 ETA:   0:00:04"
     ]
    },
    {
     "name": "stdout",
     "output_type": "stream",
     "text": [
      "4\n",
      "2\n",
      "12\n",
      "20\n",
      "21\n"
     ]
    },
    {
     "name": "stderr",
     "output_type": "stream",
     "text": [
      " 98% (4995 of 5082) |################### | Elapsed Time: 0:04:56 ETA:   0:00:04"
     ]
    },
    {
     "name": "stdout",
     "output_type": "stream",
     "text": [
      "23\n",
      "5\n",
      "10\n",
      "3\n",
      "15\n"
     ]
    },
    {
     "name": "stderr",
     "output_type": "stream",
     "text": [
      " 98% (5001 of 5082) |################### | Elapsed Time: 0:04:56 ETA:   0:00:03"
     ]
    },
    {
     "name": "stdout",
     "output_type": "stream",
     "text": [
      "8\n",
      "7\n",
      "7\n",
      "7\n",
      "16\n",
      "10\n"
     ]
    },
    {
     "name": "stderr",
     "output_type": "stream",
     "text": [
      " 98% (5004 of 5082) |################### | Elapsed Time: 0:04:57 ETA:   0:00:03"
     ]
    },
    {
     "name": "stdout",
     "output_type": "stream",
     "text": [
      "15\n",
      "25\n"
     ]
    },
    {
     "name": "stderr",
     "output_type": "stream",
     "text": [
      " 98% (5007 of 5082) |################### | Elapsed Time: 0:04:57 ETA:   0:00:03"
     ]
    },
    {
     "name": "stdout",
     "output_type": "stream",
     "text": [
      "24\n",
      "11\n",
      "7\n",
      "10\n",
      "4\n",
      "7\n"
     ]
    },
    {
     "name": "stderr",
     "output_type": "stream",
     "text": [
      " 98% (5014 of 5082) |################### | Elapsed Time: 0:04:57 ETA:   0:00:03"
     ]
    },
    {
     "name": "stdout",
     "output_type": "stream",
     "text": [
      "7\n",
      "3\n",
      "7\n",
      "19\n",
      "3\n",
      "17\n"
     ]
    },
    {
     "name": "stderr",
     "output_type": "stream",
     "text": [
      " 98% (5018 of 5082) |################### | Elapsed Time: 0:04:57 ETA:   0:00:03"
     ]
    },
    {
     "name": "stdout",
     "output_type": "stream",
     "text": [
      "11\n",
      "11\n",
      "9\n",
      "11\n"
     ]
    },
    {
     "name": "stderr",
     "output_type": "stream",
     "text": [
      " 98% (5026 of 5082) |################### | Elapsed Time: 0:04:58 ETA:   0:00:03"
     ]
    },
    {
     "name": "stdout",
     "output_type": "stream",
     "text": [
      "25\n",
      "9\n",
      "6\n",
      "2\n",
      "3\n",
      "10\n",
      "9\n"
     ]
    },
    {
     "name": "stderr",
     "output_type": "stream",
     "text": [
      " 99% (5032 of 5082) |################### | Elapsed Time: 0:04:58 ETA:   0:00:02"
     ]
    },
    {
     "name": "stdout",
     "output_type": "stream",
     "text": [
      "7\n",
      "9\n",
      "9\n",
      "7\n",
      "9\n",
      "6\n",
      "11\n",
      "6\n"
     ]
    },
    {
     "name": "stderr",
     "output_type": "stream",
     "text": [
      " 99% (5037 of 5082) |################### | Elapsed Time: 0:04:58 ETA:   0:00:02"
     ]
    },
    {
     "name": "stdout",
     "output_type": "stream",
     "text": [
      "8\n",
      "14\n",
      "21\n",
      "9\n"
     ]
    },
    {
     "name": "stderr",
     "output_type": "stream",
     "text": [
      " 99% (5041 of 5082) |################### | Elapsed Time: 0:04:58 ETA:   0:00:02"
     ]
    },
    {
     "name": "stdout",
     "output_type": "stream",
     "text": [
      "7\n",
      "25\n",
      "14\n"
     ]
    },
    {
     "name": "stderr",
     "output_type": "stream",
     "text": [
      " 99% (5046 of 5082) |################### | Elapsed Time: 0:04:59 ETA:   0:00:01"
     ]
    },
    {
     "name": "stdout",
     "output_type": "stream",
     "text": [
      "10\n",
      "5\n",
      "8\n",
      "14\n",
      "4\n",
      "7\n",
      "2\n",
      "4\n",
      "1\n",
      "2\n",
      "3\n"
     ]
    },
    {
     "name": "stderr",
     "output_type": "stream",
     "text": [
      " 99% (5056 of 5082) |################### | Elapsed Time: 0:04:59 ETA:   0:00:01"
     ]
    },
    {
     "name": "stdout",
     "output_type": "stream",
     "text": [
      "3\n",
      "3\n",
      "20\n",
      "11\n",
      "2\n",
      "1\n",
      "9\n"
     ]
    },
    {
     "name": "stderr",
     "output_type": "stream",
     "text": [
      " 99% (5063 of 5082) |################### | Elapsed Time: 0:04:59 ETA:   0:00:00"
     ]
    },
    {
     "name": "stdout",
     "output_type": "stream",
     "text": [
      "2\n",
      "2\n",
      "22\n",
      "11\n",
      "3\n"
     ]
    },
    {
     "name": "stderr",
     "output_type": "stream",
     "text": [
      " 99% (5070 of 5082) |################### | Elapsed Time: 0:04:59 ETA:   0:00:00"
     ]
    },
    {
     "name": "stdout",
     "output_type": "stream",
     "text": [
      "15\n",
      "8\n",
      "5\n",
      "7\n",
      "18\n",
      "4\n",
      "5\n"
     ]
    },
    {
     "name": "stderr",
     "output_type": "stream",
     "text": [
      " 99% (5077 of 5082) |################### | Elapsed Time: 0:05:00 ETA:   0:00:00"
     ]
    },
    {
     "name": "stdout",
     "output_type": "stream",
     "text": [
      "8\n",
      "5\n",
      "2\n",
      "14\n",
      "13\n"
     ]
    },
    {
     "name": "stderr",
     "output_type": "stream",
     "text": [
      "100% (5082 of 5082) |####################| Elapsed Time: 0:05:00 Time:  0:05:00\n"
     ]
    },
    {
     "name": "stdout",
     "output_type": "stream",
     "text": [
      "12\n",
      "4\n",
      "4\n",
      "3\n",
      "2\n"
     ]
    }
   ],
   "source": [
    "from transformers import *\n",
    "tokenizer = DistilBertTokenizer.from_pretrained('model', do_lower_case=True)\n",
    "train_input_ids, train_att_masks, train_labels = generate_np_files_for_training(train_set, tokenizer)"
   ]
  },
  {
   "cell_type": "code",
   "execution_count": 10,
   "metadata": {},
   "outputs": [],
   "source": [
    "# from transformers import *\n",
    "# tokenizer = DistilBertTokenizer.from_pretrained('model', do_lower_case=True)\n",
    "# test_input_ids, test_att_masks, test_labels = generate_np_files_for_training(test_set, tokenizer)"
   ]
  },
  {
   "cell_type": "code",
   "execution_count": 11,
   "metadata": {
    "colab": {},
    "colab_type": "code",
    "id": "EEjcx-nMzXd7"
   },
   "outputs": [],
   "source": [
    "def input_id_maker(dataf, tokenizer):\n",
    "    input_ids = []\n",
    "    lengths = []\n",
    "\n",
    "    for i in progressbar.progressbar(range(len(dataf['text']))):\n",
    "        sen = dataf['text'].iloc[i]\n",
    "        sen = tokenizer.tokenize(sen, add_prefix_space=True)\n",
    "        CLS = tokenizer.cls_token\n",
    "        SEP = tokenizer.sep_token\n",
    "        if(len(sen) > 510):\n",
    "            sen = sen[len(sen)-510:]\n",
    "\n",
    "    sen = sen + [SEP] + [CLS]\n",
    "    encoded_sent = tokenizer.convert_tokens_to_ids(sen)\n",
    "    input_ids.append(encoded_sent)\n",
    "    lengths.append(len(encoded_sent))\n",
    "\n",
    "    input_ids = pad_sequences(input_ids, maxlen=512, value=0, dtype=\"long\", truncating=\"pre\", padding=\"pre\")\n",
    "    return input_ids, lengths"
   ]
  },
  {
   "cell_type": "code",
   "execution_count": 12,
   "metadata": {
    "colab": {
     "base_uri": "https://localhost:8080/",
     "height": 34
    },
    "colab_type": "code",
    "id": "6b7hra5izaqT",
    "outputId": "d53e07bd-4335-4744-d643-0db83152aea9"
   },
   "outputs": [
    {
     "name": "stderr",
     "output_type": "stream",
     "text": [
      "  0% (5 of 1517) |                       | Elapsed Time: 0:00:00 ETA:   0:01:01"
     ]
    },
    {
     "name": "stdout",
     "output_type": "stream",
     "text": [
      "8\n",
      "5\n",
      "9\n",
      "12\n",
      "12\n",
      "13\n"
     ]
    },
    {
     "name": "stderr",
     "output_type": "stream",
     "text": [
      "\r",
      "  0% (7 of 1517) |                       | Elapsed Time: 0:00:00 ETA:   0:01:09"
     ]
    },
    {
     "name": "stdout",
     "output_type": "stream",
     "text": [
      "11\n",
      "7\n"
     ]
    },
    {
     "name": "stderr",
     "output_type": "stream",
     "text": [
      "\r",
      "  0% (9 of 1517) |                       | Elapsed Time: 0:00:00 ETA:   0:01:52"
     ]
    },
    {
     "name": "stdout",
     "output_type": "stream",
     "text": [
      "25\n",
      "17\n",
      "25\n"
     ]
    },
    {
     "name": "stderr",
     "output_type": "stream",
     "text": [
      "  0% (15 of 1517) |                      | Elapsed Time: 0:00:00 ETA:   0:01:38"
     ]
    },
    {
     "name": "stdout",
     "output_type": "stream",
     "text": [
      "3\n",
      "4\n",
      "8\n",
      "11\n",
      "6\n",
      "10\n"
     ]
    },
    {
     "name": "stderr",
     "output_type": "stream",
     "text": [
      "  1% (20 of 1517) |                      | Elapsed Time: 0:00:01 ETA:   0:01:34"
     ]
    },
    {
     "name": "stdout",
     "output_type": "stream",
     "text": [
      "15\n",
      "14\n",
      "15\n"
     ]
    },
    {
     "name": "stderr",
     "output_type": "stream",
     "text": [
      "  1% (24 of 1517) |                      | Elapsed Time: 0:00:01 ETA:   0:01:32"
     ]
    },
    {
     "name": "stdout",
     "output_type": "stream",
     "text": [
      "14\n",
      "9\n",
      "4\n",
      "22\n"
     ]
    },
    {
     "name": "stderr",
     "output_type": "stream",
     "text": [
      "  1% (27 of 1517) |                      | Elapsed Time: 0:00:01 ETA:   0:01:46"
     ]
    },
    {
     "name": "stdout",
     "output_type": "stream",
     "text": [
      "25\n",
      "7\n",
      "14\n"
     ]
    },
    {
     "name": "stderr",
     "output_type": "stream",
     "text": [
      "  1% (30 of 1517) |                      | Elapsed Time: 0:00:02 ETA:   0:02:03"
     ]
    },
    {
     "name": "stdout",
     "output_type": "stream",
     "text": [
      "25\n",
      "14\n",
      "13\n"
     ]
    },
    {
     "name": "stderr",
     "output_type": "stream",
     "text": [
      "  2% (33 of 1517) |                      | Elapsed Time: 0:00:02 ETA:   0:02:04"
     ]
    },
    {
     "name": "stdout",
     "output_type": "stream",
     "text": [
      "25\n",
      "17\n",
      "11\n",
      "3\n",
      "10\n"
     ]
    },
    {
     "name": "stderr",
     "output_type": "stream",
     "text": [
      "  2% (39 of 1517) |                      | Elapsed Time: 0:00:02 ETA:   0:01:50"
     ]
    },
    {
     "name": "stdout",
     "output_type": "stream",
     "text": [
      "13\n",
      "9\n",
      "12\n",
      "14\n",
      "6\n",
      "15\n"
     ]
    },
    {
     "name": "stderr",
     "output_type": "stream",
     "text": [
      "  2% (44 of 1517) |                      | Elapsed Time: 0:00:03 ETA:   0:02:01"
     ]
    },
    {
     "name": "stdout",
     "output_type": "stream",
     "text": [
      "18\n",
      "9\n",
      "13\n"
     ]
    },
    {
     "name": "stderr",
     "output_type": "stream",
     "text": [
      "  3% (50 of 1517) |                      | Elapsed Time: 0:00:03 ETA:   0:01:55"
     ]
    },
    {
     "name": "stdout",
     "output_type": "stream",
     "text": [
      "15\n",
      "17\n",
      "7\n",
      "4\n",
      "8\n",
      "12\n"
     ]
    },
    {
     "name": "stderr",
     "output_type": "stream",
     "text": [
      "  3% (55 of 1517) |                      | Elapsed Time: 0:00:03 ETA:   0:01:38"
     ]
    },
    {
     "name": "stdout",
     "output_type": "stream",
     "text": [
      "7\n",
      "5\n",
      "17\n",
      "5\n",
      "25\n"
     ]
    },
    {
     "name": "stderr",
     "output_type": "stream",
     "text": [
      "  4% (61 of 1517) |                      | Elapsed Time: 0:00:04 ETA:   0:01:33"
     ]
    },
    {
     "name": "stdout",
     "output_type": "stream",
     "text": [
      "5\n",
      "13\n",
      "10\n",
      "9\n",
      "11\n",
      "16\n",
      "7\n",
      "8\n"
     ]
    },
    {
     "name": "stderr",
     "output_type": "stream",
     "text": [
      "  4% (66 of 1517) |                      | Elapsed Time: 0:00:04 ETA:   0:01:25"
     ]
    },
    {
     "name": "stdout",
     "output_type": "stream",
     "text": [
      "15\n",
      "18\n",
      "14\n"
     ]
    },
    {
     "name": "stderr",
     "output_type": "stream",
     "text": [
      "  4% (68 of 1517) |                      | Elapsed Time: 0:00:04 ETA:   0:01:23"
     ]
    },
    {
     "name": "stdout",
     "output_type": "stream",
     "text": [
      "25\n",
      "25\n"
     ]
    },
    {
     "name": "stderr",
     "output_type": "stream",
     "text": [
      "  4% (73 of 1517) |#                     | Elapsed Time: 0:00:05 ETA:   0:01:28"
     ]
    },
    {
     "name": "stdout",
     "output_type": "stream",
     "text": [
      "14\n",
      "1\n",
      "25\n",
      "16\n",
      "17\n"
     ]
    },
    {
     "name": "stderr",
     "output_type": "stream",
     "text": [
      "\r",
      "  5% (76 of 1517) |#                     | Elapsed Time: 0:00:05 ETA:   0:01:28"
     ]
    },
    {
     "name": "stdout",
     "output_type": "stream",
     "text": [
      "6\n",
      "4\n",
      "25\n",
      "5\n",
      "7\n",
      "14\n"
     ]
    },
    {
     "name": "stderr",
     "output_type": "stream",
     "text": [
      "  5% (84 of 1517) |#                     | Elapsed Time: 0:00:05 ETA:   0:01:25"
     ]
    },
    {
     "name": "stdout",
     "output_type": "stream",
     "text": [
      "11\n",
      "9\n",
      "3\n",
      "15\n",
      "14\n",
      "8\n"
     ]
    },
    {
     "name": "stderr",
     "output_type": "stream",
     "text": [
      "\r",
      "  5% (87 of 1517) |#                     | Elapsed Time: 0:00:05 ETA:   0:01:24"
     ]
    },
    {
     "name": "stdout",
     "output_type": "stream",
     "text": [
      "9\n",
      "9\n",
      "18\n",
      "23\n"
     ]
    },
    {
     "name": "stderr",
     "output_type": "stream",
     "text": [
      "  5% (91 of 1517) |#                     | Elapsed Time: 0:00:06 ETA:   0:01:29"
     ]
    },
    {
     "name": "stdout",
     "output_type": "stream",
     "text": [
      "9\n",
      "24\n",
      "18\n"
     ]
    },
    {
     "name": "stderr",
     "output_type": "stream",
     "text": [
      "  6% (97 of 1517) |#                     | Elapsed Time: 0:00:06 ETA:   0:01:27"
     ]
    },
    {
     "name": "stdout",
     "output_type": "stream",
     "text": [
      "6\n",
      "6\n",
      "5\n",
      "8\n",
      "13\n",
      "6\n",
      "4\n"
     ]
    },
    {
     "name": "stderr",
     "output_type": "stream",
     "text": [
      "  6% (103 of 1517) |#                    | Elapsed Time: 0:00:06 ETA:   0:01:21"
     ]
    },
    {
     "name": "stdout",
     "output_type": "stream",
     "text": [
      "8\n",
      "13\n",
      "12\n",
      "13\n"
     ]
    },
    {
     "name": "stderr",
     "output_type": "stream",
     "text": [
      "  6% (106 of 1517) |#                    | Elapsed Time: 0:00:06 ETA:   0:01:18"
     ]
    },
    {
     "name": "stdout",
     "output_type": "stream",
     "text": [
      "16\n",
      "20\n",
      "24\n",
      "12\n"
     ]
    },
    {
     "name": "stderr",
     "output_type": "stream",
     "text": [
      "  7% (109 of 1517) |#                    | Elapsed Time: 0:00:07 ETA:   0:01:19"
     ]
    },
    {
     "name": "stdout",
     "output_type": "stream",
     "text": [
      "13\n",
      "25\n",
      "15\n",
      "25\n"
     ]
    },
    {
     "name": "stderr",
     "output_type": "stream",
     "text": [
      "  7% (114 of 1517) |#                    | Elapsed Time: 0:00:07 ETA:   0:01:29"
     ]
    },
    {
     "name": "stdout",
     "output_type": "stream",
     "text": [
      "5\n",
      "16\n",
      "6\n",
      "6\n",
      "21\n"
     ]
    },
    {
     "name": "stderr",
     "output_type": "stream",
     "text": [
      "\r",
      "  7% (116 of 1517) |#                    | Elapsed Time: 0:00:07 ETA:   0:01:29"
     ]
    },
    {
     "name": "stdout",
     "output_type": "stream",
     "text": [
      "10\n"
     ]
    },
    {
     "name": "stderr",
     "output_type": "stream",
     "text": [
      "  7% (120 of 1517) |#                    | Elapsed Time: 0:00:08 ETA:   0:01:40"
     ]
    },
    {
     "name": "stdout",
     "output_type": "stream",
     "text": [
      "25\n",
      "14\n",
      "19\n",
      "17\n"
     ]
    },
    {
     "name": "stderr",
     "output_type": "stream",
     "text": [
      "  8% (124 of 1517) |#                    | Elapsed Time: 0:00:08 ETA:   0:01:48"
     ]
    },
    {
     "name": "stdout",
     "output_type": "stream",
     "text": [
      "8\n",
      "11\n",
      "22\n"
     ]
    },
    {
     "name": "stderr",
     "output_type": "stream",
     "text": [
      "  8% (127 of 1517) |#                    | Elapsed Time: 0:00:08 ETA:   0:01:59"
     ]
    },
    {
     "name": "stdout",
     "output_type": "stream",
     "text": [
      "22\n",
      "5\n",
      "22\n",
      "9\n"
     ]
    },
    {
     "name": "stderr",
     "output_type": "stream",
     "text": [
      "  8% (133 of 1517) |#                    | Elapsed Time: 0:00:08 ETA:   0:01:50"
     ]
    },
    {
     "name": "stdout",
     "output_type": "stream",
     "text": [
      "7\n",
      "13\n",
      "3\n",
      "8\n",
      "19\n"
     ]
    },
    {
     "name": "stderr",
     "output_type": "stream",
     "text": [
      "  9% (137 of 1517) |#                    | Elapsed Time: 0:00:09 ETA:   0:01:43"
     ]
    },
    {
     "name": "stdout",
     "output_type": "stream",
     "text": [
      "13\n",
      "7\n",
      "12\n",
      "20\n"
     ]
    },
    {
     "name": "stderr",
     "output_type": "stream",
     "text": [
      "  9% (141 of 1517) |#                    | Elapsed Time: 0:00:09 ETA:   0:01:32"
     ]
    },
    {
     "name": "stdout",
     "output_type": "stream",
     "text": [
      "10\n",
      "10\n",
      "4\n",
      "19\n",
      "8\n",
      "12\n"
     ]
    },
    {
     "name": "stderr",
     "output_type": "stream",
     "text": [
      "\r",
      "  9% (144 of 1517) |#                    | Elapsed Time: 0:00:09 ETA:   0:01:44"
     ]
    },
    {
     "name": "stdout",
     "output_type": "stream",
     "text": [
      "25\n",
      "12\n"
     ]
    },
    {
     "name": "stderr",
     "output_type": "stream",
     "text": [
      "  9% (148 of 1517) |##                   | Elapsed Time: 0:00:10 ETA:   0:01:41"
     ]
    },
    {
     "name": "stdout",
     "output_type": "stream",
     "text": [
      "25\n",
      "14\n",
      "12\n"
     ]
    },
    {
     "name": "stderr",
     "output_type": "stream",
     "text": [
      " 10% (153 of 1517) |##                   | Elapsed Time: 0:00:10 ETA:   0:01:36"
     ]
    },
    {
     "name": "stdout",
     "output_type": "stream",
     "text": [
      "20\n",
      "6\n",
      "9\n",
      "9\n",
      "8\n"
     ]
    },
    {
     "name": "stderr",
     "output_type": "stream",
     "text": [
      " 10% (159 of 1517) |##                   | Elapsed Time: 0:00:10 ETA:   0:01:28"
     ]
    },
    {
     "name": "stdout",
     "output_type": "stream",
     "text": [
      "25\n",
      "3\n",
      "3\n",
      "7\n",
      "6\n",
      "6\n",
      "3\n",
      "14\n"
     ]
    },
    {
     "name": "stderr",
     "output_type": "stream",
     "text": [
      " 10% (163 of 1517) |##                   | Elapsed Time: 0:00:11 ETA:   0:01:35"
     ]
    },
    {
     "name": "stdout",
     "output_type": "stream",
     "text": [
      "12\n",
      "25\n"
     ]
    },
    {
     "name": "stderr",
     "output_type": "stream",
     "text": [
      "\r",
      " 10% (166 of 1517) |##                   | Elapsed Time: 0:00:11 ETA:   0:01:30"
     ]
    },
    {
     "name": "stdout",
     "output_type": "stream",
     "text": [
      "4\n",
      "7\n",
      "9\n",
      "4\n",
      "5\n"
     ]
    },
    {
     "name": "stderr",
     "output_type": "stream",
     "text": [
      " 11% (172 of 1517) |##                   | Elapsed Time: 0:00:11 ETA:   0:01:28"
     ]
    },
    {
     "name": "stdout",
     "output_type": "stream",
     "text": [
      "25\n",
      "13\n",
      "3\n",
      "12\n",
      "10\n"
     ]
    },
    {
     "name": "stderr",
     "output_type": "stream",
     "text": [
      " 11% (176 of 1517) |##                   | Elapsed Time: 0:00:11 ETA:   0:01:24"
     ]
    },
    {
     "name": "stdout",
     "output_type": "stream",
     "text": [
      "9\n",
      "5\n",
      "21\n",
      "9\n",
      "6\n",
      "7\n"
     ]
    },
    {
     "name": "stderr",
     "output_type": "stream",
     "text": [
      " 12% (185 of 1517) |##                   | Elapsed Time: 0:00:11 ETA:   0:01:11"
     ]
    },
    {
     "name": "stdout",
     "output_type": "stream",
     "text": [
      "7\n",
      "9\n",
      "7\n",
      "9\n",
      "8\n",
      "6\n"
     ]
    },
    {
     "name": "stderr",
     "output_type": "stream",
     "text": [
      " 12% (189 of 1517) |##                   | Elapsed Time: 0:00:12 ETA:   0:01:05"
     ]
    },
    {
     "name": "stdout",
     "output_type": "stream",
     "text": [
      "13\n",
      "7\n",
      "9\n",
      "19\n",
      "19\n"
     ]
    },
    {
     "name": "stderr",
     "output_type": "stream",
     "text": [
      " 12% (193 of 1517) |##                   | Elapsed Time: 0:00:12 ETA:   0:01:04"
     ]
    },
    {
     "name": "stdout",
     "output_type": "stream",
     "text": [
      "6\n",
      "9\n",
      "13\n",
      "7\n",
      "22\n"
     ]
    },
    {
     "name": "stderr",
     "output_type": "stream",
     "text": [
      " 13% (199 of 1517) |##                   | Elapsed Time: 0:00:12 ETA:   0:01:09"
     ]
    },
    {
     "name": "stdout",
     "output_type": "stream",
     "text": [
      "7\n",
      "16\n",
      "18\n",
      "7\n"
     ]
    },
    {
     "name": "stderr",
     "output_type": "stream",
     "text": [
      "\r",
      " 13% (202 of 1517) |##                   | Elapsed Time: 0:00:12 ETA:   0:01:09"
     ]
    },
    {
     "name": "stdout",
     "output_type": "stream",
     "text": [
      "6\n",
      "9\n",
      "8\n",
      "9\n"
     ]
    },
    {
     "name": "stderr",
     "output_type": "stream",
     "text": [
      "\r",
      " 13% (204 of 1517) |##                   | Elapsed Time: 0:00:13 ETA:   0:01:10"
     ]
    },
    {
     "name": "stdout",
     "output_type": "stream",
     "text": [
      "25\n",
      "10\n"
     ]
    },
    {
     "name": "stderr",
     "output_type": "stream",
     "text": [
      " 13% (208 of 1517) |##                   | Elapsed Time: 0:00:13 ETA:   0:01:18"
     ]
    },
    {
     "name": "stdout",
     "output_type": "stream",
     "text": [
      "25\n",
      "11\n",
      "12\n",
      "3\n",
      "6\n"
     ]
    },
    {
     "name": "stderr",
     "output_type": "stream",
     "text": [
      "\r",
      " 13% (211 of 1517) |##                   | Elapsed Time: 0:00:13 ETA:   0:01:18"
     ]
    },
    {
     "name": "stdout",
     "output_type": "stream",
     "text": [
      "13\n",
      "7\n"
     ]
    },
    {
     "name": "stderr",
     "output_type": "stream",
     "text": [
      " 14% (216 of 1517) |##                   | Elapsed Time: 0:00:14 ETA:   0:01:43"
     ]
    },
    {
     "name": "stdout",
     "output_type": "stream",
     "text": [
      "25\n",
      "5\n",
      "11\n",
      "9\n",
      "12\n",
      "9\n"
     ]
    },
    {
     "name": "stderr",
     "output_type": "stream",
     "text": [
      " 14% (223 of 1517) |###                  | Elapsed Time: 0:00:14 ETA:   0:01:40"
     ]
    },
    {
     "name": "stdout",
     "output_type": "stream",
     "text": [
      "7\n",
      "4\n",
      "2\n",
      "4\n",
      "25\n"
     ]
    },
    {
     "name": "stderr",
     "output_type": "stream",
     "text": [
      " 15% (230 of 1517) |###                  | Elapsed Time: 0:00:14 ETA:   0:01:32"
     ]
    },
    {
     "name": "stdout",
     "output_type": "stream",
     "text": [
      "3\n",
      "7\n",
      "3\n",
      "13\n",
      "8\n",
      "8\n",
      "7\n"
     ]
    },
    {
     "name": "stderr",
     "output_type": "stream",
     "text": [
      "\r",
      " 15% (233 of 1517) |###                  | Elapsed Time: 0:00:15 ETA:   0:01:31"
     ]
    },
    {
     "name": "stdout",
     "output_type": "stream",
     "text": [
      "6\n",
      "12\n",
      "25\n",
      "10\n"
     ]
    },
    {
     "name": "stderr",
     "output_type": "stream",
     "text": [
      " 15% (239 of 1517) |###                  | Elapsed Time: 0:00:15 ETA:   0:01:22"
     ]
    },
    {
     "name": "stdout",
     "output_type": "stream",
     "text": [
      "5\n",
      "11\n",
      "10\n",
      "7\n",
      "21\n"
     ]
    },
    {
     "name": "stderr",
     "output_type": "stream",
     "text": [
      " 16% (243 of 1517) |###                  | Elapsed Time: 0:00:15 ETA:   0:01:19"
     ]
    },
    {
     "name": "stdout",
     "output_type": "stream",
     "text": [
      "9\n",
      "21\n",
      "4\n",
      "19\n"
     ]
    },
    {
     "name": "stderr",
     "output_type": "stream",
     "text": [
      " 16% (248 of 1517) |###                  | Elapsed Time: 0:00:15 ETA:   0:01:18"
     ]
    },
    {
     "name": "stdout",
     "output_type": "stream",
     "text": [
      "12\n",
      "5\n",
      "3\n",
      "7\n",
      "25\n"
     ]
    },
    {
     "name": "stderr",
     "output_type": "stream",
     "text": [
      " 16% (253 of 1517) |###                  | Elapsed Time: 0:00:16 ETA:   0:01:14"
     ]
    },
    {
     "name": "stdout",
     "output_type": "stream",
     "text": [
      "7\n",
      "4\n",
      "7\n",
      "9\n",
      "9\n",
      "9\n"
     ]
    },
    {
     "name": "stderr",
     "output_type": "stream",
     "text": [
      " 17% (258 of 1517) |###                  | Elapsed Time: 0:00:16 ETA:   0:01:04"
     ]
    },
    {
     "name": "stdout",
     "output_type": "stream",
     "text": [
      "25\n",
      "8\n",
      "7\n",
      "24\n",
      "7\n"
     ]
    },
    {
     "name": "stderr",
     "output_type": "stream",
     "text": [
      " 17% (264 of 1517) |###                  | Elapsed Time: 0:00:16 ETA:   0:01:02"
     ]
    },
    {
     "name": "stdout",
     "output_type": "stream",
     "text": [
      "6\n",
      "11\n",
      "11\n",
      "3\n",
      "15\n",
      "9\n"
     ]
    },
    {
     "name": "stderr",
     "output_type": "stream",
     "text": [
      " 17% (269 of 1517) |###                  | Elapsed Time: 0:00:17 ETA:   0:01:07"
     ]
    },
    {
     "name": "stdout",
     "output_type": "stream",
     "text": [
      "25\n",
      "9\n",
      "11\n",
      "8\n",
      "8\n",
      "11\n"
     ]
    },
    {
     "name": "stderr",
     "output_type": "stream",
     "text": [
      " 18% (274 of 1517) |###                  | Elapsed Time: 0:00:17 ETA:   0:01:07"
     ]
    },
    {
     "name": "stdout",
     "output_type": "stream",
     "text": [
      "14\n",
      "11\n",
      "14\n",
      "12\n"
     ]
    },
    {
     "name": "stderr",
     "output_type": "stream",
     "text": [
      " 18% (278 of 1517) |###                  | Elapsed Time: 0:00:17 ETA:   0:01:08"
     ]
    },
    {
     "name": "stdout",
     "output_type": "stream",
     "text": [
      "25\n",
      "14\n",
      "5\n"
     ]
    },
    {
     "name": "stderr",
     "output_type": "stream",
     "text": [
      "\r",
      " 18% (279 of 1517) |###                  | Elapsed Time: 0:00:17 ETA:   0:01:11"
     ]
    },
    {
     "name": "stdout",
     "output_type": "stream",
     "text": [
      "25\n",
      "7\n",
      "14\n"
     ]
    },
    {
     "name": "stderr",
     "output_type": "stream",
     "text": [
      " 18% (285 of 1517) |###                  | Elapsed Time: 0:00:18 ETA:   0:01:18"
     ]
    },
    {
     "name": "stdout",
     "output_type": "stream",
     "text": [
      "25\n",
      "4\n",
      "11\n",
      "8\n",
      "8\n",
      "11\n"
     ]
    },
    {
     "name": "stderr",
     "output_type": "stream",
     "text": [
      " 19% (291 of 1517) |####                 | Elapsed Time: 0:00:18 ETA:   0:01:13"
     ]
    },
    {
     "name": "stdout",
     "output_type": "stream",
     "text": [
      "22\n",
      "9\n",
      "6\n",
      "9\n"
     ]
    },
    {
     "name": "stderr",
     "output_type": "stream",
     "text": [
      "\r",
      " 19% (292 of 1517) |####                 | Elapsed Time: 0:00:18 ETA:   0:01:19"
     ]
    },
    {
     "name": "stdout",
     "output_type": "stream",
     "text": [
      "25\n"
     ]
    },
    {
     "name": "stderr",
     "output_type": "stream",
     "text": [
      " 19% (296 of 1517) |####                 | Elapsed Time: 0:00:19 ETA:   0:01:34"
     ]
    },
    {
     "name": "stdout",
     "output_type": "stream",
     "text": [
      "25\n",
      "4\n",
      "6\n",
      "16\n"
     ]
    },
    {
     "name": "stderr",
     "output_type": "stream",
     "text": [
      "\r",
      " 19% (298 of 1517) |####                 | Elapsed Time: 0:00:19 ETA:   0:01:43"
     ]
    },
    {
     "name": "stdout",
     "output_type": "stream",
     "text": [
      "16\n",
      "25\n",
      "7\n",
      "11\n",
      "12\n"
     ]
    },
    {
     "name": "stderr",
     "output_type": "stream",
     "text": [
      " 19% (303 of 1517) |####                 | Elapsed Time: 0:00:19 ETA:   0:01:37"
     ]
    },
    {
     "name": "stdout",
     "output_type": "stream",
     "text": [
      "6\n",
      "20\n",
      "9\n",
      "10\n"
     ]
    },
    {
     "name": "stderr",
     "output_type": "stream",
     "text": [
      " 20% (311 of 1517) |####                 | Elapsed Time: 0:00:19 ETA:   0:01:20"
     ]
    },
    {
     "name": "stdout",
     "output_type": "stream",
     "text": [
      "11\n",
      "6\n",
      "7\n",
      "5\n",
      "5\n",
      "14\n"
     ]
    },
    {
     "name": "stderr",
     "output_type": "stream",
     "text": [
      " 20% (314 of 1517) |####                 | Elapsed Time: 0:00:20 ETA:   0:01:17"
     ]
    },
    {
     "name": "stdout",
     "output_type": "stream",
     "text": [
      "21\n",
      "14\n",
      "10\n",
      "8\n",
      "8\n",
      "9\n"
     ]
    },
    {
     "name": "stderr",
     "output_type": "stream",
     "text": [
      " 21% (319 of 1517) |####                 | Elapsed Time: 0:00:20 ETA:   0:01:25"
     ]
    },
    {
     "name": "stdout",
     "output_type": "stream",
     "text": [
      "18\n",
      "25\n",
      "8\n"
     ]
    },
    {
     "name": "stderr",
     "output_type": "stream",
     "text": [
      " 21% (324 of 1517) |####                 | Elapsed Time: 0:00:20 ETA:   0:01:19"
     ]
    },
    {
     "name": "stdout",
     "output_type": "stream",
     "text": [
      "21\n",
      "6\n",
      "10\n",
      "10\n"
     ]
    },
    {
     "name": "stderr",
     "output_type": "stream",
     "text": [
      "\r",
      " 21% (326 of 1517) |####                 | Elapsed Time: 0:00:20 ETA:   0:01:20"
     ]
    },
    {
     "name": "stdout",
     "output_type": "stream",
     "text": [
      "16\n",
      "19\n",
      "8\n"
     ]
    },
    {
     "name": "stderr",
     "output_type": "stream",
     "text": [
      " 21% (331 of 1517) |####                 | Elapsed Time: 0:00:21 ETA:   0:01:12"
     ]
    },
    {
     "name": "stdout",
     "output_type": "stream",
     "text": [
      "25\n",
      "7\n",
      "6\n",
      "21\n",
      "8\n"
     ]
    },
    {
     "name": "stderr",
     "output_type": "stream",
     "text": [
      " 22% (337 of 1517) |####                 | Elapsed Time: 0:00:21 ETA:   0:01:09"
     ]
    },
    {
     "name": "stdout",
     "output_type": "stream",
     "text": [
      "7\n",
      "5\n",
      "12\n",
      "17\n",
      "18\n"
     ]
    },
    {
     "name": "stderr",
     "output_type": "stream",
     "text": [
      " 22% (340 of 1517) |####                 | Elapsed Time: 0:00:21 ETA:   0:01:13"
     ]
    },
    {
     "name": "stdout",
     "output_type": "stream",
     "text": [
      "22\n",
      "6\n",
      "21\n",
      "7\n",
      "1\n",
      "4\n"
     ]
    },
    {
     "name": "stderr",
     "output_type": "stream",
     "text": [
      " 23% (349 of 1517) |####                 | Elapsed Time: 0:00:22 ETA:   0:01:07"
     ]
    },
    {
     "name": "stdout",
     "output_type": "stream",
     "text": [
      "13\n",
      "6\n",
      "5\n",
      "13\n",
      "8\n",
      "5\n",
      "3\n"
     ]
    },
    {
     "name": "stderr",
     "output_type": "stream",
     "text": [
      "\r",
      " 23% (351 of 1517) |####                 | Elapsed Time: 0:00:22 ETA:   0:01:09"
     ]
    },
    {
     "name": "stdout",
     "output_type": "stream",
     "text": [
      "17\n",
      "5\n",
      "9\n",
      "25\n"
     ]
    },
    {
     "name": "stderr",
     "output_type": "stream",
     "text": [
      " 23% (357 of 1517) |####                 | Elapsed Time: 0:00:22 ETA:   0:01:03"
     ]
    },
    {
     "name": "stdout",
     "output_type": "stream",
     "text": [
      "7\n",
      "11\n",
      "8\n",
      "12\n"
     ]
    },
    {
     "name": "stderr",
     "output_type": "stream",
     "text": [
      " 23% (363 of 1517) |#####                | Elapsed Time: 0:00:22 ETA:   0:01:03"
     ]
    },
    {
     "name": "stdout",
     "output_type": "stream",
     "text": [
      "25\n",
      "5\n",
      "8\n",
      "8\n",
      "3\n",
      "19\n"
     ]
    },
    {
     "name": "stderr",
     "output_type": "stream",
     "text": [
      "\r",
      " 24% (365 of 1517) |#####                | Elapsed Time: 0:00:23 ETA:   0:01:04"
     ]
    },
    {
     "name": "stdout",
     "output_type": "stream",
     "text": [
      "12\n",
      "12\n"
     ]
    },
    {
     "name": "stderr",
     "output_type": "stream",
     "text": [
      " 24% (370 of 1517) |#####                | Elapsed Time: 0:00:23 ETA:   0:01:07"
     ]
    },
    {
     "name": "stdout",
     "output_type": "stream",
     "text": [
      "25\n",
      "16\n",
      "4\n",
      "10\n"
     ]
    },
    {
     "name": "stderr",
     "output_type": "stream",
     "text": [
      "\r",
      " 24% (372 of 1517) |#####                | Elapsed Time: 0:00:23 ETA:   0:01:06"
     ]
    },
    {
     "name": "stdout",
     "output_type": "stream",
     "text": [
      "20\n",
      "7\n",
      "25\n"
     ]
    },
    {
     "name": "stderr",
     "output_type": "stream",
     "text": [
      " 24% (377 of 1517) |#####                | Elapsed Time: 0:00:24 ETA:   0:01:13"
     ]
    },
    {
     "name": "stdout",
     "output_type": "stream",
     "text": [
      "25\n",
      "3\n",
      "17\n",
      "6\n",
      "5\n",
      "7\n",
      "6\n"
     ]
    },
    {
     "name": "stderr",
     "output_type": "stream",
     "text": [
      " 25% (384 of 1517) |#####                | Elapsed Time: 0:00:24 ETA:   0:01:09"
     ]
    },
    {
     "name": "stdout",
     "output_type": "stream",
     "text": [
      "5\n",
      "9\n",
      "12\n",
      "5\n",
      "3\n",
      "10\n"
     ]
    },
    {
     "name": "stderr",
     "output_type": "stream",
     "text": [
      " 25% (391 of 1517) |#####                | Elapsed Time: 0:00:24 ETA:   0:01:06"
     ]
    },
    {
     "name": "stdout",
     "output_type": "stream",
     "text": [
      "17\n",
      "5\n",
      "4\n",
      "5\n",
      "18\n",
      "3\n"
     ]
    },
    {
     "name": "stderr",
     "output_type": "stream",
     "text": [
      " 26% (396 of 1517) |#####                | Elapsed Time: 0:00:24 ETA:   0:01:04"
     ]
    },
    {
     "name": "stdout",
     "output_type": "stream",
     "text": [
      "8\n",
      "12\n",
      "10\n",
      "20\n"
     ]
    },
    {
     "name": "stderr",
     "output_type": "stream",
     "text": [
      "\r",
      " 26% (399 of 1517) |#####                | Elapsed Time: 0:00:24 ETA:   0:00:58"
     ]
    },
    {
     "name": "stdout",
     "output_type": "stream",
     "text": [
      "11\n",
      "5\n",
      "10\n",
      "2\n",
      "11\n"
     ]
    },
    {
     "name": "stderr",
     "output_type": "stream",
     "text": [
      " 26% (404 of 1517) |#####                | Elapsed Time: 0:00:25 ETA:   0:01:01"
     ]
    },
    {
     "name": "stdout",
     "output_type": "stream",
     "text": [
      "25\n",
      "9\n",
      "16\n",
      "16\n",
      "7\n"
     ]
    },
    {
     "name": "stderr",
     "output_type": "stream",
     "text": [
      " 26% (408 of 1517) |#####                | Elapsed Time: 0:00:25 ETA:   0:00:58"
     ]
    },
    {
     "name": "stdout",
     "output_type": "stream",
     "text": [
      "8\n",
      "25\n",
      "7\n",
      "5\n",
      "7\n"
     ]
    },
    {
     "name": "stderr",
     "output_type": "stream",
     "text": [
      " 27% (416 of 1517) |#####                | Elapsed Time: 0:00:25 ETA:   0:00:53"
     ]
    },
    {
     "name": "stdout",
     "output_type": "stream",
     "text": [
      "9\n",
      "5\n",
      "9\n",
      "5\n",
      "12\n",
      "2\n"
     ]
    },
    {
     "name": "stderr",
     "output_type": "stream",
     "text": [
      "\r",
      " 27% (418 of 1517) |#####                | Elapsed Time: 0:00:25 ETA:   0:00:51"
     ]
    },
    {
     "name": "stdout",
     "output_type": "stream",
     "text": [
      "25\n",
      "5\n"
     ]
    },
    {
     "name": "stderr",
     "output_type": "stream",
     "text": [
      " 27% (421 of 1517) |#####                | Elapsed Time: 0:00:26 ETA:   0:00:56"
     ]
    },
    {
     "name": "stdout",
     "output_type": "stream",
     "text": [
      "25\n",
      "25\n",
      "4\n",
      "1\n"
     ]
    },
    {
     "name": "stderr",
     "output_type": "stream",
     "text": [
      " 28% (428 of 1517) |#####                | Elapsed Time: 0:00:26 ETA:   0:00:55"
     ]
    },
    {
     "name": "stdout",
     "output_type": "stream",
     "text": [
      "25\n",
      "6\n",
      "10\n",
      "5\n",
      "2\n",
      "7\n"
     ]
    },
    {
     "name": "stderr",
     "output_type": "stream",
     "text": [
      " 28% (432 of 1517) |#####                | Elapsed Time: 0:00:26 ETA:   0:01:00"
     ]
    },
    {
     "name": "stdout",
     "output_type": "stream",
     "text": [
      "25\n",
      "7\n",
      "22\n",
      "11\n"
     ]
    },
    {
     "name": "stderr",
     "output_type": "stream",
     "text": [
      " 28% (437 of 1517) |######               | Elapsed Time: 0:00:27 ETA:   0:01:01"
     ]
    },
    {
     "name": "stdout",
     "output_type": "stream",
     "text": [
      "15\n",
      "10\n",
      "8\n",
      "11\n",
      "10\n",
      "9\n"
     ]
    },
    {
     "name": "stderr",
     "output_type": "stream",
     "text": [
      " 29% (444 of 1517) |######               | Elapsed Time: 0:00:27 ETA:   0:00:57"
     ]
    },
    {
     "name": "stdout",
     "output_type": "stream",
     "text": [
      "2\n",
      "19\n",
      "10\n",
      "9\n",
      "11\n",
      "1\n",
      "7\n"
     ]
    },
    {
     "name": "stderr",
     "output_type": "stream",
     "text": [
      " 29% (450 of 1517) |######               | Elapsed Time: 0:00:27 ETA:   0:00:56"
     ]
    },
    {
     "name": "stdout",
     "output_type": "stream",
     "text": [
      "11\n",
      "4\n",
      "14\n",
      "15\n"
     ]
    },
    {
     "name": "stderr",
     "output_type": "stream",
     "text": [
      " 29% (454 of 1517) |######               | Elapsed Time: 0:00:27 ETA:   0:00:58"
     ]
    },
    {
     "name": "stdout",
     "output_type": "stream",
     "text": [
      "17\n",
      "11\n",
      "10\n",
      "4\n"
     ]
    },
    {
     "name": "stderr",
     "output_type": "stream",
     "text": [
      " 30% (458 of 1517) |######               | Elapsed Time: 0:00:28 ETA:   0:00:57"
     ]
    },
    {
     "name": "stdout",
     "output_type": "stream",
     "text": [
      "24\n",
      "3\n",
      "11\n",
      "11\n",
      "8\n",
      "5\n"
     ]
    },
    {
     "name": "stderr",
     "output_type": "stream",
     "text": [
      " 30% (464 of 1517) |######               | Elapsed Time: 0:00:28 ETA:   0:00:49"
     ]
    },
    {
     "name": "stdout",
     "output_type": "stream",
     "text": [
      "9\n",
      "7\n",
      "8\n",
      "8\n",
      "2\n",
      "11\n"
     ]
    },
    {
     "name": "stderr",
     "output_type": "stream",
     "text": [
      " 31% (471 of 1517) |######               | Elapsed Time: 0:00:28 ETA:   0:00:50"
     ]
    },
    {
     "name": "stdout",
     "output_type": "stream",
     "text": [
      "22\n",
      "13\n",
      "3\n",
      "5\n",
      "19\n",
      "6\n",
      "1\n"
     ]
    },
    {
     "name": "stderr",
     "output_type": "stream",
     "text": [
      "\r",
      " 31% (476 of 1517) |######               | Elapsed Time: 0:00:28 ETA:   0:00:46"
     ]
    },
    {
     "name": "stdout",
     "output_type": "stream",
     "text": [
      "11\n",
      "1\n",
      "11\n",
      "10\n",
      "22\n"
     ]
    },
    {
     "name": "stderr",
     "output_type": "stream",
     "text": [
      " 31% (483 of 1517) |######               | Elapsed Time: 0:00:29 ETA:   0:00:47"
     ]
    },
    {
     "name": "stdout",
     "output_type": "stream",
     "text": [
      "10\n",
      "8\n",
      "22\n",
      "9\n",
      "13\n"
     ]
    },
    {
     "name": "stderr",
     "output_type": "stream",
     "text": [
      "\r",
      " 31% (485 of 1517) |######               | Elapsed Time: 0:00:29 ETA:   0:00:48"
     ]
    },
    {
     "name": "stdout",
     "output_type": "stream",
     "text": [
      "11\n",
      "19\n",
      "18\n"
     ]
    },
    {
     "name": "stderr",
     "output_type": "stream",
     "text": [
      " 32% (490 of 1517) |######               | Elapsed Time: 0:00:29 ETA:   0:00:52"
     ]
    },
    {
     "name": "stdout",
     "output_type": "stream",
     "text": [
      "18\n",
      "10\n",
      "13\n",
      "6\n",
      "15\n"
     ]
    },
    {
     "name": "stderr",
     "output_type": "stream",
     "text": [
      " 32% (496 of 1517) |######               | Elapsed Time: 0:00:29 ETA:   0:00:50"
     ]
    },
    {
     "name": "stdout",
     "output_type": "stream",
     "text": [
      "12\n",
      "8\n",
      "5\n",
      "10\n",
      "15\n"
     ]
    },
    {
     "name": "stderr",
     "output_type": "stream",
     "text": [
      " 32% (500 of 1517) |######               | Elapsed Time: 0:00:30 ETA:   0:00:51"
     ]
    },
    {
     "name": "stdout",
     "output_type": "stream",
     "text": [
      "25\n",
      "8\n",
      "8\n",
      "6\n",
      "10\n",
      "8\n"
     ]
    },
    {
     "name": "stderr",
     "output_type": "stream",
     "text": [
      " 33% (505 of 1517) |######               | Elapsed Time: 0:00:30 ETA:   0:00:52"
     ]
    },
    {
     "name": "stdout",
     "output_type": "stream",
     "text": [
      "10\n",
      "16\n",
      "11\n",
      "4\n",
      "13\n"
     ]
    },
    {
     "name": "stderr",
     "output_type": "stream",
     "text": [
      " 33% (514 of 1517) |#######              | Elapsed Time: 0:00:30 ETA:   0:00:49"
     ]
    },
    {
     "name": "stdout",
     "output_type": "stream",
     "text": [
      "17\n",
      "5\n",
      "6\n",
      "5\n",
      "3\n",
      "4\n",
      "12\n",
      "7\n"
     ]
    },
    {
     "name": "stderr",
     "output_type": "stream",
     "text": [
      " 34% (519 of 1517) |#######              | Elapsed Time: 0:00:30 ETA:   0:00:50"
     ]
    },
    {
     "name": "stdout",
     "output_type": "stream",
     "text": [
      "6\n",
      "16\n",
      "3\n",
      "12\n",
      "7\n"
     ]
    },
    {
     "name": "stderr",
     "output_type": "stream",
     "text": [
      " 34% (526 of 1517) |#######              | Elapsed Time: 0:00:31 ETA:   0:00:46"
     ]
    },
    {
     "name": "stdout",
     "output_type": "stream",
     "text": [
      "13\n",
      "13\n",
      "4\n",
      "2\n",
      "10\n",
      "11\n"
     ]
    },
    {
     "name": "stderr",
     "output_type": "stream",
     "text": [
      " 35% (531 of 1517) |#######              | Elapsed Time: 0:00:31 ETA:   0:00:45"
     ]
    },
    {
     "name": "stdout",
     "output_type": "stream",
     "text": [
      "15\n",
      "12\n",
      "5\n",
      "2\n",
      "25\n",
      "5\n"
     ]
    },
    {
     "name": "stderr",
     "output_type": "stream",
     "text": [
      " 35% (538 of 1517) |#######              | Elapsed Time: 0:00:31 ETA:   0:00:42"
     ]
    },
    {
     "name": "stdout",
     "output_type": "stream",
     "text": [
      "11\n",
      "3\n",
      "9\n",
      "5\n",
      "4\n",
      "11\n"
     ]
    },
    {
     "name": "stderr",
     "output_type": "stream",
     "text": [
      " 35% (543 of 1517) |#######              | Elapsed Time: 0:00:31 ETA:   0:00:40"
     ]
    },
    {
     "name": "stdout",
     "output_type": "stream",
     "text": [
      "25\n",
      "3\n",
      "12\n",
      "1\n",
      "9\n",
      "10\n"
     ]
    },
    {
     "name": "stderr",
     "output_type": "stream",
     "text": [
      " 36% (549 of 1517) |#######              | Elapsed Time: 0:00:32 ETA:   0:00:40"
     ]
    },
    {
     "name": "stdout",
     "output_type": "stream",
     "text": [
      "25\n",
      "7\n",
      "3\n",
      "11\n",
      "5\n"
     ]
    },
    {
     "name": "stderr",
     "output_type": "stream",
     "text": [
      " 36% (552 of 1517) |#######              | Elapsed Time: 0:00:32 ETA:   0:00:42"
     ]
    },
    {
     "name": "stdout",
     "output_type": "stream",
     "text": [
      "19\n",
      "7\n",
      "25\n"
     ]
    },
    {
     "name": "stderr",
     "output_type": "stream",
     "text": [
      " 36% (559 of 1517) |#######              | Elapsed Time: 0:00:32 ETA:   0:00:43"
     ]
    },
    {
     "name": "stdout",
     "output_type": "stream",
     "text": [
      "18\n",
      "4\n",
      "9\n",
      "5\n",
      "1\n",
      "12\n",
      "8\n",
      "3\n"
     ]
    },
    {
     "name": "stderr",
     "output_type": "stream",
     "text": [
      "\r",
      " 37% (563 of 1517) |#######              | Elapsed Time: 0:00:32 ETA:   0:00:42"
     ]
    },
    {
     "name": "stdout",
     "output_type": "stream",
     "text": [
      "6\n",
      "5\n",
      "21\n",
      "5\n",
      "3\n"
     ]
    },
    {
     "name": "stderr",
     "output_type": "stream",
     "text": [
      " 37% (569 of 1517) |#######              | Elapsed Time: 0:00:33 ETA:   0:00:47"
     ]
    },
    {
     "name": "stdout",
     "output_type": "stream",
     "text": [
      "25\n",
      "6\n",
      "15\n",
      "9\n",
      "5\n",
      "11\n"
     ]
    },
    {
     "name": "stderr",
     "output_type": "stream",
     "text": [
      "\r",
      " 37% (573 of 1517) |#######              | Elapsed Time: 0:00:33 ETA:   0:00:52"
     ]
    },
    {
     "name": "stdout",
     "output_type": "stream",
     "text": [
      "6\n",
      "25\n"
     ]
    },
    {
     "name": "stderr",
     "output_type": "stream",
     "text": [
      "\r",
      " 37% (575 of 1517) |#######              | Elapsed Time: 0:00:33 ETA:   0:00:54"
     ]
    },
    {
     "name": "stdout",
     "output_type": "stream",
     "text": [
      "12\n",
      "13\n",
      "15\n"
     ]
    },
    {
     "name": "stderr",
     "output_type": "stream",
     "text": [
      " 38% (577 of 1517) |#######              | Elapsed Time: 0:00:34 ETA:   0:00:59"
     ]
    },
    {
     "name": "stdout",
     "output_type": "stream",
     "text": [
      "10\n",
      "6\n"
     ]
    },
    {
     "name": "stderr",
     "output_type": "stream",
     "text": [
      "\r",
      " 38% (579 of 1517) |########             | Elapsed Time: 0:00:34 ETA:   0:01:05"
     ]
    },
    {
     "name": "stdout",
     "output_type": "stream",
     "text": [
      "25\n"
     ]
    },
    {
     "name": "stderr",
     "output_type": "stream",
     "text": [
      " 38% (581 of 1517) |########             | Elapsed Time: 0:00:34 ETA:   0:01:48"
     ]
    },
    {
     "name": "stdout",
     "output_type": "stream",
     "text": [
      "25\n",
      "17\n",
      "9\n",
      "5\n",
      "5\n"
     ]
    },
    {
     "name": "stderr",
     "output_type": "stream",
     "text": [
      " 38% (587 of 1517) |########             | Elapsed Time: 0:00:35 ETA:   0:01:29"
     ]
    },
    {
     "name": "stdout",
     "output_type": "stream",
     "text": [
      "9\n",
      "10\n",
      "18\n"
     ]
    },
    {
     "name": "stderr",
     "output_type": "stream",
     "text": [
      " 38% (590 of 1517) |########             | Elapsed Time: 0:00:35 ETA:   0:01:34"
     ]
    },
    {
     "name": "stdout",
     "output_type": "stream",
     "text": [
      "25\n",
      "10\n",
      "12\n",
      "4\n"
     ]
    },
    {
     "name": "stderr",
     "output_type": "stream",
     "text": [
      " 39% (596 of 1517) |########             | Elapsed Time: 0:00:36 ETA:   0:01:36"
     ]
    },
    {
     "name": "stdout",
     "output_type": "stream",
     "text": [
      "25\n",
      "8\n",
      "8\n",
      "9\n",
      "12\n"
     ]
    },
    {
     "name": "stderr",
     "output_type": "stream",
     "text": [
      "\r",
      " 39% (600 of 1517) |########             | Elapsed Time: 0:00:36 ETA:   0:01:22"
     ]
    },
    {
     "name": "stdout",
     "output_type": "stream",
     "text": [
      "7\n",
      "3\n",
      "12\n",
      "4\n",
      "11\n"
     ]
    },
    {
     "name": "stderr",
     "output_type": "stream",
     "text": [
      " 39% (606 of 1517) |########             | Elapsed Time: 0:00:36 ETA:   0:01:14"
     ]
    },
    {
     "name": "stdout",
     "output_type": "stream",
     "text": [
      "25\n",
      "6\n",
      "7\n",
      "6\n",
      "15\n",
      "17\n",
      "3\n"
     ]
    },
    {
     "name": "stderr",
     "output_type": "stream",
     "text": [
      " 40% (611 of 1517) |########             | Elapsed Time: 0:00:36 ETA:   0:01:11"
     ]
    },
    {
     "name": "stdout",
     "output_type": "stream",
     "text": [
      "5\n",
      "6\n",
      "25\n"
     ]
    },
    {
     "name": "stderr",
     "output_type": "stream",
     "text": [
      " 40% (616 of 1517) |########             | Elapsed Time: 0:00:37 ETA:   0:00:55"
     ]
    },
    {
     "name": "stdout",
     "output_type": "stream",
     "text": [
      "16\n",
      "10\n",
      "2\n",
      "4\n",
      "25\n",
      "7\n"
     ]
    },
    {
     "name": "stderr",
     "output_type": "stream",
     "text": [
      " 41% (623 of 1517) |########             | Elapsed Time: 0:00:37 ETA:   0:00:51"
     ]
    },
    {
     "name": "stdout",
     "output_type": "stream",
     "text": [
      "5\n",
      "7\n",
      "7\n",
      "13\n",
      "8\n",
      "2\n",
      "6\n"
     ]
    },
    {
     "name": "stderr",
     "output_type": "stream",
     "text": [
      " 41% (630 of 1517) |########             | Elapsed Time: 0:00:37 ETA:   0:00:46"
     ]
    },
    {
     "name": "stdout",
     "output_type": "stream",
     "text": [
      "13\n",
      "12\n",
      "8\n",
      "7\n",
      "6\n",
      "11\n",
      "8\n",
      "5\n"
     ]
    },
    {
     "name": "stderr",
     "output_type": "stream",
     "text": [
      "\r",
      " 41% (633 of 1517) |########             | Elapsed Time: 0:00:37 ETA:   0:00:45"
     ]
    },
    {
     "name": "stdout",
     "output_type": "stream",
     "text": [
      "11\n"
     ]
    },
    {
     "name": "stderr",
     "output_type": "stream",
     "text": [
      "\r",
      " 41% (634 of 1517) |########             | Elapsed Time: 0:00:37 ETA:   0:00:44"
     ]
    },
    {
     "name": "stdout",
     "output_type": "stream",
     "text": [
      "25\n",
      "8\n",
      "7\n"
     ]
    },
    {
     "name": "stderr",
     "output_type": "stream",
     "text": [
      " 42% (639 of 1517) |########             | Elapsed Time: 0:00:38 ETA:   0:00:49"
     ]
    },
    {
     "name": "stdout",
     "output_type": "stream",
     "text": [
      "25\n",
      "18\n",
      "6\n"
     ]
    },
    {
     "name": "stderr",
     "output_type": "stream",
     "text": [
      " 42% (642 of 1517) |########             | Elapsed Time: 0:00:38 ETA:   0:00:48"
     ]
    },
    {
     "name": "stdout",
     "output_type": "stream",
     "text": [
      "22\n",
      "5\n",
      "18\n",
      "6\n"
     ]
    },
    {
     "name": "stderr",
     "output_type": "stream",
     "text": [
      " 42% (647 of 1517) |########             | Elapsed Time: 0:00:38 ETA:   0:00:48"
     ]
    },
    {
     "name": "stdout",
     "output_type": "stream",
     "text": [
      "23\n",
      "12\n",
      "7\n",
      "4\n",
      "7\n",
      "15\n"
     ]
    },
    {
     "name": "stderr",
     "output_type": "stream",
     "text": [
      " 43% (653 of 1517) |#########            | Elapsed Time: 0:00:39 ETA:   0:00:48"
     ]
    },
    {
     "name": "stdout",
     "output_type": "stream",
     "text": [
      "25\n",
      "5\n",
      "8\n",
      "6\n",
      "5\n",
      "9\n",
      "5\n",
      "9\n"
     ]
    },
    {
     "name": "stderr",
     "output_type": "stream",
     "text": [
      " 43% (664 of 1517) |#########            | Elapsed Time: 0:00:39 ETA:   0:00:45"
     ]
    },
    {
     "name": "stdout",
     "output_type": "stream",
     "text": [
      "10\n",
      "12\n",
      "6\n",
      "9\n",
      "5\n",
      "4\n",
      "7\n"
     ]
    },
    {
     "name": "stderr",
     "output_type": "stream",
     "text": [
      "\r",
      " 43% (666 of 1517) |#########            | Elapsed Time: 0:00:39 ETA:   0:00:45"
     ]
    },
    {
     "name": "stdout",
     "output_type": "stream",
     "text": [
      "6\n",
      "20\n",
      "11\n",
      "3\n",
      "6\n"
     ]
    },
    {
     "name": "stderr",
     "output_type": "stream",
     "text": [
      " 44% (673 of 1517) |#########            | Elapsed Time: 0:00:39 ETA:   0:00:44"
     ]
    },
    {
     "name": "stdout",
     "output_type": "stream",
     "text": [
      "25\n",
      "16\n",
      "4\n",
      "17\n"
     ]
    },
    {
     "name": "stderr",
     "output_type": "stream",
     "text": [
      " 44% (677 of 1517) |#########            | Elapsed Time: 0:00:40 ETA:   0:00:44"
     ]
    },
    {
     "name": "stdout",
     "output_type": "stream",
     "text": [
      "16\n",
      "6\n",
      "10\n",
      "13\n",
      "6\n"
     ]
    },
    {
     "name": "stderr",
     "output_type": "stream",
     "text": [
      " 45% (684 of 1517) |#########            | Elapsed Time: 0:00:40 ETA:   0:00:40"
     ]
    },
    {
     "name": "stdout",
     "output_type": "stream",
     "text": [
      "10\n",
      "7\n",
      "9\n",
      "10\n",
      "2\n",
      "16\n"
     ]
    },
    {
     "name": "stderr",
     "output_type": "stream",
     "text": [
      " 45% (688 of 1517) |#########            | Elapsed Time: 0:00:40 ETA:   0:00:39"
     ]
    },
    {
     "name": "stdout",
     "output_type": "stream",
     "text": [
      "25\n",
      "7\n",
      "8\n",
      "9\n",
      "7\n",
      "13\n"
     ]
    },
    {
     "name": "stderr",
     "output_type": "stream",
     "text": [
      " 45% (694 of 1517) |#########            | Elapsed Time: 0:00:41 ETA:   0:00:46"
     ]
    },
    {
     "name": "stdout",
     "output_type": "stream",
     "text": [
      "25\n",
      "14\n",
      "10\n",
      "14\n"
     ]
    },
    {
     "name": "stderr",
     "output_type": "stream",
     "text": [
      " 46% (699 of 1517) |#########            | Elapsed Time: 0:00:41 ETA:   0:00:48"
     ]
    },
    {
     "name": "stdout",
     "output_type": "stream",
     "text": [
      "6\n",
      "11\n",
      "10\n",
      "13\n",
      "10\n"
     ]
    },
    {
     "name": "stderr",
     "output_type": "stream",
     "text": [
      " 46% (706 of 1517) |#########            | Elapsed Time: 0:00:41 ETA:   0:00:44"
     ]
    },
    {
     "name": "stdout",
     "output_type": "stream",
     "text": [
      "5\n",
      "13\n",
      "10\n",
      "7\n",
      "12\n",
      "3\n",
      "3\n"
     ]
    },
    {
     "name": "stderr",
     "output_type": "stream",
     "text": [
      "\r",
      " 46% (709 of 1517) |#########            | Elapsed Time: 0:00:41 ETA:   0:00:42"
     ]
    },
    {
     "name": "stdout",
     "output_type": "stream",
     "text": [
      "12\n",
      "7\n",
      "6\n",
      "25\n"
     ]
    },
    {
     "name": "stderr",
     "output_type": "stream",
     "text": [
      " 47% (714 of 1517) |#########            | Elapsed Time: 0:00:42 ETA:   0:00:42"
     ]
    },
    {
     "name": "stdout",
     "output_type": "stream",
     "text": [
      "5\n",
      "5\n",
      "9\n",
      "8\n",
      "16\n"
     ]
    },
    {
     "name": "stderr",
     "output_type": "stream",
     "text": [
      " 47% (722 of 1517) |#########            | Elapsed Time: 0:00:42 ETA:   0:00:44"
     ]
    },
    {
     "name": "stdout",
     "output_type": "stream",
     "text": [
      "23\n",
      "5\n",
      "9\n",
      "19\n",
      "6\n",
      "4\n",
      "13\n"
     ]
    },
    {
     "name": "stderr",
     "output_type": "stream",
     "text": [
      " 48% (730 of 1517) |##########           | Elapsed Time: 0:00:42 ETA:   0:00:39"
     ]
    },
    {
     "name": "stdout",
     "output_type": "stream",
     "text": [
      "7\n",
      "3\n",
      "10\n",
      "12\n",
      "11\n",
      "6\n",
      "4\n",
      "4\n"
     ]
    },
    {
     "name": "stderr",
     "output_type": "stream",
     "text": [
      "\r",
      " 48% (733 of 1517) |##########           | Elapsed Time: 0:00:43 ETA:   0:00:39"
     ]
    },
    {
     "name": "stdout",
     "output_type": "stream",
     "text": [
      "16\n",
      "5\n",
      "14\n",
      "9\n",
      "5\n",
      "7\n"
     ]
    },
    {
     "name": "stderr",
     "output_type": "stream",
     "text": [
      " 48% (739 of 1517) |##########           | Elapsed Time: 0:00:43 ETA:   0:00:35"
     ]
    },
    {
     "name": "stdout",
     "output_type": "stream",
     "text": [
      "19\n",
      "8\n",
      "25\n"
     ]
    },
    {
     "name": "stderr",
     "output_type": "stream",
     "text": [
      "\r",
      " 48% (742 of 1517) |##########           | Elapsed Time: 0:00:43 ETA:   0:00:37"
     ]
    },
    {
     "name": "stdout",
     "output_type": "stream",
     "text": [
      "17\n",
      "3\n",
      "25\n"
     ]
    },
    {
     "name": "stderr",
     "output_type": "stream",
     "text": [
      " 49% (746 of 1517) |##########           | Elapsed Time: 0:00:43 ETA:   0:00:40"
     ]
    },
    {
     "name": "stdout",
     "output_type": "stream",
     "text": [
      "10\n",
      "22\n",
      "6\n",
      "19\n"
     ]
    },
    {
     "name": "stderr",
     "output_type": "stream",
     "text": [
      " 49% (753 of 1517) |##########           | Elapsed Time: 0:00:44 ETA:   0:00:36"
     ]
    },
    {
     "name": "stdout",
     "output_type": "stream",
     "text": [
      "6\n",
      "16\n",
      "4\n",
      "8\n",
      "5\n",
      "5\n",
      "12\n"
     ]
    },
    {
     "name": "stderr",
     "output_type": "stream",
     "text": [
      " 49% (758 of 1517) |##########           | Elapsed Time: 0:00:44 ETA:   0:00:36"
     ]
    },
    {
     "name": "stdout",
     "output_type": "stream",
     "text": [
      "10\n",
      "14\n",
      "10\n",
      "6\n",
      "15\n",
      "5\n"
     ]
    },
    {
     "name": "stderr",
     "output_type": "stream",
     "text": [
      " 50% (762 of 1517) |##########           | Elapsed Time: 0:00:44 ETA:   0:00:38"
     ]
    },
    {
     "name": "stdout",
     "output_type": "stream",
     "text": [
      "25\n",
      "14\n",
      "10\n",
      "9\n",
      "6\n"
     ]
    },
    {
     "name": "stderr",
     "output_type": "stream",
     "text": [
      " 50% (767 of 1517) |##########           | Elapsed Time: 0:00:44 ETA:   0:00:41"
     ]
    },
    {
     "name": "stdout",
     "output_type": "stream",
     "text": [
      "8\n",
      "6\n",
      "22\n",
      "3\n",
      "6\n",
      "9\n",
      "6\n"
     ]
    },
    {
     "name": "stderr",
     "output_type": "stream",
     "text": [
      " 51% (774 of 1517) |##########           | Elapsed Time: 0:00:45 ETA:   0:00:39"
     ]
    },
    {
     "name": "stdout",
     "output_type": "stream",
     "text": [
      "18\n",
      "13\n",
      "13\n",
      "15\n",
      "8\n"
     ]
    },
    {
     "name": "stderr",
     "output_type": "stream",
     "text": [
      " 51% (780 of 1517) |##########           | Elapsed Time: 0:00:45 ETA:   0:00:37"
     ]
    },
    {
     "name": "stdout",
     "output_type": "stream",
     "text": [
      "14\n",
      "11\n",
      "5\n",
      "9\n",
      "12\n",
      "10\n"
     ]
    },
    {
     "name": "stderr",
     "output_type": "stream",
     "text": [
      " 51% (786 of 1517) |##########           | Elapsed Time: 0:00:45 ETA:   0:00:34"
     ]
    },
    {
     "name": "stdout",
     "output_type": "stream",
     "text": [
      "19\n",
      "10\n",
      "7\n",
      "17\n"
     ]
    },
    {
     "name": "stderr",
     "output_type": "stream",
     "text": [
      " 52% (792 of 1517) |##########           | Elapsed Time: 0:00:46 ETA:   0:00:34"
     ]
    },
    {
     "name": "stdout",
     "output_type": "stream",
     "text": [
      "18\n",
      "10\n",
      "8\n",
      "9\n",
      "4\n",
      "7\n"
     ]
    },
    {
     "name": "stderr",
     "output_type": "stream",
     "text": [
      " 52% (796 of 1517) |###########          | Elapsed Time: 0:00:46 ETA:   0:00:35"
     ]
    },
    {
     "name": "stdout",
     "output_type": "stream",
     "text": [
      "15\n",
      "12\n",
      "16\n",
      "8\n",
      "6\n"
     ]
    },
    {
     "name": "stderr",
     "output_type": "stream",
     "text": [
      " 52% (801 of 1517) |###########          | Elapsed Time: 0:00:46 ETA:   0:00:35"
     ]
    },
    {
     "name": "stdout",
     "output_type": "stream",
     "text": [
      "9\n",
      "15\n",
      "13\n",
      "14\n",
      "16\n"
     ]
    },
    {
     "name": "stderr",
     "output_type": "stream",
     "text": [
      " 53% (807 of 1517) |###########          | Elapsed Time: 0:00:46 ETA:   0:00:35"
     ]
    },
    {
     "name": "stdout",
     "output_type": "stream",
     "text": [
      "17\n",
      "6\n",
      "9\n",
      "7\n",
      "12\n"
     ]
    },
    {
     "name": "stderr",
     "output_type": "stream",
     "text": [
      " 53% (811 of 1517) |###########          | Elapsed Time: 0:00:47 ETA:   0:00:37"
     ]
    },
    {
     "name": "stdout",
     "output_type": "stream",
     "text": [
      "7\n",
      "9\n",
      "17\n",
      "24\n"
     ]
    },
    {
     "name": "stderr",
     "output_type": "stream",
     "text": [
      " 53% (813 of 1517) |###########          | Elapsed Time: 0:00:47 ETA:   0:00:40"
     ]
    },
    {
     "name": "stdout",
     "output_type": "stream",
     "text": [
      "25\n",
      "25\n",
      "5\n"
     ]
    },
    {
     "name": "stderr",
     "output_type": "stream",
     "text": [
      "\r",
      " 53% (816 of 1517) |###########          | Elapsed Time: 0:00:47 ETA:   0:00:42"
     ]
    },
    {
     "name": "stdout",
     "output_type": "stream",
     "text": [
      "8\n",
      "25\n",
      "2\n",
      "10\n"
     ]
    },
    {
     "name": "stderr",
     "output_type": "stream",
     "text": [
      " 54% (823 of 1517) |###########          | Elapsed Time: 0:00:47 ETA:   0:00:40"
     ]
    },
    {
     "name": "stdout",
     "output_type": "stream",
     "text": [
      "5\n",
      "7\n",
      "6\n",
      "9\n",
      "19\n"
     ]
    },
    {
     "name": "stderr",
     "output_type": "stream",
     "text": [
      "\r",
      " 54% (825 of 1517) |###########          | Elapsed Time: 0:00:48 ETA:   0:00:39"
     ]
    },
    {
     "name": "stdout",
     "output_type": "stream",
     "text": [
      "3\n",
      "21\n",
      "7\n",
      "11\n"
     ]
    },
    {
     "name": "stderr",
     "output_type": "stream",
     "text": [
      " 54% (832 of 1517) |###########          | Elapsed Time: 0:00:48 ETA:   0:00:39"
     ]
    },
    {
     "name": "stdout",
     "output_type": "stream",
     "text": [
      "18\n",
      "2\n",
      "18\n",
      "3\n",
      "7\n",
      "11\n",
      "3\n",
      "5\n"
     ]
    },
    {
     "name": "stderr",
     "output_type": "stream",
     "text": [
      " 55% (839 of 1517) |###########          | Elapsed Time: 0:00:48 ETA:   0:00:36"
     ]
    },
    {
     "name": "stdout",
     "output_type": "stream",
     "text": [
      "8\n",
      "6\n",
      "7\n",
      "10\n",
      "12\n",
      "6\n"
     ]
    },
    {
     "name": "stderr",
     "output_type": "stream",
     "text": [
      " 55% (845 of 1517) |###########          | Elapsed Time: 0:00:48 ETA:   0:00:34"
     ]
    },
    {
     "name": "stdout",
     "output_type": "stream",
     "text": [
      "7\n",
      "8\n",
      "13\n",
      "13\n",
      "9\n"
     ]
    },
    {
     "name": "stderr",
     "output_type": "stream",
     "text": [
      " 56% (850 of 1517) |###########          | Elapsed Time: 0:00:49 ETA:   0:00:34"
     ]
    },
    {
     "name": "stdout",
     "output_type": "stream",
     "text": [
      "10\n",
      "9\n",
      "17\n",
      "7\n",
      "6\n",
      "4\n"
     ]
    },
    {
     "name": "stderr",
     "output_type": "stream",
     "text": [
      " 56% (855 of 1517) |###########          | Elapsed Time: 0:00:49 ETA:   0:00:31"
     ]
    },
    {
     "name": "stdout",
     "output_type": "stream",
     "text": [
      "10\n",
      "10\n",
      "25\n",
      "2\n"
     ]
    },
    {
     "name": "stderr",
     "output_type": "stream",
     "text": [
      " 56% (860 of 1517) |###########          | Elapsed Time: 0:00:49 ETA:   0:00:30"
     ]
    },
    {
     "name": "stdout",
     "output_type": "stream",
     "text": [
      "25\n",
      "9\n",
      "8\n",
      "6\n",
      "7\n",
      "8\n",
      "6\n"
     ]
    },
    {
     "name": "stderr",
     "output_type": "stream",
     "text": [
      " 57% (868 of 1517) |############         | Elapsed Time: 0:00:49 ETA:   0:00:29"
     ]
    },
    {
     "name": "stdout",
     "output_type": "stream",
     "text": [
      "9\n",
      "11\n",
      "7\n",
      "6\n",
      "15\n"
     ]
    },
    {
     "name": "stderr",
     "output_type": "stream",
     "text": [
      " 57% (879 of 1517) |############         | Elapsed Time: 0:00:50 ETA:   0:00:25"
     ]
    },
    {
     "name": "stdout",
     "output_type": "stream",
     "text": [
      "2\n",
      "6\n",
      "6\n",
      "6\n",
      "6\n",
      "4\n",
      "7\n",
      "3\n",
      "6\n",
      "2\n",
      "10\n"
     ]
    },
    {
     "name": "stderr",
     "output_type": "stream",
     "text": [
      " 58% (884 of 1517) |############         | Elapsed Time: 0:00:50 ETA:   0:00:26"
     ]
    },
    {
     "name": "stdout",
     "output_type": "stream",
     "text": [
      "25\n",
      "8\n",
      "14\n",
      "8\n",
      "5\n",
      "5\n"
     ]
    },
    {
     "name": "stderr",
     "output_type": "stream",
     "text": [
      " 58% (891 of 1517) |############         | Elapsed Time: 0:00:50 ETA:   0:00:26"
     ]
    },
    {
     "name": "stdout",
     "output_type": "stream",
     "text": [
      "9\n",
      "8\n",
      "14\n",
      "9\n",
      "7\n",
      "8\n"
     ]
    },
    {
     "name": "stderr",
     "output_type": "stream",
     "text": [
      " 58% (894 of 1517) |############         | Elapsed Time: 0:00:50 ETA:   0:00:27"
     ]
    },
    {
     "name": "stdout",
     "output_type": "stream",
     "text": [
      "4\n",
      "23\n",
      "22\n",
      "4\n"
     ]
    },
    {
     "name": "stderr",
     "output_type": "stream",
     "text": [
      " 59% (899 of 1517) |############         | Elapsed Time: 0:00:51 ETA:   0:00:28"
     ]
    },
    {
     "name": "stdout",
     "output_type": "stream",
     "text": [
      "24\n",
      "8\n",
      "11\n",
      "17\n",
      "6\n"
     ]
    },
    {
     "name": "stderr",
     "output_type": "stream",
     "text": [
      "\r",
      " 59% (903 of 1517) |############         | Elapsed Time: 0:00:51 ETA:   0:00:26"
     ]
    },
    {
     "name": "stdout",
     "output_type": "stream",
     "text": [
      "10\n",
      "6\n",
      "7\n",
      "4\n",
      "9\n",
      "6\n",
      "21\n"
     ]
    },
    {
     "name": "stderr",
     "output_type": "stream",
     "text": [
      " 59% (910 of 1517) |############         | Elapsed Time: 0:00:51 ETA:   0:00:25"
     ]
    },
    {
     "name": "stdout",
     "output_type": "stream",
     "text": [
      "7\n",
      "13\n",
      "8\n",
      "8\n",
      "9\n",
      "12\n"
     ]
    },
    {
     "name": "stderr",
     "output_type": "stream",
     "text": [
      " 60% (918 of 1517) |############         | Elapsed Time: 0:00:51 ETA:   0:00:24"
     ]
    },
    {
     "name": "stdout",
     "output_type": "stream",
     "text": [
      "5\n",
      "6\n",
      "4\n",
      "7\n",
      "11\n"
     ]
    },
    {
     "name": "stderr",
     "output_type": "stream",
     "text": [
      " 60% (923 of 1517) |############         | Elapsed Time: 0:00:52 ETA:   0:00:28"
     ]
    },
    {
     "name": "stdout",
     "output_type": "stream",
     "text": [
      "25\n",
      "9\n",
      "13\n",
      "1\n",
      "21\n"
     ]
    },
    {
     "name": "stderr",
     "output_type": "stream",
     "text": [
      " 61% (927 of 1517) |############         | Elapsed Time: 0:00:52 ETA:   0:00:28"
     ]
    },
    {
     "name": "stdout",
     "output_type": "stream",
     "text": [
      "19\n",
      "13\n",
      "16\n",
      "6\n",
      "3\n"
     ]
    },
    {
     "name": "stderr",
     "output_type": "stream",
     "text": [
      "\r",
      " 61% (930 of 1517) |############         | Elapsed Time: 0:00:52 ETA:   0:00:29"
     ]
    },
    {
     "name": "stdout",
     "output_type": "stream",
     "text": [
      "7\n",
      "23\n",
      "17\n"
     ]
    },
    {
     "name": "stderr",
     "output_type": "stream",
     "text": [
      " 61% (936 of 1517) |############         | Elapsed Time: 0:00:52 ETA:   0:00:27"
     ]
    },
    {
     "name": "stdout",
     "output_type": "stream",
     "text": [
      "13\n",
      "9\n",
      "8\n",
      "3\n",
      "11\n",
      "7\n"
     ]
    },
    {
     "name": "stderr",
     "output_type": "stream",
     "text": [
      " 62% (941 of 1517) |#############        | Elapsed Time: 0:00:53 ETA:   0:00:26"
     ]
    },
    {
     "name": "stdout",
     "output_type": "stream",
     "text": [
      "7\n",
      "3\n",
      "12\n",
      "11\n",
      "19\n"
     ]
    },
    {
     "name": "stderr",
     "output_type": "stream",
     "text": [
      " 62% (945 of 1517) |#############        | Elapsed Time: 0:00:53 ETA:   0:00:30"
     ]
    },
    {
     "name": "stdout",
     "output_type": "stream",
     "text": [
      "20\n",
      "25\n",
      "25\n"
     ]
    },
    {
     "name": "stderr",
     "output_type": "stream",
     "text": [
      " 62% (950 of 1517) |#############        | Elapsed Time: 0:00:53 ETA:   0:00:30"
     ]
    },
    {
     "name": "stdout",
     "output_type": "stream",
     "text": [
      "9\n",
      "16\n",
      "2\n",
      "19\n",
      "9\n"
     ]
    },
    {
     "name": "stderr",
     "output_type": "stream",
     "text": [
      " 62% (955 of 1517) |#############        | Elapsed Time: 0:00:54 ETA:   0:00:31"
     ]
    },
    {
     "name": "stdout",
     "output_type": "stream",
     "text": [
      "15\n",
      "8\n",
      "5\n",
      "10\n",
      "9\n",
      "5\n"
     ]
    },
    {
     "name": "stderr",
     "output_type": "stream",
     "text": [
      " 63% (960 of 1517) |#############        | Elapsed Time: 0:00:54 ETA:   0:00:30"
     ]
    },
    {
     "name": "stdout",
     "output_type": "stream",
     "text": [
      "15\n",
      "19\n",
      "19\n",
      "11\n",
      "6\n"
     ]
    },
    {
     "name": "stderr",
     "output_type": "stream",
     "text": [
      " 63% (965 of 1517) |#############        | Elapsed Time: 0:00:54 ETA:   0:00:33"
     ]
    },
    {
     "name": "stdout",
     "output_type": "stream",
     "text": [
      "25\n",
      "6\n",
      "13\n",
      "15\n"
     ]
    },
    {
     "name": "stderr",
     "output_type": "stream",
     "text": [
      " 63% (970 of 1517) |#############        | Elapsed Time: 0:00:55 ETA:   0:00:33"
     ]
    },
    {
     "name": "stdout",
     "output_type": "stream",
     "text": [
      "19\n",
      "17\n",
      "13\n",
      "2\n",
      "8\n",
      "16\n",
      "3\n"
     ]
    },
    {
     "name": "stderr",
     "output_type": "stream",
     "text": [
      " 64% (975 of 1517) |#############        | Elapsed Time: 0:00:55 ETA:   0:00:34"
     ]
    },
    {
     "name": "stdout",
     "output_type": "stream",
     "text": [
      "6\n",
      "6\n",
      "25\n"
     ]
    },
    {
     "name": "stderr",
     "output_type": "stream",
     "text": [
      " 64% (979 of 1517) |#############        | Elapsed Time: 0:00:55 ETA:   0:00:33"
     ]
    },
    {
     "name": "stdout",
     "output_type": "stream",
     "text": [
      "8\n",
      "17\n",
      "9\n",
      "25\n"
     ]
    },
    {
     "name": "stderr",
     "output_type": "stream",
     "text": [
      " 64% (984 of 1517) |#############        | Elapsed Time: 0:00:55 ETA:   0:00:33"
     ]
    },
    {
     "name": "stdout",
     "output_type": "stream",
     "text": [
      "14\n",
      "4\n",
      "13\n",
      "1\n",
      "23\n"
     ]
    },
    {
     "name": "stderr",
     "output_type": "stream",
     "text": [
      "\r",
      " 65% (987 of 1517) |#############        | Elapsed Time: 0:00:56 ETA:   0:00:34"
     ]
    },
    {
     "name": "stdout",
     "output_type": "stream",
     "text": [
      "8\n",
      "4\n",
      "16\n",
      "7\n"
     ]
    },
    {
     "name": "stderr",
     "output_type": "stream",
     "text": [
      " 65% (992 of 1517) |#############        | Elapsed Time: 0:00:56 ETA:   0:00:33"
     ]
    },
    {
     "name": "stdout",
     "output_type": "stream",
     "text": [
      "25\n",
      "5\n",
      "6\n",
      "7\n",
      "11\n"
     ]
    },
    {
     "name": "stderr",
     "output_type": "stream",
     "text": [
      " 65% (1000 of 1517) |#############       | Elapsed Time: 0:00:56 ETA:   0:00:28"
     ]
    },
    {
     "name": "stdout",
     "output_type": "stream",
     "text": [
      "5\n",
      "5\n",
      "9\n",
      "8\n",
      "15\n",
      "4\n",
      "11\n"
     ]
    },
    {
     "name": "stderr",
     "output_type": "stream",
     "text": [
      " 66% (1004 of 1517) |#############       | Elapsed Time: 0:00:57 ETA:   0:00:28"
     ]
    },
    {
     "name": "stdout",
     "output_type": "stream",
     "text": [
      "4\n",
      "14\n",
      "11\n",
      "23\n"
     ]
    },
    {
     "name": "stderr",
     "output_type": "stream",
     "text": [
      "\r",
      " 66% (1007 of 1517) |#############       | Elapsed Time: 0:00:57 ETA:   0:00:28"
     ]
    },
    {
     "name": "stdout",
     "output_type": "stream",
     "text": [
      "10\n",
      "8\n",
      "5\n",
      "9\n",
      "12\n"
     ]
    },
    {
     "name": "stderr",
     "output_type": "stream",
     "text": [
      " 66% (1011 of 1517) |#############       | Elapsed Time: 0:00:57 ETA:   0:00:29"
     ]
    },
    {
     "name": "stdout",
     "output_type": "stream",
     "text": [
      "25\n",
      "25\n"
     ]
    },
    {
     "name": "stderr",
     "output_type": "stream",
     "text": [
      " 67% (1017 of 1517) |#############       | Elapsed Time: 0:00:57 ETA:   0:00:27"
     ]
    },
    {
     "name": "stdout",
     "output_type": "stream",
     "text": [
      "12\n",
      "4\n",
      "9\n",
      "6\n",
      "5\n",
      "18\n"
     ]
    },
    {
     "name": "stderr",
     "output_type": "stream",
     "text": [
      "\r",
      " 67% (1019 of 1517) |#############       | Elapsed Time: 0:00:57 ETA:   0:00:27"
     ]
    },
    {
     "name": "stdout",
     "output_type": "stream",
     "text": [
      "7\n",
      "25\n",
      "19\n"
     ]
    },
    {
     "name": "stderr",
     "output_type": "stream",
     "text": [
      " 67% (1023 of 1517) |#############       | Elapsed Time: 0:00:58 ETA:   0:00:29"
     ]
    },
    {
     "name": "stdout",
     "output_type": "stream",
     "text": [
      "22\n",
      "10\n",
      "13\n"
     ]
    },
    {
     "name": "stderr",
     "output_type": "stream",
     "text": [
      " 67% (1026 of 1517) |#############       | Elapsed Time: 0:00:58 ETA:   0:00:32"
     ]
    },
    {
     "name": "stdout",
     "output_type": "stream",
     "text": [
      "25\n",
      "10\n",
      "17\n",
      "6\n"
     ]
    },
    {
     "name": "stderr",
     "output_type": "stream",
     "text": [
      "\r",
      " 67% (1029 of 1517) |#############       | Elapsed Time: 0:00:58 ETA:   0:00:34"
     ]
    },
    {
     "name": "stdout",
     "output_type": "stream",
     "text": [
      "9\n",
      "25\n",
      "15\n",
      "7\n"
     ]
    },
    {
     "name": "stderr",
     "output_type": "stream",
     "text": [
      " 68% (1034 of 1517) |#############       | Elapsed Time: 0:00:59 ETA:   0:00:33"
     ]
    },
    {
     "name": "stdout",
     "output_type": "stream",
     "text": [
      "10\n",
      "11\n",
      "12\n",
      "10\n",
      "9\n"
     ]
    },
    {
     "name": "stderr",
     "output_type": "stream",
     "text": [
      " 68% (1040 of 1517) |#############       | Elapsed Time: 0:00:59 ETA:   0:00:31"
     ]
    },
    {
     "name": "stdout",
     "output_type": "stream",
     "text": [
      "8\n",
      "15\n",
      "5\n",
      "7\n",
      "13\n"
     ]
    },
    {
     "name": "stderr",
     "output_type": "stream",
     "text": [
      " 68% (1045 of 1517) |#############       | Elapsed Time: 0:00:59 ETA:   0:00:31"
     ]
    },
    {
     "name": "stdout",
     "output_type": "stream",
     "text": [
      "25\n",
      "6\n",
      "8\n",
      "12\n",
      "7\n",
      "10\n"
     ]
    },
    {
     "name": "stderr",
     "output_type": "stream",
     "text": [
      " 69% (1051 of 1517) |#############       | Elapsed Time: 0:00:59 ETA:   0:00:29"
     ]
    },
    {
     "name": "stdout",
     "output_type": "stream",
     "text": [
      "3\n",
      "23\n",
      "5\n",
      "20\n"
     ]
    },
    {
     "name": "stderr",
     "output_type": "stream",
     "text": [
      " 69% (1055 of 1517) |#############       | Elapsed Time: 0:01:00 ETA:   0:00:28"
     ]
    },
    {
     "name": "stdout",
     "output_type": "stream",
     "text": [
      "24\n",
      "5\n",
      "15\n",
      "2\n",
      "15\n",
      "6\n"
     ]
    },
    {
     "name": "stderr",
     "output_type": "stream",
     "text": [
      " 69% (1061 of 1517) |#############       | Elapsed Time: 0:01:00 ETA:   0:00:25"
     ]
    },
    {
     "name": "stdout",
     "output_type": "stream",
     "text": [
      "8\n",
      "6\n",
      "7\n",
      "6\n",
      "5\n",
      "8\n",
      "10\n",
      "9\n"
     ]
    },
    {
     "name": "stderr",
     "output_type": "stream",
     "text": [
      " 70% (1069 of 1517) |##############      | Elapsed Time: 0:01:00 ETA:   0:00:23"
     ]
    },
    {
     "name": "stdout",
     "output_type": "stream",
     "text": [
      "8\n",
      "11\n",
      "17\n",
      "20\n",
      "6\n"
     ]
    },
    {
     "name": "stderr",
     "output_type": "stream",
     "text": [
      " 70% (1076 of 1517) |##############      | Elapsed Time: 0:01:01 ETA:   0:00:21"
     ]
    },
    {
     "name": "stdout",
     "output_type": "stream",
     "text": [
      "12\n",
      "4\n",
      "6\n",
      "5\n",
      "18\n",
      "14\n"
     ]
    },
    {
     "name": "stderr",
     "output_type": "stream",
     "text": [
      "\r",
      " 70% (1077 of 1517) |##############      | Elapsed Time: 0:01:01 ETA:   0:00:22"
     ]
    },
    {
     "name": "stdout",
     "output_type": "stream",
     "text": [
      "24\n",
      "8\n",
      "6\n",
      "3\n",
      "5\n"
     ]
    },
    {
     "name": "stderr",
     "output_type": "stream",
     "text": [
      " 71% (1085 of 1517) |##############      | Elapsed Time: 0:01:01 ETA:   0:00:22"
     ]
    },
    {
     "name": "stdout",
     "output_type": "stream",
     "text": [
      "25\n",
      "6\n",
      "10\n",
      "9\n",
      "16\n"
     ]
    },
    {
     "name": "stderr",
     "output_type": "stream",
     "text": [
      " 71% (1091 of 1517) |##############      | Elapsed Time: 0:01:02 ETA:   0:00:21"
     ]
    },
    {
     "name": "stdout",
     "output_type": "stream",
     "text": [
      "9\n",
      "14\n",
      "4\n",
      "4\n",
      "7\n",
      "8\n",
      "5\n"
     ]
    },
    {
     "name": "stderr",
     "output_type": "stream",
     "text": [
      " 72% (1097 of 1517) |##############      | Elapsed Time: 0:01:02 ETA:   0:00:20"
     ]
    },
    {
     "name": "stdout",
     "output_type": "stream",
     "text": [
      "23\n",
      "4\n",
      "8\n",
      "15\n",
      "10\n",
      "3\n",
      "2\n"
     ]
    },
    {
     "name": "stderr",
     "output_type": "stream",
     "text": [
      " 72% (1105 of 1517) |##############      | Elapsed Time: 0:01:02 ETA:   0:00:20"
     ]
    },
    {
     "name": "stdout",
     "output_type": "stream",
     "text": [
      "7\n",
      "16\n",
      "15\n",
      "5\n",
      "7\n"
     ]
    },
    {
     "name": "stderr",
     "output_type": "stream",
     "text": [
      " 73% (1110 of 1517) |##############      | Elapsed Time: 0:01:02 ETA:   0:00:20"
     ]
    },
    {
     "name": "stdout",
     "output_type": "stream",
     "text": [
      "9\n",
      "7\n",
      "7\n",
      "16\n",
      "15\n",
      "10\n",
      "7\n"
     ]
    },
    {
     "name": "stderr",
     "output_type": "stream",
     "text": [
      " 73% (1118 of 1517) |##############      | Elapsed Time: 0:01:03 ETA:   0:00:18"
     ]
    },
    {
     "name": "stdout",
     "output_type": "stream",
     "text": [
      "4\n",
      "4\n",
      "11\n",
      "4\n",
      "3\n",
      "9\n"
     ]
    },
    {
     "name": "stderr",
     "output_type": "stream",
     "text": [
      " 74% (1123 of 1517) |##############      | Elapsed Time: 0:01:03 ETA:   0:00:17"
     ]
    },
    {
     "name": "stdout",
     "output_type": "stream",
     "text": [
      "21\n",
      "7\n",
      "5\n",
      "6\n",
      "10\n",
      "8\n"
     ]
    },
    {
     "name": "stderr",
     "output_type": "stream",
     "text": [
      " 74% (1129 of 1517) |##############      | Elapsed Time: 0:01:03 ETA:   0:00:17"
     ]
    },
    {
     "name": "stdout",
     "output_type": "stream",
     "text": [
      "13\n",
      "6\n",
      "6\n",
      "9\n",
      "9\n",
      "14\n"
     ]
    },
    {
     "name": "stderr",
     "output_type": "stream",
     "text": [
      " 74% (1133 of 1517) |##############      | Elapsed Time: 0:01:03 ETA:   0:00:16"
     ]
    },
    {
     "name": "stdout",
     "output_type": "stream",
     "text": [
      "9\n",
      "20\n",
      "7\n"
     ]
    },
    {
     "name": "stderr",
     "output_type": "stream",
     "text": [
      " 74% (1136 of 1517) |##############      | Elapsed Time: 0:01:04 ETA:   0:00:17"
     ]
    },
    {
     "name": "stdout",
     "output_type": "stream",
     "text": [
      "25\n",
      "19\n",
      "5\n",
      "20\n"
     ]
    },
    {
     "name": "stderr",
     "output_type": "stream",
     "text": [
      " 75% (1141 of 1517) |###############     | Elapsed Time: 0:01:04 ETA:   0:00:16"
     ]
    },
    {
     "name": "stdout",
     "output_type": "stream",
     "text": [
      "5\n",
      "10\n",
      "6\n",
      "11\n"
     ]
    },
    {
     "name": "stderr",
     "output_type": "stream",
     "text": [
      " 75% (1144 of 1517) |###############     | Elapsed Time: 0:01:04 ETA:   0:00:18"
     ]
    },
    {
     "name": "stdout",
     "output_type": "stream",
     "text": [
      "21\n",
      "11\n",
      "10\n",
      "9\n",
      "6\n",
      "8\n"
     ]
    },
    {
     "name": "stderr",
     "output_type": "stream",
     "text": [
      " 75% (1151 of 1517) |###############     | Elapsed Time: 0:01:04 ETA:   0:00:18"
     ]
    },
    {
     "name": "stdout",
     "output_type": "stream",
     "text": [
      "11\n",
      "14\n",
      "17\n",
      "9\n",
      "10\n"
     ]
    },
    {
     "name": "stderr",
     "output_type": "stream",
     "text": [
      " 76% (1154 of 1517) |###############     | Elapsed Time: 0:01:05 ETA:   0:00:19"
     ]
    },
    {
     "name": "stdout",
     "output_type": "stream",
     "text": [
      "11\n",
      "25\n",
      "5\n"
     ]
    },
    {
     "name": "stderr",
     "output_type": "stream",
     "text": [
      " 76% (1161 of 1517) |###############     | Elapsed Time: 0:01:05 ETA:   0:00:18"
     ]
    },
    {
     "name": "stdout",
     "output_type": "stream",
     "text": [
      "16\n",
      "10\n",
      "5\n",
      "5\n",
      "11\n",
      "7\n",
      "3\n",
      "11\n"
     ]
    },
    {
     "name": "stderr",
     "output_type": "stream",
     "text": [
      " 76% (1166 of 1517) |###############     | Elapsed Time: 0:01:05 ETA:   0:00:18"
     ]
    },
    {
     "name": "stdout",
     "output_type": "stream",
     "text": [
      "8\n",
      "8\n",
      "16\n",
      "17\n"
     ]
    },
    {
     "name": "stderr",
     "output_type": "stream",
     "text": [
      " 77% (1172 of 1517) |###############     | Elapsed Time: 0:01:05 ETA:   0:00:18"
     ]
    },
    {
     "name": "stdout",
     "output_type": "stream",
     "text": [
      "12\n",
      "6\n",
      "17\n",
      "7\n",
      "10\n"
     ]
    },
    {
     "name": "stderr",
     "output_type": "stream",
     "text": [
      " 77% (1175 of 1517) |###############     | Elapsed Time: 0:01:06 ETA:   0:00:18"
     ]
    },
    {
     "name": "stdout",
     "output_type": "stream",
     "text": [
      "24\n",
      "6\n",
      "24\n"
     ]
    },
    {
     "name": "stderr",
     "output_type": "stream",
     "text": [
      "\r",
      " 77% (1176 of 1517) |###############     | Elapsed Time: 0:01:06 ETA:   0:00:19"
     ]
    },
    {
     "name": "stdout",
     "output_type": "stream",
     "text": [
      "25\n",
      "10\n"
     ]
    },
    {
     "name": "stderr",
     "output_type": "stream",
     "text": [
      " 77% (1181 of 1517) |###############     | Elapsed Time: 0:01:07 ETA:   0:00:24"
     ]
    },
    {
     "name": "stdout",
     "output_type": "stream",
     "text": [
      "25\n",
      "3\n",
      "15\n",
      "9\n"
     ]
    },
    {
     "name": "stderr",
     "output_type": "stream",
     "text": [
      " 78% (1186 of 1517) |###############     | Elapsed Time: 0:01:07 ETA:   0:00:26"
     ]
    },
    {
     "name": "stdout",
     "output_type": "stream",
     "text": [
      "25\n",
      "5\n",
      "9\n",
      "6\n",
      "4\n",
      "15\n"
     ]
    },
    {
     "name": "stderr",
     "output_type": "stream",
     "text": [
      "\r",
      " 78% (1188 of 1517) |###############     | Elapsed Time: 0:01:07 ETA:   0:00:27"
     ]
    },
    {
     "name": "stdout",
     "output_type": "stream",
     "text": [
      "6\n",
      "9\n",
      "5\n"
     ]
    },
    {
     "name": "stderr",
     "output_type": "stream",
     "text": [
      " 78% (1194 of 1517) |###############     | Elapsed Time: 0:01:07 ETA:   0:00:26"
     ]
    },
    {
     "name": "stdout",
     "output_type": "stream",
     "text": [
      "23\n",
      "9\n",
      "7\n",
      "8\n"
     ]
    },
    {
     "name": "stderr",
     "output_type": "stream",
     "text": [
      " 78% (1196 of 1517) |###############     | Elapsed Time: 0:01:08 ETA:   0:00:27"
     ]
    },
    {
     "name": "stdout",
     "output_type": "stream",
     "text": [
      "25\n",
      "25\n",
      "12\n",
      "6\n"
     ]
    },
    {
     "name": "stderr",
     "output_type": "stream",
     "text": [
      " 79% (1202 of 1517) |###############     | Elapsed Time: 0:01:08 ETA:   0:00:24"
     ]
    },
    {
     "name": "stdout",
     "output_type": "stream",
     "text": [
      "25\n",
      "2\n",
      "13\n",
      "14\n",
      "5\n",
      "13\n"
     ]
    },
    {
     "name": "stderr",
     "output_type": "stream",
     "text": [
      " 79% (1208 of 1517) |###############     | Elapsed Time: 0:01:08 ETA:   0:00:22"
     ]
    },
    {
     "name": "stdout",
     "output_type": "stream",
     "text": [
      "17\n",
      "7\n",
      "14\n",
      "11\n",
      "4\n",
      "6\n"
     ]
    },
    {
     "name": "stderr",
     "output_type": "stream",
     "text": [
      " 80% (1214 of 1517) |################    | Elapsed Time: 0:01:08 ETA:   0:00:20"
     ]
    },
    {
     "name": "stdout",
     "output_type": "stream",
     "text": [
      "17\n",
      "9\n",
      "9\n",
      "15\n"
     ]
    },
    {
     "name": "stderr",
     "output_type": "stream",
     "text": [
      "\r",
      " 80% (1217 of 1517) |################    | Elapsed Time: 0:01:09 ETA:   0:00:17"
     ]
    },
    {
     "name": "stdout",
     "output_type": "stream",
     "text": [
      "13\n",
      "8\n",
      "25\n",
      "6\n"
     ]
    },
    {
     "name": "stderr",
     "output_type": "stream",
     "text": [
      " 80% (1224 of 1517) |################    | Elapsed Time: 0:01:09 ETA:   0:00:16"
     ]
    },
    {
     "name": "stdout",
     "output_type": "stream",
     "text": [
      "12\n",
      "6\n",
      "9\n",
      "4\n",
      "8\n",
      "23\n"
     ]
    },
    {
     "name": "stderr",
     "output_type": "stream",
     "text": [
      "\r",
      " 80% (1227 of 1517) |################    | Elapsed Time: 0:01:09 ETA:   0:00:16"
     ]
    },
    {
     "name": "stdout",
     "output_type": "stream",
     "text": [
      "10\n",
      "7\n",
      "17\n",
      "3\n"
     ]
    },
    {
     "name": "stderr",
     "output_type": "stream",
     "text": [
      " 81% (1231 of 1517) |################    | Elapsed Time: 0:01:09 ETA:   0:00:16"
     ]
    },
    {
     "name": "stdout",
     "output_type": "stream",
     "text": [
      "18\n",
      "16\n",
      "15\n",
      "5\n",
      "8\n"
     ]
    },
    {
     "name": "stderr",
     "output_type": "stream",
     "text": [
      " 81% (1236 of 1517) |################    | Elapsed Time: 0:01:10 ETA:   0:00:15"
     ]
    },
    {
     "name": "stdout",
     "output_type": "stream",
     "text": [
      "6\n",
      "12\n",
      "25\n"
     ]
    },
    {
     "name": "stderr",
     "output_type": "stream",
     "text": [
      " 81% (1242 of 1517) |################    | Elapsed Time: 0:01:10 ETA:   0:00:14"
     ]
    },
    {
     "name": "stdout",
     "output_type": "stream",
     "text": [
      "12\n",
      "11\n",
      "5\n",
      "9\n",
      "9\n",
      "13\n",
      "8\n"
     ]
    },
    {
     "name": "stderr",
     "output_type": "stream",
     "text": [
      " 82% (1247 of 1517) |################    | Elapsed Time: 0:01:10 ETA:   0:00:14"
     ]
    },
    {
     "name": "stdout",
     "output_type": "stream",
     "text": [
      "15\n",
      "4\n",
      "7\n",
      "5\n",
      "7\n"
     ]
    },
    {
     "name": "stderr",
     "output_type": "stream",
     "text": [
      " 82% (1250 of 1517) |################    | Elapsed Time: 0:01:11 ETA:   0:00:15"
     ]
    },
    {
     "name": "stdout",
     "output_type": "stream",
     "text": [
      "25\n",
      "25\n"
     ]
    },
    {
     "name": "stderr",
     "output_type": "stream",
     "text": [
      " 82% (1255 of 1517) |################    | Elapsed Time: 0:01:11 ETA:   0:00:16"
     ]
    },
    {
     "name": "stdout",
     "output_type": "stream",
     "text": [
      "25\n",
      "16\n",
      "10\n",
      "14\n",
      "7\n"
     ]
    },
    {
     "name": "stderr",
     "output_type": "stream",
     "text": [
      " 82% (1259 of 1517) |################    | Elapsed Time: 0:01:11 ETA:   0:00:17"
     ]
    },
    {
     "name": "stdout",
     "output_type": "stream",
     "text": [
      "7\n",
      "14\n",
      "25\n",
      "22\n"
     ]
    },
    {
     "name": "stderr",
     "output_type": "stream",
     "text": [
      " 83% (1266 of 1517) |################    | Elapsed Time: 0:01:12 ETA:   0:00:16"
     ]
    },
    {
     "name": "stdout",
     "output_type": "stream",
     "text": [
      "19\n",
      "21\n",
      "2\n",
      "2\n",
      "6\n",
      "8\n",
      "13\n",
      "6\n",
      "3\n"
     ]
    },
    {
     "name": "stderr",
     "output_type": "stream",
     "text": [
      "\r",
      " 83% (1270 of 1517) |################    | Elapsed Time: 0:01:12 ETA:   0:00:16"
     ]
    },
    {
     "name": "stdout",
     "output_type": "stream",
     "text": [
      "9\n",
      "25\n"
     ]
    },
    {
     "name": "stderr",
     "output_type": "stream",
     "text": [
      " 84% (1275 of 1517) |################    | Elapsed Time: 0:01:12 ETA:   0:00:15"
     ]
    },
    {
     "name": "stdout",
     "output_type": "stream",
     "text": [
      "21\n",
      "8\n",
      "6\n",
      "3\n",
      "17\n",
      "10\n"
     ]
    },
    {
     "name": "stderr",
     "output_type": "stream",
     "text": [
      "\r",
      " 84% (1277 of 1517) |################    | Elapsed Time: 0:01:12 ETA:   0:00:16"
     ]
    },
    {
     "name": "stdout",
     "output_type": "stream",
     "text": [
      "18\n",
      "13\n"
     ]
    },
    {
     "name": "stderr",
     "output_type": "stream",
     "text": [
      " 84% (1282 of 1517) |################    | Elapsed Time: 0:01:13 ETA:   0:00:15"
     ]
    },
    {
     "name": "stdout",
     "output_type": "stream",
     "text": [
      "25\n",
      "6\n",
      "9\n",
      "15\n",
      "10\n"
     ]
    },
    {
     "name": "stderr",
     "output_type": "stream",
     "text": [
      " 84% (1287 of 1517) |################    | Elapsed Time: 0:01:13 ETA:   0:00:13"
     ]
    },
    {
     "name": "stdout",
     "output_type": "stream",
     "text": [
      "4\n",
      "13\n",
      "4\n",
      "18\n",
      "5\n",
      "4\n",
      "7\n",
      "9\n"
     ]
    },
    {
     "name": "stderr",
     "output_type": "stream",
     "text": [
      "\r",
      " 85% (1291 of 1517) |#################   | Elapsed Time: 0:01:13 ETA:   0:00:12"
     ]
    },
    {
     "name": "stdout",
     "output_type": "stream",
     "text": [
      "4\n",
      "6\n"
     ]
    },
    {
     "name": "stderr",
     "output_type": "stream",
     "text": [
      "\r",
      " 85% (1294 of 1517) |#################   | Elapsed Time: 0:01:13 ETA:   0:00:12"
     ]
    },
    {
     "name": "stdout",
     "output_type": "stream",
     "text": [
      "25\n",
      "11\n"
     ]
    },
    {
     "name": "stderr",
     "output_type": "stream",
     "text": [
      " 85% (1298 of 1517) |#################   | Elapsed Time: 0:01:14 ETA:   0:00:14"
     ]
    },
    {
     "name": "stdout",
     "output_type": "stream",
     "text": [
      "25\n",
      "11\n",
      "13\n",
      "12\n",
      "4\n"
     ]
    },
    {
     "name": "stderr",
     "output_type": "stream",
     "text": [
      " 85% (1304 of 1517) |#################   | Elapsed Time: 0:01:14 ETA:   0:00:13"
     ]
    },
    {
     "name": "stdout",
     "output_type": "stream",
     "text": [
      "14\n",
      "7\n",
      "13\n",
      "17\n",
      "6\n"
     ]
    },
    {
     "name": "stderr",
     "output_type": "stream",
     "text": [
      " 86% (1308 of 1517) |#################   | Elapsed Time: 0:01:14 ETA:   0:00:13"
     ]
    },
    {
     "name": "stdout",
     "output_type": "stream",
     "text": [
      "16\n",
      "10\n",
      "12\n"
     ]
    },
    {
     "name": "stderr",
     "output_type": "stream",
     "text": [
      " 86% (1311 of 1517) |#################   | Elapsed Time: 0:01:15 ETA:   0:00:13"
     ]
    },
    {
     "name": "stdout",
     "output_type": "stream",
     "text": [
      "23\n",
      "9\n",
      "17\n",
      "12\n"
     ]
    },
    {
     "name": "stderr",
     "output_type": "stream",
     "text": [
      " 86% (1316 of 1517) |#################   | Elapsed Time: 0:01:15 ETA:   0:00:12"
     ]
    },
    {
     "name": "stdout",
     "output_type": "stream",
     "text": [
      "7\n",
      "5\n",
      "5\n",
      "20\n",
      "15\n"
     ]
    },
    {
     "name": "stderr",
     "output_type": "stream",
     "text": [
      " 87% (1320 of 1517) |#################   | Elapsed Time: 0:01:15 ETA:   0:00:12"
     ]
    },
    {
     "name": "stdout",
     "output_type": "stream",
     "text": [
      "9\n",
      "8\n",
      "14\n",
      "5\n",
      "3\n",
      "12\n"
     ]
    },
    {
     "name": "stderr",
     "output_type": "stream",
     "text": [
      " 87% (1327 of 1517) |#################   | Elapsed Time: 0:01:15 ETA:   0:00:11"
     ]
    },
    {
     "name": "stdout",
     "output_type": "stream",
     "text": [
      "14\n",
      "5\n",
      "9\n",
      "10\n",
      "6\n"
     ]
    },
    {
     "name": "stderr",
     "output_type": "stream",
     "text": [
      " 87% (1333 of 1517) |#################   | Elapsed Time: 0:01:16 ETA:   0:00:10"
     ]
    },
    {
     "name": "stdout",
     "output_type": "stream",
     "text": [
      "24\n",
      "8\n",
      "4\n",
      "8\n",
      "16\n",
      "5\n"
     ]
    },
    {
     "name": "stderr",
     "output_type": "stream",
     "text": [
      " 88% (1338 of 1517) |#################   | Elapsed Time: 0:01:16 ETA:   0:00:09"
     ]
    },
    {
     "name": "stdout",
     "output_type": "stream",
     "text": [
      "6\n",
      "23\n",
      "17\n",
      "11\n"
     ]
    },
    {
     "name": "stderr",
     "output_type": "stream",
     "text": [
      " 88% (1341 of 1517) |#################   | Elapsed Time: 0:01:16 ETA:   0:00:09"
     ]
    },
    {
     "name": "stdout",
     "output_type": "stream",
     "text": [
      "11\n",
      "5\n",
      "21\n",
      "4\n",
      "9\n",
      "8\n",
      "8\n"
     ]
    },
    {
     "name": "stderr",
     "output_type": "stream",
     "text": [
      " 88% (1348 of 1517) |#################   | Elapsed Time: 0:01:16 ETA:   0:00:08"
     ]
    },
    {
     "name": "stdout",
     "output_type": "stream",
     "text": [
      "6\n",
      "10\n",
      "16\n",
      "15\n",
      "12\n"
     ]
    },
    {
     "name": "stderr",
     "output_type": "stream",
     "text": [
      "\r",
      " 88% (1350 of 1517) |#################   | Elapsed Time: 0:01:16 ETA:   0:00:08"
     ]
    },
    {
     "name": "stdout",
     "output_type": "stream",
     "text": [
      "5\n"
     ]
    },
    {
     "name": "stderr",
     "output_type": "stream",
     "text": [
      " 89% (1353 of 1517) |#################   | Elapsed Time: 0:01:17 ETA:   0:00:08"
     ]
    },
    {
     "name": "stdout",
     "output_type": "stream",
     "text": [
      "25\n",
      "25\n",
      "4\n"
     ]
    },
    {
     "name": "stderr",
     "output_type": "stream",
     "text": [
      " 89% (1357 of 1517) |#################   | Elapsed Time: 0:01:17 ETA:   0:00:08"
     ]
    },
    {
     "name": "stdout",
     "output_type": "stream",
     "text": [
      "14\n",
      "7\n",
      "24\n"
     ]
    },
    {
     "name": "stderr",
     "output_type": "stream",
     "text": [
      " 89% (1362 of 1517) |#################   | Elapsed Time: 0:01:17 ETA:   0:00:09"
     ]
    },
    {
     "name": "stdout",
     "output_type": "stream",
     "text": [
      "21\n",
      "7\n",
      "7\n",
      "10\n",
      "13\n",
      "7\n"
     ]
    },
    {
     "name": "stderr",
     "output_type": "stream",
     "text": [
      " 90% (1366 of 1517) |##################  | Elapsed Time: 0:01:17 ETA:   0:00:08"
     ]
    },
    {
     "name": "stdout",
     "output_type": "stream",
     "text": [
      "8\n",
      "8\n",
      "20\n",
      "12\n",
      "2\n"
     ]
    },
    {
     "name": "stderr",
     "output_type": "stream",
     "text": [
      " 90% (1372 of 1517) |##################  | Elapsed Time: 0:01:18 ETA:   0:00:08"
     ]
    },
    {
     "name": "stdout",
     "output_type": "stream",
     "text": [
      "11\n",
      "12\n",
      "2\n",
      "14\n",
      "9\n"
     ]
    },
    {
     "name": "stderr",
     "output_type": "stream",
     "text": [
      " 90% (1378 of 1517) |##################  | Elapsed Time: 0:01:18 ETA:   0:00:07"
     ]
    },
    {
     "name": "stdout",
     "output_type": "stream",
     "text": [
      "10\n",
      "21\n",
      "15\n",
      "4\n",
      "6\n",
      "15\n"
     ]
    },
    {
     "name": "stderr",
     "output_type": "stream",
     "text": [
      " 91% (1382 of 1517) |##################  | Elapsed Time: 0:01:19 ETA:   0:00:09"
     ]
    },
    {
     "name": "stdout",
     "output_type": "stream",
     "text": [
      "25\n",
      "20\n",
      "18\n"
     ]
    },
    {
     "name": "stderr",
     "output_type": "stream",
     "text": [
      " 91% (1388 of 1517) |##################  | Elapsed Time: 0:01:19 ETA:   0:00:07"
     ]
    },
    {
     "name": "stdout",
     "output_type": "stream",
     "text": [
      "12\n",
      "4\n",
      "3\n",
      "2\n",
      "11\n",
      "6\n"
     ]
    },
    {
     "name": "stderr",
     "output_type": "stream",
     "text": [
      " 91% (1391 of 1517) |##################  | Elapsed Time: 0:01:19 ETA:   0:00:07"
     ]
    },
    {
     "name": "stdout",
     "output_type": "stream",
     "text": [
      "24\n",
      "19\n",
      "7\n",
      "12\n"
     ]
    },
    {
     "name": "stderr",
     "output_type": "stream",
     "text": [
      " 92% (1397 of 1517) |##################  | Elapsed Time: 0:01:20 ETA:   0:00:08"
     ]
    },
    {
     "name": "stdout",
     "output_type": "stream",
     "text": [
      "25\n",
      "13\n",
      "5\n",
      "4\n",
      "20\n"
     ]
    },
    {
     "name": "stderr",
     "output_type": "stream",
     "text": [
      " 92% (1402 of 1517) |##################  | Elapsed Time: 0:01:20 ETA:   0:00:08"
     ]
    },
    {
     "name": "stdout",
     "output_type": "stream",
     "text": [
      "10\n",
      "6\n",
      "25\n",
      "4\n",
      "10\n"
     ]
    },
    {
     "name": "stderr",
     "output_type": "stream",
     "text": [
      " 92% (1408 of 1517) |##################  | Elapsed Time: 0:01:20 ETA:   0:00:07"
     ]
    },
    {
     "name": "stdout",
     "output_type": "stream",
     "text": [
      "10\n",
      "9\n",
      "11\n",
      "12\n",
      "7\n",
      "5\n"
     ]
    },
    {
     "name": "stderr",
     "output_type": "stream",
     "text": [
      "\r",
      " 92% (1410 of 1517) |##################  | Elapsed Time: 0:01:20 ETA:   0:00:07"
     ]
    },
    {
     "name": "stdout",
     "output_type": "stream",
     "text": [
      "7\n",
      "25\n",
      "3\n",
      "9\n",
      "9\n",
      "4\n"
     ]
    },
    {
     "name": "stderr",
     "output_type": "stream",
     "text": [
      " 93% (1417 of 1517) |##################  | Elapsed Time: 0:01:20 ETA:   0:00:06"
     ]
    },
    {
     "name": "stdout",
     "output_type": "stream",
     "text": [
      "9\n",
      "5\n",
      "15\n",
      "3\n",
      "8\n"
     ]
    },
    {
     "name": "stderr",
     "output_type": "stream",
     "text": [
      " 93% (1423 of 1517) |##################  | Elapsed Time: 0:01:21 ETA:   0:00:04"
     ]
    },
    {
     "name": "stdout",
     "output_type": "stream",
     "text": [
      "13\n",
      "8\n",
      "9\n",
      "20\n",
      "5\n"
     ]
    },
    {
     "name": "stderr",
     "output_type": "stream",
     "text": [
      "\r",
      " 94% (1427 of 1517) |##################  | Elapsed Time: 0:01:21 ETA:   0:00:04"
     ]
    },
    {
     "name": "stdout",
     "output_type": "stream",
     "text": [
      "8\n",
      "8\n",
      "10\n",
      "13\n",
      "7\n"
     ]
    },
    {
     "name": "stderr",
     "output_type": "stream",
     "text": [
      " 94% (1432 of 1517) |##################  | Elapsed Time: 0:01:21 ETA:   0:00:04"
     ]
    },
    {
     "name": "stdout",
     "output_type": "stream",
     "text": [
      "22\n",
      "20\n",
      "3\n",
      "10\n"
     ]
    },
    {
     "name": "stderr",
     "output_type": "stream",
     "text": [
      " 94% (1437 of 1517) |##################  | Elapsed Time: 0:01:21 ETA:   0:00:03"
     ]
    },
    {
     "name": "stdout",
     "output_type": "stream",
     "text": [
      "10\n",
      "7\n",
      "13\n",
      "16\n",
      "7\n"
     ]
    },
    {
     "name": "stderr",
     "output_type": "stream",
     "text": [
      " 95% (1443 of 1517) |################### | Elapsed Time: 0:01:22 ETA:   0:00:03"
     ]
    },
    {
     "name": "stdout",
     "output_type": "stream",
     "text": [
      "16\n",
      "5\n",
      "4\n",
      "7\n",
      "13\n",
      "8\n",
      "6\n"
     ]
    },
    {
     "name": "stderr",
     "output_type": "stream",
     "text": [
      " 95% (1452 of 1517) |################### | Elapsed Time: 0:01:22 ETA:   0:00:02"
     ]
    },
    {
     "name": "stdout",
     "output_type": "stream",
     "text": [
      "5\n",
      "7\n",
      "6\n",
      "6\n",
      "2\n",
      "8\n",
      "4\n",
      "4\n"
     ]
    },
    {
     "name": "stderr",
     "output_type": "stream",
     "text": [
      " 95% (1455 of 1517) |################### | Elapsed Time: 0:01:22 ETA:   0:00:02"
     ]
    },
    {
     "name": "stdout",
     "output_type": "stream",
     "text": [
      "25\n",
      "25\n"
     ]
    },
    {
     "name": "stderr",
     "output_type": "stream",
     "text": [
      " 96% (1460 of 1517) |################### | Elapsed Time: 0:01:22 ETA:   0:00:02"
     ]
    },
    {
     "name": "stdout",
     "output_type": "stream",
     "text": [
      "22\n",
      "4\n",
      "2\n",
      "11\n",
      "9\n",
      "10\n",
      "3\n",
      "9\n"
     ]
    },
    {
     "name": "stderr",
     "output_type": "stream",
     "text": [
      " 96% (1465 of 1517) |################### | Elapsed Time: 0:01:23 ETA:   0:00:02"
     ]
    },
    {
     "name": "stdout",
     "output_type": "stream",
     "text": [
      "19\n",
      "25\n",
      "14\n"
     ]
    },
    {
     "name": "stderr",
     "output_type": "stream",
     "text": [
      " 96% (1470 of 1517) |################### | Elapsed Time: 0:01:23 ETA:   0:00:02"
     ]
    },
    {
     "name": "stdout",
     "output_type": "stream",
     "text": [
      "6\n",
      "4\n",
      "14\n",
      "17\n",
      "6\n",
      "3\n"
     ]
    },
    {
     "name": "stderr",
     "output_type": "stream",
     "text": [
      " 97% (1477 of 1517) |################### | Elapsed Time: 0:01:23 ETA:   0:00:01"
     ]
    },
    {
     "name": "stdout",
     "output_type": "stream",
     "text": [
      "7\n",
      "13\n",
      "7\n",
      "5\n",
      "12\n",
      "14\n"
     ]
    },
    {
     "name": "stderr",
     "output_type": "stream",
     "text": [
      " 97% (1484 of 1517) |################### | Elapsed Time: 0:01:23 ETA:   0:00:01"
     ]
    },
    {
     "name": "stdout",
     "output_type": "stream",
     "text": [
      "5\n",
      "2\n",
      "5\n",
      "9\n",
      "6\n",
      "7\n",
      "3\n",
      "11\n",
      "6\n",
      "1\n"
     ]
    },
    {
     "name": "stderr",
     "output_type": "stream",
     "text": [
      " 98% (1492 of 1517) |################### | Elapsed Time: 0:01:24 ETA:   0:00:00"
     ]
    },
    {
     "name": "stdout",
     "output_type": "stream",
     "text": [
      "5\n",
      "10\n",
      "9\n",
      "9\n",
      "3\n"
     ]
    },
    {
     "name": "stderr",
     "output_type": "stream",
     "text": [
      " 98% (1498 of 1517) |################### | Elapsed Time: 0:01:24 ETA:   0:00:00"
     ]
    },
    {
     "name": "stdout",
     "output_type": "stream",
     "text": [
      "21\n",
      "6\n",
      "11\n",
      "5\n",
      "10\n",
      "11\n"
     ]
    },
    {
     "name": "stderr",
     "output_type": "stream",
     "text": [
      " 99% (1505 of 1517) |################### | Elapsed Time: 0:01:24 ETA:   0:00:00"
     ]
    },
    {
     "name": "stdout",
     "output_type": "stream",
     "text": [
      "4\n",
      "6\n",
      "4\n",
      "2\n",
      "4\n",
      "19\n",
      "8\n",
      "7\n",
      "2\n"
     ]
    },
    {
     "name": "stderr",
     "output_type": "stream",
     "text": [
      " 99% (1512 of 1517) |################### | Elapsed Time: 0:01:24 ETA:   0:00:00"
     ]
    },
    {
     "name": "stdout",
     "output_type": "stream",
     "text": [
      "12\n",
      "8\n",
      "5\n",
      "12\n",
      "11\n",
      "4\n",
      "2\n",
      "3\n"
     ]
    },
    {
     "name": "stderr",
     "output_type": "stream",
     "text": [
      "100% (1517 of 1517) |####################| Elapsed Time: 0:01:24 Time:  0:01:24\n"
     ]
    },
    {
     "name": "stdout",
     "output_type": "stream",
     "text": [
      "13\n"
     ]
    }
   ],
   "source": [
    "validation_input_ids, validation_attention_masks, validation_labels = generate_np_files_for_training(test_set, tokenizer)"
   ]
  },
  {
   "cell_type": "code",
   "execution_count": 16,
   "metadata": {
    "colab": {},
    "colab_type": "code",
    "id": "TpQRL7wEzfA2"
   },
   "outputs": [],
   "source": [
    "#validation_attention_masks = att_masking(validation_input_ids)\n",
    "#validation_labels = validation_set['label'].to_numpy().astype('int')"
   ]
  },
  {
   "cell_type": "code",
   "execution_count": 13,
   "metadata": {
    "colab": {},
    "colab_type": "code",
    "id": "k-6_RPLyzg5W"
   },
   "outputs": [
    {
     "name": "stderr",
     "output_type": "stream",
     "text": [
      "C:\\Users\\ayush\\AppData\\Local\\Temp\\ipykernel_23440\\1819552211.py:6: UserWarning: Creating a tensor from a list of numpy.ndarrays is extremely slow. Please consider converting the list to a single numpy.ndarray with numpy.array() before converting to a tensor. (Triggered internally at C:\\cb\\pytorch_1000000000000\\work\\torch\\csrc\\utils\\tensor_new.cpp:248.)\n",
      "  train_inputs = torch.tensor(train_inputs)\n"
     ]
    }
   ],
   "source": [
    "train_inputs = train_input_ids\n",
    "validation_inputs = validation_input_ids\n",
    "train_masks = train_att_masks\n",
    "validation_masks = validation_attention_masks\n",
    "\n",
    "train_inputs = torch.tensor(train_inputs)\n",
    "train_labels = torch.tensor(train_labels)\n",
    "train_masks = torch.tensor(train_masks)\n",
    "validation_inputs = torch.tensor(validation_inputs)\n",
    "validation_labels = torch.tensor(validation_labels)\n",
    "validation_masks = torch.tensor(validation_masks)"
   ]
  },
  {
   "cell_type": "code",
   "execution_count": 14,
   "metadata": {},
   "outputs": [
    {
     "name": "stdout",
     "output_type": "stream",
     "text": [
      "torch.Size([57086, 512])\n",
      "torch.Size([57086, 512])\n",
      "torch.Size([57086, 1])\n"
     ]
    }
   ],
   "source": [
    "print(train_inputs.shape)\n",
    "print(train_masks.shape)\n",
    "print(train_labels.shape)"
   ]
  },
  {
   "cell_type": "code",
   "execution_count": 15,
   "metadata": {},
   "outputs": [
    {
     "name": "stdout",
     "output_type": "stream",
     "text": [
      "torch.Size([16558, 512])\n",
      "torch.Size([16558, 512])\n",
      "torch.Size([16558, 1])\n"
     ]
    }
   ],
   "source": [
    "print(validation_inputs.shape)\n",
    "print(validation_masks.shape)\n",
    "print(validation_labels.shape)"
   ]
  },
  {
   "cell_type": "code",
   "execution_count": null,
   "metadata": {},
   "outputs": [],
   "source": []
  },
  {
   "cell_type": "code",
   "execution_count": 16,
   "metadata": {
    "colab": {},
    "colab_type": "code",
    "id": "SVGkNTHXzi4K"
   },
   "outputs": [],
   "source": [
    "batch_size = 8\n",
    "train_data = TensorDataset(train_inputs, train_masks, train_labels)\n",
    "train_sampler = RandomSampler(train_data)\n",
    "train_dataloader = DataLoader(train_data, sampler=train_sampler, batch_size = batch_size)\n",
    "validation_data = TensorDataset(validation_inputs, validation_masks, validation_labels)\n",
    "validation_sampler = RandomSampler(validation_data)\n",
    "validation_dataloader = DataLoader(validation_data, sampler=validation_sampler, batch_size = batch_size)\n",
    "\n",
    "torch.save(train_data,'train_data_ildc.pt')\n",
    "torch.save(validation_data,'validation_data_ildc.pt')"
   ]
  },
  {
   "cell_type": "code",
   "execution_count": 3,
   "metadata": {},
   "outputs": [],
   "source": [
    "batch_size = 8\n",
    "train_data = torch.load('train_data_ildc.pt')\n",
    "train_sampler = RandomSampler(train_data)\n",
    "train_dataloader = DataLoader(train_data, sampler=train_sampler, batch_size = batch_size)\n",
    "validation_data = torch.load('validation_data_ildc.pt')\n",
    "validation_sampler = RandomSampler(validation_data)\n",
    "validation_dataloader = DataLoader(validation_data, sampler=validation_sampler, batch_size = batch_size)"
   ]
  },
  {
   "cell_type": "code",
   "execution_count": 4,
   "metadata": {},
   "outputs": [
    {
     "data": {
      "text/plain": [
       "tensor([1.], dtype=torch.float64)"
      ]
     },
     "execution_count": 4,
     "metadata": {},
     "output_type": "execute_result"
    }
   ],
   "source": [
    "train_data[14][2]"
   ]
  },
  {
   "cell_type": "code",
   "execution_count": 6,
   "metadata": {
    "colab": {
     "base_uri": "https://localhost:8080/",
     "height": 1000,
     "referenced_widgets": [
      "7c8e78c4e1d4423c8890bcd26f119863",
      "a886571e90f640068f42391d631b5435",
      "5e45f6a74562492681b52a469b2d7bae",
      "ed0bd4d8abc04e48be9779c9b839960c",
      "e5fa9ce813d44404951c01f934f61df0",
      "7e71194a302b420eb3c558ca6b94a42c",
      "4bccda0509c94f08bf8775292fee2492",
      "83222bc6ff79465fab144e9e93a23d19",
      "40d4070c0b6b4ccf8f64fd5966136a8d",
      "61a93549abbc48d8aa258f38251a280e",
      "efa6623cc1e44c7e999793565ca8da2b",
      "370c1110e5e64739bdead3e15a98551e",
      "b55ef8a462064d8e944ce6dc726d8df0",
      "0438ccff2f5e4f2fa001151f9daf8fbc",
      "b98b4095be9c4399a960233c9030fe8a",
      "985859d7f3a34d298a8cd3bc59f261d7"
     ]
    },
    "colab_type": "code",
    "id": "l-xcZ8mBzko_",
    "outputId": "80ba1c5c-4607-4e2b-a41d-bac61799a8bb"
   },
   "outputs": [
    {
     "data": {
      "text/plain": [
       "DistilBertForSequenceClassification(\n",
       "  (distilbert): DistilBertModel(\n",
       "    (embeddings): Embeddings(\n",
       "      (word_embeddings): Embedding(30522, 768, padding_idx=0)\n",
       "      (position_embeddings): Embedding(512, 768)\n",
       "      (LayerNorm): LayerNorm((768,), eps=1e-12, elementwise_affine=True)\n",
       "      (dropout): Dropout(p=0.1, inplace=False)\n",
       "    )\n",
       "    (transformer): Transformer(\n",
       "      (layer): ModuleList(\n",
       "        (0-5): 6 x TransformerBlock(\n",
       "          (attention): MultiHeadSelfAttention(\n",
       "            (dropout): Dropout(p=0.1, inplace=False)\n",
       "            (q_lin): Linear(in_features=768, out_features=768, bias=True)\n",
       "            (k_lin): Linear(in_features=768, out_features=768, bias=True)\n",
       "            (v_lin): Linear(in_features=768, out_features=768, bias=True)\n",
       "            (out_lin): Linear(in_features=768, out_features=768, bias=True)\n",
       "          )\n",
       "          (sa_layer_norm): LayerNorm((768,), eps=1e-12, elementwise_affine=True)\n",
       "          (ffn): FFN(\n",
       "            (dropout): Dropout(p=0.1, inplace=False)\n",
       "            (lin1): Linear(in_features=768, out_features=3072, bias=True)\n",
       "            (lin2): Linear(in_features=3072, out_features=768, bias=True)\n",
       "            (activation): GELUActivation()\n",
       "          )\n",
       "          (output_layer_norm): LayerNorm((768,), eps=1e-12, elementwise_affine=True)\n",
       "        )\n",
       "      )\n",
       "    )\n",
       "  )\n",
       "  (pre_classifier): Linear(in_features=768, out_features=768, bias=True)\n",
       "  (classifier): Linear(in_features=768, out_features=1, bias=True)\n",
       "  (dropout): Dropout(p=0.2, inplace=False)\n",
       ")"
      ]
     },
     "execution_count": 6,
     "metadata": {},
     "output_type": "execute_result"
    }
   ],
   "source": [
    "#device = torch.device('cuda' if torch.cuda.is_available() else 'cpu')\n",
    "device = torch.device('cuda')\n",
    "#model = DistilBertForSequenceClassification.from_pretrained(\"base-uncased\", num_labels=1)\n",
    "#model = DistilBertForSequenceClassification.from_pretrained(\"model\")\n",
    "\n",
    "# Replace the last layer with a new layer for classification\n",
    "#num_classes = 101  # Example: 2 classes (binary classification)\n",
    "#model.classifier = torch.nn.Linear(model.config.hidden_size, num_classes)\n",
    "\n",
    "# Optional: Freeze all layers except the last layer for faster training\n",
    "##for param in model.parameters():\n",
    "##    param.requires_grad = False\n",
    "#model.classifier.weight.requires_grad = True\n",
    "#model.classifier.bias.requires_grad = True\n",
    "\n",
    "model_dir = \"model\"\n",
    "\n",
    "# Load the model\n",
    "model= DistilBertForSequenceClassification.from_pretrained(model_dir, num_labels=1)\n",
    "#num_ftrs = model.fc.in_features\n",
    "#model.fc = nn.Linear(101, 1)\n",
    "model.classifier=nn.Linear(768,1)\n",
    "# Set the model to evaluation mode\n",
    "#model.eval()\n",
    "\n",
    "model.to(device)"
   ]
  },
  {
   "cell_type": "code",
   "execution_count": 9,
   "metadata": {},
   "outputs": [
    {
     "name": "stdout",
     "output_type": "stream",
     "text": [
      "hey\n"
     ]
    }
   ],
   "source": [
    "if torch.cuda.is_available():\n",
    "    print(\"hey\")\n",
    "else:\n",
    "    print(\"nay\")"
   ]
  },
  {
   "cell_type": "code",
   "execution_count": 7,
   "metadata": {},
   "outputs": [],
   "source": [
    "from datasets import load_metric\n",
    "from sklearn.metrics import mean_squared_error"
   ]
  },
  {
   "cell_type": "code",
   "execution_count": 8,
   "metadata": {
    "colab": {},
    "colab_type": "code",
    "id": "KkyVneHWzmYj"
   },
   "outputs": [
    {
     "name": "stderr",
     "output_type": "stream",
     "text": [
      "C:\\Users\\ayush\\anaconda3\\envs\\tf-gpc\\lib\\site-packages\\transformers\\optimization.py:306: FutureWarning: This implementation of AdamW is deprecated and will be removed in a future version. Use the PyTorch implementation torch.optim.AdamW instead, or set `no_deprecation_warning=True` to disable this warning\n",
      "  warnings.warn(\n"
     ]
    }
   ],
   "source": [
    "lr = 2e-6\n",
    "max_grad_norm = 1.0\n",
    "epochs = 5\n",
    "num_total_steps = len(train_dataloader)*epochs\n",
    "num_warmup_steps = 1000\n",
    "warmup_proportion = float(num_warmup_steps) / float(num_total_steps)  # 0.1\n",
    "optimizer = AdamW(model.parameters(), lr=lr, correct_bias=True)\n",
    "scheduler = get_linear_schedule_with_warmup(optimizer, num_warmup_steps = num_warmup_steps, num_training_steps = num_total_steps)\n",
    "\n",
    "\n",
    "##For regression model\n",
    "##def flat_accuracy(preds,labels):\n",
    "##    pred_flat = np.argmax(preds, axis=1).flatten()\n",
    "##    labels_flat = labels.flatten()\n",
    "##    rmse = np.float32(mean_squared_error(labels_flat, pred_flat, squared=False))\n",
    "##    return rmse\n",
    "\n",
    "##For classification model\n",
    "def flat_accuracy(preds, labels):\n",
    "    pred_flat = np.argmax(preds, axis=1).flatten()\n",
    "    labels_flat = labels.flatten()\n",
    "    return np.sum(pred_flat == labels_flat) / len(labels_flat)\n",
    "\n",
    "## for multiclassification model\n",
    "#def flat_accuracy(logts,labs):\n",
    "#     print(logts.shape)\n",
    "#     print(labs.shape)\n",
    "#     print(logits)\n",
    "    #loss = nn.BCEWithLogitsLoss(logits,labels)\n",
    "#    lossfn=torch.nn.CrossEntropyLoss()\n",
    "#    return lossfn(torch.from_numpy(logts).float(),torch.from_numpy(labs).float())\n",
    "seed_val = 21\n",
    "np.random.seed(seed_val)\n",
    "torch.manual_seed(seed_val)\n",
    "torch.cuda.manual_seed_all(seed_val)"
   ]
  },
  {
   "cell_type": "code",
   "execution_count": 12,
   "metadata": {},
   "outputs": [
    {
     "ename": "NameError",
     "evalue": "name 'batch' is not defined",
     "output_type": "error",
     "traceback": [
      "\u001b[1;31m---------------------------------------------------------------------------\u001b[0m",
      "\u001b[1;31mNameError\u001b[0m                                 Traceback (most recent call last)",
      "Input \u001b[1;32mIn [12]\u001b[0m, in \u001b[0;36m<cell line: 1>\u001b[1;34m()\u001b[0m\n\u001b[1;32m----> 1\u001b[0m li\u001b[38;5;241m=\u001b[39m\u001b[43mbatch\u001b[49m[\u001b[38;5;241m0\u001b[39m]\u001b[38;5;241m.\u001b[39mto(device)\n\u001b[0;32m      2\u001b[0m li\n",
      "\u001b[1;31mNameError\u001b[0m: name 'batch' is not defined"
     ]
    }
   ],
   "source": [
    "li=batch[0].to(device)\n",
    "li"
   ]
  },
  {
   "cell_type": "code",
   "execution_count": null,
   "metadata": {
    "colab": {
     "base_uri": "https://localhost:8080/",
     "height": 1000
    },
    "colab_type": "code",
    "id": "hA0MCwNizo11",
    "outputId": "d4409c6a-4580-408c-bd77-09633fc6f537"
   },
   "outputs": [
    {
     "name": "stdout",
     "output_type": "stream",
     "text": [
      "======== Epoch 1 / 5 ========\n",
      "Training...\n",
      "  Batch    40  of  7,136. : loss: 0.37555232644081116 \n",
      "  Batch    80  of  7,136. : loss: 0.36425161361694336 \n",
      "  Batch   120  of  7,136. : loss: 0.34392794966697693 \n",
      "  Batch   160  of  7,136. : loss: 0.3444039225578308 \n",
      "  Batch   200  of  7,136. : loss: 0.34079256653785706 \n",
      "  Batch   240  of  7,136. : loss: 0.32744744420051575 \n",
      "  Batch   280  of  7,136. : loss: 0.31885987520217896 \n",
      "  Batch   320  of  7,136. : loss: 0.31020841002464294 \n",
      "  Batch   360  of  7,136. : loss: 0.3029446005821228 \n",
      "  Batch   400  of  7,136. : loss: 0.29593536257743835 \n",
      "  Batch   440  of  7,136. : loss: 0.29048624634742737 \n",
      "  Batch   480  of  7,136. : loss: 0.28491491079330444 \n",
      "  Batch   520  of  7,136. : loss: 0.28195542097091675 \n",
      "  Batch   560  of  7,136. : loss: 0.2787132263183594 \n",
      "  Batch   600  of  7,136. : loss: 0.2766711711883545 \n",
      "  Batch   640  of  7,136. : loss: 0.2748311460018158 \n",
      "  Batch   680  of  7,136. : loss: 0.27294886112213135 \n",
      "  Batch   720  of  7,136. : loss: 0.27104097604751587 \n",
      "  Batch   760  of  7,136. : loss: 0.26999807357788086 \n",
      "  Batch   800  of  7,136. : loss: 0.2686912417411804 \n",
      "  Batch   840  of  7,136. : loss: 0.2676449418067932 \n",
      "  Batch   880  of  7,136. : loss: 0.2662734389305115 \n",
      "  Batch   920  of  7,136. : loss: 0.26495620608329773 \n",
      "  Batch   960  of  7,136. : loss: 0.26383456587791443 \n",
      "  Batch 1,000  of  7,136. : loss: 0.26304155588150024 \n",
      "\n",
      "Running Validation...\n",
      "Validation loss: 0.26305412685561114 : Validation accuracy: 0.48971417069243156\n",
      "  Batch 1,040  of  7,136. : loss: 0.26181724667549133 \n",
      "  Batch 1,080  of  7,136. : loss: 0.2609627842903137 \n",
      "  Batch 1,120  of  7,136. : loss: 0.260093092918396 \n",
      "  Batch 1,160  of  7,136. : loss: 0.2591499090194702 \n",
      "  Batch 1,200  of  7,136. : loss: 0.25793442130088806 \n",
      "  Batch 1,240  of  7,136. : loss: 0.256911039352417 \n",
      "  Batch 1,280  of  7,136. : loss: 0.25676605105400085 \n",
      "  Batch 1,320  of  7,136. : loss: 0.2562989294528961 \n",
      "  Batch 1,360  of  7,136. : loss: 0.255687952041626 \n",
      "  Batch 1,400  of  7,136. : loss: 0.25522086024284363 \n",
      "  Batch 1,440  of  7,136. : loss: 0.2546839118003845 \n",
      "  Batch 1,480  of  7,136. : loss: 0.25414878129959106 \n",
      "  Batch 1,520  of  7,136. : loss: 0.25407230854034424 \n",
      "  Batch 1,560  of  7,136. : loss: 0.2534423768520355 \n",
      "  Batch 1,600  of  7,136. : loss: 0.25257688760757446 \n",
      "  Batch 1,640  of  7,136. : loss: 0.25187933444976807 \n",
      "  Batch 1,680  of  7,136. : loss: 0.2512323260307312 \n",
      "  Batch 1,720  of  7,136. : loss: 0.25097954273223877 \n",
      "  Batch 1,760  of  7,136. : loss: 0.25057539343833923 \n",
      "  Batch 1,800  of  7,136. : loss: 0.2501031458377838 \n",
      "  Batch 1,840  of  7,136. : loss: 0.24977992475032806 \n",
      "  Batch 1,880  of  7,136. : loss: 0.24934212863445282 \n",
      "  Batch 1,920  of  7,136. : loss: 0.24880771338939667 \n",
      "  Batch 1,960  of  7,136. : loss: 0.24851246178150177 \n",
      "  Batch 2,000  of  7,136. : loss: 0.24810126423835754 \n",
      "\n",
      "Running Validation...\n",
      "Validation loss: 0.28495518642253886 : Validation accuracy: 0.48971417069243156\n",
      "  Batch 2,040  of  7,136. : loss: 0.2479921132326126 \n",
      "  Batch 2,080  of  7,136. : loss: 0.247606098651886 \n",
      "  Batch 2,120  of  7,136. : loss: 0.24748288094997406 \n",
      "  Batch 2,160  of  7,136. : loss: 0.24711886048316956 \n",
      "  Batch 2,200  of  7,136. : loss: 0.24684254825115204 \n",
      "  Batch 2,240  of  7,136. : loss: 0.2465953230857849 \n",
      "  Batch 2,280  of  7,136. : loss: 0.24600854516029358 \n",
      "  Batch 2,320  of  7,136. : loss: 0.24577778577804565 \n",
      "  Batch 2,360  of  7,136. : loss: 0.24577930569648743 \n",
      "  Batch 2,400  of  7,136. : loss: 0.24541369080543518 \n",
      "  Batch 2,440  of  7,136. : loss: 0.24479612708091736 \n",
      "  Batch 2,480  of  7,136. : loss: 0.2445468306541443 \n",
      "  Batch 2,520  of  7,136. : loss: 0.24447092413902283 \n",
      "  Batch 2,560  of  7,136. : loss: 0.24431367218494415 \n",
      "  Batch 2,600  of  7,136. : loss: 0.24396935105323792 \n",
      "  Batch 2,640  of  7,136. : loss: 0.243782177567482 \n",
      "  Batch 2,680  of  7,136. : loss: 0.24342043697834015 \n",
      "  Batch 2,720  of  7,136. : loss: 0.243256613612175 \n",
      "  Batch 2,760  of  7,136. : loss: 0.2428673803806305 \n",
      "  Batch 2,800  of  7,136. : loss: 0.24273040890693665 \n",
      "  Batch 2,840  of  7,136. : loss: 0.2426348328590393 \n",
      "  Batch 2,880  of  7,136. : loss: 0.24254128336906433 \n",
      "  Batch 2,920  of  7,136. : loss: 0.24229176342487335 \n",
      "  Batch 2,960  of  7,136. : loss: 0.24219994246959686 \n",
      "  Batch 3,000  of  7,136. : loss: 0.24217504262924194 \n",
      "\n",
      "Running Validation...\n",
      "Validation loss: 0.27001545171635255 : Validation accuracy: 0.4897342995169082\n",
      "  Batch 3,040  of  7,136. : loss: 0.24226614832878113 \n",
      "  Batch 3,080  of  7,136. : loss: 0.2421237677335739 \n",
      "  Batch 3,120  of  7,136. : loss: 0.24201054871082306 \n",
      "  Batch 3,160  of  7,136. : loss: 0.24198827147483826 \n",
      "  Batch 3,200  of  7,136. : loss: 0.24200820922851562 \n",
      "  Batch 3,240  of  7,136. : loss: 0.24190911650657654 \n",
      "  Batch 3,280  of  7,136. : loss: 0.24175669252872467 \n",
      "  Batch 3,320  of  7,136. : loss: 0.2413766235113144 \n",
      "  Batch 3,360  of  7,136. : loss: 0.24130038917064667 \n",
      "  Batch 3,400  of  7,136. : loss: 0.24107547104358673 \n",
      "  Batch 3,440  of  7,136. : loss: 0.24099795520305634 \n",
      "  Batch 3,480  of  7,136. : loss: 0.24098126590251923 \n",
      "  Batch 3,520  of  7,136. : loss: 0.24080677330493927 \n",
      "  Batch 3,560  of  7,136. : loss: 0.24075289070606232 \n",
      "  Batch 3,600  of  7,136. : loss: 0.24081972241401672 \n",
      "  Batch 3,640  of  7,136. : loss: 0.24085304141044617 \n",
      "  Batch 3,680  of  7,136. : loss: 0.24069227278232574 \n",
      "  Batch 3,720  of  7,136. : loss: 0.24057936668395996 \n",
      "  Batch 3,760  of  7,136. : loss: 0.24041685461997986 \n",
      "  Batch 3,800  of  7,136. : loss: 0.24035637080669403 \n",
      "  Batch 3,840  of  7,136. : loss: 0.24021214246749878 \n",
      "  Batch 3,880  of  7,136. : loss: 0.24010181427001953 \n",
      "  Batch 3,920  of  7,136. : loss: 0.23992390930652618 \n",
      "  Batch 3,960  of  7,136. : loss: 0.2397080957889557 \n",
      "  Batch 4,000  of  7,136. : loss: 0.2395021617412567 \n",
      "\n",
      "Running Validation...\n",
      "Validation loss: 0.26998754637651184 : Validation accuracy: 0.48971417069243156\n",
      "  Batch 4,040  of  7,136. : loss: 0.23932893574237823 \n",
      "  Batch 4,080  of  7,136. : loss: 0.23925432562828064 \n",
      "  Batch 4,120  of  7,136. : loss: 0.23915936052799225 \n",
      "  Batch 4,160  of  7,136. : loss: 0.23907038569450378 \n",
      "  Batch 4,200  of  7,136. : loss: 0.2389954924583435 \n",
      "  Batch 4,240  of  7,136. : loss: 0.23879143595695496 \n",
      "  Batch 4,280  of  7,136. : loss: 0.23876944184303284 \n",
      "  Batch 4,320  of  7,136. : loss: 0.23864372074604034 \n",
      "  Batch 4,360  of  7,136. : loss: 0.23855744302272797 \n",
      "  Batch 4,400  of  7,136. : loss: 0.23847192525863647 \n",
      "  Batch 4,440  of  7,136. : loss: 0.23840367794036865 \n",
      "  Batch 4,480  of  7,136. : loss: 0.2382177859544754 \n",
      "  Batch 4,520  of  7,136. : loss: 0.23819971084594727 \n",
      "  Batch 4,560  of  7,136. : loss: 0.23813281953334808 \n",
      "  Batch 4,600  of  7,136. : loss: 0.2380320429801941 \n",
      "  Batch 4,640  of  7,136. : loss: 0.23789410293102264 \n",
      "  Batch 4,680  of  7,136. : loss: 0.23777340352535248 \n",
      "  Batch 4,720  of  7,136. : loss: 0.23777830600738525 \n",
      "  Batch 4,760  of  7,136. : loss: 0.2376318722963333 \n",
      "  Batch 4,800  of  7,136. : loss: 0.23743721842765808 \n",
      "  Batch 4,840  of  7,136. : loss: 0.23745755851268768 \n",
      "  Batch 4,880  of  7,136. : loss: 0.2374296635389328 \n",
      "  Batch 4,920  of  7,136. : loss: 0.23736710846424103 \n",
      "  Batch 4,960  of  7,136. : loss: 0.23740118741989136 \n",
      "  Batch 5,000  of  7,136. : loss: 0.2373478263616562 \n",
      "\n",
      "Running Validation...\n",
      "Validation loss: 0.27087989131469603 : Validation accuracy: 0.48971417069243156\n",
      "  Batch 5,040  of  7,136. : loss: 0.23723798990249634 \n",
      "  Batch 5,080  of  7,136. : loss: 0.23713013529777527 \n",
      "  Batch 5,120  of  7,136. : loss: 0.23703859746456146 \n",
      "  Batch 5,160  of  7,136. : loss: 0.2369256466627121 \n",
      "  Batch 5,200  of  7,136. : loss: 0.23675863444805145 \n",
      "  Batch 5,240  of  7,136. : loss: 0.23664607107639313 \n",
      "  Batch 5,280  of  7,136. : loss: 0.2364819347858429 \n",
      "  Batch 5,320  of  7,136. : loss: 0.23634541034698486 \n",
      "  Batch 5,360  of  7,136. : loss: 0.23630867898464203 \n",
      "  Batch 5,400  of  7,136. : loss: 0.23632222414016724 \n",
      "  Batch 5,440  of  7,136. : loss: 0.23625677824020386 \n",
      "  Batch 5,480  of  7,136. : loss: 0.23610498011112213 \n",
      "  Batch 5,520  of  7,136. : loss: 0.23607122898101807 \n",
      "  Batch 5,560  of  7,136. : loss: 0.2359982281923294 \n",
      "  Batch 5,600  of  7,136. : loss: 0.2359640747308731 \n"
     ]
    },
    {
     "name": "stdout",
     "output_type": "stream",
     "text": [
      "  Batch 5,640  of  7,136. : loss: 0.23582948744297028 \n",
      "  Batch 5,680  of  7,136. : loss: 0.23579779267311096 \n",
      "  Batch 5,720  of  7,136. : loss: 0.23563168942928314 \n",
      "  Batch 5,760  of  7,136. : loss: 0.2355048954486847 \n",
      "  Batch 5,800  of  7,136. : loss: 0.23545677959918976 \n",
      "  Batch 5,840  of  7,136. : loss: 0.2353067398071289 \n",
      "  Batch 5,880  of  7,136. : loss: 0.23539136350154877 \n",
      "  Batch 5,920  of  7,136. : loss: 0.23528872430324554 \n",
      "  Batch 5,960  of  7,136. : loss: 0.23512621223926544 \n",
      "  Batch 6,000  of  7,136. : loss: 0.23500747978687286 \n",
      "\n",
      "Running Validation...\n",
      "Validation loss: 0.2760194979405574 : Validation accuracy: 0.4897342995169082\n",
      "  Batch 6,040  of  7,136. : loss: 0.23510219156742096 \n",
      "  Batch 6,080  of  7,136. : loss: 0.2350117266178131 \n",
      "  Batch 6,120  of  7,136. : loss: 0.2350306361913681 \n",
      "  Batch 6,160  of  7,136. : loss: 0.23490971326828003 \n",
      "  Batch 6,200  of  7,136. : loss: 0.23485462367534637 \n",
      "  Batch 6,240  of  7,136. : loss: 0.23485824465751648 \n",
      "  Batch 6,280  of  7,136. : loss: 0.23481310904026031 \n",
      "  Batch 6,320  of  7,136. : loss: 0.23484677076339722 \n",
      "  Batch 6,360  of  7,136. : loss: 0.2348414957523346 \n",
      "  Batch 6,400  of  7,136. : loss: 0.23476245999336243 \n",
      "  Batch 6,440  of  7,136. : loss: 0.23474198579788208 \n",
      "  Batch 6,480  of  7,136. : loss: 0.2346595972776413 \n",
      "  Batch 6,520  of  7,136. : loss: 0.2346748411655426 \n",
      "  Batch 6,560  of  7,136. : loss: 0.23463711142539978 \n",
      "  Batch 6,600  of  7,136. : loss: 0.23462219536304474 \n",
      "  Batch 6,640  of  7,136. : loss: 0.2345123291015625 \n",
      "  Batch 6,680  of  7,136. : loss: 0.23440419137477875 \n",
      "  Batch 6,720  of  7,136. : loss: 0.23436897993087769 \n",
      "  Batch 6,760  of  7,136. : loss: 0.23426087200641632 \n",
      "  Batch 6,800  of  7,136. : loss: 0.23424531519412994 \n",
      "  Batch 6,840  of  7,136. : loss: 0.23414084315299988 \n",
      "  Batch 6,880  of  7,136. : loss: 0.23407474160194397 \n",
      "  Batch 6,920  of  7,136. : loss: 0.23396992683410645 \n",
      "  Batch 6,960  of  7,136. : loss: 0.23390397429466248 \n",
      "  Batch 7,000  of  7,136. : loss: 0.23382362723350525 \n",
      "\n",
      "Running Validation...\n",
      "Validation loss: 0.26032451158753533 : Validation accuracy: 0.4897342995169082\n",
      "  Batch 7,040  of  7,136. : loss: 0.233724445104599 \n",
      "  Batch 7,080  of  7,136. : loss: 0.2336781919002533 \n",
      "  Batch 7,120  of  7,136. : loss: 0.23367448151111603 \n",
      "======== Epoch 2 / 5 ========\n",
      "Training...\n",
      "  Batch    40  of  7,136. : loss: 0.23700480163097382 \n",
      "  Batch    80  of  7,136. : loss: 0.22780302166938782 \n",
      "  Batch   120  of  7,136. : loss: 0.21930648386478424 \n",
      "  Batch   160  of  7,136. : loss: 0.2188386470079422 \n",
      "  Batch   200  of  7,136. : loss: 0.21972721815109253 \n",
      "  Batch   240  of  7,136. : loss: 0.21856699883937836 \n",
      "  Batch   280  of  7,136. : loss: 0.21975569427013397 \n",
      "  Batch   320  of  7,136. : loss: 0.2188435047864914 \n",
      "  Batch   360  of  7,136. : loss: 0.21857701241970062 \n",
      "  Batch   400  of  7,136. : loss: 0.21938779950141907 \n",
      "  Batch   440  of  7,136. : loss: 0.21895499527454376 \n",
      "  Batch   480  of  7,136. : loss: 0.21931393444538116 \n",
      "  Batch   520  of  7,136. : loss: 0.2192215621471405 \n",
      "  Batch   560  of  7,136. : loss: 0.21894539892673492 \n",
      "  Batch   600  of  7,136. : loss: 0.21883240342140198 \n",
      "  Batch   640  of  7,136. : loss: 0.2189951390028 \n",
      "  Batch   680  of  7,136. : loss: 0.21929997205734253 \n",
      "  Batch   720  of  7,136. : loss: 0.219103142619133 \n",
      "  Batch   760  of  7,136. : loss: 0.21933427453041077 \n",
      "  Batch   800  of  7,136. : loss: 0.21957837045192719 \n",
      "  Batch   840  of  7,136. : loss: 0.21946996450424194 \n",
      "  Batch   880  of  7,136. : loss: 0.21897447109222412 \n",
      "  Batch   920  of  7,136. : loss: 0.21876466274261475 \n",
      "  Batch   960  of  7,136. : loss: 0.21883855760097504 \n",
      "  Batch 1,000  of  7,136. : loss: 0.21904106438159943 \n",
      "\n",
      "Running Validation...\n",
      "Validation loss: 0.2729729657868649 : Validation accuracy: 0.4897342995169082\n",
      "  Batch 1,040  of  7,136. : loss: 0.21893203258514404 \n",
      "  Batch 1,080  of  7,136. : loss: 0.21919074654579163 \n",
      "  Batch 1,120  of  7,136. : loss: 0.2187279462814331 \n",
      "  Batch 1,160  of  7,136. : loss: 0.21916663646697998 \n",
      "  Batch 1,200  of  7,136. : loss: 0.2194516360759735 \n",
      "  Batch 1,240  of  7,136. : loss: 0.21956075727939606 \n",
      "  Batch 1,280  of  7,136. : loss: 0.21927905082702637 \n",
      "  Batch 1,320  of  7,136. : loss: 0.21934224665164948 \n",
      "  Batch 1,360  of  7,136. : loss: 0.21945221722126007 \n",
      "  Batch 1,400  of  7,136. : loss: 0.2196454554796219 \n",
      "  Batch 1,440  of  7,136. : loss: 0.2192351222038269 \n",
      "  Batch 1,480  of  7,136. : loss: 0.2191711664199829 \n",
      "  Batch 1,520  of  7,136. : loss: 0.21931275725364685 \n",
      "  Batch 1,560  of  7,136. : loss: 0.21960198879241943 \n",
      "  Batch 1,600  of  7,136. : loss: 0.21915560960769653 \n",
      "  Batch 1,640  of  7,136. : loss: 0.21881110966205597 \n",
      "  Batch 1,680  of  7,136. : loss: 0.218997061252594 \n",
      "  Batch 1,720  of  7,136. : loss: 0.21904334425926208 \n",
      "  Batch 1,760  of  7,136. : loss: 0.21866706013679504 \n",
      "  Batch 1,800  of  7,136. : loss: 0.21853020787239075 \n",
      "  Batch 1,840  of  7,136. : loss: 0.21841847896575928 \n",
      "  Batch 1,880  of  7,136. : loss: 0.21842676401138306 \n",
      "  Batch 1,920  of  7,136. : loss: 0.21854530274868011 \n",
      "  Batch 1,960  of  7,136. : loss: 0.2185591161251068 \n",
      "  Batch 2,000  of  7,136. : loss: 0.2182786911725998 \n",
      "\n",
      "Running Validation...\n",
      "Validation loss: 0.25959927753101947 : Validation accuracy: 0.4896940418679549\n",
      "  Batch 2,040  of  7,136. : loss: 0.2183009535074234 \n",
      "  Batch 2,080  of  7,136. : loss: 0.21801908314228058 \n",
      "  Batch 2,120  of  7,136. : loss: 0.21797171235084534 \n",
      "  Batch 2,160  of  7,136. : loss: 0.21807833015918732 \n",
      "  Batch 2,200  of  7,136. : loss: 0.21785138547420502 \n",
      "  Batch 2,240  of  7,136. : loss: 0.2179369181394577 \n",
      "  Batch 2,280  of  7,136. : loss: 0.217913419008255 \n",
      "  Batch 2,320  of  7,136. : loss: 0.21778838336467743 \n",
      "  Batch 2,360  of  7,136. : loss: 0.21762992441654205 \n",
      "  Batch 2,400  of  7,136. : loss: 0.21785613894462585 \n",
      "  Batch 2,440  of  7,136. : loss: 0.21767067909240723 \n",
      "  Batch 2,480  of  7,136. : loss: 0.21764954924583435 \n",
      "  Batch 2,520  of  7,136. : loss: 0.2172810435295105 \n",
      "  Batch 2,560  of  7,136. : loss: 0.21721625328063965 \n",
      "  Batch 2,600  of  7,136. : loss: 0.2170027792453766 \n",
      "  Batch 2,640  of  7,136. : loss: 0.21713131666183472 \n",
      "  Batch 2,680  of  7,136. : loss: 0.21718160808086395 \n",
      "  Batch 2,720  of  7,136. : loss: 0.2168726623058319 \n",
      "  Batch 2,760  of  7,136. : loss: 0.21683847904205322 \n",
      "  Batch 2,800  of  7,136. : loss: 0.21718823909759521 \n",
      "  Batch 2,840  of  7,136. : loss: 0.21699243783950806 \n",
      "  Batch 2,880  of  7,136. : loss: 0.21685369312763214 \n",
      "  Batch 2,920  of  7,136. : loss: 0.21684423089027405 \n",
      "  Batch 2,960  of  7,136. : loss: 0.21674610674381256 \n",
      "  Batch 3,000  of  7,136. : loss: 0.21662424504756927 \n",
      "\n",
      "Running Validation...\n",
      "Validation loss: 0.26752015467597523 : Validation accuracy: 0.48971417069243156\n",
      "  Batch 3,040  of  7,136. : loss: 0.21633663773536682 \n",
      "  Batch 3,080  of  7,136. : loss: 0.21623259782791138 \n",
      "  Batch 3,120  of  7,136. : loss: 0.2161427140235901 \n",
      "  Batch 3,160  of  7,136. : loss: 0.21598932147026062 \n",
      "  Batch 3,200  of  7,136. : loss: 0.2158183455467224 \n",
      "  Batch 3,240  of  7,136. : loss: 0.21563255786895752 \n",
      "  Batch 3,280  of  7,136. : loss: 0.21547794342041016 \n",
      "  Batch 3,320  of  7,136. : loss: 0.21545371413230896 \n",
      "  Batch 3,360  of  7,136. : loss: 0.21538175642490387 \n",
      "  Batch 3,400  of  7,136. : loss: 0.2153136432170868 \n",
      "  Batch 3,440  of  7,136. : loss: 0.21534691751003265 \n",
      "  Batch 3,480  of  7,136. : loss: 0.2153310477733612 \n",
      "  Batch 3,520  of  7,136. : loss: 0.21536685526371002 \n",
      "  Batch 3,560  of  7,136. : loss: 0.2154969424009323 \n",
      "  Batch 3,600  of  7,136. : loss: 0.21525897085666656 \n",
      "  Batch 3,640  of  7,136. : loss: 0.21527676284313202 \n",
      "  Batch 3,680  of  7,136. : loss: 0.21522395312786102 \n",
      "  Batch 3,720  of  7,136. : loss: 0.21523839235305786 \n",
      "  Batch 3,760  of  7,136. : loss: 0.21504533290863037 \n",
      "  Batch 3,800  of  7,136. : loss: 0.21512821316719055 \n",
      "  Batch 3,840  of  7,136. : loss: 0.2148333489894867 \n",
      "  Batch 3,880  of  7,136. : loss: 0.21494241058826447 \n",
      "  Batch 3,920  of  7,136. : loss: 0.21481537818908691 \n",
      "  Batch 3,960  of  7,136. : loss: 0.21473874151706696 \n",
      "  Batch 4,000  of  7,136. : loss: 0.21454192698001862 \n",
      "\n",
      "Running Validation...\n",
      "Validation loss: 0.2674281792697304 : Validation accuracy: 0.48975442834138483\n"
     ]
    },
    {
     "name": "stdout",
     "output_type": "stream",
     "text": [
      "  Batch 4,040  of  7,136. : loss: 0.2143046110868454 \n",
      "  Batch 4,080  of  7,136. : loss: 0.21439318358898163 \n",
      "  Batch 4,120  of  7,136. : loss: 0.21434561908245087 \n",
      "  Batch 4,160  of  7,136. : loss: 0.2142670750617981 \n",
      "  Batch 4,200  of  7,136. : loss: 0.21412041783332825 \n",
      "  Batch 4,240  of  7,136. : loss: 0.21402108669281006 \n",
      "  Batch 4,280  of  7,136. : loss: 0.21391178667545319 \n",
      "  Batch 4,320  of  7,136. : loss: 0.21377472579479218 \n",
      "  Batch 4,360  of  7,136. : loss: 0.2135852873325348 \n",
      "  Batch 4,400  of  7,136. : loss: 0.21348720788955688 \n",
      "  Batch 4,440  of  7,136. : loss: 0.21337629854679108 \n",
      "  Batch 4,480  of  7,136. : loss: 0.21338297426700592 \n",
      "  Batch 4,520  of  7,136. : loss: 0.21334148943424225 \n",
      "  Batch 4,560  of  7,136. : loss: 0.21322615444660187 \n",
      "  Batch 4,600  of  7,136. : loss: 0.21311700344085693 \n",
      "  Batch 4,640  of  7,136. : loss: 0.21299883723258972 \n",
      "  Batch 4,680  of  7,136. : loss: 0.21302616596221924 \n",
      "  Batch 4,720  of  7,136. : loss: 0.21301855146884918 \n",
      "  Batch 4,760  of  7,136. : loss: 0.21292296051979065 \n",
      "  Batch 4,800  of  7,136. : loss: 0.21285593509674072 \n",
      "  Batch 4,840  of  7,136. : loss: 0.21282023191452026 \n",
      "  Batch 4,880  of  7,136. : loss: 0.21282236278057098 \n",
      "  Batch 4,920  of  7,136. : loss: 0.21277545392513275 \n",
      "  Batch 4,960  of  7,136. : loss: 0.21272917091846466 \n",
      "  Batch 5,000  of  7,136. : loss: 0.21266059577465057 \n",
      "\n",
      "Running Validation...\n",
      "Validation loss: 0.25054962892691374 : Validation accuracy: 0.4897342995169082\n",
      "  Batch 5,040  of  7,136. : loss: 0.21272869408130646 \n",
      "  Batch 5,080  of  7,136. : loss: 0.2125091254711151 \n",
      "  Batch 5,120  of  7,136. : loss: 0.2124273031949997 \n",
      "  Batch 5,160  of  7,136. : loss: 0.2123747617006302 \n",
      "  Batch 5,200  of  7,136. : loss: 0.21242044866085052 \n",
      "  Batch 5,240  of  7,136. : loss: 0.212432399392128 \n",
      "  Batch 5,280  of  7,136. : loss: 0.21227042376995087 \n",
      "  Batch 5,320  of  7,136. : loss: 0.21231326460838318 \n",
      "  Batch 5,360  of  7,136. : loss: 0.21237289905548096 \n",
      "  Batch 5,400  of  7,136. : loss: 0.21235480904579163 \n",
      "  Batch 5,440  of  7,136. : loss: 0.21220538020133972 \n",
      "  Batch 5,480  of  7,136. : loss: 0.21220040321350098 \n",
      "  Batch 5,520  of  7,136. : loss: 0.21213257312774658 \n",
      "  Batch 5,560  of  7,136. : loss: 0.2122746706008911 \n",
      "  Batch 5,600  of  7,136. : loss: 0.21236169338226318 \n",
      "  Batch 5,640  of  7,136. : loss: 0.2124081403017044 \n",
      "  Batch 5,680  of  7,136. : loss: 0.21231162548065186 \n",
      "  Batch 5,720  of  7,136. : loss: 0.21224355697631836 \n",
      "  Batch 5,760  of  7,136. : loss: 0.21213479340076447 \n",
      "  Batch 5,800  of  7,136. : loss: 0.21187204122543335 \n"
     ]
    }
   ],
   "source": [
    "train_loss_values = []\n",
    "train_accuracy = []\n",
    "val_loss_values = []\n",
    "val_accuracy = []\n",
    "\n",
    "# For each epoch...\n",
    "for epoch_i in range(0, 5):\n",
    "    print('======== Epoch {:} / {:} ========'.format(epoch_i + 1, epochs))\n",
    "    print('Training...')\n",
    "\n",
    "    model.train()\n",
    "    total_loss=0\n",
    "    train_batch_accuracy = 0\n",
    "\n",
    "    for step, batch in enumerate(train_dataloader):\n",
    "        if step % 40 == 0 and not step == 0:\n",
    "            print('  Batch {:>5,}  of  {:>5,}. : loss: {:} '.format(step, len(train_dataloader), total_loss/step))\n",
    "\n",
    "\n",
    "        b_input_ids = batch[0].to(device)\n",
    "        b_input_mask = batch[1].to(device)\n",
    "        b_labels = batch[2].to(device).float()\n",
    "        model.zero_grad()        \n",
    "\n",
    "        outputs = model(b_input_ids, attention_mask=b_input_mask, labels=b_labels)#torch.unsqueeze(b_labels,1))\n",
    "        lossn = outputs[0]\n",
    "#         print(lossn)]\n",
    "\n",
    "\n",
    "\n",
    "        logits = outputs[1]\n",
    "#         print(logits)\n",
    "        label_ids = b_labels.to('cpu').numpy()\n",
    "        batch_logits = logits\n",
    "        logits = batch_logits.detach().cpu().numpy()\n",
    "        \n",
    "        \n",
    "        total_loss=total_loss+lossn\n",
    "        loss = flat_accuracy(logits, label_ids)\n",
    "        #print(lossn)\n",
    "        #total_loss+=loss.item()\n",
    "\n",
    "        lossn.backward()\n",
    "        \n",
    "        train_batch_accuracy = flat_accuracy(logits, label_ids)\n",
    "\n",
    "        torch.nn.utils.clip_grad_norm_(model.parameters(), 1.0)\n",
    "\n",
    "        optimizer.step()\n",
    "        scheduler.step()\n",
    "\n",
    "        if step%1000 == 0 and not step == 0:\n",
    "            print(\"\\nRunning Validation...\")\n",
    "            eval_loss, eval_accuracy = 0, 0\n",
    "            nb_eval_steps, nb_eval_examples = 0, 0\n",
    "            for batch in validation_dataloader:\n",
    "                batch = tuple(t.to(device) for t in batch)\n",
    "                b_input_ids, b_input_mask, b_labels = batch\n",
    "                with torch.no_grad():        \n",
    "                    outputs = model(b_input_ids, attention_mask=b_input_mask, labels=b_labels)#torch.unsqueeze(b_labels,1))\n",
    "\n",
    "                loss = outputs[0]\n",
    "                logits = outputs[1]\n",
    "    \n",
    "                logits = logits.detach().cpu().numpy()\n",
    "                label_ids = b_labels.to('cpu').numpy()\n",
    "        \n",
    "                tmp_eval_accuracy = flat_accuracy(logits, label_ids)\n",
    "                eval_accuracy += tmp_eval_accuracy\n",
    "\n",
    "                eval_loss+=loss\n",
    " \n",
    "                nb_eval_steps += 1\n",
    "\n",
    "            val_accuracy.append(eval_accuracy/nb_eval_steps)\n",
    "            val_loss_values.append(eval_loss/nb_eval_steps)\n",
    "\n",
    "            print('Validation loss: {:} : Validation accuracy: {:}'.format(val_loss_values[-1], val_accuracy[-1]))\n",
    "\n",
    "        \n",
    "    train_loss_values.append(total_loss/len(train_dataloader))\n",
    "    train_accuracy.append(train_batch_accuracy/len(train_dataloader))\n",
    "\n",
    "\n",
    "print(\"Training complete!\")"
   ]
  },
  {
   "cell_type": "code",
   "execution_count": 15,
   "metadata": {},
   "outputs": [],
   "source": [
    "model.save_pretrained(\"distilbert_train1\")"
   ]
  },
  {
   "cell_type": "code",
   "execution_count": null,
   "metadata": {},
   "outputs": [],
   "source": [
    "train_loss_values = []\n",
    "train_accuracy = []\n",
    "val_loss_values = []\n",
    "val_accuracy = []\n",
    "\n",
    "# For each epoch...\n",
    "for epoch_i in range(0, 10):\n",
    "    print('======== Epoch {:} / {:} ========'.format(epoch_i + 1, epochs))\n",
    "    print('Training...')\n",
    "\n",
    "    model.train()\n",
    "    total_loss=0\n",
    "    train_batch_accuracy = 0\n",
    "\n",
    "    for step, batch in enumerate(train_dataloader):\n",
    "        if step % 40 == 0 and not step == 0:\n",
    "            print('  Batch {:>5,}  of  {:>5,}. : loss: {:} '.format(step, len(train_dataloader), total_loss/step))\n",
    "\n",
    "\n",
    "        b_input_ids = batch[0].to(device)\n",
    "        b_input_mask = batch[1].to(device)\n",
    "        b_labels = batch[2].to(device)\n",
    "\n",
    "        model.zero_grad()        \n",
    "\n",
    "        outputs = model(b_input_ids, attention_mask=b_input_mask, labels=b_labels)\n",
    "        loss = outputs[0]\n",
    "        print(loss.dtype)"
   ]
  },
  {
   "cell_type": "code",
   "execution_count": null,
   "metadata": {},
   "outputs": [],
   "source": []
  },
  {
   "cell_type": "code",
   "execution_count": null,
   "metadata": {},
   "outputs": [],
   "source": []
  },
  {
   "cell_type": "code",
   "execution_count": 14,
   "metadata": {
    "colab": {
     "base_uri": "https://localhost:8080/",
     "height": 34
    },
    "colab_type": "code",
    "id": "BEPraZa10lO0",
    "outputId": "78cc1baf-ab74-49ba-935c-b1ec320627d5"
   },
   "outputs": [
    {
     "name": "stdout",
     "output_type": "stream",
     "text": [
      "Saving model to model2_ildc\n"
     ]
    },
    {
     "ename": "NameError",
     "evalue": "name 'tokenizer' is not defined",
     "output_type": "error",
     "traceback": [
      "\u001b[1;31m---------------------------------------------------------------------------\u001b[0m",
      "\u001b[1;31mNameError\u001b[0m                                 Traceback (most recent call last)",
      "Input \u001b[1;32mIn [14]\u001b[0m, in \u001b[0;36m<cell line: 13>\u001b[1;34m()\u001b[0m\n\u001b[0;32m     11\u001b[0m model_to_save \u001b[38;5;241m=\u001b[39m model\u001b[38;5;241m.\u001b[39mmodule \u001b[38;5;28;01mif\u001b[39;00m \u001b[38;5;28mhasattr\u001b[39m(model, \u001b[38;5;124m'\u001b[39m\u001b[38;5;124mmodule\u001b[39m\u001b[38;5;124m'\u001b[39m) \u001b[38;5;28;01melse\u001b[39;00m model  \u001b[38;5;66;03m# Take care of distributed/parallel training\u001b[39;00m\n\u001b[0;32m     12\u001b[0m model_to_save\u001b[38;5;241m.\u001b[39msave_pretrained(output_dir)\n\u001b[1;32m---> 13\u001b[0m \u001b[43mtokenizer\u001b[49m\u001b[38;5;241m.\u001b[39msave_pretrained(output_dir)\n",
      "\u001b[1;31mNameError\u001b[0m: name 'tokenizer' is not defined"
     ]
    }
   ],
   "source": [
    "output_dir = \"model2_ildc\" # path to which fine tuned model is to be saved\n",
    "\n",
    "# Create output directory if needed\n",
    "if not os.path.exists(output_dir):\n",
    "    os.makedirs(output_dir)\n",
    "\n",
    "print(\"Saving model to %s\" % output_dir)\n",
    "\n",
    "# Save a trained model, configuration and tokenizer using `save_pretrained()`.\n",
    "# They can then be reloaded using `from_pretrained()`\n",
    "model_to_save = model.module if hasattr(model, 'module') else model  # Take care of distributed/parallel training\n",
    "model_to_save.save_pretrained(output_dir)\n",
    "tokenizer.save_pretrained(output_dir)\n",
    "\n",
    "# Good practice: save your training arguments together with the trained model\n",
    "# torch.save(args, os.path.join(output_dir, 'training_args.bin'))\n",
    "\n",
    "# Copy the model files to a directory in your Google Drive.\n",
    "#!cp -r ./mini_XLNet/ \"/content/Drive/My Drive/mini_XLNet/\""
   ]
  },
  {
   "cell_type": "code",
   "execution_count": null,
   "metadata": {},
   "outputs": [],
   "source": [
    "class Net(nn.Module):\n",
    "model = Net()\n",
    "torch.optim.SGD(lr=0.001) #According to your own Configuration.\n",
    "checkpoint = torch.load(pytorch_model)\n",
    "model.load_state_dict(checkpoint['model'])\n",
    "optimizer.load_state_dict(checkpoint['opt']) "
   ]
  },
  {
   "cell_type": "code",
   "execution_count": null,
   "metadata": {
    "colab": {},
    "colab_type": "code",
    "id": "aXi1VlA3Ogfy"
   },
   "outputs": [],
   "source": [
    "df = pd.read_csv('/content/Drive/My Drive/LNLP/dataset.csv')\n",
    "train_set = df.query(\" split=='train' \")\n",
    "test_set = df.query(\" split=='test' \")\n",
    "validation_set = df.query(\" split=='dev' \")"
   ]
  },
  {
   "cell_type": "code",
   "execution_count": null,
   "metadata": {
    "colab": {
     "base_uri": "https://localhost:8080/",
     "height": 1000
    },
    "colab_type": "code",
    "id": "ec2lQwP4k1PW",
    "outputId": "f14d0e0a-7e7e-44ba-c8a3-860adb235d78"
   },
   "outputs": [],
   "source": [
    "output_dir = \"/content/Drive/My Drive/mini_XLNet/\"\n",
    "device = torch.device('cuda' if torch.cuda.is_available() else 'cpu')\n",
    "model = XLNetForSequenceClassification.from_pretrained(output_dir, output_hidden_states=True)\n",
    "tokenizer = tokenizer_class.from_pretrained(output_dir)\n",
    "model.to(device)"
   ]
  },
  {
   "cell_type": "code",
   "execution_count": null,
   "metadata": {
    "colab": {},
    "colab_type": "code",
    "id": "gTAVFo6lQpg5"
   },
   "outputs": [],
   "source": [
    "def att_masking(input_ids):\n",
    "    attention_masks = []\n",
    "    for sent in input_ids:\n",
    "        att_mask = [int(token_id > 0) for token_id in sent]\n",
    "        attention_masks.append(att_mask)\n",
    "    return attention_masks"
   ]
  },
  {
   "cell_type": "code",
   "execution_count": null,
   "metadata": {
    "colab": {},
    "colab_type": "code",
    "id": "dO-gwgRwQ0Ps"
   },
   "outputs": [],
   "source": [
    "def grouped_input_ids(all_toks):\n",
    "    splitted_toks = []\n",
    "    l=0\n",
    "    r=510\n",
    "    while(l<len(all_toks)):\n",
    "        splitted_toks.append(all_toks[l:min(r,len(all_toks))])\n",
    "        l+=410\n",
    "        r+=410\n",
    "\n",
    "    CLS = tokenizer.cls_token\n",
    "    SEP = tokenizer.sep_token\n",
    "    e_sents = []\n",
    "    for l_t in splitted_toks:\n",
    "        l_t = l_t + [SEP] + [CLS]\n",
    "        encoded_sent = tokenizer.convert_tokens_to_ids(l_t)\n",
    "        e_sents.append(encoded_sent)\n",
    "\n",
    "    e_sents = pad_sequences(e_sents, maxlen=512, value=0, dtype=\"long\", padding=\"pre\")\n",
    "    att_masks = att_masking(e_sents)\n",
    "    return e_sents, att_masks"
   ]
  },
  {
   "cell_type": "code",
   "execution_count": null,
   "metadata": {
    "colab": {},
    "colab_type": "code",
    "id": "TNyZuxeJRoT1"
   },
   "outputs": [],
   "source": [
    "def get_output_for_one_vec(input_id, att_mask):\n",
    "    input_ids = torch.tensor(input_id)\n",
    "    att_masks = torch.tensor(att_mask)\n",
    "    input_ids = input_ids.unsqueeze(0)\n",
    "    att_masks = att_masks.unsqueeze(0)\n",
    "    model.eval()\n",
    "    input_ids = input_ids.to(device)\n",
    "    att_masks = att_masks.to(device)\n",
    "    with torch.no_grad():\n",
    "        logits, encoded_layers = model(input_ids=input_ids, token_type_ids=None, attention_mask=att_masks)\n",
    "\n",
    "    vec = encoded_layers[12][0][-1]\n",
    "    vec = vec.detach().cpu().numpy()\n",
    "    return vec"
   ]
  },
  {
   "cell_type": "code",
   "execution_count": null,
   "metadata": {
    "colab": {},
    "colab_type": "code",
    "id": "k3Vx-uCCkcc4"
   },
   "outputs": [],
   "source": [
    "def generate_np_files_for_emb(dataf, tokenizer):\n",
    "    all_docs = []\n",
    "    for i in progressbar.progressbar(range(len(dataf['text']))):\n",
    "        text = dataf['text'].iloc[i]\n",
    "        toks = tokenizer.tokenize(text, add_prefix_space=True)\n",
    "        if(len(toks) > 10000):\n",
    "            toks = toks[len(toks)-10000:]\n",
    "\n",
    "    splitted_input_ids, splitted_att_masks = grouped_input_ids(toks)\n",
    "\n",
    "    vecs = []\n",
    "    for index,ii in enumerate(splitted_input_ids):\n",
    "        vecs.append(get_output_for_one_vec(ii, splitted_att_masks[index]))\n",
    " \n",
    "    one_doc = np.asarray(vecs)\n",
    "    all_docs.append(one_doc)\n",
    "\n",
    "    all_docs = np.asarray(all_docs)\n",
    "    return all_docs"
   ]
  },
  {
   "cell_type": "code",
   "execution_count": null,
   "metadata": {
    "colab": {
     "base_uri": "https://localhost:8080/",
     "height": 34
    },
    "colab_type": "code",
    "id": "1Ju0fEgAkenP",
    "outputId": "fd68b4d0-42d5-4b48-8b09-8d2d8189c9e4"
   },
   "outputs": [],
   "source": [
    "vecs_dev = generate_np_files_for_emb(validation_set, tokenizer)\n",
    "np.save(\"/content/Drive/My Drive/LNLP/Hierarchical/XLNet_full/XLNet_dev.npy\", vecs_dev)"
   ]
  },
  {
   "cell_type": "code",
   "execution_count": null,
   "metadata": {
    "colab": {
     "base_uri": "https://localhost:8080/",
     "height": 34
    },
    "colab_type": "code",
    "id": "TZ_pqKmskneG",
    "outputId": "250886db-ba6d-405f-9922-0a5310aa7990"
   },
   "outputs": [],
   "source": [
    "vecs_train = generate_np_files_for_emb(train_set, tokenizer)\n",
    "np.save(\"/content/Drive/My Drive/LNLP/Hierarchical/XLNet_full/XLNet_train.npy\", vecs_train)"
   ]
  },
  {
   "cell_type": "code",
   "execution_count": null,
   "metadata": {
    "colab": {
     "base_uri": "https://localhost:8080/",
     "height": 34
    },
    "colab_type": "code",
    "id": "EH9uRU04lCO6",
    "outputId": "bb77e97a-c2a3-42d6-b1ac-771665f619a0"
   },
   "outputs": [],
   "source": [
    "vecs_test = generate_np_files_for_emb(test_set, tokenizer)\n",
    "np.save(\"/content/Drive/My Drive/LNLP/Hierarchical/XLNet_full/XLNet_test.npy\", vecs_test)"
   ]
  },
  {
   "cell_type": "code",
   "execution_count": 42,
   "metadata": {},
   "outputs": [
    {
     "data": {
      "text/plain": [
       "22384      The People's Procuratorate of Jinshui Distric...\n",
       "65091      The People's Procuratorate of Chaoyang Distri...\n",
       "29962      The People's Procuratorate of Mengshan County...\n",
       "104841     The People's Procuratorate of Chengzhong Dist...\n",
       "143693     The People's Procuratorate of Yicheng Distric...\n",
       "                                ...                        \n",
       "119879     The public prosecution alleges that: at about...\n",
       "103694     The People's Procuratorate of Laoshan Distric...\n",
       "131932     Dingbian County People's Procuratorate accuse...\n",
       "146867     The public prosecution agency accused that du...\n",
       "121958     The public prosecution agency charged that th...\n",
       "Name: text, Length: 133354, dtype: object"
      ]
     },
     "execution_count": 42,
     "metadata": {},
     "output_type": "execute_result"
    }
   ],
   "source": [
    "input_text = train_set['text']\n",
    "input_text"
   ]
  },
  {
   "cell_type": "code",
   "execution_count": 59,
   "metadata": {},
   "outputs": [
    {
     "data": {
      "text/plain": [
       "\" The People's Procuratorate of Jinshui District, Zhengzhou City, Henan Province accused: One day in early February 2015 (the specific date is unknown), the defendant Gui Mou killed the victim Li at the northeast corner of the gate of the East Unit, Building 1, Courtyard 46, Shenbei Road, Guancheng Hui District, Zhengzhou City. A Sendi brand electric car (valued at 175 yuan) parked there by XX was stolen.\\nAt about 1:30 on April 21, 2015, the defendant Gui XX parked a black Hongdu electric car (valued at 100 yuan) at the gate of No. 98 Zhangzhuang Village, Jinshui District, Zhengzhou City, where the victim Dong XX parked there. steal.\\nAt about 2 o'clock on April 22, 2015, the defendant Gui was at the gate of No. 51 Zhangzhuang Village, Jinshui District, Zhengzhou City. A red Emma brand electric car (valued at 1,080 yuan) parked there by the victim Yu Moumou was stolen. The electric car has been recovered and returned to the victim.\\nIn response to the facts of the above-mentioned allegations, the public prosecution agency provided the confession of the defendant Gui, the statements of the victims Dong Moumou, Li Moumou, and Yu Moumou, the testimony of the witnesses Wang Moumou and Jia Moumou, and Zhengzhou Jinshui District Price Certification Center Issued price appraisal conclusion, identification transcripts, case acceptance process, case arrival process, list of seized items, household registration certificate, criminal record materials and other documentary evidence. He believes that the behavior of the defendant Gui has violated the provisions of ×× in the Criminal Law of the People's Republic of China, and proposes to investigate his criminal responsibility under ××.\\n\""
      ]
     },
     "execution_count": 59,
     "metadata": {},
     "output_type": "execute_result"
    }
   ],
   "source": [
    "train_set.iloc[0]['text']"
   ]
  },
  {
   "cell_type": "raw",
   "metadata": {},
   "source": []
  },
  {
   "cell_type": "code",
   "execution_count": 75,
   "metadata": {},
   "outputs": [
    {
     "name": "stdout",
     "output_type": "stream",
     "text": [
      "61.38417273759842\n",
      "66\n",
      "52.762869000434875\n",
      "36\n",
      "8.622338064014912\n",
      "16\n",
      "8.783757872879505\n",
      "4\n",
      "7.211017794907093\n",
      "7\n",
      "10.58768704533577\n",
      "6\n",
      "7.784869708120823\n",
      "5\n",
      "9.412574395537376\n",
      "4\n",
      "6.729831174015999\n",
      "8\n",
      "6.843549571931362\n",
      "7\n",
      "9.105836413800716\n",
      "3\n",
      "7.491557858884335\n",
      "4\n",
      "35.44116988778114\n",
      "36\n",
      "3.9702745154500008\n",
      "0\n",
      "13.038711994886398\n",
      "7\n",
      "16.8110691010952\n",
      "8\n",
      "10.38314737379551\n",
      "10\n",
      "16.640308499336243\n",
      "6\n",
      "7.233776897192001\n",
      "3\n",
      "8.17827545106411\n",
      "10\n"
     ]
    }
   ],
   "source": [
    "for i in range(20):\n",
    "    input_text = test_set.iloc[i]['text']\n",
    "    input_label = test_set.iloc[i]['label']\n",
    "    inputs = tokenizer(input_text, padding=True, truncation=True, return_tensors='pt')\n",
    "    device = torch.device('cuda')\n",
    "    inputs = {k: v.to(device) for k, v in inputs.items()}\n",
    "    with torch.no_grad():\n",
    "       output = model(**inputs)\n",
    "    print(output.logits.cpu().detach().numpy()[0][0]*300)\n",
    "    print(input_label)\n",
    "#inputs = tokenizer(input_text, padding=True, truncation=True, return_tensors='pt')\n",
    "\n",
    "#input_data = \n",
    "#with torch.no_grad():\n",
    "#   output = model(input_data)"
   ]
  },
  {
   "cell_type": "code",
   "execution_count": 55,
   "metadata": {
    "scrolled": true
   },
   "outputs": [
    {
     "name": "stdout",
     "output_type": "stream",
     "text": [
      " The People's Procuratorate of Jinshui District, Zhengzhou City, Henan Province accused: One day in early February 2015 (the specific date is unknown), the defendant Gui Mou killed the victim Li at the northeast corner of the gate of the East Unit, Building 1, Courtyard 46, Shenbei Road, Guancheng Hui District, Zhengzhou City. A Sendi brand electric car (valued at 175 yuan) parked there by XX was stolen.\n",
      "At about 1:30 on April 21, 2015, the defendant Gui XX parked a black Hongdu electric car (valued at 100 yuan) at the gate of No. 98 Zhangzhuang Village, Jinshui District, Zhengzhou City, where the victim Dong XX parked there. steal.\n",
      "At about 2 o'clock on April 22, 2015, the defendant Gui was at the gate of No. 51 Zhangzhuang Village, Jinshui District, Zhengzhou City. A red Emma brand electric car (valued at 1,080 yuan) parked there by the victim Yu Moumou was stolen. The electric car has been recovered and returned to the victim.\n",
      "In response to the facts of the above-mentioned allegations, the public prosecution agency provided the confession of the defendant Gui, the statements of the victims Dong Moumou, Li Moumou, and Yu Moumou, the testimony of the witnesses Wang Moumou and Jia Moumou, and Zhengzhou Jinshui District Price Certification Center Issued price appraisal conclusion, identification transcripts, case acceptance process, case arrival process, list of seized items, household registration certificate, criminal record materials and other documentary evidence. He believes that the behavior of the defendant Gui has violated the provisions of ×× in the Criminal Law of the People's Republic of China, and proposes to investigate his criminal responsibility under ××.\n",
      "\n"
     ]
    },
    {
     "data": {
      "text/plain": [
       "5"
      ]
     },
     "execution_count": 55,
     "metadata": {},
     "output_type": "execute_result"
    }
   ],
   "source": [
    "print(input_text)\n",
    "input_label"
   ]
  },
  {
   "cell_type": "code",
   "execution_count": 71,
   "metadata": {},
   "outputs": [
    {
     "name": "stdout",
     "output_type": "stream",
     "text": [
      "8.373815193772316\n"
     ]
    }
   ],
   "source": [
    "inputs = tokenizer(input_text, padding=True, truncation=True, return_tensors='pt')\n",
    "device = torch.device('cuda')\n",
    "inputs = {k: v.to(device) for k, v in inputs.items()}\n",
    "with torch.no_grad():\n",
    "    output = model(**inputs)\n",
    "print(output.logits.cpu().detach().numpy()[0][0]*300)"
   ]
  },
  {
   "cell_type": "code",
   "execution_count": null,
   "metadata": {},
   "outputs": [],
   "source": []
  },
  {
   "cell_type": "code",
   "execution_count": null,
   "metadata": {},
   "outputs": [],
   "source": [
    "headings = ['text', 'label']\n",
    "count =1\n",
    "with open('chinese_data2.csv', 'w', newline='', encoding = '') as file:\n",
    "    writer = csv.writer(file)\n",
    "    writer.writerow(headings)\n",
    "    for i in data['objects']:\n",
    "        label = i['meta']['term_of_imprisonment']['life_imprisonment']\n",
    "        text = i['fact']\n",
    "        row = [text,label]\n",
    "        try:\n",
    "            writer.writerow(row)\n",
    "        except csv.Error as e:\n",
    "            print(count)\n",
    "            print(f\"Error writing row {row}: {e}\")\n",
    "            count = count+1"
   ]
  },
  {
   "cell_type": "code",
   "execution_count": null,
   "metadata": {},
   "outputs": [],
   "source": [
    "pattern = re.compile(\"[\\u4e00-\\u9fff]+\")\n",
    "with open('chinese_data.csv', 'r', encoding='utf-8') as input_file, \\\n",
    "     open('chinese_removed.csv', 'w', encoding='utf-8', newline='') as output_file:\n",
    "    \n",
    "    # Initialize the CSV reader and writer objects\n",
    "    reader = csv.reader(input_file)\n",
    "    writer = csv.writer(output_file)\n",
    "    \n",
    "    for row in reader:    \n",
    "        has_chinese = False\n",
    "        for cell in row:\n",
    "            if re.search(pattern, cell):\n",
    "                has_chinese = True\n",
    "                break\n",
    "        # If the row does not contain Chinese characters, write it to the output file\n",
    "        if not has_chinese:\n",
    "            writer.writerow(row)"
   ]
  }
 ],
 "metadata": {
  "accelerator": "GPU",
  "colab": {
   "name": "XLNet_mini.ipynb",
   "provenance": []
  },
  "kernelspec": {
   "display_name": "Python 3 (ipykernel)",
   "language": "python",
   "name": "python3"
  },
  "language_info": {
   "codemirror_mode": {
    "name": "ipython",
    "version": 3
   },
   "file_extension": ".py",
   "mimetype": "text/x-python",
   "name": "python",
   "nbconvert_exporter": "python",
   "pygments_lexer": "ipython3",
   "version": "3.9.13"
  },
  "widgets": {
   "application/vnd.jupyter.widget-state+json": {
    "0438ccff2f5e4f2fa001151f9daf8fbc": {
     "model_module": "@jupyter-widgets/base",
     "model_name": "LayoutModel",
     "state": {
      "_model_module": "@jupyter-widgets/base",
      "_model_module_version": "1.2.0",
      "_model_name": "LayoutModel",
      "_view_count": null,
      "_view_module": "@jupyter-widgets/base",
      "_view_module_version": "1.2.0",
      "_view_name": "LayoutView",
      "align_content": null,
      "align_items": null,
      "align_self": null,
      "border": null,
      "bottom": null,
      "display": null,
      "flex": null,
      "flex_flow": null,
      "grid_area": null,
      "grid_auto_columns": null,
      "grid_auto_flow": null,
      "grid_auto_rows": null,
      "grid_column": null,
      "grid_gap": null,
      "grid_row": null,
      "grid_template_areas": null,
      "grid_template_columns": null,
      "grid_template_rows": null,
      "height": null,
      "justify_content": null,
      "justify_items": null,
      "left": null,
      "margin": null,
      "max_height": null,
      "max_width": null,
      "min_height": null,
      "min_width": null,
      "object_fit": null,
      "object_position": null,
      "order": null,
      "overflow": null,
      "overflow_x": null,
      "overflow_y": null,
      "padding": null,
      "right": null,
      "top": null,
      "visibility": null,
      "width": null
     }
    },
    "370c1110e5e64739bdead3e15a98551e": {
     "model_module": "@jupyter-widgets/controls",
     "model_name": "HTMLModel",
     "state": {
      "_dom_classes": [],
      "_model_module": "@jupyter-widgets/controls",
      "_model_module_version": "1.5.0",
      "_model_name": "HTMLModel",
      "_view_count": null,
      "_view_module": "@jupyter-widgets/controls",
      "_view_module_version": "1.5.0",
      "_view_name": "HTMLView",
      "description": "",
      "description_tooltip": null,
      "layout": "IPY_MODEL_985859d7f3a34d298a8cd3bc59f261d7",
      "placeholder": "​",
      "style": "IPY_MODEL_b98b4095be9c4399a960233c9030fe8a",
      "value": " 467M/467M [00:29&lt;00:00, 15.7MB/s]"
     }
    },
    "40d4070c0b6b4ccf8f64fd5966136a8d": {
     "model_module": "@jupyter-widgets/controls",
     "model_name": "HBoxModel",
     "state": {
      "_dom_classes": [],
      "_model_module": "@jupyter-widgets/controls",
      "_model_module_version": "1.5.0",
      "_model_name": "HBoxModel",
      "_view_count": null,
      "_view_module": "@jupyter-widgets/controls",
      "_view_module_version": "1.5.0",
      "_view_name": "HBoxView",
      "box_style": "",
      "children": [
       "IPY_MODEL_efa6623cc1e44c7e999793565ca8da2b",
       "IPY_MODEL_370c1110e5e64739bdead3e15a98551e"
      ],
      "layout": "IPY_MODEL_61a93549abbc48d8aa258f38251a280e"
     }
    },
    "4bccda0509c94f08bf8775292fee2492": {
     "model_module": "@jupyter-widgets/controls",
     "model_name": "DescriptionStyleModel",
     "state": {
      "_model_module": "@jupyter-widgets/controls",
      "_model_module_version": "1.5.0",
      "_model_name": "DescriptionStyleModel",
      "_view_count": null,
      "_view_module": "@jupyter-widgets/base",
      "_view_module_version": "1.2.0",
      "_view_name": "StyleView",
      "description_width": ""
     }
    },
    "4d4176229eab45a0bebaa41b34f5fad6": {
     "model_module": "@jupyter-widgets/base",
     "model_name": "LayoutModel",
     "state": {
      "_model_module": "@jupyter-widgets/base",
      "_model_module_version": "1.2.0",
      "_model_name": "LayoutModel",
      "_view_count": null,
      "_view_module": "@jupyter-widgets/base",
      "_view_module_version": "1.2.0",
      "_view_name": "LayoutView",
      "align_content": null,
      "align_items": null,
      "align_self": null,
      "border": null,
      "bottom": null,
      "display": null,
      "flex": null,
      "flex_flow": null,
      "grid_area": null,
      "grid_auto_columns": null,
      "grid_auto_flow": null,
      "grid_auto_rows": null,
      "grid_column": null,
      "grid_gap": null,
      "grid_row": null,
      "grid_template_areas": null,
      "grid_template_columns": null,
      "grid_template_rows": null,
      "height": null,
      "justify_content": null,
      "justify_items": null,
      "left": null,
      "margin": null,
      "max_height": null,
      "max_width": null,
      "min_height": null,
      "min_width": null,
      "object_fit": null,
      "object_position": null,
      "order": null,
      "overflow": null,
      "overflow_x": null,
      "overflow_y": null,
      "padding": null,
      "right": null,
      "top": null,
      "visibility": null,
      "width": null
     }
    },
    "5e45f6a74562492681b52a469b2d7bae": {
     "model_module": "@jupyter-widgets/controls",
     "model_name": "FloatProgressModel",
     "state": {
      "_dom_classes": [],
      "_model_module": "@jupyter-widgets/controls",
      "_model_module_version": "1.5.0",
      "_model_name": "FloatProgressModel",
      "_view_count": null,
      "_view_module": "@jupyter-widgets/controls",
      "_view_module_version": "1.5.0",
      "_view_name": "ProgressView",
      "bar_style": "success",
      "description": "Downloading: 100%",
      "description_tooltip": null,
      "layout": "IPY_MODEL_7e71194a302b420eb3c558ca6b94a42c",
      "max": 760,
      "min": 0,
      "orientation": "horizontal",
      "style": "IPY_MODEL_e5fa9ce813d44404951c01f934f61df0",
      "value": 760
     }
    },
    "61a93549abbc48d8aa258f38251a280e": {
     "model_module": "@jupyter-widgets/base",
     "model_name": "LayoutModel",
     "state": {
      "_model_module": "@jupyter-widgets/base",
      "_model_module_version": "1.2.0",
      "_model_name": "LayoutModel",
      "_view_count": null,
      "_view_module": "@jupyter-widgets/base",
      "_view_module_version": "1.2.0",
      "_view_name": "LayoutView",
      "align_content": null,
      "align_items": null,
      "align_self": null,
      "border": null,
      "bottom": null,
      "display": null,
      "flex": null,
      "flex_flow": null,
      "grid_area": null,
      "grid_auto_columns": null,
      "grid_auto_flow": null,
      "grid_auto_rows": null,
      "grid_column": null,
      "grid_gap": null,
      "grid_row": null,
      "grid_template_areas": null,
      "grid_template_columns": null,
      "grid_template_rows": null,
      "height": null,
      "justify_content": null,
      "justify_items": null,
      "left": null,
      "margin": null,
      "max_height": null,
      "max_width": null,
      "min_height": null,
      "min_width": null,
      "object_fit": null,
      "object_position": null,
      "order": null,
      "overflow": null,
      "overflow_x": null,
      "overflow_y": null,
      "padding": null,
      "right": null,
      "top": null,
      "visibility": null,
      "width": null
     }
    },
    "68fe1cf27d7b494f9c1cf78e5ad127ea": {
     "model_module": "@jupyter-widgets/controls",
     "model_name": "FloatProgressModel",
     "state": {
      "_dom_classes": [],
      "_model_module": "@jupyter-widgets/controls",
      "_model_module_version": "1.5.0",
      "_model_name": "FloatProgressModel",
      "_view_count": null,
      "_view_module": "@jupyter-widgets/controls",
      "_view_module_version": "1.5.0",
      "_view_name": "ProgressView",
      "bar_style": "success",
      "description": "Downloading: 100%",
      "description_tooltip": null,
      "layout": "IPY_MODEL_90a56453bb264e03a793db8a1c21aaaa",
      "max": 798011,
      "min": 0,
      "orientation": "horizontal",
      "style": "IPY_MODEL_709bbb69a7f943bda072abc10860a962",
      "value": 798011
     }
    },
    "709bbb69a7f943bda072abc10860a962": {
     "model_module": "@jupyter-widgets/controls",
     "model_name": "ProgressStyleModel",
     "state": {
      "_model_module": "@jupyter-widgets/controls",
      "_model_module_version": "1.5.0",
      "_model_name": "ProgressStyleModel",
      "_view_count": null,
      "_view_module": "@jupyter-widgets/base",
      "_view_module_version": "1.2.0",
      "_view_name": "StyleView",
      "bar_color": null,
      "description_width": "initial"
     }
    },
    "7145e4f4dece4c929b62807e9c46d7aa": {
     "model_module": "@jupyter-widgets/controls",
     "model_name": "HBoxModel",
     "state": {
      "_dom_classes": [],
      "_model_module": "@jupyter-widgets/controls",
      "_model_module_version": "1.5.0",
      "_model_name": "HBoxModel",
      "_view_count": null,
      "_view_module": "@jupyter-widgets/controls",
      "_view_module_version": "1.5.0",
      "_view_name": "HBoxView",
      "box_style": "",
      "children": [
       "IPY_MODEL_68fe1cf27d7b494f9c1cf78e5ad127ea",
       "IPY_MODEL_b135242c8bee428695fe1096109fc4be"
      ],
      "layout": "IPY_MODEL_a84fc0fab6034384b029fec594c8e16b"
     }
    },
    "7c8e78c4e1d4423c8890bcd26f119863": {
     "model_module": "@jupyter-widgets/controls",
     "model_name": "HBoxModel",
     "state": {
      "_dom_classes": [],
      "_model_module": "@jupyter-widgets/controls",
      "_model_module_version": "1.5.0",
      "_model_name": "HBoxModel",
      "_view_count": null,
      "_view_module": "@jupyter-widgets/controls",
      "_view_module_version": "1.5.0",
      "_view_name": "HBoxView",
      "box_style": "",
      "children": [
       "IPY_MODEL_5e45f6a74562492681b52a469b2d7bae",
       "IPY_MODEL_ed0bd4d8abc04e48be9779c9b839960c"
      ],
      "layout": "IPY_MODEL_a886571e90f640068f42391d631b5435"
     }
    },
    "7e71194a302b420eb3c558ca6b94a42c": {
     "model_module": "@jupyter-widgets/base",
     "model_name": "LayoutModel",
     "state": {
      "_model_module": "@jupyter-widgets/base",
      "_model_module_version": "1.2.0",
      "_model_name": "LayoutModel",
      "_view_count": null,
      "_view_module": "@jupyter-widgets/base",
      "_view_module_version": "1.2.0",
      "_view_name": "LayoutView",
      "align_content": null,
      "align_items": null,
      "align_self": null,
      "border": null,
      "bottom": null,
      "display": null,
      "flex": null,
      "flex_flow": null,
      "grid_area": null,
      "grid_auto_columns": null,
      "grid_auto_flow": null,
      "grid_auto_rows": null,
      "grid_column": null,
      "grid_gap": null,
      "grid_row": null,
      "grid_template_areas": null,
      "grid_template_columns": null,
      "grid_template_rows": null,
      "height": null,
      "justify_content": null,
      "justify_items": null,
      "left": null,
      "margin": null,
      "max_height": null,
      "max_width": null,
      "min_height": null,
      "min_width": null,
      "object_fit": null,
      "object_position": null,
      "order": null,
      "overflow": null,
      "overflow_x": null,
      "overflow_y": null,
      "padding": null,
      "right": null,
      "top": null,
      "visibility": null,
      "width": null
     }
    },
    "83222bc6ff79465fab144e9e93a23d19": {
     "model_module": "@jupyter-widgets/base",
     "model_name": "LayoutModel",
     "state": {
      "_model_module": "@jupyter-widgets/base",
      "_model_module_version": "1.2.0",
      "_model_name": "LayoutModel",
      "_view_count": null,
      "_view_module": "@jupyter-widgets/base",
      "_view_module_version": "1.2.0",
      "_view_name": "LayoutView",
      "align_content": null,
      "align_items": null,
      "align_self": null,
      "border": null,
      "bottom": null,
      "display": null,
      "flex": null,
      "flex_flow": null,
      "grid_area": null,
      "grid_auto_columns": null,
      "grid_auto_flow": null,
      "grid_auto_rows": null,
      "grid_column": null,
      "grid_gap": null,
      "grid_row": null,
      "grid_template_areas": null,
      "grid_template_columns": null,
      "grid_template_rows": null,
      "height": null,
      "justify_content": null,
      "justify_items": null,
      "left": null,
      "margin": null,
      "max_height": null,
      "max_width": null,
      "min_height": null,
      "min_width": null,
      "object_fit": null,
      "object_position": null,
      "order": null,
      "overflow": null,
      "overflow_x": null,
      "overflow_y": null,
      "padding": null,
      "right": null,
      "top": null,
      "visibility": null,
      "width": null
     }
    },
    "90a56453bb264e03a793db8a1c21aaaa": {
     "model_module": "@jupyter-widgets/base",
     "model_name": "LayoutModel",
     "state": {
      "_model_module": "@jupyter-widgets/base",
      "_model_module_version": "1.2.0",
      "_model_name": "LayoutModel",
      "_view_count": null,
      "_view_module": "@jupyter-widgets/base",
      "_view_module_version": "1.2.0",
      "_view_name": "LayoutView",
      "align_content": null,
      "align_items": null,
      "align_self": null,
      "border": null,
      "bottom": null,
      "display": null,
      "flex": null,
      "flex_flow": null,
      "grid_area": null,
      "grid_auto_columns": null,
      "grid_auto_flow": null,
      "grid_auto_rows": null,
      "grid_column": null,
      "grid_gap": null,
      "grid_row": null,
      "grid_template_areas": null,
      "grid_template_columns": null,
      "grid_template_rows": null,
      "height": null,
      "justify_content": null,
      "justify_items": null,
      "left": null,
      "margin": null,
      "max_height": null,
      "max_width": null,
      "min_height": null,
      "min_width": null,
      "object_fit": null,
      "object_position": null,
      "order": null,
      "overflow": null,
      "overflow_x": null,
      "overflow_y": null,
      "padding": null,
      "right": null,
      "top": null,
      "visibility": null,
      "width": null
     }
    },
    "985859d7f3a34d298a8cd3bc59f261d7": {
     "model_module": "@jupyter-widgets/base",
     "model_name": "LayoutModel",
     "state": {
      "_model_module": "@jupyter-widgets/base",
      "_model_module_version": "1.2.0",
      "_model_name": "LayoutModel",
      "_view_count": null,
      "_view_module": "@jupyter-widgets/base",
      "_view_module_version": "1.2.0",
      "_view_name": "LayoutView",
      "align_content": null,
      "align_items": null,
      "align_self": null,
      "border": null,
      "bottom": null,
      "display": null,
      "flex": null,
      "flex_flow": null,
      "grid_area": null,
      "grid_auto_columns": null,
      "grid_auto_flow": null,
      "grid_auto_rows": null,
      "grid_column": null,
      "grid_gap": null,
      "grid_row": null,
      "grid_template_areas": null,
      "grid_template_columns": null,
      "grid_template_rows": null,
      "height": null,
      "justify_content": null,
      "justify_items": null,
      "left": null,
      "margin": null,
      "max_height": null,
      "max_width": null,
      "min_height": null,
      "min_width": null,
      "object_fit": null,
      "object_position": null,
      "order": null,
      "overflow": null,
      "overflow_x": null,
      "overflow_y": null,
      "padding": null,
      "right": null,
      "top": null,
      "visibility": null,
      "width": null
     }
    },
    "a84fc0fab6034384b029fec594c8e16b": {
     "model_module": "@jupyter-widgets/base",
     "model_name": "LayoutModel",
     "state": {
      "_model_module": "@jupyter-widgets/base",
      "_model_module_version": "1.2.0",
      "_model_name": "LayoutModel",
      "_view_count": null,
      "_view_module": "@jupyter-widgets/base",
      "_view_module_version": "1.2.0",
      "_view_name": "LayoutView",
      "align_content": null,
      "align_items": null,
      "align_self": null,
      "border": null,
      "bottom": null,
      "display": null,
      "flex": null,
      "flex_flow": null,
      "grid_area": null,
      "grid_auto_columns": null,
      "grid_auto_flow": null,
      "grid_auto_rows": null,
      "grid_column": null,
      "grid_gap": null,
      "grid_row": null,
      "grid_template_areas": null,
      "grid_template_columns": null,
      "grid_template_rows": null,
      "height": null,
      "justify_content": null,
      "justify_items": null,
      "left": null,
      "margin": null,
      "max_height": null,
      "max_width": null,
      "min_height": null,
      "min_width": null,
      "object_fit": null,
      "object_position": null,
      "order": null,
      "overflow": null,
      "overflow_x": null,
      "overflow_y": null,
      "padding": null,
      "right": null,
      "top": null,
      "visibility": null,
      "width": null
     }
    },
    "a886571e90f640068f42391d631b5435": {
     "model_module": "@jupyter-widgets/base",
     "model_name": "LayoutModel",
     "state": {
      "_model_module": "@jupyter-widgets/base",
      "_model_module_version": "1.2.0",
      "_model_name": "LayoutModel",
      "_view_count": null,
      "_view_module": "@jupyter-widgets/base",
      "_view_module_version": "1.2.0",
      "_view_name": "LayoutView",
      "align_content": null,
      "align_items": null,
      "align_self": null,
      "border": null,
      "bottom": null,
      "display": null,
      "flex": null,
      "flex_flow": null,
      "grid_area": null,
      "grid_auto_columns": null,
      "grid_auto_flow": null,
      "grid_auto_rows": null,
      "grid_column": null,
      "grid_gap": null,
      "grid_row": null,
      "grid_template_areas": null,
      "grid_template_columns": null,
      "grid_template_rows": null,
      "height": null,
      "justify_content": null,
      "justify_items": null,
      "left": null,
      "margin": null,
      "max_height": null,
      "max_width": null,
      "min_height": null,
      "min_width": null,
      "object_fit": null,
      "object_position": null,
      "order": null,
      "overflow": null,
      "overflow_x": null,
      "overflow_y": null,
      "padding": null,
      "right": null,
      "top": null,
      "visibility": null,
      "width": null
     }
    },
    "b135242c8bee428695fe1096109fc4be": {
     "model_module": "@jupyter-widgets/controls",
     "model_name": "HTMLModel",
     "state": {
      "_dom_classes": [],
      "_model_module": "@jupyter-widgets/controls",
      "_model_module_version": "1.5.0",
      "_model_name": "HTMLModel",
      "_view_count": null,
      "_view_module": "@jupyter-widgets/controls",
      "_view_module_version": "1.5.0",
      "_view_name": "HTMLView",
      "description": "",
      "description_tooltip": null,
      "layout": "IPY_MODEL_4d4176229eab45a0bebaa41b34f5fad6",
      "placeholder": "​",
      "style": "IPY_MODEL_e0c8d6f7e2044496bc9c028433968465",
      "value": " 798k/798k [00:00&lt;00:00, 5.26MB/s]"
     }
    },
    "b55ef8a462064d8e944ce6dc726d8df0": {
     "model_module": "@jupyter-widgets/controls",
     "model_name": "ProgressStyleModel",
     "state": {
      "_model_module": "@jupyter-widgets/controls",
      "_model_module_version": "1.5.0",
      "_model_name": "ProgressStyleModel",
      "_view_count": null,
      "_view_module": "@jupyter-widgets/base",
      "_view_module_version": "1.2.0",
      "_view_name": "StyleView",
      "bar_color": null,
      "description_width": "initial"
     }
    },
    "b98b4095be9c4399a960233c9030fe8a": {
     "model_module": "@jupyter-widgets/controls",
     "model_name": "DescriptionStyleModel",
     "state": {
      "_model_module": "@jupyter-widgets/controls",
      "_model_module_version": "1.5.0",
      "_model_name": "DescriptionStyleModel",
      "_view_count": null,
      "_view_module": "@jupyter-widgets/base",
      "_view_module_version": "1.2.0",
      "_view_name": "StyleView",
      "description_width": ""
     }
    },
    "e0c8d6f7e2044496bc9c028433968465": {
     "model_module": "@jupyter-widgets/controls",
     "model_name": "DescriptionStyleModel",
     "state": {
      "_model_module": "@jupyter-widgets/controls",
      "_model_module_version": "1.5.0",
      "_model_name": "DescriptionStyleModel",
      "_view_count": null,
      "_view_module": "@jupyter-widgets/base",
      "_view_module_version": "1.2.0",
      "_view_name": "StyleView",
      "description_width": ""
     }
    },
    "e5fa9ce813d44404951c01f934f61df0": {
     "model_module": "@jupyter-widgets/controls",
     "model_name": "ProgressStyleModel",
     "state": {
      "_model_module": "@jupyter-widgets/controls",
      "_model_module_version": "1.5.0",
      "_model_name": "ProgressStyleModel",
      "_view_count": null,
      "_view_module": "@jupyter-widgets/base",
      "_view_module_version": "1.2.0",
      "_view_name": "StyleView",
      "bar_color": null,
      "description_width": "initial"
     }
    },
    "ed0bd4d8abc04e48be9779c9b839960c": {
     "model_module": "@jupyter-widgets/controls",
     "model_name": "HTMLModel",
     "state": {
      "_dom_classes": [],
      "_model_module": "@jupyter-widgets/controls",
      "_model_module_version": "1.5.0",
      "_model_name": "HTMLModel",
      "_view_count": null,
      "_view_module": "@jupyter-widgets/controls",
      "_view_module_version": "1.5.0",
      "_view_name": "HTMLView",
      "description": "",
      "description_tooltip": null,
      "layout": "IPY_MODEL_83222bc6ff79465fab144e9e93a23d19",
      "placeholder": "​",
      "style": "IPY_MODEL_4bccda0509c94f08bf8775292fee2492",
      "value": " 760/760 [01:07&lt;00:00, 11.2B/s]"
     }
    },
    "efa6623cc1e44c7e999793565ca8da2b": {
     "model_module": "@jupyter-widgets/controls",
     "model_name": "FloatProgressModel",
     "state": {
      "_dom_classes": [],
      "_model_module": "@jupyter-widgets/controls",
      "_model_module_version": "1.5.0",
      "_model_name": "FloatProgressModel",
      "_view_count": null,
      "_view_module": "@jupyter-widgets/controls",
      "_view_module_version": "1.5.0",
      "_view_name": "ProgressView",
      "bar_style": "success",
      "description": "Downloading: 100%",
      "description_tooltip": null,
      "layout": "IPY_MODEL_0438ccff2f5e4f2fa001151f9daf8fbc",
      "max": 467042463,
      "min": 0,
      "orientation": "horizontal",
      "style": "IPY_MODEL_b55ef8a462064d8e944ce6dc726d8df0",
      "value": 467042463
     }
    }
   }
  }
 },
 "nbformat": 4,
 "nbformat_minor": 1
}
